{
  "cells": [
    {
      "cell_type": "markdown",
      "source": [
        "#100 EPOCH"
      ],
      "metadata": {
        "id": "7oCYBeSqv106"
      }
    },
    {
      "cell_type": "markdown",
      "source": [
        "Note:\n",
        "\n",
        "Using this code to keep the collab alive\n",
        "\n",
        "function ClickConnect(){\n",
        "console.log(\"Working\");\n",
        "document.querySelector(\"colab-toolbar-button\").click()\n",
        "}setInterval(ClickConnect,60000)"
      ],
      "metadata": {
        "id": "_5Q84QqtKTpB"
      }
    },
    {
      "cell_type": "markdown",
      "source": [
        "#Connect to Drive"
      ],
      "metadata": {
        "id": "-tkC-frh-9WM"
      }
    },
    {
      "cell_type": "code",
      "source": [
        "from google.colab import drive\n",
        "drive.mount('/content/drive')"
      ],
      "metadata": {
        "colab": {
          "base_uri": "https://localhost:8080/"
        },
        "id": "MYKFPA4l_Anm",
        "outputId": "bddc124d-2846-40fe-e7c2-261b685636a9"
      },
      "execution_count": null,
      "outputs": [
        {
          "output_type": "stream",
          "name": "stdout",
          "text": [
            "Mounted at /content/drive\n"
          ]
        }
      ]
    },
    {
      "cell_type": "markdown",
      "metadata": {
        "id": "3C3EO_2zNChu"
      },
      "source": [
        "## Install YOLOv8"
      ]
    },
    {
      "cell_type": "code",
      "execution_count": null,
      "metadata": {
        "colab": {
          "base_uri": "https://localhost:8080/"
        },
        "id": "tdSMcABDNKW-",
        "outputId": "80378334-e4ef-4059-a382-c6155a20a569"
      },
      "outputs": [
        {
          "output_type": "stream",
          "name": "stdout",
          "text": [
            "Ultralytics YOLOv8.1.1 🚀 Python-3.10.12 torch-2.1.0+cu121 CUDA:0 (Tesla T4, 15102MiB)\n",
            "Setup complete ✅ (2 CPUs, 12.7 GB RAM, 26.3/78.2 GB disk)\n"
          ]
        }
      ],
      "source": [
        "!pip install ultralytics --quiet\n",
        "\n",
        "from IPython import display\n",
        "display.clear_output()\n",
        "\n",
        "import ultralytics\n",
        "ultralytics.checks()"
      ]
    },
    {
      "cell_type": "code",
      "execution_count": null,
      "metadata": {
        "id": "VOEYrlBoP9-E"
      },
      "outputs": [],
      "source": [
        "from ultralytics import YOLO\n",
        "\n",
        "from IPython.display import display, Image"
      ]
    },
    {
      "cell_type": "markdown",
      "source": [
        "#Train"
      ],
      "metadata": {
        "id": "X2JQS94Tfr87"
      }
    },
    {
      "cell_type": "code",
      "execution_count": null,
      "metadata": {
        "colab": {
          "base_uri": "https://localhost:8080/"
        },
        "id": "BSd93ZJzZZKt",
        "outputId": "29e8198b-1d63-44f3-8c7a-640ab885ba02"
      },
      "outputs": [
        {
          "output_type": "stream",
          "name": "stdout",
          "text": [
            "\u001b[?25l     \u001b[90m━━━━━━━━━━━━━━━━━━━━━━━━━━━━━━━━━━━━━━━━\u001b[0m \u001b[32m0.0/69.9 kB\u001b[0m \u001b[31m?\u001b[0m eta \u001b[36m-:--:--\u001b[0m\r\u001b[2K     \u001b[90m━━━━━━━━━━━━━━━━━━━━━━━━━━━━━━━━━━━━━━━━\u001b[0m \u001b[32m69.9/69.9 kB\u001b[0m \u001b[31m2.3 MB/s\u001b[0m eta \u001b[36m0:00:00\u001b[0m\n",
            "\u001b[2K     \u001b[90m━━━━━━━━━━━━━━━━━━━━━━━━━━━━━━━━━━━━━━━━\u001b[0m \u001b[32m158.3/158.3 kB\u001b[0m \u001b[31m7.4 MB/s\u001b[0m eta \u001b[36m0:00:00\u001b[0m\n",
            "\u001b[2K     \u001b[90m━━━━━━━━━━━━━━━━━━━━━━━━━━━━━━━━━━━━━━━━\u001b[0m \u001b[32m178.7/178.7 kB\u001b[0m \u001b[31m10.3 MB/s\u001b[0m eta \u001b[36m0:00:00\u001b[0m\n",
            "\u001b[2K     \u001b[90m━━━━━━━━━━━━━━━━━━━━━━━━━━━━━━━━━━━━━━━━\u001b[0m \u001b[32m58.8/58.8 kB\u001b[0m \u001b[31m5.3 MB/s\u001b[0m eta \u001b[36m0:00:00\u001b[0m\n",
            "\u001b[2K     \u001b[90m━━━━━━━━━━━━━━━━━━━━━━━━━━━━━━━━━━━━━━━━\u001b[0m \u001b[32m49.1/49.1 MB\u001b[0m \u001b[31m16.8 MB/s\u001b[0m eta \u001b[36m0:00:00\u001b[0m\n",
            "\u001b[2K     \u001b[90m━━━━━━━━━━━━━━━━━━━━━━━━━━━━━━━━━━━━━━━━\u001b[0m \u001b[32m77.5/77.5 kB\u001b[0m \u001b[31m5.1 MB/s\u001b[0m eta \u001b[36m0:00:00\u001b[0m\n",
            "\u001b[2K     \u001b[90m━━━━━━━━━━━━━━━━━━━━━━━━━━━━━━━━━━━━━━━━\u001b[0m \u001b[32m54.5/54.5 kB\u001b[0m \u001b[31m6.5 MB/s\u001b[0m eta \u001b[36m0:00:00\u001b[0m\n",
            "\u001b[?25h\u001b[31mERROR: pip's dependency resolver does not currently take into account all the packages that are installed. This behaviour is the source of the following dependency conflicts.\n",
            "lida 0.0.10 requires fastapi, which is not installed.\n",
            "lida 0.0.10 requires kaleido, which is not installed.\n",
            "lida 0.0.10 requires python-multipart, which is not installed.\n",
            "lida 0.0.10 requires uvicorn, which is not installed.\u001b[0m\u001b[31m\n",
            "loading Roboflow workspace...\n",
            "loading Roboflow project...\n",
            "Dependency ultralytics==8.0.196 is required but found version=8.1.1, to fix: `pip install ultralytics==8.0.196`\n"
          ]
        },
        {
          "output_type": "stream",
          "name": "stderr",
          "text": [
            "Downloading Dataset Version Zip in Head-motion-using-deep-ISP-1 to yolov8:: 100%|██████████| 13703/13703 [00:01<00:00, 12861.13it/s]"
          ]
        },
        {
          "output_type": "stream",
          "name": "stdout",
          "text": [
            "\n"
          ]
        },
        {
          "output_type": "stream",
          "name": "stderr",
          "text": [
            "\n",
            "Extracting Dataset Version Zip to Head-motion-using-deep-ISP-1 in yolov8:: 100%|██████████| 9608/9608 [00:00<00:00, 10990.73it/s]\n"
          ]
        }
      ],
      "source": [
        "!pip install roboflow --quiet\n",
        "\n",
        "from roboflow import Roboflow\n",
        "rf = Roboflow(api_key=\"YOUR_API_KEY\")\n",
        "project = rf.workspace(\"university-bwrcv\").project(\"head-motion-using-deep-isp\")\n",
        "dataset = project.version(1).download(\"yolov8\")"
      ]
    },
    {
      "cell_type": "markdown",
      "metadata": {
        "id": "YUjFBKKqXa-u"
      },
      "source": [
        "## Generate conf matrix"
      ]
    },
    {
      "cell_type": "code",
      "source": [
        "import glob\n",
        "from ultralytics.models.yolo.detect import DetectionValidator\n",
        "\n",
        "# Directory containing your PyTorch models\n",
        "models_directory = \"/content/drive/YOUR_PATH/weights/\"\n",
        "\n",
        "# Pattern to match PyTorch model files\n",
        "model_paths = glob.glob(models_directory + '/**/*.pt', recursive=True)\n",
        "\n",
        "args = dict(\n",
        "    data='/content/Head-motion-using-deep-ISP-1/data.yaml',\n",
        "    batch=16, imgsz=128, save=True, save_period=1, cache=False, device=None, workers=8, project=None, exist_ok=False, pretrained=True, verbose=True, seed=0, deterministic=True, single_cls=False, rect=True, cos_lr=False, close_mosaic=10, resume=False, amp=True, fraction=1.0, profile=False, freeze=None, multi_scale=False, overlap_mask=True, mask_ratio=4, dropout=0.0, save_json=False, save_hybrid=False, conf=None, iou=0.7, max_det=300, half=False, dnn=False, plots=True, source=None, vid_stride=1, stream_buffer=False, visualize=False, augment=False, agnostic_nms=False, classes=None, retina_masks=False, embed=None, show=False, save_frames=False, save_txt=False, save_conf=False, save_crop=False, show_labels=True, show_conf=True, show_boxes=True, line_width=None, keras=False, optimize=False, int8=False, dynamic=False, simplify=False, opset=None, workspace=4, nms=False, lr0=0.01, lrf=0.01, momentum=0.937, weight_decay=0.0005, warmup_epochs=3.0, warmup_momentum=0.8, warmup_bias_lr=0.1, box=7.5, cls=0.5, dfl=1.5, pose=12.0, kobj=1.0, label_smoothing=0.0, nbs=64, hsv_h=0.015, hsv_s=0.7, hsv_v=0.4, degrees=0.0, translate=0.1, scale=0.5, shear=0.0, perspective=0.0, flipud=0.0, fliplr=0.5, mosaic=1.0, mixup=0.0, copy_paste=0.0, erasing=0.4, crop_fraction=1.0, cfg=None, save_dir=\"runs/detect/train\"\n",
        "    )\n",
        "\n",
        "for idx, model_path in enumerate(model_paths, start=1):\n",
        "    args['model'] = model_path  # Update the model path for each iteration\n",
        "    validator = DetectionValidator(args=args)\n",
        "    print(f\"Processing model {idx}: {model_path}\")  # Print model number and path\n",
        "    validator()  # Run detection/validation for each model found"
      ],
      "metadata": {
        "colab": {
          "base_uri": "https://localhost:8080/"
        },
        "id": "xxAZ39-uupAG",
        "outputId": "b1f89569-fc25-4866-b406-11a5897d225e"
      },
      "execution_count": null,
      "outputs": [
        {
          "output_type": "stream",
          "name": "stdout",
          "text": [
            "Processing model 1: /content/drive/MyDrive/koding kuliah skripsi/YOLO Train FIX/Training with callback/runs_deepISP/detect/train2/weights/epoch1.pt\n",
            "Ultralytics YOLOv8.1.1 🚀 Python-3.10.12 torch-2.1.0+cu121 CUDA:0 (Tesla T4, 15102MiB)\n",
            "Model summary (fused): 168 layers, 3006623 parameters, 0 gradients, 8.1 GFLOPs\n"
          ]
        },
        {
          "output_type": "stream",
          "name": "stderr",
          "text": [
            "\u001b[34m\u001b[1mval: \u001b[0mScanning /content/Head-motion-using-deep-ISP-1/valid/labels.cache... 268 images, 0 backgrounds, 0 corrupt: 100%|██████████| 268/268 [00:00<?, ?it/s]\n",
            "                 Class     Images  Instances      Box(P          R      mAP50  mAP50-95): 100%|██████████| 17/17 [00:02<00:00,  6.17it/s]\n"
          ]
        },
        {
          "output_type": "stream",
          "name": "stdout",
          "text": [
            "                   all        268        268      0.417      0.812      0.704      0.421\n",
            "                  atas        268         65      0.233          1      0.928      0.472\n",
            "                 bawah        268         54      0.766          1      0.979      0.683\n",
            "                 depan        268         53      0.349          1      0.679      0.452\n",
            "                 kanan        268         53       0.34       0.34      0.499      0.288\n",
            "                  kiri        268         43      0.397      0.721      0.433      0.207\n",
            "Speed: 0.1ms preprocess, 4.7ms inference, 0.0ms loss, 1.5ms postprocess per image\n",
            "Results saved to \u001b[1mruns/detect/train3\u001b[0m\n",
            "Processing model 2: /content/drive/MyDrive/koding kuliah skripsi/YOLO Train FIX/Training with callback/runs_deepISP/detect/train2/weights/epoch2.pt\n",
            "Ultralytics YOLOv8.1.1 🚀 Python-3.10.12 torch-2.1.0+cu121 CUDA:0 (Tesla T4, 15102MiB)\n",
            "Model summary (fused): 168 layers, 3006623 parameters, 0 gradients, 8.1 GFLOPs\n"
          ]
        },
        {
          "output_type": "stream",
          "name": "stderr",
          "text": [
            "\u001b[34m\u001b[1mval: \u001b[0mScanning /content/Head-motion-using-deep-ISP-1/valid/labels.cache... 268 images, 0 backgrounds, 0 corrupt: 100%|██████████| 268/268 [00:00<?, ?it/s]\n",
            "                 Class     Images  Instances      Box(P          R      mAP50  mAP50-95): 100%|██████████| 17/17 [00:02<00:00,  6.45it/s]\n"
          ]
        },
        {
          "output_type": "stream",
          "name": "stdout",
          "text": [
            "                   all        268        268      0.643      0.714      0.783      0.494\n",
            "                  atas        268         65      0.764          1      0.991      0.512\n",
            "                 bawah        268         54      0.396       0.87       0.85      0.629\n",
            "                 depan        268         53      0.798      0.962      0.969       0.67\n",
            "                 kanan        268         53      0.763     0.0614      0.584      0.344\n",
            "                  kiri        268         43      0.496      0.674      0.519      0.314\n",
            "Speed: 0.1ms preprocess, 2.2ms inference, 0.0ms loss, 4.5ms postprocess per image\n",
            "Results saved to \u001b[1mruns/detect/train4\u001b[0m\n",
            "Processing model 3: /content/drive/MyDrive/koding kuliah skripsi/YOLO Train FIX/Training with callback/runs_deepISP/detect/train2/weights/epoch3.pt\n",
            "Ultralytics YOLOv8.1.1 🚀 Python-3.10.12 torch-2.1.0+cu121 CUDA:0 (Tesla T4, 15102MiB)\n",
            "Model summary (fused): 168 layers, 3006623 parameters, 0 gradients, 8.1 GFLOPs\n"
          ]
        },
        {
          "output_type": "stream",
          "name": "stderr",
          "text": [
            "\u001b[34m\u001b[1mval: \u001b[0mScanning /content/Head-motion-using-deep-ISP-1/valid/labels.cache... 268 images, 0 backgrounds, 0 corrupt: 100%|██████████| 268/268 [00:00<?, ?it/s]\n",
            "                 Class     Images  Instances      Box(P          R      mAP50  mAP50-95): 100%|██████████| 17/17 [00:02<00:00,  7.10it/s]\n"
          ]
        },
        {
          "output_type": "stream",
          "name": "stdout",
          "text": [
            "                   all        268        268      0.602      0.922      0.799      0.541\n",
            "                  atas        268         65      0.578          1      0.991      0.625\n",
            "                 bawah        268         54      0.785      0.852      0.951      0.722\n",
            "                 depan        268         53      0.655          1      0.953      0.696\n",
            "                 kanan        268         53      0.563      0.925      0.644      0.403\n",
            "                  kiri        268         43      0.428      0.836      0.454      0.259\n",
            "Speed: 0.1ms preprocess, 4.1ms inference, 0.0ms loss, 2.2ms postprocess per image\n",
            "Results saved to \u001b[1mruns/detect/train5\u001b[0m\n",
            "Processing model 4: /content/drive/MyDrive/koding kuliah skripsi/YOLO Train FIX/Training with callback/runs_deepISP/detect/train2/weights/epoch4.pt\n",
            "Ultralytics YOLOv8.1.1 🚀 Python-3.10.12 torch-2.1.0+cu121 CUDA:0 (Tesla T4, 15102MiB)\n",
            "Model summary (fused): 168 layers, 3006623 parameters, 0 gradients, 8.1 GFLOPs\n"
          ]
        },
        {
          "output_type": "stream",
          "name": "stderr",
          "text": [
            "\u001b[34m\u001b[1mval: \u001b[0mScanning /content/Head-motion-using-deep-ISP-1/valid/labels.cache... 268 images, 0 backgrounds, 0 corrupt: 100%|██████████| 268/268 [00:00<?, ?it/s]\n",
            "                 Class     Images  Instances      Box(P          R      mAP50  mAP50-95): 100%|██████████| 17/17 [00:02<00:00,  6.28it/s]\n"
          ]
        },
        {
          "output_type": "stream",
          "name": "stdout",
          "text": [
            "                   all        268        268      0.715      0.951      0.887      0.583\n",
            "                  atas        268         65      0.648          1      0.994      0.612\n",
            "                 bawah        268         54       0.98          1      0.995      0.757\n",
            "                 depan        268         53      0.987      0.981      0.994      0.686\n",
            "                 kanan        268         53      0.494      0.772      0.544      0.345\n",
            "                  kiri        268         43      0.466          1      0.906      0.515\n",
            "Speed: 0.2ms preprocess, 2.5ms inference, 0.0ms loss, 2.5ms postprocess per image\n",
            "Results saved to \u001b[1mruns/detect/train6\u001b[0m\n",
            "Processing model 5: /content/drive/MyDrive/koding kuliah skripsi/YOLO Train FIX/Training with callback/runs_deepISP/detect/train2/weights/epoch5.pt\n",
            "Ultralytics YOLOv8.1.1 🚀 Python-3.10.12 torch-2.1.0+cu121 CUDA:0 (Tesla T4, 15102MiB)\n",
            "Model summary (fused): 168 layers, 3006623 parameters, 0 gradients, 8.1 GFLOPs\n"
          ]
        },
        {
          "output_type": "stream",
          "name": "stderr",
          "text": [
            "\u001b[34m\u001b[1mval: \u001b[0mScanning /content/Head-motion-using-deep-ISP-1/valid/labels.cache... 268 images, 0 backgrounds, 0 corrupt: 100%|██████████| 268/268 [00:00<?, ?it/s]\n",
            "                 Class     Images  Instances      Box(P          R      mAP50  mAP50-95): 100%|██████████| 17/17 [00:02<00:00,  6.75it/s]\n"
          ]
        },
        {
          "output_type": "stream",
          "name": "stdout",
          "text": [
            "                   all        268        268      0.679      0.955      0.853      0.572\n",
            "                  atas        268         65      0.627          1      0.982      0.604\n",
            "                 bawah        268         54      0.805          1      0.995      0.796\n",
            "                 depan        268         53      0.955      0.981      0.991      0.707\n",
            "                 kanan        268         53       0.56      0.792      0.614      0.369\n",
            "                  kiri        268         43      0.448          1      0.684      0.386\n",
            "Speed: 0.0ms preprocess, 3.9ms inference, 0.0ms loss, 2.4ms postprocess per image\n",
            "Results saved to \u001b[1mruns/detect/train7\u001b[0m\n",
            "Processing model 6: /content/drive/MyDrive/koding kuliah skripsi/YOLO Train FIX/Training with callback/runs_deepISP/detect/train2/weights/epoch6.pt\n",
            "Ultralytics YOLOv8.1.1 🚀 Python-3.10.12 torch-2.1.0+cu121 CUDA:0 (Tesla T4, 15102MiB)\n",
            "Model summary (fused): 168 layers, 3006623 parameters, 0 gradients, 8.1 GFLOPs\n"
          ]
        },
        {
          "output_type": "stream",
          "name": "stderr",
          "text": [
            "\u001b[34m\u001b[1mval: \u001b[0mScanning /content/Head-motion-using-deep-ISP-1/valid/labels.cache... 268 images, 0 backgrounds, 0 corrupt: 100%|██████████| 268/268 [00:00<?, ?it/s]\n",
            "                 Class     Images  Instances      Box(P          R      mAP50  mAP50-95): 100%|██████████| 17/17 [00:02<00:00,  6.04it/s]\n"
          ]
        },
        {
          "output_type": "stream",
          "name": "stdout",
          "text": [
            "                   all        268        268      0.625      0.963      0.832      0.547\n",
            "                  atas        268         65      0.736          1      0.992      0.607\n",
            "                 bawah        268         54      0.465          1      0.995      0.726\n",
            "                 depan        268         53      0.962       0.96      0.991      0.705\n",
            "                 kanan        268         53       0.52      0.857      0.565      0.332\n",
            "                  kiri        268         43      0.444          1      0.615      0.365\n",
            "Speed: 0.1ms preprocess, 3.5ms inference, 0.0ms loss, 3.2ms postprocess per image\n",
            "Results saved to \u001b[1mruns/detect/train8\u001b[0m\n",
            "Processing model 7: /content/drive/MyDrive/koding kuliah skripsi/YOLO Train FIX/Training with callback/runs_deepISP/detect/train2/weights/epoch7.pt\n",
            "Ultralytics YOLOv8.1.1 🚀 Python-3.10.12 torch-2.1.0+cu121 CUDA:0 (Tesla T4, 15102MiB)\n",
            "Model summary (fused): 168 layers, 3006623 parameters, 0 gradients, 8.1 GFLOPs\n"
          ]
        },
        {
          "output_type": "stream",
          "name": "stderr",
          "text": [
            "\u001b[34m\u001b[1mval: \u001b[0mScanning /content/Head-motion-using-deep-ISP-1/valid/labels.cache... 268 images, 0 backgrounds, 0 corrupt: 100%|██████████| 268/268 [00:00<?, ?it/s]\n",
            "                 Class     Images  Instances      Box(P          R      mAP50  mAP50-95): 100%|██████████| 17/17 [00:02<00:00,  6.68it/s]\n"
          ]
        },
        {
          "output_type": "stream",
          "name": "stdout",
          "text": [
            "                   all        268        268      0.796      0.909       0.88      0.597\n",
            "                  atas        268         65      0.942          1      0.983      0.627\n",
            "                 bawah        268         54      0.982          1      0.995      0.732\n",
            "                 depan        268         53      0.875      0.906      0.936       0.66\n",
            "                 kanan        268         53      0.633       0.66      0.721      0.487\n",
            "                  kiri        268         43      0.546      0.977      0.763      0.479\n",
            "Speed: 0.2ms preprocess, 3.3ms inference, 0.0ms loss, 2.6ms postprocess per image\n",
            "Results saved to \u001b[1mruns/detect/train9\u001b[0m\n",
            "Processing model 8: /content/drive/MyDrive/koding kuliah skripsi/YOLO Train FIX/Training with callback/runs_deepISP/detect/train2/weights/epoch8.pt\n",
            "Ultralytics YOLOv8.1.1 🚀 Python-3.10.12 torch-2.1.0+cu121 CUDA:0 (Tesla T4, 15102MiB)\n",
            "Model summary (fused): 168 layers, 3006623 parameters, 0 gradients, 8.1 GFLOPs\n"
          ]
        },
        {
          "output_type": "stream",
          "name": "stderr",
          "text": [
            "\u001b[34m\u001b[1mval: \u001b[0mScanning /content/Head-motion-using-deep-ISP-1/valid/labels.cache... 268 images, 0 backgrounds, 0 corrupt: 100%|██████████| 268/268 [00:00<?, ?it/s]\n",
            "                 Class     Images  Instances      Box(P          R      mAP50  mAP50-95): 100%|██████████| 17/17 [00:02<00:00,  6.69it/s]\n"
          ]
        },
        {
          "output_type": "stream",
          "name": "stdout",
          "text": [
            "                   all        268        268      0.703      0.923      0.897      0.631\n",
            "                  atas        268         65      0.794          1      0.987      0.631\n",
            "                 bawah        268         54      0.769          1      0.995      0.771\n",
            "                 depan        268         53       0.98      0.931      0.993      0.719\n",
            "                 kanan        268         53      0.502      0.755      0.796      0.551\n",
            "                  kiri        268         43      0.469       0.93      0.712      0.486\n",
            "Speed: 0.1ms preprocess, 2.6ms inference, 0.0ms loss, 3.9ms postprocess per image\n",
            "Results saved to \u001b[1mruns/detect/train10\u001b[0m\n",
            "Processing model 9: /content/drive/MyDrive/koding kuliah skripsi/YOLO Train FIX/Training with callback/runs_deepISP/detect/train2/weights/epoch9.pt\n",
            "Ultralytics YOLOv8.1.1 🚀 Python-3.10.12 torch-2.1.0+cu121 CUDA:0 (Tesla T4, 15102MiB)\n",
            "Model summary (fused): 168 layers, 3006623 parameters, 0 gradients, 8.1 GFLOPs\n"
          ]
        },
        {
          "output_type": "stream",
          "name": "stderr",
          "text": [
            "\u001b[34m\u001b[1mval: \u001b[0mScanning /content/Head-motion-using-deep-ISP-1/valid/labels.cache... 268 images, 0 backgrounds, 0 corrupt: 100%|██████████| 268/268 [00:00<?, ?it/s]\n",
            "                 Class     Images  Instances      Box(P          R      mAP50  mAP50-95): 100%|██████████| 17/17 [00:02<00:00,  7.09it/s]\n"
          ]
        },
        {
          "output_type": "stream",
          "name": "stdout",
          "text": [
            "                   all        268        268      0.793       0.89      0.858       0.58\n",
            "                  atas        268         65      0.947          1      0.995      0.625\n",
            "                 bawah        268         54      0.998          1      0.995      0.756\n",
            "                 depan        268         53      0.879          1      0.975      0.695\n",
            "                 kanan        268         53      0.545      0.566      0.703      0.476\n",
            "                  kiri        268         43      0.596      0.884      0.624      0.346\n",
            "Speed: 0.1ms preprocess, 3.6ms inference, 0.0ms loss, 2.0ms postprocess per image\n",
            "Results saved to \u001b[1mruns/detect/train11\u001b[0m\n",
            "Processing model 10: /content/drive/MyDrive/koding kuliah skripsi/YOLO Train FIX/Training with callback/runs_deepISP/detect/train2/weights/epoch10.pt\n",
            "Ultralytics YOLOv8.1.1 🚀 Python-3.10.12 torch-2.1.0+cu121 CUDA:0 (Tesla T4, 15102MiB)\n",
            "Model summary (fused): 168 layers, 3006623 parameters, 0 gradients, 8.1 GFLOPs\n"
          ]
        },
        {
          "output_type": "stream",
          "name": "stderr",
          "text": [
            "\u001b[34m\u001b[1mval: \u001b[0mScanning /content/Head-motion-using-deep-ISP-1/valid/labels.cache... 268 images, 0 backgrounds, 0 corrupt: 100%|██████████| 268/268 [00:00<?, ?it/s]\n",
            "                 Class     Images  Instances      Box(P          R      mAP50  mAP50-95): 100%|██████████| 17/17 [00:02<00:00,  6.36it/s]\n"
          ]
        },
        {
          "output_type": "stream",
          "name": "stdout",
          "text": [
            "                   all        268        268      0.733       0.91      0.929      0.607\n",
            "                  atas        268         65      0.807          1      0.992       0.58\n",
            "                 bawah        268         54      0.358      0.981      0.806      0.566\n",
            "                 depan        268         53      0.909      0.868      0.964      0.672\n",
            "                 kanan        268         53      0.963      0.698      0.939      0.633\n",
            "                  kiri        268         43      0.629          1      0.945      0.586\n",
            "Speed: 0.2ms preprocess, 4.0ms inference, 0.0ms loss, 2.5ms postprocess per image\n",
            "Results saved to \u001b[1mruns/detect/train12\u001b[0m\n",
            "Processing model 11: /content/drive/MyDrive/koding kuliah skripsi/YOLO Train FIX/Training with callback/runs_deepISP/detect/train2/weights/epoch11.pt\n",
            "Ultralytics YOLOv8.1.1 🚀 Python-3.10.12 torch-2.1.0+cu121 CUDA:0 (Tesla T4, 15102MiB)\n",
            "Model summary (fused): 168 layers, 3006623 parameters, 0 gradients, 8.1 GFLOPs\n"
          ]
        },
        {
          "output_type": "stream",
          "name": "stderr",
          "text": [
            "\u001b[34m\u001b[1mval: \u001b[0mScanning /content/Head-motion-using-deep-ISP-1/valid/labels.cache... 268 images, 0 backgrounds, 0 corrupt: 100%|██████████| 268/268 [00:00<?, ?it/s]\n",
            "                 Class     Images  Instances      Box(P          R      mAP50  mAP50-95): 100%|██████████| 17/17 [00:02<00:00,  6.84it/s]\n"
          ]
        },
        {
          "output_type": "stream",
          "name": "stdout",
          "text": [
            "                   all        268        268      0.872      0.954      0.975      0.651\n",
            "                  atas        268         65      0.777          1      0.995      0.588\n",
            "                 bawah        268         54          1      0.991      0.995      0.795\n",
            "                 depan        268         53      0.825        0.8      0.933      0.677\n",
            "                 kanan        268         53      0.897       0.99      0.984      0.585\n",
            "                  kiri        268         43      0.859      0.991      0.967      0.611\n",
            "Speed: 0.1ms preprocess, 3.1ms inference, 0.0ms loss, 3.6ms postprocess per image\n",
            "Results saved to \u001b[1mruns/detect/train13\u001b[0m\n",
            "Processing model 12: /content/drive/MyDrive/koding kuliah skripsi/YOLO Train FIX/Training with callback/runs_deepISP/detect/train2/weights/epoch12.pt\n",
            "Ultralytics YOLOv8.1.1 🚀 Python-3.10.12 torch-2.1.0+cu121 CUDA:0 (Tesla T4, 15102MiB)\n",
            "Model summary (fused): 168 layers, 3006623 parameters, 0 gradients, 8.1 GFLOPs\n"
          ]
        },
        {
          "output_type": "stream",
          "name": "stderr",
          "text": [
            "\u001b[34m\u001b[1mval: \u001b[0mScanning /content/Head-motion-using-deep-ISP-1/valid/labels.cache... 268 images, 0 backgrounds, 0 corrupt: 100%|██████████| 268/268 [00:00<?, ?it/s]\n",
            "                 Class     Images  Instances      Box(P          R      mAP50  mAP50-95): 100%|██████████| 17/17 [00:02<00:00,  6.54it/s]\n"
          ]
        },
        {
          "output_type": "stream",
          "name": "stdout",
          "text": [
            "                   all        268        268      0.887      0.883      0.971      0.627\n",
            "                  atas        268         65       0.87          1      0.995      0.544\n",
            "                 bawah        268         54          1       0.92      0.993      0.782\n",
            "                 depan        268         53      0.804      0.541       0.91      0.653\n",
            "                 kanan        268         53      0.808      0.955      0.961      0.562\n",
            "                  kiri        268         43      0.953          1      0.994      0.594\n",
            "Speed: 0.1ms preprocess, 3.4ms inference, 0.0ms loss, 2.7ms postprocess per image\n",
            "Results saved to \u001b[1mruns/detect/train14\u001b[0m\n",
            "Processing model 13: /content/drive/MyDrive/koding kuliah skripsi/YOLO Train FIX/Training with callback/runs_deepISP/detect/train2/weights/epoch13.pt\n",
            "Ultralytics YOLOv8.1.1 🚀 Python-3.10.12 torch-2.1.0+cu121 CUDA:0 (Tesla T4, 15102MiB)\n",
            "Model summary (fused): 168 layers, 3006623 parameters, 0 gradients, 8.1 GFLOPs\n"
          ]
        },
        {
          "output_type": "stream",
          "name": "stderr",
          "text": [
            "\u001b[34m\u001b[1mval: \u001b[0mScanning /content/Head-motion-using-deep-ISP-1/valid/labels.cache... 268 images, 0 backgrounds, 0 corrupt: 100%|██████████| 268/268 [00:00<?, ?it/s]\n",
            "                 Class     Images  Instances      Box(P          R      mAP50  mAP50-95): 100%|██████████| 17/17 [00:02<00:00,  5.70it/s]\n"
          ]
        },
        {
          "output_type": "stream",
          "name": "stdout",
          "text": [
            "                   all        268        268      0.902      0.898      0.935       0.62\n",
            "                  atas        268         65      0.937      0.985      0.993      0.532\n",
            "                 bawah        268         54      0.965      0.981      0.993      0.775\n",
            "                 depan        268         53          1      0.711      0.983      0.678\n",
            "                 kanan        268         53      0.915      0.814      0.919      0.605\n",
            "                  kiri        268         43      0.694          1      0.787      0.508\n",
            "Speed: 0.2ms preprocess, 2.9ms inference, 0.0ms loss, 2.0ms postprocess per image\n",
            "Results saved to \u001b[1mruns/detect/train15\u001b[0m\n",
            "Processing model 14: /content/drive/MyDrive/koding kuliah skripsi/YOLO Train FIX/Training with callback/runs_deepISP/detect/train2/weights/epoch14.pt\n",
            "Ultralytics YOLOv8.1.1 🚀 Python-3.10.12 torch-2.1.0+cu121 CUDA:0 (Tesla T4, 15102MiB)\n",
            "Model summary (fused): 168 layers, 3006623 parameters, 0 gradients, 8.1 GFLOPs\n"
          ]
        },
        {
          "output_type": "stream",
          "name": "stderr",
          "text": [
            "\u001b[34m\u001b[1mval: \u001b[0mScanning /content/Head-motion-using-deep-ISP-1/valid/labels.cache... 268 images, 0 backgrounds, 0 corrupt: 100%|██████████| 268/268 [00:00<?, ?it/s]\n",
            "                 Class     Images  Instances      Box(P          R      mAP50  mAP50-95): 100%|██████████| 17/17 [00:02<00:00,  5.73it/s]\n"
          ]
        },
        {
          "output_type": "stream",
          "name": "stdout",
          "text": [
            "                   all        268        268      0.929      0.968       0.98      0.657\n",
            "                  atas        268         65      0.985      0.985      0.995      0.564\n",
            "                 bawah        268         54      0.987          1      0.995      0.762\n",
            "                 depan        268         53          1      0.969      0.995      0.721\n",
            "                 kanan        268         53          1      0.888       0.99      0.651\n",
            "                  kiri        268         43      0.672          1      0.927      0.587\n",
            "Speed: 0.2ms preprocess, 3.5ms inference, 0.0ms loss, 2.2ms postprocess per image\n",
            "Results saved to \u001b[1mruns/detect/train16\u001b[0m\n",
            "Processing model 15: /content/drive/MyDrive/koding kuliah skripsi/YOLO Train FIX/Training with callback/runs_deepISP/detect/train2/weights/epoch15.pt\n",
            "Ultralytics YOLOv8.1.1 🚀 Python-3.10.12 torch-2.1.0+cu121 CUDA:0 (Tesla T4, 15102MiB)\n",
            "Model summary (fused): 168 layers, 3006623 parameters, 0 gradients, 8.1 GFLOPs\n"
          ]
        },
        {
          "output_type": "stream",
          "name": "stderr",
          "text": [
            "\u001b[34m\u001b[1mval: \u001b[0mScanning /content/Head-motion-using-deep-ISP-1/valid/labels.cache... 268 images, 0 backgrounds, 0 corrupt: 100%|██████████| 268/268 [00:00<?, ?it/s]\n",
            "                 Class     Images  Instances      Box(P          R      mAP50  mAP50-95): 100%|██████████| 17/17 [00:02<00:00,  7.34it/s]\n"
          ]
        },
        {
          "output_type": "stream",
          "name": "stdout",
          "text": [
            "                   all        268        268      0.885      0.919      0.927      0.634\n",
            "                  atas        268         65      0.947          1      0.995      0.568\n",
            "                 bawah        268         54      0.953          1      0.995      0.767\n",
            "                 depan        268         53      0.945      0.973       0.99      0.735\n",
            "                 kanan        268         53      0.947      0.623      0.859      0.593\n",
            "                  kiri        268         43      0.635          1      0.798      0.505\n",
            "Speed: 0.1ms preprocess, 4.5ms inference, 0.0ms loss, 1.6ms postprocess per image\n",
            "Results saved to \u001b[1mruns/detect/train17\u001b[0m\n",
            "Processing model 16: /content/drive/MyDrive/koding kuliah skripsi/YOLO Train FIX/Training with callback/runs_deepISP/detect/train2/weights/epoch16.pt\n",
            "Ultralytics YOLOv8.1.1 🚀 Python-3.10.12 torch-2.1.0+cu121 CUDA:0 (Tesla T4, 15102MiB)\n",
            "Model summary (fused): 168 layers, 3006623 parameters, 0 gradients, 8.1 GFLOPs\n"
          ]
        },
        {
          "output_type": "stream",
          "name": "stderr",
          "text": [
            "\u001b[34m\u001b[1mval: \u001b[0mScanning /content/Head-motion-using-deep-ISP-1/valid/labels.cache... 268 images, 0 backgrounds, 0 corrupt: 100%|██████████| 268/268 [00:00<?, ?it/s]\n",
            "                 Class     Images  Instances      Box(P          R      mAP50  mAP50-95): 100%|██████████| 17/17 [00:02<00:00,  7.01it/s]\n"
          ]
        },
        {
          "output_type": "stream",
          "name": "stdout",
          "text": [
            "                   all        268        268      0.917      0.961      0.964       0.67\n",
            "                  atas        268         65      0.982          1      0.995      0.614\n",
            "                 bawah        268         54      0.987          1      0.995       0.81\n",
            "                 depan        268         53          1      0.965      0.995      0.733\n",
            "                 kanan        268         53      0.917      0.838      0.959      0.652\n",
            "                  kiri        268         43      0.697          1      0.875      0.539\n",
            "Speed: 0.1ms preprocess, 3.4ms inference, 0.0ms loss, 3.0ms postprocess per image\n",
            "Results saved to \u001b[1mruns/detect/train18\u001b[0m\n",
            "Processing model 17: /content/drive/MyDrive/koding kuliah skripsi/YOLO Train FIX/Training with callback/runs_deepISP/detect/train2/weights/epoch17.pt\n",
            "Ultralytics YOLOv8.1.1 🚀 Python-3.10.12 torch-2.1.0+cu121 CUDA:0 (Tesla T4, 15102MiB)\n",
            "Model summary (fused): 168 layers, 3006623 parameters, 0 gradients, 8.1 GFLOPs\n"
          ]
        },
        {
          "output_type": "stream",
          "name": "stderr",
          "text": [
            "\u001b[34m\u001b[1mval: \u001b[0mScanning /content/Head-motion-using-deep-ISP-1/valid/labels.cache... 268 images, 0 backgrounds, 0 corrupt: 100%|██████████| 268/268 [00:00<?, ?it/s]\n",
            "                 Class     Images  Instances      Box(P          R      mAP50  mAP50-95): 100%|██████████| 17/17 [00:02<00:00,  6.91it/s]\n"
          ]
        },
        {
          "output_type": "stream",
          "name": "stdout",
          "text": [
            "                   all        268        268      0.948      0.984      0.986      0.669\n",
            "                  atas        268         65       0.99          1      0.995       0.52\n",
            "                 bawah        268         54      0.892          1      0.995      0.783\n",
            "                 depan        268         53      0.997          1      0.995      0.727\n",
            "                 kanan        268         53          1      0.923      0.991      0.672\n",
            "                  kiri        268         43       0.86      0.998      0.952      0.643\n",
            "Speed: 0.2ms preprocess, 5.1ms inference, 0.0ms loss, 1.2ms postprocess per image\n",
            "Results saved to \u001b[1mruns/detect/train19\u001b[0m\n",
            "Processing model 18: /content/drive/MyDrive/koding kuliah skripsi/YOLO Train FIX/Training with callback/runs_deepISP/detect/train2/weights/epoch18.pt\n",
            "Ultralytics YOLOv8.1.1 🚀 Python-3.10.12 torch-2.1.0+cu121 CUDA:0 (Tesla T4, 15102MiB)\n",
            "Model summary (fused): 168 layers, 3006623 parameters, 0 gradients, 8.1 GFLOPs\n"
          ]
        },
        {
          "output_type": "stream",
          "name": "stderr",
          "text": [
            "\u001b[34m\u001b[1mval: \u001b[0mScanning /content/Head-motion-using-deep-ISP-1/valid/labels.cache... 268 images, 0 backgrounds, 0 corrupt: 100%|██████████| 268/268 [00:00<?, ?it/s]\n",
            "                 Class     Images  Instances      Box(P          R      mAP50  mAP50-95): 100%|██████████| 17/17 [00:02<00:00,  7.24it/s]\n"
          ]
        },
        {
          "output_type": "stream",
          "name": "stdout",
          "text": [
            "                   all        268        268      0.951      0.983       0.99      0.694\n",
            "                  atas        268         65      0.992          1      0.995      0.568\n",
            "                 bawah        268         54      0.912          1      0.995      0.795\n",
            "                 depan        268         53       0.99          1      0.995      0.726\n",
            "                 kanan        268         53          1      0.917      0.995      0.699\n",
            "                  kiri        268         43      0.863          1      0.972      0.683\n",
            "Speed: 0.1ms preprocess, 3.2ms inference, 0.0ms loss, 2.5ms postprocess per image\n",
            "Results saved to \u001b[1mruns/detect/train20\u001b[0m\n",
            "Processing model 19: /content/drive/MyDrive/koding kuliah skripsi/YOLO Train FIX/Training with callback/runs_deepISP/detect/train2/weights/epoch19.pt\n",
            "Ultralytics YOLOv8.1.1 🚀 Python-3.10.12 torch-2.1.0+cu121 CUDA:0 (Tesla T4, 15102MiB)\n",
            "Model summary (fused): 168 layers, 3006623 parameters, 0 gradients, 8.1 GFLOPs\n"
          ]
        },
        {
          "output_type": "stream",
          "name": "stderr",
          "text": [
            "\u001b[34m\u001b[1mval: \u001b[0mScanning /content/Head-motion-using-deep-ISP-1/valid/labels.cache... 268 images, 0 backgrounds, 0 corrupt: 100%|██████████| 268/268 [00:00<?, ?it/s]\n",
            "                 Class     Images  Instances      Box(P          R      mAP50  mAP50-95): 100%|██████████| 17/17 [00:02<00:00,  7.06it/s]\n"
          ]
        },
        {
          "output_type": "stream",
          "name": "stdout",
          "text": [
            "                   all        268        268      0.979      0.987      0.994      0.712\n",
            "                  atas        268         65          1      0.996      0.995      0.596\n",
            "                 bawah        268         54      0.943          1      0.995      0.827\n",
            "                 depan        268         53      0.995          1      0.995      0.726\n",
            "                 kanan        268         53          1      0.939      0.991      0.705\n",
            "                  kiri        268         43      0.957          1      0.994      0.706\n",
            "Speed: 0.3ms preprocess, 2.6ms inference, 0.0ms loss, 3.6ms postprocess per image\n",
            "Results saved to \u001b[1mruns/detect/train21\u001b[0m\n",
            "Processing model 20: /content/drive/MyDrive/koding kuliah skripsi/YOLO Train FIX/Training with callback/runs_deepISP/detect/train2/weights/epoch20.pt\n",
            "Ultralytics YOLOv8.1.1 🚀 Python-3.10.12 torch-2.1.0+cu121 CUDA:0 (Tesla T4, 15102MiB)\n",
            "Model summary (fused): 168 layers, 3006623 parameters, 0 gradients, 8.1 GFLOPs\n"
          ]
        },
        {
          "output_type": "stream",
          "name": "stderr",
          "text": [
            "\u001b[34m\u001b[1mval: \u001b[0mScanning /content/Head-motion-using-deep-ISP-1/valid/labels.cache... 268 images, 0 backgrounds, 0 corrupt: 100%|██████████| 268/268 [00:00<?, ?it/s]\n",
            "                 Class     Images  Instances      Box(P          R      mAP50  mAP50-95): 100%|██████████| 17/17 [00:02<00:00,  6.57it/s]\n"
          ]
        },
        {
          "output_type": "stream",
          "name": "stdout",
          "text": [
            "                   all        268        268      0.989      0.934      0.986      0.689\n",
            "                  atas        268         65          1      0.974      0.995      0.567\n",
            "                 bawah        268         54          1      0.997      0.995        0.8\n",
            "                 depan        268         53      0.999          1      0.995      0.716\n",
            "                 kanan        268         53          1      0.698      0.955      0.684\n",
            "                  kiri        268         43      0.946          1       0.99      0.675\n",
            "Speed: 0.1ms preprocess, 4.1ms inference, 0.0ms loss, 1.8ms postprocess per image\n",
            "Results saved to \u001b[1mruns/detect/train22\u001b[0m\n",
            "Processing model 21: /content/drive/MyDrive/koding kuliah skripsi/YOLO Train FIX/Training with callback/runs_deepISP/detect/train2/weights/epoch21.pt\n",
            "Ultralytics YOLOv8.1.1 🚀 Python-3.10.12 torch-2.1.0+cu121 CUDA:0 (Tesla T4, 15102MiB)\n",
            "Model summary (fused): 168 layers, 3006623 parameters, 0 gradients, 8.1 GFLOPs\n"
          ]
        },
        {
          "output_type": "stream",
          "name": "stderr",
          "text": [
            "\u001b[34m\u001b[1mval: \u001b[0mScanning /content/Head-motion-using-deep-ISP-1/valid/labels.cache... 268 images, 0 backgrounds, 0 corrupt: 100%|██████████| 268/268 [00:00<?, ?it/s]\n",
            "                 Class     Images  Instances      Box(P          R      mAP50  mAP50-95): 100%|██████████| 17/17 [00:03<00:00,  5.11it/s]\n"
          ]
        },
        {
          "output_type": "stream",
          "name": "stdout",
          "text": [
            "                   all        268        268      0.954      0.964      0.994      0.676\n",
            "                  atas        268         65          1      0.966      0.995       0.54\n",
            "                 bawah        268         54      0.928          1      0.993      0.788\n",
            "                 depan        268         53          1      0.956      0.995      0.737\n",
            "                 kanan        268         53          1        0.9      0.994      0.671\n",
            "                  kiri        268         43      0.842          1      0.994      0.642\n",
            "Speed: 0.2ms preprocess, 2.2ms inference, 0.0ms loss, 1.9ms postprocess per image\n",
            "Results saved to \u001b[1mruns/detect/train23\u001b[0m\n",
            "Processing model 22: /content/drive/MyDrive/koding kuliah skripsi/YOLO Train FIX/Training with callback/runs_deepISP/detect/train2/weights/epoch22.pt\n",
            "Ultralytics YOLOv8.1.1 🚀 Python-3.10.12 torch-2.1.0+cu121 CUDA:0 (Tesla T4, 15102MiB)\n",
            "Model summary (fused): 168 layers, 3006623 parameters, 0 gradients, 8.1 GFLOPs\n"
          ]
        },
        {
          "output_type": "stream",
          "name": "stderr",
          "text": [
            "\u001b[34m\u001b[1mval: \u001b[0mScanning /content/Head-motion-using-deep-ISP-1/valid/labels.cache... 268 images, 0 backgrounds, 0 corrupt: 100%|██████████| 268/268 [00:00<?, ?it/s]\n",
            "                 Class     Images  Instances      Box(P          R      mAP50  mAP50-95): 100%|██████████| 17/17 [00:02<00:00,  7.04it/s]\n"
          ]
        },
        {
          "output_type": "stream",
          "name": "stdout",
          "text": [
            "                   all        268        268      0.899      0.967      0.979      0.675\n",
            "                  atas        268         65      0.983          1      0.994      0.554\n",
            "                 bawah        268         54      0.898          1      0.995       0.79\n",
            "                 depan        268         53      0.988          1      0.995      0.715\n",
            "                 kanan        268         53      0.978      0.834      0.978      0.674\n",
            "                  kiri        268         43      0.649          1      0.931      0.642\n",
            "Speed: 0.1ms preprocess, 3.5ms inference, 0.0ms loss, 2.9ms postprocess per image\n",
            "Results saved to \u001b[1mruns/detect/train24\u001b[0m\n",
            "Processing model 23: /content/drive/MyDrive/koding kuliah skripsi/YOLO Train FIX/Training with callback/runs_deepISP/detect/train2/weights/epoch23.pt\n",
            "Ultralytics YOLOv8.1.1 🚀 Python-3.10.12 torch-2.1.0+cu121 CUDA:0 (Tesla T4, 15102MiB)\n",
            "Model summary (fused): 168 layers, 3006623 parameters, 0 gradients, 8.1 GFLOPs\n"
          ]
        },
        {
          "output_type": "stream",
          "name": "stderr",
          "text": [
            "\u001b[34m\u001b[1mval: \u001b[0mScanning /content/Head-motion-using-deep-ISP-1/valid/labels.cache... 268 images, 0 backgrounds, 0 corrupt: 100%|██████████| 268/268 [00:00<?, ?it/s]\n",
            "                 Class     Images  Instances      Box(P          R      mAP50  mAP50-95): 100%|██████████| 17/17 [00:02<00:00,  6.16it/s]\n"
          ]
        },
        {
          "output_type": "stream",
          "name": "stdout",
          "text": [
            "                   all        268        268      0.962      0.948      0.986      0.657\n",
            "                  atas        268         65          1      0.947      0.995      0.527\n",
            "                 bawah        268         54      0.979          1      0.995      0.804\n",
            "                 depan        268         53      0.999          1      0.995      0.682\n",
            "                 kanan        268         53      0.952      0.887      0.983      0.659\n",
            "                  kiri        268         43      0.882      0.907      0.961      0.612\n",
            "Speed: 0.0ms preprocess, 1.6ms inference, 0.0ms loss, 1.9ms postprocess per image\n",
            "Results saved to \u001b[1mruns/detect/train25\u001b[0m\n",
            "Processing model 24: /content/drive/MyDrive/koding kuliah skripsi/YOLO Train FIX/Training with callback/runs_deepISP/detect/train2/weights/epoch24.pt\n",
            "Ultralytics YOLOv8.1.1 🚀 Python-3.10.12 torch-2.1.0+cu121 CUDA:0 (Tesla T4, 15102MiB)\n",
            "Model summary (fused): 168 layers, 3006623 parameters, 0 gradients, 8.1 GFLOPs\n"
          ]
        },
        {
          "output_type": "stream",
          "name": "stderr",
          "text": [
            "\u001b[34m\u001b[1mval: \u001b[0mScanning /content/Head-motion-using-deep-ISP-1/valid/labels.cache... 268 images, 0 backgrounds, 0 corrupt: 100%|██████████| 268/268 [00:00<?, ?it/s]\n",
            "                 Class     Images  Instances      Box(P          R      mAP50  mAP50-95): 100%|██████████| 17/17 [00:02<00:00,  6.10it/s]\n"
          ]
        },
        {
          "output_type": "stream",
          "name": "stdout",
          "text": [
            "                   all        268        268      0.993      0.998      0.995      0.689\n",
            "                  atas        268         65          1       0.99      0.995      0.568\n",
            "                 bawah        268         54      0.988          1      0.995      0.803\n",
            "                 depan        268         53      0.993          1      0.995        0.7\n",
            "                 kanan        268         53      0.986          1      0.995      0.703\n",
            "                  kiri        268         43      0.996          1      0.995      0.672\n",
            "Speed: 0.0ms preprocess, 2.0ms inference, 0.0ms loss, 2.5ms postprocess per image\n",
            "Results saved to \u001b[1mruns/detect/train26\u001b[0m\n",
            "Processing model 25: /content/drive/MyDrive/koding kuliah skripsi/YOLO Train FIX/Training with callback/runs_deepISP/detect/train2/weights/epoch25.pt\n",
            "Ultralytics YOLOv8.1.1 🚀 Python-3.10.12 torch-2.1.0+cu121 CUDA:0 (Tesla T4, 15102MiB)\n",
            "Model summary (fused): 168 layers, 3006623 parameters, 0 gradients, 8.1 GFLOPs\n"
          ]
        },
        {
          "output_type": "stream",
          "name": "stderr",
          "text": [
            "\u001b[34m\u001b[1mval: \u001b[0mScanning /content/Head-motion-using-deep-ISP-1/valid/labels.cache... 268 images, 0 backgrounds, 0 corrupt: 100%|██████████| 268/268 [00:00<?, ?it/s]\n",
            "                 Class     Images  Instances      Box(P          R      mAP50  mAP50-95): 100%|██████████| 17/17 [00:02<00:00,  6.98it/s]\n"
          ]
        },
        {
          "output_type": "stream",
          "name": "stdout",
          "text": [
            "                   all        268        268      0.993      0.997      0.995      0.683\n",
            "                  atas        268         65      0.998          1      0.995      0.539\n",
            "                 bawah        268         54          1          1      0.995      0.788\n",
            "                 depan        268         53      0.983          1      0.995      0.732\n",
            "                 kanan        268         53          1      0.985      0.995      0.702\n",
            "                  kiri        268         43      0.984          1      0.995      0.655\n",
            "Speed: 0.2ms preprocess, 2.9ms inference, 0.0ms loss, 3.5ms postprocess per image\n",
            "Results saved to \u001b[1mruns/detect/train27\u001b[0m\n",
            "Processing model 26: /content/drive/MyDrive/koding kuliah skripsi/YOLO Train FIX/Training with callback/runs_deepISP/detect/train2/weights/epoch26.pt\n",
            "Ultralytics YOLOv8.1.1 🚀 Python-3.10.12 torch-2.1.0+cu121 CUDA:0 (Tesla T4, 15102MiB)\n",
            "Model summary (fused): 168 layers, 3006623 parameters, 0 gradients, 8.1 GFLOPs\n"
          ]
        },
        {
          "output_type": "stream",
          "name": "stderr",
          "text": [
            "\u001b[34m\u001b[1mval: \u001b[0mScanning /content/Head-motion-using-deep-ISP-1/valid/labels.cache... 268 images, 0 backgrounds, 0 corrupt: 100%|██████████| 268/268 [00:00<?, ?it/s]\n",
            "                 Class     Images  Instances      Box(P          R      mAP50  mAP50-95): 100%|██████████| 17/17 [00:02<00:00,  7.28it/s]\n"
          ]
        },
        {
          "output_type": "stream",
          "name": "stdout",
          "text": [
            "                   all        268        268      0.929      0.905      0.927      0.663\n",
            "                  atas        268         65      0.998          1      0.995      0.595\n",
            "                 bawah        268         54      0.995          1      0.995      0.818\n",
            "                 depan        268         53          1      0.986      0.995      0.717\n",
            "                 kanan        268         53          1      0.539      0.867      0.642\n",
            "                  kiri        268         43      0.651          1      0.783      0.542\n",
            "Speed: 0.1ms preprocess, 2.6ms inference, 0.0ms loss, 3.3ms postprocess per image\n",
            "Results saved to \u001b[1mruns/detect/train28\u001b[0m\n",
            "Processing model 27: /content/drive/MyDrive/koding kuliah skripsi/YOLO Train FIX/Training with callback/runs_deepISP/detect/train2/weights/epoch27.pt\n",
            "Ultralytics YOLOv8.1.1 🚀 Python-3.10.12 torch-2.1.0+cu121 CUDA:0 (Tesla T4, 15102MiB)\n",
            "Model summary (fused): 168 layers, 3006623 parameters, 0 gradients, 8.1 GFLOPs\n"
          ]
        },
        {
          "output_type": "stream",
          "name": "stderr",
          "text": [
            "\u001b[34m\u001b[1mval: \u001b[0mScanning /content/Head-motion-using-deep-ISP-1/valid/labels.cache... 268 images, 0 backgrounds, 0 corrupt: 100%|██████████| 268/268 [00:00<?, ?it/s]\n",
            "                 Class     Images  Instances      Box(P          R      mAP50  mAP50-95): 100%|██████████| 17/17 [00:02<00:00,  6.89it/s]\n"
          ]
        },
        {
          "output_type": "stream",
          "name": "stdout",
          "text": [
            "                   all        268        268      0.948      0.955      0.989      0.695\n",
            "                  atas        268         65      0.999          1      0.995      0.534\n",
            "                 bawah        268         54      0.983          1      0.995      0.805\n",
            "                 depan        268         53      0.999          1      0.995      0.722\n",
            "                 kanan        268         53      0.998      0.774      0.963       0.72\n",
            "                  kiri        268         43      0.764          1      0.995      0.694\n",
            "Speed: 0.3ms preprocess, 4.8ms inference, 0.0ms loss, 1.6ms postprocess per image\n",
            "Results saved to \u001b[1mruns/detect/train29\u001b[0m\n",
            "Processing model 28: /content/drive/MyDrive/koding kuliah skripsi/YOLO Train FIX/Training with callback/runs_deepISP/detect/train2/weights/epoch28.pt\n",
            "Ultralytics YOLOv8.1.1 🚀 Python-3.10.12 torch-2.1.0+cu121 CUDA:0 (Tesla T4, 15102MiB)\n",
            "Model summary (fused): 168 layers, 3006623 parameters, 0 gradients, 8.1 GFLOPs\n"
          ]
        },
        {
          "output_type": "stream",
          "name": "stderr",
          "text": [
            "\u001b[34m\u001b[1mval: \u001b[0mScanning /content/Head-motion-using-deep-ISP-1/valid/labels.cache... 268 images, 0 backgrounds, 0 corrupt: 100%|██████████| 268/268 [00:00<?, ?it/s]\n",
            "                 Class     Images  Instances      Box(P          R      mAP50  mAP50-95): 100%|██████████| 17/17 [00:03<00:00,  5.15it/s]\n"
          ]
        },
        {
          "output_type": "stream",
          "name": "stdout",
          "text": [
            "                   all        268        268      0.994      0.989      0.995      0.722\n",
            "                  atas        268         65          1      0.983      0.995      0.611\n",
            "                 bawah        268         54      0.992          1      0.995      0.821\n",
            "                 depan        268         53          1      0.991      0.995      0.726\n",
            "                 kanan        268         53          1      0.972      0.995      0.735\n",
            "                  kiri        268         43      0.976          1      0.995      0.718\n",
            "Speed: 0.1ms preprocess, 2.4ms inference, 0.0ms loss, 2.2ms postprocess per image\n",
            "Results saved to \u001b[1mruns/detect/train30\u001b[0m\n",
            "Processing model 29: /content/drive/MyDrive/koding kuliah skripsi/YOLO Train FIX/Training with callback/runs_deepISP/detect/train2/weights/epoch29.pt\n",
            "Ultralytics YOLOv8.1.1 🚀 Python-3.10.12 torch-2.1.0+cu121 CUDA:0 (Tesla T4, 15102MiB)\n",
            "Model summary (fused): 168 layers, 3006623 parameters, 0 gradients, 8.1 GFLOPs\n"
          ]
        },
        {
          "output_type": "stream",
          "name": "stderr",
          "text": [
            "\u001b[34m\u001b[1mval: \u001b[0mScanning /content/Head-motion-using-deep-ISP-1/valid/labels.cache... 268 images, 0 backgrounds, 0 corrupt: 100%|██████████| 268/268 [00:00<?, ?it/s]\n",
            "                 Class     Images  Instances      Box(P          R      mAP50  mAP50-95): 100%|██████████| 17/17 [00:03<00:00,  5.13it/s]\n"
          ]
        },
        {
          "output_type": "stream",
          "name": "stdout",
          "text": [
            "                   all        268        268      0.969      0.984      0.995      0.711\n",
            "                  atas        268         65      0.987          1      0.995      0.592\n",
            "                 bawah        268         54      0.951          1      0.995      0.799\n",
            "                 depan        268         53          1      0.931      0.995      0.735\n",
            "                 kanan        268         53          1      0.991      0.995      0.744\n",
            "                  kiri        268         43      0.905          1      0.995      0.686\n",
            "Speed: 0.0ms preprocess, 2.3ms inference, 0.0ms loss, 2.2ms postprocess per image\n",
            "Results saved to \u001b[1mruns/detect/train31\u001b[0m\n",
            "Processing model 30: /content/drive/MyDrive/koding kuliah skripsi/YOLO Train FIX/Training with callback/runs_deepISP/detect/train2/weights/epoch30.pt\n",
            "Ultralytics YOLOv8.1.1 🚀 Python-3.10.12 torch-2.1.0+cu121 CUDA:0 (Tesla T4, 15102MiB)\n",
            "Model summary (fused): 168 layers, 3006623 parameters, 0 gradients, 8.1 GFLOPs\n"
          ]
        },
        {
          "output_type": "stream",
          "name": "stderr",
          "text": [
            "\u001b[34m\u001b[1mval: \u001b[0mScanning /content/Head-motion-using-deep-ISP-1/valid/labels.cache... 268 images, 0 backgrounds, 0 corrupt: 100%|██████████| 268/268 [00:00<?, ?it/s]\n",
            "                 Class     Images  Instances      Box(P          R      mAP50  mAP50-95): 100%|██████████| 17/17 [00:02<00:00,  7.19it/s]\n"
          ]
        },
        {
          "output_type": "stream",
          "name": "stdout",
          "text": [
            "                   all        268        268      0.991      0.991      0.995      0.732\n",
            "                  atas        268         65      0.999          1      0.995      0.596\n",
            "                 bawah        268         54      0.965          1      0.995      0.808\n",
            "                 depan        268         53          1      0.953      0.995      0.766\n",
            "                 kanan        268         53          1          1      0.995      0.759\n",
            "                  kiri        268         43      0.989          1      0.995      0.732\n",
            "Speed: 0.2ms preprocess, 3.7ms inference, 0.0ms loss, 2.5ms postprocess per image\n",
            "Results saved to \u001b[1mruns/detect/train32\u001b[0m\n",
            "Processing model 31: /content/drive/MyDrive/koding kuliah skripsi/YOLO Train FIX/Training with callback/runs_deepISP/detect/train2/weights/epoch31.pt\n",
            "Ultralytics YOLOv8.1.1 🚀 Python-3.10.12 torch-2.1.0+cu121 CUDA:0 (Tesla T4, 15102MiB)\n",
            "Model summary (fused): 168 layers, 3006623 parameters, 0 gradients, 8.1 GFLOPs\n"
          ]
        },
        {
          "output_type": "stream",
          "name": "stderr",
          "text": [
            "\u001b[34m\u001b[1mval: \u001b[0mScanning /content/Head-motion-using-deep-ISP-1/valid/labels.cache... 268 images, 0 backgrounds, 0 corrupt: 100%|██████████| 268/268 [00:00<?, ?it/s]\n",
            "                 Class     Images  Instances      Box(P          R      mAP50  mAP50-95): 100%|██████████| 17/17 [00:02<00:00,  7.14it/s]\n"
          ]
        },
        {
          "output_type": "stream",
          "name": "stdout",
          "text": [
            "                   all        268        268      0.963      0.976      0.995      0.727\n",
            "                  atas        268         65      0.993          1      0.995      0.612\n",
            "                 bawah        268         54      0.879          1      0.995      0.816\n",
            "                 depan        268         53          1      0.881      0.994      0.739\n",
            "                 kanan        268         53      0.996          1      0.995      0.734\n",
            "                  kiri        268         43      0.945          1      0.995      0.735\n",
            "Speed: 0.2ms preprocess, 4.0ms inference, 0.0ms loss, 2.3ms postprocess per image\n",
            "Results saved to \u001b[1mruns/detect/train33\u001b[0m\n",
            "Processing model 32: /content/drive/MyDrive/koding kuliah skripsi/YOLO Train FIX/Training with callback/runs_deepISP/detect/train2/weights/epoch32.pt\n",
            "Ultralytics YOLOv8.1.1 🚀 Python-3.10.12 torch-2.1.0+cu121 CUDA:0 (Tesla T4, 15102MiB)\n",
            "Model summary (fused): 168 layers, 3006623 parameters, 0 gradients, 8.1 GFLOPs\n"
          ]
        },
        {
          "output_type": "stream",
          "name": "stderr",
          "text": [
            "\u001b[34m\u001b[1mval: \u001b[0mScanning /content/Head-motion-using-deep-ISP-1/valid/labels.cache... 268 images, 0 backgrounds, 0 corrupt: 100%|██████████| 268/268 [00:00<?, ?it/s]\n",
            "                 Class     Images  Instances      Box(P          R      mAP50  mAP50-95): 100%|██████████| 17/17 [00:02<00:00,  7.08it/s]\n"
          ]
        },
        {
          "output_type": "stream",
          "name": "stdout",
          "text": [
            "                   all        268        268      0.992      0.997      0.995      0.728\n",
            "                  atas        268         65      0.997          1      0.995      0.595\n",
            "                 bawah        268         54      0.977          1      0.995      0.815\n",
            "                 depan        268         53          1      0.983      0.995      0.756\n",
            "                 kanan        268         53      0.995          1      0.995       0.73\n",
            "                  kiri        268         43      0.993          1      0.995      0.741\n",
            "Speed: 0.3ms preprocess, 3.5ms inference, 0.0ms loss, 1.7ms postprocess per image\n",
            "Results saved to \u001b[1mruns/detect/train34\u001b[0m\n",
            "Processing model 33: /content/drive/MyDrive/koding kuliah skripsi/YOLO Train FIX/Training with callback/runs_deepISP/detect/train2/weights/epoch33.pt\n",
            "Ultralytics YOLOv8.1.1 🚀 Python-3.10.12 torch-2.1.0+cu121 CUDA:0 (Tesla T4, 15102MiB)\n",
            "Model summary (fused): 168 layers, 3006623 parameters, 0 gradients, 8.1 GFLOPs\n"
          ]
        },
        {
          "output_type": "stream",
          "name": "stderr",
          "text": [
            "\u001b[34m\u001b[1mval: \u001b[0mScanning /content/Head-motion-using-deep-ISP-1/valid/labels.cache... 268 images, 0 backgrounds, 0 corrupt: 100%|██████████| 268/268 [00:00<?, ?it/s]\n",
            "                 Class     Images  Instances      Box(P          R      mAP50  mAP50-95): 100%|██████████| 17/17 [00:02<00:00,  6.14it/s]\n"
          ]
        },
        {
          "output_type": "stream",
          "name": "stdout",
          "text": [
            "                   all        268        268       0.95      0.971      0.993       0.74\n",
            "                  atas        268         65          1          1      0.995      0.664\n",
            "                 bawah        268         54      0.835          1      0.983      0.803\n",
            "                 depan        268         53          1      0.888      0.995      0.751\n",
            "                 kanan        268         53          1       0.97      0.995      0.753\n",
            "                  kiri        268         43      0.917          1      0.995      0.729\n",
            "Speed: 0.1ms preprocess, 2.2ms inference, 0.0ms loss, 2.5ms postprocess per image\n",
            "Results saved to \u001b[1mruns/detect/train35\u001b[0m\n",
            "Processing model 34: /content/drive/MyDrive/koding kuliah skripsi/YOLO Train FIX/Training with callback/runs_deepISP/detect/train2/weights/epoch34.pt\n",
            "Ultralytics YOLOv8.1.1 🚀 Python-3.10.12 torch-2.1.0+cu121 CUDA:0 (Tesla T4, 15102MiB)\n",
            "Model summary (fused): 168 layers, 3006623 parameters, 0 gradients, 8.1 GFLOPs\n"
          ]
        },
        {
          "output_type": "stream",
          "name": "stderr",
          "text": [
            "\u001b[34m\u001b[1mval: \u001b[0mScanning /content/Head-motion-using-deep-ISP-1/valid/labels.cache... 268 images, 0 backgrounds, 0 corrupt: 100%|██████████| 268/268 [00:00<?, ?it/s]\n",
            "                 Class     Images  Instances      Box(P          R      mAP50  mAP50-95): 100%|██████████| 17/17 [00:02<00:00,  7.09it/s]\n"
          ]
        },
        {
          "output_type": "stream",
          "name": "stdout",
          "text": [
            "                   all        268        268      0.988      0.954      0.995      0.737\n",
            "                  atas        268         65      0.999          1      0.995      0.619\n",
            "                 bawah        268         54      0.979          1      0.995      0.836\n",
            "                 depan        268         53          1      0.958      0.995       0.77\n",
            "                 kanan        268         53          1      0.811      0.995      0.752\n",
            "                  kiri        268         43       0.96          1      0.995      0.708\n",
            "Speed: 0.2ms preprocess, 3.5ms inference, 0.0ms loss, 2.6ms postprocess per image\n",
            "Results saved to \u001b[1mruns/detect/train36\u001b[0m\n",
            "Processing model 35: /content/drive/MyDrive/koding kuliah skripsi/YOLO Train FIX/Training with callback/runs_deepISP/detect/train2/weights/epoch35.pt\n",
            "Ultralytics YOLOv8.1.1 🚀 Python-3.10.12 torch-2.1.0+cu121 CUDA:0 (Tesla T4, 15102MiB)\n",
            "Model summary (fused): 168 layers, 3006623 parameters, 0 gradients, 8.1 GFLOPs\n"
          ]
        },
        {
          "output_type": "stream",
          "name": "stderr",
          "text": [
            "\u001b[34m\u001b[1mval: \u001b[0mScanning /content/Head-motion-using-deep-ISP-1/valid/labels.cache... 268 images, 0 backgrounds, 0 corrupt: 100%|██████████| 268/268 [00:00<?, ?it/s]\n",
            "                 Class     Images  Instances      Box(P          R      mAP50  mAP50-95): 100%|██████████| 17/17 [00:32<00:00,  1.93s/it]\n"
          ]
        },
        {
          "output_type": "stream",
          "name": "stdout",
          "text": [
            "                   all        268        268      0.974      0.978      0.995      0.732\n",
            "                  atas        268         65      0.997          1      0.995      0.667\n",
            "                 bawah        268         54      0.899          1      0.993      0.816\n",
            "                 depan        268         53          1      0.968      0.995      0.751\n",
            "                 kanan        268         53          1      0.923      0.995      0.738\n",
            "                  kiri        268         43      0.974          1      0.995       0.69\n",
            "Speed: 0.2ms preprocess, 3.8ms inference, 0.0ms loss, 2.4ms postprocess per image\n",
            "Results saved to \u001b[1mruns/detect/train37\u001b[0m\n",
            "Processing model 36: /content/drive/MyDrive/koding kuliah skripsi/YOLO Train FIX/Training with callback/runs_deepISP/detect/train2/weights/epoch36.pt\n",
            "Ultralytics YOLOv8.1.1 🚀 Python-3.10.12 torch-2.1.0+cu121 CUDA:0 (Tesla T4, 15102MiB)\n",
            "Model summary (fused): 168 layers, 3006623 parameters, 0 gradients, 8.1 GFLOPs\n"
          ]
        },
        {
          "output_type": "stream",
          "name": "stderr",
          "text": [
            "\u001b[34m\u001b[1mval: \u001b[0mScanning /content/Head-motion-using-deep-ISP-1/valid/labels.cache... 268 images, 0 backgrounds, 0 corrupt: 100%|██████████| 268/268 [00:00<?, ?it/s]\n",
            "                 Class     Images  Instances      Box(P          R      mAP50  mAP50-95): 100%|██████████| 17/17 [00:02<00:00,  6.95it/s]\n"
          ]
        },
        {
          "output_type": "stream",
          "name": "stdout",
          "text": [
            "                   all        268        268      0.986      0.994      0.995       0.75\n",
            "                  atas        268         65      0.989          1      0.995      0.669\n",
            "                 bawah        268         54      0.957          1      0.995       0.82\n",
            "                 depan        268         53          1       0.97      0.995      0.759\n",
            "                 kanan        268         53      0.994          1      0.995      0.738\n",
            "                  kiri        268         43      0.988          1      0.995      0.764\n",
            "Speed: 0.1ms preprocess, 2.1ms inference, 0.0ms loss, 4.4ms postprocess per image\n",
            "Results saved to \u001b[1mruns/detect/train38\u001b[0m\n",
            "Processing model 37: /content/drive/MyDrive/koding kuliah skripsi/YOLO Train FIX/Training with callback/runs_deepISP/detect/train2/weights/epoch37.pt\n",
            "Ultralytics YOLOv8.1.1 🚀 Python-3.10.12 torch-2.1.0+cu121 CUDA:0 (Tesla T4, 15102MiB)\n",
            "Model summary (fused): 168 layers, 3006623 parameters, 0 gradients, 8.1 GFLOPs\n"
          ]
        },
        {
          "output_type": "stream",
          "name": "stderr",
          "text": [
            "\u001b[34m\u001b[1mval: \u001b[0mScanning /content/Head-motion-using-deep-ISP-1/valid/labels.cache... 268 images, 0 backgrounds, 0 corrupt: 100%|██████████| 268/268 [00:00<?, ?it/s]\n",
            "                 Class     Images  Instances      Box(P          R      mAP50  mAP50-95): 100%|██████████| 17/17 [00:02<00:00,  7.28it/s]\n"
          ]
        },
        {
          "output_type": "stream",
          "name": "stdout",
          "text": [
            "                   all        268        268      0.948      0.987      0.995      0.724\n",
            "                  atas        268         65      0.994          1      0.995      0.663\n",
            "                 bawah        268         54      0.881          1      0.994      0.797\n",
            "                 depan        268         53          1      0.965      0.995      0.751\n",
            "                 kanan        268         53          1      0.971      0.995      0.743\n",
            "                  kiri        268         43      0.863          1      0.995      0.667\n",
            "Speed: 0.1ms preprocess, 3.0ms inference, 0.0ms loss, 3.1ms postprocess per image\n",
            "Results saved to \u001b[1mruns/detect/train39\u001b[0m\n",
            "Processing model 38: /content/drive/MyDrive/koding kuliah skripsi/YOLO Train FIX/Training with callback/runs_deepISP/detect/train2/weights/epoch38.pt\n",
            "Ultralytics YOLOv8.1.1 🚀 Python-3.10.12 torch-2.1.0+cu121 CUDA:0 (Tesla T4, 15102MiB)\n",
            "Model summary (fused): 168 layers, 3006623 parameters, 0 gradients, 8.1 GFLOPs\n"
          ]
        },
        {
          "output_type": "stream",
          "name": "stderr",
          "text": [
            "\u001b[34m\u001b[1mval: \u001b[0mScanning /content/Head-motion-using-deep-ISP-1/valid/labels.cache... 268 images, 0 backgrounds, 0 corrupt: 100%|██████████| 268/268 [00:00<?, ?it/s]\n",
            "                 Class     Images  Instances      Box(P          R      mAP50  mAP50-95): 100%|██████████| 17/17 [00:03<00:00,  5.18it/s]\n"
          ]
        },
        {
          "output_type": "stream",
          "name": "stdout",
          "text": [
            "                   all        268        268      0.993      0.999      0.995      0.737\n",
            "                  atas        268         65          1      0.996      0.995      0.663\n",
            "                 bawah        268         54      0.984          1      0.995      0.809\n",
            "                 depan        268         53          1          1      0.995      0.761\n",
            "                 kanan        268         53      0.999          1      0.995      0.728\n",
            "                  kiri        268         43      0.984          1      0.995      0.722\n",
            "Speed: 0.1ms preprocess, 2.2ms inference, 0.0ms loss, 2.1ms postprocess per image\n",
            "Results saved to \u001b[1mruns/detect/train40\u001b[0m\n",
            "Processing model 39: /content/drive/MyDrive/koding kuliah skripsi/YOLO Train FIX/Training with callback/runs_deepISP/detect/train2/weights/epoch39.pt\n",
            "Ultralytics YOLOv8.1.1 🚀 Python-3.10.12 torch-2.1.0+cu121 CUDA:0 (Tesla T4, 15102MiB)\n",
            "Model summary (fused): 168 layers, 3006623 parameters, 0 gradients, 8.1 GFLOPs\n"
          ]
        },
        {
          "output_type": "stream",
          "name": "stderr",
          "text": [
            "\u001b[34m\u001b[1mval: \u001b[0mScanning /content/Head-motion-using-deep-ISP-1/valid/labels.cache... 268 images, 0 backgrounds, 0 corrupt: 100%|██████████| 268/268 [00:00<?, ?it/s]\n",
            "                 Class     Images  Instances      Box(P          R      mAP50  mAP50-95): 100%|██████████| 17/17 [00:02<00:00,  6.06it/s]\n"
          ]
        },
        {
          "output_type": "stream",
          "name": "stdout",
          "text": [
            "                   all        268        268      0.983      0.995      0.995      0.755\n",
            "                  atas        268         65          1      0.992      0.995      0.714\n",
            "                 bawah        268         54      0.946          1      0.995      0.818\n",
            "                 depan        268         53          1      0.985      0.995      0.761\n",
            "                 kanan        268         53      0.998          1      0.995      0.763\n",
            "                  kiri        268         43      0.969          1      0.995       0.72\n",
            "Speed: 0.2ms preprocess, 4.4ms inference, 0.0ms loss, 1.2ms postprocess per image\n",
            "Results saved to \u001b[1mruns/detect/train41\u001b[0m\n",
            "Processing model 40: /content/drive/MyDrive/koding kuliah skripsi/YOLO Train FIX/Training with callback/runs_deepISP/detect/train2/weights/epoch40.pt\n",
            "Ultralytics YOLOv8.1.1 🚀 Python-3.10.12 torch-2.1.0+cu121 CUDA:0 (Tesla T4, 15102MiB)\n",
            "Model summary (fused): 168 layers, 3006623 parameters, 0 gradients, 8.1 GFLOPs\n"
          ]
        },
        {
          "output_type": "stream",
          "name": "stderr",
          "text": [
            "\u001b[34m\u001b[1mval: \u001b[0mScanning /content/Head-motion-using-deep-ISP-1/valid/labels.cache... 268 images, 0 backgrounds, 0 corrupt: 100%|██████████| 268/268 [00:00<?, ?it/s]\n",
            "                 Class     Images  Instances      Box(P          R      mAP50  mAP50-95): 100%|██████████| 17/17 [00:03<00:00,  5.05it/s]\n"
          ]
        },
        {
          "output_type": "stream",
          "name": "stdout",
          "text": [
            "                   all        268        268      0.928      0.962      0.974      0.729\n",
            "                  atas        268         65          1          1      0.995      0.687\n",
            "                 bawah        268         54       0.97          1      0.995      0.821\n",
            "                 depan        268         53          1      0.982      0.995      0.745\n",
            "                 kanan        268         53       0.89      0.919      0.972      0.725\n",
            "                  kiri        268         43      0.777      0.907      0.913      0.668\n",
            "Speed: 0.3ms preprocess, 2.4ms inference, 0.0ms loss, 1.9ms postprocess per image\n",
            "Results saved to \u001b[1mruns/detect/train42\u001b[0m\n",
            "Processing model 41: /content/drive/MyDrive/koding kuliah skripsi/YOLO Train FIX/Training with callback/runs_deepISP/detect/train2/weights/epoch41.pt\n",
            "Ultralytics YOLOv8.1.1 🚀 Python-3.10.12 torch-2.1.0+cu121 CUDA:0 (Tesla T4, 15102MiB)\n",
            "Model summary (fused): 168 layers, 3006623 parameters, 0 gradients, 8.1 GFLOPs\n"
          ]
        },
        {
          "output_type": "stream",
          "name": "stderr",
          "text": [
            "\u001b[34m\u001b[1mval: \u001b[0mScanning /content/Head-motion-using-deep-ISP-1/valid/labels.cache... 268 images, 0 backgrounds, 0 corrupt: 100%|██████████| 268/268 [00:00<?, ?it/s]\n",
            "                 Class     Images  Instances      Box(P          R      mAP50  mAP50-95): 100%|██████████| 17/17 [00:02<00:00,  7.07it/s]\n"
          ]
        },
        {
          "output_type": "stream",
          "name": "stdout",
          "text": [
            "                   all        268        268      0.993      0.989      0.995      0.743\n",
            "                  atas        268         65          1       0.99      0.995      0.689\n",
            "                 bawah        268         54      0.988          1      0.995      0.815\n",
            "                 depan        268         53      0.999          1      0.995      0.761\n",
            "                 kanan        268         53      0.992          1      0.995      0.745\n",
            "                  kiri        268         43      0.987      0.953      0.993      0.706\n",
            "Speed: 0.1ms preprocess, 3.7ms inference, 0.0ms loss, 2.6ms postprocess per image\n",
            "Results saved to \u001b[1mruns/detect/train43\u001b[0m\n",
            "Processing model 42: /content/drive/MyDrive/koding kuliah skripsi/YOLO Train FIX/Training with callback/runs_deepISP/detect/train2/weights/epoch42.pt\n",
            "Ultralytics YOLOv8.1.1 🚀 Python-3.10.12 torch-2.1.0+cu121 CUDA:0 (Tesla T4, 15102MiB)\n",
            "Model summary (fused): 168 layers, 3006623 parameters, 0 gradients, 8.1 GFLOPs\n"
          ]
        },
        {
          "output_type": "stream",
          "name": "stderr",
          "text": [
            "\u001b[34m\u001b[1mval: \u001b[0mScanning /content/Head-motion-using-deep-ISP-1/valid/labels.cache... 268 images, 0 backgrounds, 0 corrupt: 100%|██████████| 268/268 [00:00<?, ?it/s]\n",
            "                 Class     Images  Instances      Box(P          R      mAP50  mAP50-95): 100%|██████████| 17/17 [00:02<00:00,  7.26it/s]\n"
          ]
        },
        {
          "output_type": "stream",
          "name": "stdout",
          "text": [
            "                   all        268        268      0.996      0.997      0.995      0.739\n",
            "                  atas        268         65      0.999          1      0.995       0.68\n",
            "                 bawah        268         54      0.987          1      0.995      0.819\n",
            "                 depan        268         53          1      0.987      0.995      0.773\n",
            "                 kanan        268         53      0.997          1      0.995      0.735\n",
            "                  kiri        268         43      0.996          1      0.995      0.685\n",
            "Speed: 0.2ms preprocess, 3.9ms inference, 0.0ms loss, 2.3ms postprocess per image\n",
            "Results saved to \u001b[1mruns/detect/train44\u001b[0m\n",
            "Processing model 43: /content/drive/MyDrive/koding kuliah skripsi/YOLO Train FIX/Training with callback/runs_deepISP/detect/train2/weights/epoch43.pt\n",
            "Ultralytics YOLOv8.1.1 🚀 Python-3.10.12 torch-2.1.0+cu121 CUDA:0 (Tesla T4, 15102MiB)\n",
            "Model summary (fused): 168 layers, 3006623 parameters, 0 gradients, 8.1 GFLOPs\n"
          ]
        },
        {
          "output_type": "stream",
          "name": "stderr",
          "text": [
            "\u001b[34m\u001b[1mval: \u001b[0mScanning /content/Head-motion-using-deep-ISP-1/valid/labels.cache... 268 images, 0 backgrounds, 0 corrupt: 100%|██████████| 268/268 [00:00<?, ?it/s]\n",
            "                 Class     Images  Instances      Box(P          R      mAP50  mAP50-95): 100%|██████████| 17/17 [00:32<00:00,  1.93s/it]\n"
          ]
        },
        {
          "output_type": "stream",
          "name": "stdout",
          "text": [
            "                   all        268        268      0.993      0.989      0.995      0.751\n",
            "                  atas        268         65      0.999          1      0.995      0.724\n",
            "                 bawah        268         54      0.981          1      0.995      0.808\n",
            "                 depan        268         53          1      0.997      0.995      0.771\n",
            "                 kanan        268         53          1      0.951      0.995      0.756\n",
            "                  kiri        268         43      0.987          1      0.995      0.697\n",
            "Speed: 0.2ms preprocess, 116.9ms inference, 0.0ms loss, 2.8ms postprocess per image\n",
            "Results saved to \u001b[1mruns/detect/train45\u001b[0m\n",
            "Processing model 44: /content/drive/MyDrive/koding kuliah skripsi/YOLO Train FIX/Training with callback/runs_deepISP/detect/train2/weights/epoch44.pt\n",
            "Ultralytics YOLOv8.1.1 🚀 Python-3.10.12 torch-2.1.0+cu121 CUDA:0 (Tesla T4, 15102MiB)\n",
            "Model summary (fused): 168 layers, 3006623 parameters, 0 gradients, 8.1 GFLOPs\n"
          ]
        },
        {
          "output_type": "stream",
          "name": "stderr",
          "text": [
            "\u001b[34m\u001b[1mval: \u001b[0mScanning /content/Head-motion-using-deep-ISP-1/valid/labels.cache... 268 images, 0 backgrounds, 0 corrupt: 100%|██████████| 268/268 [00:00<?, ?it/s]\n",
            "                 Class     Images  Instances      Box(P          R      mAP50  mAP50-95): 100%|██████████| 17/17 [00:02<00:00,  5.95it/s]\n"
          ]
        },
        {
          "output_type": "stream",
          "name": "stdout",
          "text": [
            "                   all        268        268      0.994       0.99      0.995      0.743\n",
            "                  atas        268         65      0.999          1      0.995      0.693\n",
            "                 bawah        268         54      0.982          1      0.995      0.826\n",
            "                 depan        268         53          1      0.949      0.995      0.751\n",
            "                 kanan        268         53      0.997          1      0.995      0.732\n",
            "                  kiri        268         43      0.994          1      0.995      0.714\n",
            "Speed: 0.2ms preprocess, 2.9ms inference, 0.0ms loss, 3.0ms postprocess per image\n",
            "Results saved to \u001b[1mruns/detect/train46\u001b[0m\n",
            "Processing model 45: /content/drive/MyDrive/koding kuliah skripsi/YOLO Train FIX/Training with callback/runs_deepISP/detect/train2/weights/epoch45.pt\n",
            "Ultralytics YOLOv8.1.1 🚀 Python-3.10.12 torch-2.1.0+cu121 CUDA:0 (Tesla T4, 15102MiB)\n",
            "Model summary (fused): 168 layers, 3006623 parameters, 0 gradients, 8.1 GFLOPs\n"
          ]
        },
        {
          "output_type": "stream",
          "name": "stderr",
          "text": [
            "\u001b[34m\u001b[1mval: \u001b[0mScanning /content/Head-motion-using-deep-ISP-1/valid/labels.cache... 268 images, 0 backgrounds, 0 corrupt: 100%|██████████| 268/268 [00:00<?, ?it/s]\n",
            "                 Class     Images  Instances      Box(P          R      mAP50  mAP50-95): 100%|██████████| 17/17 [00:02<00:00,  5.90it/s]\n"
          ]
        },
        {
          "output_type": "stream",
          "name": "stdout",
          "text": [
            "                   all        268        268      0.992      0.996      0.994      0.747\n",
            "                  atas        268         65      0.995          1      0.995      0.695\n",
            "                 bawah        268         54      0.972          1      0.991      0.778\n",
            "                 depan        268         53          1      0.981      0.994      0.785\n",
            "                 kanan        268         53      0.994          1      0.995       0.75\n",
            "                  kiri        268         43      0.999          1      0.995      0.728\n",
            "Speed: 0.1ms preprocess, 3.0ms inference, 0.0ms loss, 2.9ms postprocess per image\n",
            "Results saved to \u001b[1mruns/detect/train47\u001b[0m\n",
            "Processing model 46: /content/drive/MyDrive/koding kuliah skripsi/YOLO Train FIX/Training with callback/runs_deepISP/detect/train2/weights/epoch46.pt\n",
            "Ultralytics YOLOv8.1.1 🚀 Python-3.10.12 torch-2.1.0+cu121 CUDA:0 (Tesla T4, 15102MiB)\n",
            "Model summary (fused): 168 layers, 3006623 parameters, 0 gradients, 8.1 GFLOPs\n"
          ]
        },
        {
          "output_type": "stream",
          "name": "stderr",
          "text": [
            "\u001b[34m\u001b[1mval: \u001b[0mScanning /content/Head-motion-using-deep-ISP-1/valid/labels.cache... 268 images, 0 backgrounds, 0 corrupt: 100%|██████████| 268/268 [00:00<?, ?it/s]\n",
            "                 Class     Images  Instances      Box(P          R      mAP50  mAP50-95): 100%|██████████| 17/17 [00:02<00:00,  6.83it/s]\n"
          ]
        },
        {
          "output_type": "stream",
          "name": "stdout",
          "text": [
            "                   all        268        268      0.991      0.996      0.995      0.754\n",
            "                  atas        268         65      0.998          1      0.995      0.696\n",
            "                 bawah        268         54      0.969          1      0.994      0.794\n",
            "                 depan        268         53      0.996      0.981      0.994      0.788\n",
            "                 kanan        268         53      0.993          1      0.995       0.75\n",
            "                  kiri        268         43          1      0.997      0.995      0.741\n",
            "Speed: 0.1ms preprocess, 3.6ms inference, 0.0ms loss, 2.7ms postprocess per image\n",
            "Results saved to \u001b[1mruns/detect/train48\u001b[0m\n",
            "Processing model 47: /content/drive/MyDrive/koding kuliah skripsi/YOLO Train FIX/Training with callback/runs_deepISP/detect/train2/weights/epoch47.pt\n",
            "Ultralytics YOLOv8.1.1 🚀 Python-3.10.12 torch-2.1.0+cu121 CUDA:0 (Tesla T4, 15102MiB)\n",
            "Model summary (fused): 168 layers, 3006623 parameters, 0 gradients, 8.1 GFLOPs\n"
          ]
        },
        {
          "output_type": "stream",
          "name": "stderr",
          "text": [
            "\u001b[34m\u001b[1mval: \u001b[0mScanning /content/Head-motion-using-deep-ISP-1/valid/labels.cache... 268 images, 0 backgrounds, 0 corrupt: 100%|██████████| 268/268 [00:00<?, ?it/s]\n",
            "                 Class     Images  Instances      Box(P          R      mAP50  mAP50-95): 100%|██████████| 17/17 [00:03<00:00,  5.54it/s]\n"
          ]
        },
        {
          "output_type": "stream",
          "name": "stdout",
          "text": [
            "                   all        268        268      0.997      0.997      0.995      0.754\n",
            "                  atas        268         65      0.999          1      0.995      0.672\n",
            "                 bawah        268         54      0.993          1      0.995      0.841\n",
            "                 depan        268         53          1      0.986      0.995      0.776\n",
            "                 kanan        268         53      0.997          1      0.995      0.747\n",
            "                  kiri        268         43      0.995          1      0.995      0.736\n",
            "Speed: 0.3ms preprocess, 3.0ms inference, 0.0ms loss, 2.1ms postprocess per image\n",
            "Results saved to \u001b[1mruns/detect/train49\u001b[0m\n",
            "Processing model 48: /content/drive/MyDrive/koding kuliah skripsi/YOLO Train FIX/Training with callback/runs_deepISP/detect/train2/weights/epoch48.pt\n",
            "Ultralytics YOLOv8.1.1 🚀 Python-3.10.12 torch-2.1.0+cu121 CUDA:0 (Tesla T4, 15102MiB)\n",
            "Model summary (fused): 168 layers, 3006623 parameters, 0 gradients, 8.1 GFLOPs\n"
          ]
        },
        {
          "output_type": "stream",
          "name": "stderr",
          "text": [
            "\u001b[34m\u001b[1mval: \u001b[0mScanning /content/Head-motion-using-deep-ISP-1/valid/labels.cache... 268 images, 0 backgrounds, 0 corrupt: 100%|██████████| 268/268 [00:00<?, ?it/s]\n",
            "                 Class     Images  Instances      Box(P          R      mAP50  mAP50-95): 100%|██████████| 17/17 [00:02<00:00,  6.63it/s]\n"
          ]
        },
        {
          "output_type": "stream",
          "name": "stdout",
          "text": [
            "                   all        268        268      0.995      0.997      0.995      0.743\n",
            "                  atas        268         65          1      0.996      0.995      0.664\n",
            "                 bawah        268         54      0.981          1      0.995       0.81\n",
            "                 depan        268         53          1      0.988      0.995      0.771\n",
            "                 kanan        268         53      0.999          1      0.995      0.736\n",
            "                  kiri        268         43      0.994          1      0.995      0.736\n",
            "Speed: 0.1ms preprocess, 4.7ms inference, 0.0ms loss, 2.0ms postprocess per image\n",
            "Results saved to \u001b[1mruns/detect/train50\u001b[0m\n",
            "Processing model 49: /content/drive/MyDrive/koding kuliah skripsi/YOLO Train FIX/Training with callback/runs_deepISP/detect/train2/weights/epoch49.pt\n",
            "Ultralytics YOLOv8.1.1 🚀 Python-3.10.12 torch-2.1.0+cu121 CUDA:0 (Tesla T4, 15102MiB)\n",
            "Model summary (fused): 168 layers, 3006623 parameters, 0 gradients, 8.1 GFLOPs\n"
          ]
        },
        {
          "output_type": "stream",
          "name": "stderr",
          "text": [
            "\u001b[34m\u001b[1mval: \u001b[0mScanning /content/Head-motion-using-deep-ISP-1/valid/labels.cache... 268 images, 0 backgrounds, 0 corrupt: 100%|██████████| 268/268 [00:00<?, ?it/s]\n",
            "                 Class     Images  Instances      Box(P          R      mAP50  mAP50-95): 100%|██████████| 17/17 [00:02<00:00,  6.89it/s]\n"
          ]
        },
        {
          "output_type": "stream",
          "name": "stdout",
          "text": [
            "                   all        268        268      0.992      0.999      0.995      0.752\n",
            "                  atas        268         65      0.996          1      0.995      0.689\n",
            "                 bawah        268         54       0.98          1      0.995      0.828\n",
            "                 depan        268         53          1      0.997      0.995      0.769\n",
            "                 kanan        268         53      0.998          1      0.995      0.748\n",
            "                  kiri        268         43      0.986          1      0.995      0.726\n",
            "Speed: 0.1ms preprocess, 4.4ms inference, 0.0ms loss, 2.0ms postprocess per image\n",
            "Results saved to \u001b[1mruns/detect/train51\u001b[0m\n",
            "Processing model 50: /content/drive/MyDrive/koding kuliah skripsi/YOLO Train FIX/Training with callback/runs_deepISP/detect/train2/weights/epoch50.pt\n",
            "Ultralytics YOLOv8.1.1 🚀 Python-3.10.12 torch-2.1.0+cu121 CUDA:0 (Tesla T4, 15102MiB)\n",
            "Model summary (fused): 168 layers, 3006623 parameters, 0 gradients, 8.1 GFLOPs\n"
          ]
        },
        {
          "output_type": "stream",
          "name": "stderr",
          "text": [
            "\u001b[34m\u001b[1mval: \u001b[0mScanning /content/Head-motion-using-deep-ISP-1/valid/labels.cache... 268 images, 0 backgrounds, 0 corrupt: 100%|██████████| 268/268 [00:00<?, ?it/s]\n",
            "                 Class     Images  Instances      Box(P          R      mAP50  mAP50-95): 100%|██████████| 17/17 [00:02<00:00,  6.95it/s]\n"
          ]
        },
        {
          "output_type": "stream",
          "name": "stdout",
          "text": [
            "                   all        268        268      0.989          1      0.995      0.769\n",
            "                  atas        268         65      0.986          1      0.995      0.681\n",
            "                 bawah        268         54      0.979          1      0.995      0.854\n",
            "                 depan        268         53      0.999          1      0.995      0.789\n",
            "                 kanan        268         53      0.982          1      0.995      0.756\n",
            "                  kiri        268         43      0.999          1      0.995      0.765\n",
            "Speed: 0.1ms preprocess, 4.6ms inference, 0.0ms loss, 1.8ms postprocess per image\n",
            "Results saved to \u001b[1mruns/detect/train52\u001b[0m\n",
            "Processing model 51: /content/drive/MyDrive/koding kuliah skripsi/YOLO Train FIX/Training with callback/runs_deepISP/detect/train2/weights/epoch51.pt\n",
            "Ultralytics YOLOv8.1.1 🚀 Python-3.10.12 torch-2.1.0+cu121 CUDA:0 (Tesla T4, 15102MiB)\n",
            "Model summary (fused): 168 layers, 3006623 parameters, 0 gradients, 8.1 GFLOPs\n"
          ]
        },
        {
          "output_type": "stream",
          "name": "stderr",
          "text": [
            "\u001b[34m\u001b[1mval: \u001b[0mScanning /content/Head-motion-using-deep-ISP-1/valid/labels.cache... 268 images, 0 backgrounds, 0 corrupt: 100%|██████████| 268/268 [00:00<?, ?it/s]\n",
            "                 Class     Images  Instances      Box(P          R      mAP50  mAP50-95): 100%|██████████| 17/17 [00:02<00:00,  7.26it/s]\n"
          ]
        },
        {
          "output_type": "stream",
          "name": "stdout",
          "text": [
            "                   all        268        268      0.997      0.998      0.995      0.764\n",
            "                  atas        268         65      0.998          1      0.995      0.713\n",
            "                 bawah        268         54      0.995          1      0.995      0.831\n",
            "                 depan        268         53          1      0.988      0.995      0.777\n",
            "                 kanan        268         53      0.995          1      0.995      0.748\n",
            "                  kiri        268         43      0.997          1      0.995      0.752\n",
            "Speed: 0.0ms preprocess, 2.8ms inference, 0.0ms loss, 3.1ms postprocess per image\n",
            "Results saved to \u001b[1mruns/detect/train53\u001b[0m\n",
            "Processing model 52: /content/drive/MyDrive/koding kuliah skripsi/YOLO Train FIX/Training with callback/runs_deepISP/detect/train2/weights/epoch52.pt\n",
            "Ultralytics YOLOv8.1.1 🚀 Python-3.10.12 torch-2.1.0+cu121 CUDA:0 (Tesla T4, 15102MiB)\n",
            "Model summary (fused): 168 layers, 3006623 parameters, 0 gradients, 8.1 GFLOPs\n"
          ]
        },
        {
          "output_type": "stream",
          "name": "stderr",
          "text": [
            "\u001b[34m\u001b[1mval: \u001b[0mScanning /content/Head-motion-using-deep-ISP-1/valid/labels.cache... 268 images, 0 backgrounds, 0 corrupt: 100%|██████████| 268/268 [00:00<?, ?it/s]\n",
            "                 Class     Images  Instances      Box(P          R      mAP50  mAP50-95): 100%|██████████| 17/17 [00:02<00:00,  7.05it/s]\n"
          ]
        },
        {
          "output_type": "stream",
          "name": "stdout",
          "text": [
            "                   all        268        268      0.997      0.997      0.995      0.755\n",
            "                  atas        268         65      0.998          1      0.995      0.691\n",
            "                 bawah        268         54      0.989          1      0.995      0.838\n",
            "                 depan        268         53          1      0.983      0.995      0.783\n",
            "                 kanan        268         53      0.997          1      0.995      0.743\n",
            "                  kiri        268         43      0.999          1      0.995       0.72\n",
            "Speed: 0.0ms preprocess, 3.5ms inference, 0.0ms loss, 2.5ms postprocess per image\n",
            "Results saved to \u001b[1mruns/detect/train54\u001b[0m\n",
            "Processing model 53: /content/drive/MyDrive/koding kuliah skripsi/YOLO Train FIX/Training with callback/runs_deepISP/detect/train2/weights/epoch53.pt\n",
            "Ultralytics YOLOv8.1.1 🚀 Python-3.10.12 torch-2.1.0+cu121 CUDA:0 (Tesla T4, 15102MiB)\n",
            "Model summary (fused): 168 layers, 3006623 parameters, 0 gradients, 8.1 GFLOPs\n"
          ]
        },
        {
          "output_type": "stream",
          "name": "stderr",
          "text": [
            "\u001b[34m\u001b[1mval: \u001b[0mScanning /content/Head-motion-using-deep-ISP-1/valid/labels.cache... 268 images, 0 backgrounds, 0 corrupt: 100%|██████████| 268/268 [00:00<?, ?it/s]\n",
            "                 Class     Images  Instances      Box(P          R      mAP50  mAP50-95): 100%|██████████| 17/17 [00:02<00:00,  7.36it/s]\n"
          ]
        },
        {
          "output_type": "stream",
          "name": "stdout",
          "text": [
            "                   all        268        268      0.995          1      0.995      0.748\n",
            "                  atas        268         65      0.994          1      0.995      0.663\n",
            "                 bawah        268         54      0.988          1      0.995      0.839\n",
            "                 depan        268         53      0.999          1      0.995      0.776\n",
            "                 kanan        268         53      0.994          1      0.995      0.732\n",
            "                  kiri        268         43          1      0.998      0.995      0.731\n",
            "Speed: 0.2ms preprocess, 4.2ms inference, 0.0ms loss, 1.8ms postprocess per image\n",
            "Results saved to \u001b[1mruns/detect/train55\u001b[0m\n",
            "Processing model 54: /content/drive/MyDrive/koding kuliah skripsi/YOLO Train FIX/Training with callback/runs_deepISP/detect/train2/weights/epoch54.pt\n",
            "Ultralytics YOLOv8.1.1 🚀 Python-3.10.12 torch-2.1.0+cu121 CUDA:0 (Tesla T4, 15102MiB)\n",
            "Model summary (fused): 168 layers, 3006623 parameters, 0 gradients, 8.1 GFLOPs\n"
          ]
        },
        {
          "output_type": "stream",
          "name": "stderr",
          "text": [
            "\u001b[34m\u001b[1mval: \u001b[0mScanning /content/Head-motion-using-deep-ISP-1/valid/labels.cache... 268 images, 0 backgrounds, 0 corrupt: 100%|██████████| 268/268 [00:00<?, ?it/s]\n",
            "                 Class     Images  Instances      Box(P          R      mAP50  mAP50-95): 100%|██████████| 17/17 [00:02<00:00,  5.85it/s]\n"
          ]
        },
        {
          "output_type": "stream",
          "name": "stdout",
          "text": [
            "                   all        268        268      0.992      0.996      0.995      0.771\n",
            "                  atas        268         65      0.996          1      0.995      0.684\n",
            "                 bawah        268         54      0.979          1      0.995       0.85\n",
            "                 depan        268         53      0.994          1      0.995      0.781\n",
            "                 kanan        268         53       0.99          1      0.995      0.778\n",
            "                  kiri        268         43          1      0.981      0.995      0.762\n",
            "Speed: 0.0ms preprocess, 2.0ms inference, 0.0ms loss, 2.1ms postprocess per image\n",
            "Results saved to \u001b[1mruns/detect/train56\u001b[0m\n",
            "Processing model 55: /content/drive/MyDrive/koding kuliah skripsi/YOLO Train FIX/Training with callback/runs_deepISP/detect/train2/weights/epoch55.pt\n",
            "Ultralytics YOLOv8.1.1 🚀 Python-3.10.12 torch-2.1.0+cu121 CUDA:0 (Tesla T4, 15102MiB)\n",
            "Model summary (fused): 168 layers, 3006623 parameters, 0 gradients, 8.1 GFLOPs\n"
          ]
        },
        {
          "output_type": "stream",
          "name": "stderr",
          "text": [
            "\u001b[34m\u001b[1mval: \u001b[0mScanning /content/Head-motion-using-deep-ISP-1/valid/labels.cache... 268 images, 0 backgrounds, 0 corrupt: 100%|██████████| 268/268 [00:00<?, ?it/s]\n",
            "                 Class     Images  Instances      Box(P          R      mAP50  mAP50-95): 100%|██████████| 17/17 [00:02<00:00,  5.78it/s]\n"
          ]
        },
        {
          "output_type": "stream",
          "name": "stdout",
          "text": [
            "                   all        268        268      0.993      0.996      0.995      0.777\n",
            "                  atas        268         65          1      0.988      0.995      0.705\n",
            "                 bawah        268         54      0.976          1      0.995      0.855\n",
            "                 depan        268         53          1       0.99      0.995       0.78\n",
            "                 kanan        268         53      0.998          1      0.995      0.771\n",
            "                  kiri        268         43      0.989          1      0.995      0.772\n",
            "Speed: 0.1ms preprocess, 2.0ms inference, 0.0ms loss, 1.7ms postprocess per image\n",
            "Results saved to \u001b[1mruns/detect/train57\u001b[0m\n",
            "Processing model 56: /content/drive/MyDrive/koding kuliah skripsi/YOLO Train FIX/Training with callback/runs_deepISP/detect/train2/weights/epoch56.pt\n",
            "Ultralytics YOLOv8.1.1 🚀 Python-3.10.12 torch-2.1.0+cu121 CUDA:0 (Tesla T4, 15102MiB)\n",
            "Model summary (fused): 168 layers, 3006623 parameters, 0 gradients, 8.1 GFLOPs\n"
          ]
        },
        {
          "output_type": "stream",
          "name": "stderr",
          "text": [
            "\u001b[34m\u001b[1mval: \u001b[0mScanning /content/Head-motion-using-deep-ISP-1/valid/labels.cache... 268 images, 0 backgrounds, 0 corrupt: 100%|██████████| 268/268 [00:00<?, ?it/s]\n",
            "                 Class     Images  Instances      Box(P          R      mAP50  mAP50-95): 100%|██████████| 17/17 [00:02<00:00,  7.24it/s]\n"
          ]
        },
        {
          "output_type": "stream",
          "name": "stdout",
          "text": [
            "                   all        268        268      0.998          1      0.995      0.773\n",
            "                  atas        268         65      0.999          1      0.995      0.713\n",
            "                 bawah        268         54      0.996          1      0.995      0.845\n",
            "                 depan        268         53      0.997          1      0.995        0.8\n",
            "                 kanan        268         53      0.999          1      0.995      0.756\n",
            "                  kiri        268         43      0.997          1      0.995      0.751\n",
            "Speed: 0.2ms preprocess, 3.0ms inference, 0.0ms loss, 3.0ms postprocess per image\n",
            "Results saved to \u001b[1mruns/detect/train58\u001b[0m\n",
            "Processing model 57: /content/drive/MyDrive/koding kuliah skripsi/YOLO Train FIX/Training with callback/runs_deepISP/detect/train2/weights/epoch57.pt\n",
            "Ultralytics YOLOv8.1.1 🚀 Python-3.10.12 torch-2.1.0+cu121 CUDA:0 (Tesla T4, 15102MiB)\n",
            "Model summary (fused): 168 layers, 3006623 parameters, 0 gradients, 8.1 GFLOPs\n"
          ]
        },
        {
          "output_type": "stream",
          "name": "stderr",
          "text": [
            "\u001b[34m\u001b[1mval: \u001b[0mScanning /content/Head-motion-using-deep-ISP-1/valid/labels.cache... 268 images, 0 backgrounds, 0 corrupt: 100%|██████████| 268/268 [00:00<?, ?it/s]\n",
            "                 Class     Images  Instances      Box(P          R      mAP50  mAP50-95): 100%|██████████| 17/17 [00:02<00:00,  7.33it/s]\n"
          ]
        },
        {
          "output_type": "stream",
          "name": "stdout",
          "text": [
            "                   all        268        268      0.992      0.998      0.995      0.782\n",
            "                  atas        268         65          1          1      0.995      0.698\n",
            "                 bawah        268         54      0.984          1      0.995      0.855\n",
            "                 depan        268         53          1       0.99      0.995      0.807\n",
            "                 kanan        268         53      0.999          1      0.995      0.777\n",
            "                  kiri        268         43      0.979          1      0.995      0.773\n",
            "Speed: 0.0ms preprocess, 3.3ms inference, 0.0ms loss, 2.6ms postprocess per image\n",
            "Results saved to \u001b[1mruns/detect/train59\u001b[0m\n",
            "Processing model 58: /content/drive/MyDrive/koding kuliah skripsi/YOLO Train FIX/Training with callback/runs_deepISP/detect/train2/weights/epoch58.pt\n",
            "Ultralytics YOLOv8.1.1 🚀 Python-3.10.12 torch-2.1.0+cu121 CUDA:0 (Tesla T4, 15102MiB)\n",
            "Model summary (fused): 168 layers, 3006623 parameters, 0 gradients, 8.1 GFLOPs\n"
          ]
        },
        {
          "output_type": "stream",
          "name": "stderr",
          "text": [
            "\u001b[34m\u001b[1mval: \u001b[0mScanning /content/Head-motion-using-deep-ISP-1/valid/labels.cache... 268 images, 0 backgrounds, 0 corrupt: 100%|██████████| 268/268 [00:00<?, ?it/s]\n",
            "                 Class     Images  Instances      Box(P          R      mAP50  mAP50-95): 100%|██████████| 17/17 [00:02<00:00,  6.11it/s]\n"
          ]
        },
        {
          "output_type": "stream",
          "name": "stdout",
          "text": [
            "                   all        268        268      0.996          1      0.995      0.788\n",
            "                  atas        268         65      0.996          1      0.995      0.724\n",
            "                 bawah        268         54      0.995          1      0.995      0.862\n",
            "                 depan        268         53      0.994          1      0.995      0.798\n",
            "                 kanan        268         53      0.993          1      0.995      0.781\n",
            "                  kiri        268         43          1      0.998      0.995      0.775\n",
            "Speed: 0.1ms preprocess, 3.5ms inference, 0.0ms loss, 3.3ms postprocess per image\n",
            "Results saved to \u001b[1mruns/detect/train60\u001b[0m\n",
            "Processing model 59: /content/drive/MyDrive/koding kuliah skripsi/YOLO Train FIX/Training with callback/runs_deepISP/detect/train2/weights/epoch59.pt\n",
            "Ultralytics YOLOv8.1.1 🚀 Python-3.10.12 torch-2.1.0+cu121 CUDA:0 (Tesla T4, 15102MiB)\n",
            "Model summary (fused): 168 layers, 3006623 parameters, 0 gradients, 8.1 GFLOPs\n"
          ]
        },
        {
          "output_type": "stream",
          "name": "stderr",
          "text": [
            "\u001b[34m\u001b[1mval: \u001b[0mScanning /content/Head-motion-using-deep-ISP-1/valid/labels.cache... 268 images, 0 backgrounds, 0 corrupt: 100%|██████████| 268/268 [00:00<?, ?it/s]\n",
            "                 Class     Images  Instances      Box(P          R      mAP50  mAP50-95): 100%|██████████| 17/17 [00:02<00:00,  7.34it/s]\n"
          ]
        },
        {
          "output_type": "stream",
          "name": "stdout",
          "text": [
            "                   all        268        268      0.996          1      0.995      0.776\n",
            "                  atas        268         65      0.999          1      0.995      0.721\n",
            "                 bawah        268         54      0.995          1      0.995      0.854\n",
            "                 depan        268         53      0.995          1      0.995      0.793\n",
            "                 kanan        268         53      0.999          1      0.995      0.769\n",
            "                  kiri        268         43      0.993          1      0.995      0.741\n",
            "Speed: 0.1ms preprocess, 2.7ms inference, 0.0ms loss, 3.3ms postprocess per image\n",
            "Results saved to \u001b[1mruns/detect/train61\u001b[0m\n",
            "Processing model 60: /content/drive/MyDrive/koding kuliah skripsi/YOLO Train FIX/Training with callback/runs_deepISP/detect/train2/weights/epoch60.pt\n",
            "Ultralytics YOLOv8.1.1 🚀 Python-3.10.12 torch-2.1.0+cu121 CUDA:0 (Tesla T4, 15102MiB)\n",
            "Model summary (fused): 168 layers, 3006623 parameters, 0 gradients, 8.1 GFLOPs\n"
          ]
        },
        {
          "output_type": "stream",
          "name": "stderr",
          "text": [
            "\u001b[34m\u001b[1mval: \u001b[0mScanning /content/Head-motion-using-deep-ISP-1/valid/labels.cache... 268 images, 0 backgrounds, 0 corrupt: 100%|██████████| 268/268 [00:00<?, ?it/s]\n",
            "                 Class     Images  Instances      Box(P          R      mAP50  mAP50-95): 100%|██████████| 17/17 [00:03<00:00,  5.59it/s]\n"
          ]
        },
        {
          "output_type": "stream",
          "name": "stdout",
          "text": [
            "                   all        268        268      0.997      0.999      0.995      0.783\n",
            "                  atas        268         65      0.999          1      0.995      0.719\n",
            "                 bawah        268         54      0.991          1      0.995      0.855\n",
            "                 depan        268         53          1      0.994      0.995      0.799\n",
            "                 kanan        268         53      0.997          1      0.995      0.752\n",
            "                  kiri        268         43      0.995          1      0.995      0.787\n",
            "Speed: 0.2ms preprocess, 3.5ms inference, 0.0ms loss, 1.6ms postprocess per image\n",
            "Results saved to \u001b[1mruns/detect/train62\u001b[0m\n",
            "Processing model 61: /content/drive/MyDrive/koding kuliah skripsi/YOLO Train FIX/Training with callback/runs_deepISP/detect/train2/weights/epoch61.pt\n",
            "Ultralytics YOLOv8.1.1 🚀 Python-3.10.12 torch-2.1.0+cu121 CUDA:0 (Tesla T4, 15102MiB)\n",
            "Model summary (fused): 168 layers, 3006623 parameters, 0 gradients, 8.1 GFLOPs\n"
          ]
        },
        {
          "output_type": "stream",
          "name": "stderr",
          "text": [
            "\u001b[34m\u001b[1mval: \u001b[0mScanning /content/Head-motion-using-deep-ISP-1/valid/labels.cache... 268 images, 0 backgrounds, 0 corrupt: 100%|██████████| 268/268 [00:00<?, ?it/s]\n",
            "                 Class     Images  Instances      Box(P          R      mAP50  mAP50-95): 100%|██████████| 17/17 [00:02<00:00,  7.18it/s]\n"
          ]
        },
        {
          "output_type": "stream",
          "name": "stdout",
          "text": [
            "                   all        268        268      0.997      0.999      0.995      0.786\n",
            "                  atas        268         65      0.999          1      0.995      0.723\n",
            "                 bawah        268         54      0.988          1      0.995      0.864\n",
            "                 depan        268         53          1      0.996      0.995      0.801\n",
            "                 kanan        268         53      0.999          1      0.995      0.776\n",
            "                  kiri        268         43      0.996          1      0.995      0.768\n",
            "Speed: 0.1ms preprocess, 2.5ms inference, 0.0ms loss, 3.8ms postprocess per image\n",
            "Results saved to \u001b[1mruns/detect/train63\u001b[0m\n",
            "Processing model 62: /content/drive/MyDrive/koding kuliah skripsi/YOLO Train FIX/Training with callback/runs_deepISP/detect/train2/weights/epoch62.pt\n",
            "Ultralytics YOLOv8.1.1 🚀 Python-3.10.12 torch-2.1.0+cu121 CUDA:0 (Tesla T4, 15102MiB)\n",
            "Model summary (fused): 168 layers, 3006623 parameters, 0 gradients, 8.1 GFLOPs\n"
          ]
        },
        {
          "output_type": "stream",
          "name": "stderr",
          "text": [
            "\u001b[34m\u001b[1mval: \u001b[0mScanning /content/Head-motion-using-deep-ISP-1/valid/labels.cache... 268 images, 0 backgrounds, 0 corrupt: 100%|██████████| 268/268 [00:00<?, ?it/s]\n",
            "                 Class     Images  Instances      Box(P          R      mAP50  mAP50-95): 100%|██████████| 17/17 [00:02<00:00,  7.23it/s]\n"
          ]
        },
        {
          "output_type": "stream",
          "name": "stdout",
          "text": [
            "                   all        268        268      0.995          1      0.995      0.787\n",
            "                  atas        268         65      0.984          1      0.995      0.713\n",
            "                 bawah        268         54      0.995          1      0.995      0.857\n",
            "                 depan        268         53      0.999          1      0.995      0.807\n",
            "                 kanan        268         53      0.998          1      0.995       0.78\n",
            "                  kiri        268         43      0.998          1      0.995      0.779\n",
            "Speed: 0.2ms preprocess, 4.1ms inference, 0.0ms loss, 1.9ms postprocess per image\n",
            "Results saved to \u001b[1mruns/detect/train64\u001b[0m\n",
            "Processing model 63: /content/drive/MyDrive/koding kuliah skripsi/YOLO Train FIX/Training with callback/runs_deepISP/detect/train2/weights/epoch63.pt\n",
            "Ultralytics YOLOv8.1.1 🚀 Python-3.10.12 torch-2.1.0+cu121 CUDA:0 (Tesla T4, 15102MiB)\n",
            "Model summary (fused): 168 layers, 3006623 parameters, 0 gradients, 8.1 GFLOPs\n"
          ]
        },
        {
          "output_type": "stream",
          "name": "stderr",
          "text": [
            "\u001b[34m\u001b[1mval: \u001b[0mScanning /content/Head-motion-using-deep-ISP-1/valid/labels.cache... 268 images, 0 backgrounds, 0 corrupt: 100%|██████████| 268/268 [00:00<?, ?it/s]\n",
            "                 Class     Images  Instances      Box(P          R      mAP50  mAP50-95): 100%|██████████| 17/17 [00:03<00:00,  5.43it/s]\n"
          ]
        },
        {
          "output_type": "stream",
          "name": "stdout",
          "text": [
            "                   all        268        268      0.996      0.999      0.995      0.781\n",
            "                  atas        268         65      0.998          1      0.995      0.717\n",
            "                 bawah        268         54      0.993          1      0.995       0.85\n",
            "                 depan        268         53      0.995          1      0.995      0.793\n",
            "                 kanan        268         53      0.993          1      0.995      0.781\n",
            "                  kiri        268         43          1      0.994      0.995      0.766\n",
            "Speed: 0.2ms preprocess, 2.2ms inference, 0.0ms loss, 2.1ms postprocess per image\n",
            "Results saved to \u001b[1mruns/detect/train65\u001b[0m\n",
            "Processing model 64: /content/drive/MyDrive/koding kuliah skripsi/YOLO Train FIX/Training with callback/runs_deepISP/detect/train2/weights/epoch64.pt\n",
            "Ultralytics YOLOv8.1.1 🚀 Python-3.10.12 torch-2.1.0+cu121 CUDA:0 (Tesla T4, 15102MiB)\n",
            "Model summary (fused): 168 layers, 3006623 parameters, 0 gradients, 8.1 GFLOPs\n"
          ]
        },
        {
          "output_type": "stream",
          "name": "stderr",
          "text": [
            "\u001b[34m\u001b[1mval: \u001b[0mScanning /content/Head-motion-using-deep-ISP-1/valid/labels.cache... 268 images, 0 backgrounds, 0 corrupt: 100%|██████████| 268/268 [00:00<?, ?it/s]\n",
            "                 Class     Images  Instances      Box(P          R      mAP50  mAP50-95): 100%|██████████| 17/17 [00:03<00:00,  5.10it/s]\n"
          ]
        },
        {
          "output_type": "stream",
          "name": "stdout",
          "text": [
            "                   all        268        268      0.996          1      0.995      0.794\n",
            "                  atas        268         65          1          1      0.995      0.753\n",
            "                 bawah        268         54      0.995          1      0.995      0.854\n",
            "                 depan        268         53      0.994          1      0.995      0.796\n",
            "                 kanan        268         53      0.995          1      0.995      0.776\n",
            "                  kiri        268         43      0.996          1      0.995      0.791\n",
            "Speed: 0.1ms preprocess, 2.1ms inference, 0.0ms loss, 2.2ms postprocess per image\n",
            "Results saved to \u001b[1mruns/detect/train66\u001b[0m\n",
            "Processing model 65: /content/drive/MyDrive/koding kuliah skripsi/YOLO Train FIX/Training with callback/runs_deepISP/detect/train2/weights/epoch65.pt\n",
            "Ultralytics YOLOv8.1.1 🚀 Python-3.10.12 torch-2.1.0+cu121 CUDA:0 (Tesla T4, 15102MiB)\n",
            "Model summary (fused): 168 layers, 3006623 parameters, 0 gradients, 8.1 GFLOPs\n"
          ]
        },
        {
          "output_type": "stream",
          "name": "stderr",
          "text": [
            "\u001b[34m\u001b[1mval: \u001b[0mScanning /content/Head-motion-using-deep-ISP-1/valid/labels.cache... 268 images, 0 backgrounds, 0 corrupt: 100%|██████████| 268/268 [00:00<?, ?it/s]\n",
            "                 Class     Images  Instances      Box(P          R      mAP50  mAP50-95): 100%|██████████| 17/17 [00:02<00:00,  7.44it/s]\n"
          ]
        },
        {
          "output_type": "stream",
          "name": "stdout",
          "text": [
            "                   all        268        268      0.994      0.999      0.995      0.787\n",
            "                  atas        268         65      0.999          1      0.995      0.741\n",
            "                 bawah        268         54      0.987          1      0.995      0.861\n",
            "                 depan        268         53          1      0.994      0.995      0.802\n",
            "                 kanan        268         53      0.994          1      0.995      0.759\n",
            "                  kiri        268         43      0.992          1      0.995      0.771\n",
            "Speed: 0.1ms preprocess, 2.7ms inference, 0.0ms loss, 3.3ms postprocess per image\n",
            "Results saved to \u001b[1mruns/detect/train67\u001b[0m\n",
            "Processing model 66: /content/drive/MyDrive/koding kuliah skripsi/YOLO Train FIX/Training with callback/runs_deepISP/detect/train2/weights/epoch66.pt\n",
            "Ultralytics YOLOv8.1.1 🚀 Python-3.10.12 torch-2.1.0+cu121 CUDA:0 (Tesla T4, 15102MiB)\n",
            "Model summary (fused): 168 layers, 3006623 parameters, 0 gradients, 8.1 GFLOPs\n"
          ]
        },
        {
          "output_type": "stream",
          "name": "stderr",
          "text": [
            "\u001b[34m\u001b[1mval: \u001b[0mScanning /content/Head-motion-using-deep-ISP-1/valid/labels.cache... 268 images, 0 backgrounds, 0 corrupt: 100%|██████████| 268/268 [00:00<?, ?it/s]\n",
            "                 Class     Images  Instances      Box(P          R      mAP50  mAP50-95): 100%|██████████| 17/17 [00:02<00:00,  7.27it/s]\n"
          ]
        },
        {
          "output_type": "stream",
          "name": "stdout",
          "text": [
            "                   all        268        268      0.996      0.998      0.995      0.791\n",
            "                  atas        268         65          1          1      0.995      0.737\n",
            "                 bawah        268         54      0.987          1      0.995      0.847\n",
            "                 depan        268         53          1      0.992      0.995      0.803\n",
            "                 kanan        268         53      0.996          1      0.995      0.785\n",
            "                  kiri        268         43      0.997          1      0.995      0.786\n",
            "Speed: 0.2ms preprocess, 3.2ms inference, 0.0ms loss, 2.7ms postprocess per image\n",
            "Results saved to \u001b[1mruns/detect/train68\u001b[0m\n",
            "Processing model 67: /content/drive/MyDrive/koding kuliah skripsi/YOLO Train FIX/Training with callback/runs_deepISP/detect/train2/weights/epoch67.pt\n",
            "Ultralytics YOLOv8.1.1 🚀 Python-3.10.12 torch-2.1.0+cu121 CUDA:0 (Tesla T4, 15102MiB)\n",
            "Model summary (fused): 168 layers, 3006623 parameters, 0 gradients, 8.1 GFLOPs\n"
          ]
        },
        {
          "output_type": "stream",
          "name": "stderr",
          "text": [
            "\u001b[34m\u001b[1mval: \u001b[0mScanning /content/Head-motion-using-deep-ISP-1/valid/labels.cache... 268 images, 0 backgrounds, 0 corrupt: 100%|██████████| 268/268 [00:00<?, ?it/s]\n",
            "                 Class     Images  Instances      Box(P          R      mAP50  mAP50-95): 100%|██████████| 17/17 [00:02<00:00,  7.28it/s]\n"
          ]
        },
        {
          "output_type": "stream",
          "name": "stdout",
          "text": [
            "                   all        268        268      0.996      0.999      0.995      0.791\n",
            "                  atas        268         65      0.999          1      0.995      0.741\n",
            "                 bawah        268         54       0.99          1      0.995      0.854\n",
            "                 depan        268         53          1      0.994      0.995      0.819\n",
            "                 kanan        268         53      0.996          1      0.995      0.773\n",
            "                  kiri        268         43      0.996          1      0.995      0.768\n",
            "Speed: 0.2ms preprocess, 3.2ms inference, 0.0ms loss, 2.7ms postprocess per image\n",
            "Results saved to \u001b[1mruns/detect/train69\u001b[0m\n",
            "Processing model 68: /content/drive/MyDrive/koding kuliah skripsi/YOLO Train FIX/Training with callback/runs_deepISP/detect/train2/weights/epoch68.pt\n",
            "Ultralytics YOLOv8.1.1 🚀 Python-3.10.12 torch-2.1.0+cu121 CUDA:0 (Tesla T4, 15102MiB)\n",
            "Model summary (fused): 168 layers, 3006623 parameters, 0 gradients, 8.1 GFLOPs\n"
          ]
        },
        {
          "output_type": "stream",
          "name": "stderr",
          "text": [
            "\u001b[34m\u001b[1mval: \u001b[0mScanning /content/Head-motion-using-deep-ISP-1/valid/labels.cache... 268 images, 0 backgrounds, 0 corrupt: 100%|██████████| 268/268 [00:00<?, ?it/s]\n",
            "                 Class     Images  Instances      Box(P          R      mAP50  mAP50-95): 100%|██████████| 17/17 [00:02<00:00,  6.60it/s]\n"
          ]
        },
        {
          "output_type": "stream",
          "name": "stdout",
          "text": [
            "                   all        268        268      0.991      0.997      0.995      0.801\n",
            "                  atas        268         65      0.999          1      0.995      0.747\n",
            "                 bawah        268         54      0.994          1      0.995      0.848\n",
            "                 depan        268         53      0.993          1      0.995      0.813\n",
            "                 kanan        268         53      0.971          1      0.995      0.791\n",
            "                  kiri        268         43          1      0.985      0.995      0.805\n",
            "Speed: 0.2ms preprocess, 4.5ms inference, 0.0ms loss, 1.9ms postprocess per image\n",
            "Results saved to \u001b[1mruns/detect/train70\u001b[0m\n",
            "Processing model 69: /content/drive/MyDrive/koding kuliah skripsi/YOLO Train FIX/Training with callback/runs_deepISP/detect/train2/weights/epoch69.pt\n",
            "Ultralytics YOLOv8.1.1 🚀 Python-3.10.12 torch-2.1.0+cu121 CUDA:0 (Tesla T4, 15102MiB)\n",
            "Model summary (fused): 168 layers, 3006623 parameters, 0 gradients, 8.1 GFLOPs\n"
          ]
        },
        {
          "output_type": "stream",
          "name": "stderr",
          "text": [
            "\u001b[34m\u001b[1mval: \u001b[0mScanning /content/Head-motion-using-deep-ISP-1/valid/labels.cache... 268 images, 0 backgrounds, 0 corrupt: 100%|██████████| 268/268 [00:00<?, ?it/s]\n",
            "                 Class     Images  Instances      Box(P          R      mAP50  mAP50-95): 100%|██████████| 17/17 [00:02<00:00,  7.32it/s]\n"
          ]
        },
        {
          "output_type": "stream",
          "name": "stdout",
          "text": [
            "                   all        268        268      0.995          1      0.995      0.795\n",
            "                  atas        268         65      0.999          1      0.995      0.728\n",
            "                 bawah        268         54      0.992          1      0.995      0.842\n",
            "                 depan        268         53      0.996          1      0.995      0.817\n",
            "                 kanan        268         53      0.992          1      0.995      0.795\n",
            "                  kiri        268         43      0.995          1      0.995      0.792\n",
            "Speed: 0.1ms preprocess, 2.4ms inference, 0.0ms loss, 3.6ms postprocess per image\n",
            "Results saved to \u001b[1mruns/detect/train71\u001b[0m\n",
            "Processing model 70: /content/drive/MyDrive/koding kuliah skripsi/YOLO Train FIX/Training with callback/runs_deepISP/detect/train2/weights/epoch70.pt\n",
            "Ultralytics YOLOv8.1.1 🚀 Python-3.10.12 torch-2.1.0+cu121 CUDA:0 (Tesla T4, 15102MiB)\n",
            "Model summary (fused): 168 layers, 3006623 parameters, 0 gradients, 8.1 GFLOPs\n"
          ]
        },
        {
          "output_type": "stream",
          "name": "stderr",
          "text": [
            "\u001b[34m\u001b[1mval: \u001b[0mScanning /content/Head-motion-using-deep-ISP-1/valid/labels.cache... 268 images, 0 backgrounds, 0 corrupt: 100%|██████████| 268/268 [00:00<?, ?it/s]\n",
            "                 Class     Images  Instances      Box(P          R      mAP50  mAP50-95): 100%|██████████| 17/17 [00:02<00:00,  7.39it/s]\n"
          ]
        },
        {
          "output_type": "stream",
          "name": "stdout",
          "text": [
            "                   all        268        268      0.996      0.998      0.995      0.802\n",
            "                  atas        268         65      0.998          1      0.995      0.738\n",
            "                 bawah        268         54      0.991          1      0.995      0.847\n",
            "                 depan        268         53          1      0.992      0.995      0.821\n",
            "                 kanan        268         53      0.996          1      0.995      0.803\n",
            "                  kiri        268         43      0.994          1      0.995      0.802\n",
            "Speed: 0.2ms preprocess, 3.5ms inference, 0.0ms loss, 2.4ms postprocess per image\n",
            "Results saved to \u001b[1mruns/detect/train72\u001b[0m\n",
            "Processing model 71: /content/drive/MyDrive/koding kuliah skripsi/YOLO Train FIX/Training with callback/runs_deepISP/detect/train2/weights/epoch71.pt\n",
            "Ultralytics YOLOv8.1.1 🚀 Python-3.10.12 torch-2.1.0+cu121 CUDA:0 (Tesla T4, 15102MiB)\n",
            "Model summary (fused): 168 layers, 3006623 parameters, 0 gradients, 8.1 GFLOPs\n"
          ]
        },
        {
          "output_type": "stream",
          "name": "stderr",
          "text": [
            "\u001b[34m\u001b[1mval: \u001b[0mScanning /content/Head-motion-using-deep-ISP-1/valid/labels.cache... 268 images, 0 backgrounds, 0 corrupt: 100%|██████████| 268/268 [00:00<?, ?it/s]\n",
            "                 Class     Images  Instances      Box(P          R      mAP50  mAP50-95): 100%|██████████| 17/17 [00:02<00:00,  7.18it/s]\n"
          ]
        },
        {
          "output_type": "stream",
          "name": "stdout",
          "text": [
            "                   all        268        268      0.997      0.999      0.995      0.796\n",
            "                  atas        268         65      0.999          1      0.995      0.737\n",
            "                 bawah        268         54      0.994          1      0.995      0.851\n",
            "                 depan        268         53          1      0.995      0.995      0.814\n",
            "                 kanan        268         53      0.997          1      0.995      0.791\n",
            "                  kiri        268         43      0.998          1      0.995       0.79\n",
            "Speed: 0.3ms preprocess, 3.6ms inference, 0.0ms loss, 2.4ms postprocess per image\n",
            "Results saved to \u001b[1mruns/detect/train73\u001b[0m\n",
            "Processing model 72: /content/drive/MyDrive/koding kuliah skripsi/YOLO Train FIX/Training with callback/runs_deepISP/detect/train2/weights/epoch72.pt\n",
            "Ultralytics YOLOv8.1.1 🚀 Python-3.10.12 torch-2.1.0+cu121 CUDA:0 (Tesla T4, 15102MiB)\n",
            "Model summary (fused): 168 layers, 3006623 parameters, 0 gradients, 8.1 GFLOPs\n"
          ]
        },
        {
          "output_type": "stream",
          "name": "stderr",
          "text": [
            "\u001b[34m\u001b[1mval: \u001b[0mScanning /content/Head-motion-using-deep-ISP-1/valid/labels.cache... 268 images, 0 backgrounds, 0 corrupt: 100%|██████████| 268/268 [00:00<?, ?it/s]\n",
            "                 Class     Images  Instances      Box(P          R      mAP50  mAP50-95): 100%|██████████| 17/17 [00:02<00:00,  7.27it/s]\n"
          ]
        },
        {
          "output_type": "stream",
          "name": "stdout",
          "text": [
            "                   all        268        268      0.994      0.997      0.995      0.797\n",
            "                  atas        268         65      0.999          1      0.995      0.748\n",
            "                 bawah        268         54      0.979          1      0.995      0.851\n",
            "                 depan        268         53          1      0.984      0.995      0.805\n",
            "                 kanan        268         53      0.997          1      0.995      0.795\n",
            "                  kiri        268         43      0.997          1      0.995      0.784\n",
            "Speed: 0.1ms preprocess, 3.0ms inference, 0.0ms loss, 3.2ms postprocess per image\n",
            "Results saved to \u001b[1mruns/detect/train74\u001b[0m\n",
            "Processing model 73: /content/drive/MyDrive/koding kuliah skripsi/YOLO Train FIX/Training with callback/runs_deepISP/detect/train2/weights/epoch73.pt\n",
            "Ultralytics YOLOv8.1.1 🚀 Python-3.10.12 torch-2.1.0+cu121 CUDA:0 (Tesla T4, 15102MiB)\n",
            "Model summary (fused): 168 layers, 3006623 parameters, 0 gradients, 8.1 GFLOPs\n"
          ]
        },
        {
          "output_type": "stream",
          "name": "stderr",
          "text": [
            "\u001b[34m\u001b[1mval: \u001b[0mScanning /content/Head-motion-using-deep-ISP-1/valid/labels.cache... 268 images, 0 backgrounds, 0 corrupt: 100%|██████████| 268/268 [00:00<?, ?it/s]\n",
            "                 Class     Images  Instances      Box(P          R      mAP50  mAP50-95): 100%|██████████| 17/17 [00:03<00:00,  5.40it/s]\n"
          ]
        },
        {
          "output_type": "stream",
          "name": "stdout",
          "text": [
            "                   all        268        268      0.994      0.999      0.995      0.803\n",
            "                  atas        268         65      0.999          1      0.995       0.75\n",
            "                 bawah        268         54      0.981          1      0.995       0.85\n",
            "                 depan        268         53          1      0.996      0.995      0.821\n",
            "                 kanan        268         53      0.996          1      0.995      0.799\n",
            "                  kiri        268         43      0.994          1      0.995      0.796\n",
            "Speed: 0.3ms preprocess, 2.2ms inference, 0.0ms loss, 2.1ms postprocess per image\n",
            "Results saved to \u001b[1mruns/detect/train75\u001b[0m\n",
            "Processing model 74: /content/drive/MyDrive/koding kuliah skripsi/YOLO Train FIX/Training with callback/runs_deepISP/detect/train2/weights/epoch74.pt\n",
            "Ultralytics YOLOv8.1.1 🚀 Python-3.10.12 torch-2.1.0+cu121 CUDA:0 (Tesla T4, 15102MiB)\n",
            "Model summary (fused): 168 layers, 3006623 parameters, 0 gradients, 8.1 GFLOPs\n"
          ]
        },
        {
          "output_type": "stream",
          "name": "stderr",
          "text": [
            "\u001b[34m\u001b[1mval: \u001b[0mScanning /content/Head-motion-using-deep-ISP-1/valid/labels.cache... 268 images, 0 backgrounds, 0 corrupt: 100%|██████████| 268/268 [00:00<?, ?it/s]\n",
            "                 Class     Images  Instances      Box(P          R      mAP50  mAP50-95): 100%|██████████| 17/17 [00:03<00:00,  5.60it/s]\n"
          ]
        },
        {
          "output_type": "stream",
          "name": "stdout",
          "text": [
            "                   all        268        268      0.996          1      0.995      0.803\n",
            "                  atas        268         65      0.999          1      0.995      0.762\n",
            "                 bawah        268         54      0.992          1      0.995       0.85\n",
            "                 depan        268         53          1      0.998      0.995      0.818\n",
            "                 kanan        268         53      0.996          1      0.995      0.788\n",
            "                  kiri        268         43      0.995          1      0.995      0.795\n",
            "Speed: 0.2ms preprocess, 2.0ms inference, 0.0ms loss, 2.1ms postprocess per image\n",
            "Results saved to \u001b[1mruns/detect/train76\u001b[0m\n",
            "Processing model 75: /content/drive/MyDrive/koding kuliah skripsi/YOLO Train FIX/Training with callback/runs_deepISP/detect/train2/weights/epoch75.pt\n",
            "Ultralytics YOLOv8.1.1 🚀 Python-3.10.12 torch-2.1.0+cu121 CUDA:0 (Tesla T4, 15102MiB)\n",
            "Model summary (fused): 168 layers, 3006623 parameters, 0 gradients, 8.1 GFLOPs\n"
          ]
        },
        {
          "output_type": "stream",
          "name": "stderr",
          "text": [
            "\u001b[34m\u001b[1mval: \u001b[0mScanning /content/Head-motion-using-deep-ISP-1/valid/labels.cache... 268 images, 0 backgrounds, 0 corrupt: 100%|██████████| 268/268 [00:00<?, ?it/s]\n",
            "                 Class     Images  Instances      Box(P          R      mAP50  mAP50-95): 100%|██████████| 17/17 [00:02<00:00,  7.25it/s]\n"
          ]
        },
        {
          "output_type": "stream",
          "name": "stdout",
          "text": [
            "                   all        268        268      0.996      0.999      0.995      0.804\n",
            "                  atas        268         65          1      0.994      0.995      0.771\n",
            "                 bawah        268         54      0.993          1      0.995       0.84\n",
            "                 depan        268         53      0.998          1      0.995      0.813\n",
            "                 kanan        268         53      0.995          1      0.995      0.792\n",
            "                  kiri        268         43      0.993          1      0.995      0.803\n",
            "Speed: 0.2ms preprocess, 4.8ms inference, 0.0ms loss, 1.2ms postprocess per image\n",
            "Results saved to \u001b[1mruns/detect/train77\u001b[0m\n",
            "Processing model 76: /content/drive/MyDrive/koding kuliah skripsi/YOLO Train FIX/Training with callback/runs_deepISP/detect/train2/weights/epoch76.pt\n",
            "Ultralytics YOLOv8.1.1 🚀 Python-3.10.12 torch-2.1.0+cu121 CUDA:0 (Tesla T4, 15102MiB)\n",
            "Model summary (fused): 168 layers, 3006623 parameters, 0 gradients, 8.1 GFLOPs\n"
          ]
        },
        {
          "output_type": "stream",
          "name": "stderr",
          "text": [
            "\u001b[34m\u001b[1mval: \u001b[0mScanning /content/Head-motion-using-deep-ISP-1/valid/labels.cache... 268 images, 0 backgrounds, 0 corrupt: 100%|██████████| 268/268 [00:00<?, ?it/s]\n",
            "                 Class     Images  Instances      Box(P          R      mAP50  mAP50-95): 100%|██████████| 17/17 [00:02<00:00,  7.15it/s]\n"
          ]
        },
        {
          "output_type": "stream",
          "name": "stdout",
          "text": [
            "                   all        268        268      0.996      0.999      0.995      0.802\n",
            "                  atas        268         65      0.998          1      0.995      0.759\n",
            "                 bawah        268         54      0.991          1      0.995      0.846\n",
            "                 depan        268         53          1      0.995      0.995      0.817\n",
            "                 kanan        268         53      0.997          1      0.995      0.792\n",
            "                  kiri        268         43      0.994          1      0.995      0.798\n",
            "Speed: 0.1ms preprocess, 3.8ms inference, 0.0ms loss, 2.5ms postprocess per image\n",
            "Results saved to \u001b[1mruns/detect/train78\u001b[0m\n",
            "Processing model 77: /content/drive/MyDrive/koding kuliah skripsi/YOLO Train FIX/Training with callback/runs_deepISP/detect/train2/weights/epoch77.pt\n",
            "Ultralytics YOLOv8.1.1 🚀 Python-3.10.12 torch-2.1.0+cu121 CUDA:0 (Tesla T4, 15102MiB)\n",
            "Model summary (fused): 168 layers, 3006623 parameters, 0 gradients, 8.1 GFLOPs\n"
          ]
        },
        {
          "output_type": "stream",
          "name": "stderr",
          "text": [
            "\u001b[34m\u001b[1mval: \u001b[0mScanning /content/Head-motion-using-deep-ISP-1/valid/labels.cache... 268 images, 0 backgrounds, 0 corrupt: 100%|██████████| 268/268 [00:00<?, ?it/s]\n",
            "                 Class     Images  Instances      Box(P          R      mAP50  mAP50-95): 100%|██████████| 17/17 [00:03<00:00,  5.33it/s]\n"
          ]
        },
        {
          "output_type": "stream",
          "name": "stdout",
          "text": [
            "                   all        268        268      0.996      0.997      0.995      0.803\n",
            "                  atas        268         65      0.999          1      0.995      0.767\n",
            "                 bawah        268         54      0.988          1      0.995      0.834\n",
            "                 depan        268         53          1      0.986      0.995      0.817\n",
            "                 kanan        268         53      0.996          1      0.995      0.803\n",
            "                  kiri        268         43      0.998          1      0.995      0.796\n",
            "Speed: 0.3ms preprocess, 2.1ms inference, 0.0ms loss, 2.0ms postprocess per image\n",
            "Results saved to \u001b[1mruns/detect/train79\u001b[0m\n",
            "Processing model 78: /content/drive/MyDrive/koding kuliah skripsi/YOLO Train FIX/Training with callback/runs_deepISP/detect/train2/weights/epoch78.pt\n",
            "Ultralytics YOLOv8.1.1 🚀 Python-3.10.12 torch-2.1.0+cu121 CUDA:0 (Tesla T4, 15102MiB)\n",
            "Model summary (fused): 168 layers, 3006623 parameters, 0 gradients, 8.1 GFLOPs\n"
          ]
        },
        {
          "output_type": "stream",
          "name": "stderr",
          "text": [
            "\u001b[34m\u001b[1mval: \u001b[0mScanning /content/Head-motion-using-deep-ISP-1/valid/labels.cache... 268 images, 0 backgrounds, 0 corrupt: 100%|██████████| 268/268 [00:00<?, ?it/s]\n",
            "                 Class     Images  Instances      Box(P          R      mAP50  mAP50-95): 100%|██████████| 17/17 [00:02<00:00,  7.14it/s]\n"
          ]
        },
        {
          "output_type": "stream",
          "name": "stdout",
          "text": [
            "                   all        268        268      0.998          1      0.995      0.801\n",
            "                  atas        268         65          1          1      0.995      0.771\n",
            "                 bawah        268         54      0.998          1      0.995      0.834\n",
            "                 depan        268         53      0.997          1      0.995      0.815\n",
            "                 kanan        268         53      0.997          1      0.995      0.798\n",
            "                  kiri        268         43      0.997          1      0.995      0.786\n",
            "Speed: 0.2ms preprocess, 4.8ms inference, 0.0ms loss, 1.3ms postprocess per image\n",
            "Results saved to \u001b[1mruns/detect/train80\u001b[0m\n",
            "Processing model 79: /content/drive/MyDrive/koding kuliah skripsi/YOLO Train FIX/Training with callback/runs_deepISP/detect/train2/weights/epoch79.pt\n",
            "Ultralytics YOLOv8.1.1 🚀 Python-3.10.12 torch-2.1.0+cu121 CUDA:0 (Tesla T4, 15102MiB)\n",
            "Model summary (fused): 168 layers, 3006623 parameters, 0 gradients, 8.1 GFLOPs\n"
          ]
        },
        {
          "output_type": "stream",
          "name": "stderr",
          "text": [
            "\u001b[34m\u001b[1mval: \u001b[0mScanning /content/Head-motion-using-deep-ISP-1/valid/labels.cache... 268 images, 0 backgrounds, 0 corrupt: 100%|██████████| 268/268 [00:00<?, ?it/s]\n",
            "                 Class     Images  Instances      Box(P          R      mAP50  mAP50-95): 100%|██████████| 17/17 [00:02<00:00,  7.24it/s]\n"
          ]
        },
        {
          "output_type": "stream",
          "name": "stdout",
          "text": [
            "                   all        268        268      0.994          1      0.995      0.805\n",
            "                  atas        268         65          1          1      0.995      0.766\n",
            "                 bawah        268         54      0.992          1      0.995      0.854\n",
            "                 depan        268         53      0.999          1      0.995      0.818\n",
            "                 kanan        268         53       0.98          1      0.995      0.794\n",
            "                  kiri        268         43      0.999          1      0.995      0.792\n",
            "Speed: 0.0ms preprocess, 3.9ms inference, 0.0ms loss, 2.3ms postprocess per image\n",
            "Results saved to \u001b[1mruns/detect/train81\u001b[0m\n",
            "Processing model 80: /content/drive/MyDrive/koding kuliah skripsi/YOLO Train FIX/Training with callback/runs_deepISP/detect/train2/weights/epoch80.pt\n",
            "Ultralytics YOLOv8.1.1 🚀 Python-3.10.12 torch-2.1.0+cu121 CUDA:0 (Tesla T4, 15102MiB)\n",
            "Model summary (fused): 168 layers, 3006623 parameters, 0 gradients, 8.1 GFLOPs\n"
          ]
        },
        {
          "output_type": "stream",
          "name": "stderr",
          "text": [
            "\u001b[34m\u001b[1mval: \u001b[0mScanning /content/Head-motion-using-deep-ISP-1/valid/labels.cache... 268 images, 0 backgrounds, 0 corrupt: 100%|██████████| 268/268 [00:00<?, ?it/s]\n",
            "                 Class     Images  Instances      Box(P          R      mAP50  mAP50-95): 100%|██████████| 17/17 [00:02<00:00,  7.49it/s]\n"
          ]
        },
        {
          "output_type": "stream",
          "name": "stdout",
          "text": [
            "                   all        268        268      0.994      0.999      0.995      0.803\n",
            "                  atas        268         65          1      0.994      0.995      0.764\n",
            "                 bawah        268         54      0.989          1      0.995      0.848\n",
            "                 depan        268         53          1      0.999      0.995       0.82\n",
            "                 kanan        268         53      0.985          1      0.995      0.803\n",
            "                  kiri        268         43      0.995          1      0.995      0.783\n",
            "Speed: 0.1ms preprocess, 4.0ms inference, 0.0ms loss, 2.0ms postprocess per image\n",
            "Results saved to \u001b[1mruns/detect/train82\u001b[0m\n",
            "Processing model 81: /content/drive/MyDrive/koding kuliah skripsi/YOLO Train FIX/Training with callback/runs_deepISP/detect/train2/weights/epoch81.pt\n",
            "Ultralytics YOLOv8.1.1 🚀 Python-3.10.12 torch-2.1.0+cu121 CUDA:0 (Tesla T4, 15102MiB)\n",
            "Model summary (fused): 168 layers, 3006623 parameters, 0 gradients, 8.1 GFLOPs\n"
          ]
        },
        {
          "output_type": "stream",
          "name": "stderr",
          "text": [
            "\u001b[34m\u001b[1mval: \u001b[0mScanning /content/Head-motion-using-deep-ISP-1/valid/labels.cache... 268 images, 0 backgrounds, 0 corrupt: 100%|██████████| 268/268 [00:00<?, ?it/s]\n",
            "                 Class     Images  Instances      Box(P          R      mAP50  mAP50-95): 100%|██████████| 17/17 [00:02<00:00,  7.37it/s]\n"
          ]
        },
        {
          "output_type": "stream",
          "name": "stdout",
          "text": [
            "                   all        268        268      0.995      0.999      0.995      0.805\n",
            "                  atas        268         65          1      0.996      0.995      0.773\n",
            "                 bawah        268         54       0.99          1      0.995      0.847\n",
            "                 depan        268         53      0.999          1      0.995       0.82\n",
            "                 kanan        268         53      0.991          1      0.995      0.797\n",
            "                  kiri        268         43      0.995          1      0.995      0.787\n",
            "Speed: 0.1ms preprocess, 3.5ms inference, 0.0ms loss, 2.5ms postprocess per image\n",
            "Results saved to \u001b[1mruns/detect/train83\u001b[0m\n",
            "Processing model 82: /content/drive/MyDrive/koding kuliah skripsi/YOLO Train FIX/Training with callback/runs_deepISP/detect/train2/weights/epoch82.pt\n",
            "Ultralytics YOLOv8.1.1 🚀 Python-3.10.12 torch-2.1.0+cu121 CUDA:0 (Tesla T4, 15102MiB)\n",
            "Model summary (fused): 168 layers, 3006623 parameters, 0 gradients, 8.1 GFLOPs\n"
          ]
        },
        {
          "output_type": "stream",
          "name": "stderr",
          "text": [
            "\u001b[34m\u001b[1mval: \u001b[0mScanning /content/Head-motion-using-deep-ISP-1/valid/labels.cache... 268 images, 0 backgrounds, 0 corrupt: 100%|██████████| 268/268 [00:00<?, ?it/s]\n",
            "                 Class     Images  Instances      Box(P          R      mAP50  mAP50-95): 100%|██████████| 17/17 [00:02<00:00,  6.90it/s]\n"
          ]
        },
        {
          "output_type": "stream",
          "name": "stdout",
          "text": [
            "                   all        268        268      0.993      0.999      0.995      0.806\n",
            "                  atas        268         65      0.999          1      0.995      0.765\n",
            "                 bawah        268         54       0.98          1      0.995      0.843\n",
            "                 depan        268         53          1      0.997      0.995      0.826\n",
            "                 kanan        268         53      0.991          1      0.995      0.809\n",
            "                  kiri        268         43      0.994          1      0.995      0.787\n",
            "Speed: 0.2ms preprocess, 5.2ms inference, 0.0ms loss, 1.1ms postprocess per image\n",
            "Results saved to \u001b[1mruns/detect/train84\u001b[0m\n",
            "Processing model 83: /content/drive/MyDrive/koding kuliah skripsi/YOLO Train FIX/Training with callback/runs_deepISP/detect/train2/weights/epoch83.pt\n",
            "Ultralytics YOLOv8.1.1 🚀 Python-3.10.12 torch-2.1.0+cu121 CUDA:0 (Tesla T4, 15102MiB)\n",
            "Model summary (fused): 168 layers, 3006623 parameters, 0 gradients, 8.1 GFLOPs\n"
          ]
        },
        {
          "output_type": "stream",
          "name": "stderr",
          "text": [
            "\u001b[34m\u001b[1mval: \u001b[0mScanning /content/Head-motion-using-deep-ISP-1/valid/labels.cache... 268 images, 0 backgrounds, 0 corrupt: 100%|██████████| 268/268 [00:00<?, ?it/s]\n",
            "                 Class     Images  Instances      Box(P          R      mAP50  mAP50-95): 100%|██████████| 17/17 [00:02<00:00,  7.24it/s]\n"
          ]
        },
        {
          "output_type": "stream",
          "name": "stdout",
          "text": [
            "                   all        268        268      0.997      0.996      0.995      0.807\n",
            "                  atas        268         65          1      0.982      0.995      0.762\n",
            "                 bawah        268         54      0.998          1      0.995      0.857\n",
            "                 depan        268         53      0.998          1      0.995      0.829\n",
            "                 kanan        268         53      0.993          1      0.995      0.811\n",
            "                  kiri        268         43      0.997          1      0.995      0.778\n",
            "Speed: 0.2ms preprocess, 3.9ms inference, 0.0ms loss, 2.2ms postprocess per image\n",
            "Results saved to \u001b[1mruns/detect/train85\u001b[0m\n",
            "Processing model 84: /content/drive/MyDrive/koding kuliah skripsi/YOLO Train FIX/Training with callback/runs_deepISP/detect/train2/weights/epoch84.pt\n",
            "Ultralytics YOLOv8.1.1 🚀 Python-3.10.12 torch-2.1.0+cu121 CUDA:0 (Tesla T4, 15102MiB)\n",
            "Model summary (fused): 168 layers, 3006623 parameters, 0 gradients, 8.1 GFLOPs\n"
          ]
        },
        {
          "output_type": "stream",
          "name": "stderr",
          "text": [
            "\u001b[34m\u001b[1mval: \u001b[0mScanning /content/Head-motion-using-deep-ISP-1/valid/labels.cache... 268 images, 0 backgrounds, 0 corrupt: 100%|██████████| 268/268 [00:00<?, ?it/s]\n",
            "                 Class     Images  Instances      Box(P          R      mAP50  mAP50-95): 100%|██████████| 17/17 [00:03<00:00,  5.11it/s]\n"
          ]
        },
        {
          "output_type": "stream",
          "name": "stdout",
          "text": [
            "                   all        268        268      0.991      0.999      0.995      0.808\n",
            "                  atas        268         65          1      0.998      0.995      0.766\n",
            "                 bawah        268         54      0.977          1      0.995      0.851\n",
            "                 depan        268         53          1      0.997      0.995      0.831\n",
            "                 kanan        268         53      0.982          1      0.995      0.812\n",
            "                  kiri        268         43      0.994          1      0.995      0.779\n",
            "Speed: 0.2ms preprocess, 2.2ms inference, 0.0ms loss, 2.3ms postprocess per image\n",
            "Results saved to \u001b[1mruns/detect/train86\u001b[0m\n",
            "Processing model 85: /content/drive/MyDrive/koding kuliah skripsi/YOLO Train FIX/Training with callback/runs_deepISP/detect/train2/weights/epoch85.pt\n",
            "Ultralytics YOLOv8.1.1 🚀 Python-3.10.12 torch-2.1.0+cu121 CUDA:0 (Tesla T4, 15102MiB)\n",
            "Model summary (fused): 168 layers, 3006623 parameters, 0 gradients, 8.1 GFLOPs\n"
          ]
        },
        {
          "output_type": "stream",
          "name": "stderr",
          "text": [
            "\u001b[34m\u001b[1mval: \u001b[0mScanning /content/Head-motion-using-deep-ISP-1/valid/labels.cache... 268 images, 0 backgrounds, 0 corrupt: 100%|██████████| 268/268 [00:00<?, ?it/s]\n",
            "                 Class     Images  Instances      Box(P          R      mAP50  mAP50-95): 100%|██████████| 17/17 [00:02<00:00,  5.79it/s]\n"
          ]
        },
        {
          "output_type": "stream",
          "name": "stdout",
          "text": [
            "                   all        268        268      0.997      0.998      0.995      0.804\n",
            "                  atas        268         65          1       0.99      0.995      0.761\n",
            "                 bawah        268         54      0.996          1      0.995      0.847\n",
            "                 depan        268         53      0.999          1      0.995      0.831\n",
            "                 kanan        268         53      0.994          1      0.995      0.795\n",
            "                  kiri        268         43      0.997          1      0.995      0.787\n",
            "Speed: 0.1ms preprocess, 4.0ms inference, 0.0ms loss, 1.4ms postprocess per image\n",
            "Results saved to \u001b[1mruns/detect/train87\u001b[0m\n",
            "Processing model 86: /content/drive/MyDrive/koding kuliah skripsi/YOLO Train FIX/Training with callback/runs_deepISP/detect/train2/weights/epoch86.pt\n",
            "Ultralytics YOLOv8.1.1 🚀 Python-3.10.12 torch-2.1.0+cu121 CUDA:0 (Tesla T4, 15102MiB)\n",
            "Model summary (fused): 168 layers, 3006623 parameters, 0 gradients, 8.1 GFLOPs\n"
          ]
        },
        {
          "output_type": "stream",
          "name": "stderr",
          "text": [
            "\u001b[34m\u001b[1mval: \u001b[0mScanning /content/Head-motion-using-deep-ISP-1/valid/labels.cache... 268 images, 0 backgrounds, 0 corrupt: 100%|██████████| 268/268 [00:00<?, ?it/s]\n",
            "                 Class     Images  Instances      Box(P          R      mAP50  mAP50-95): 100%|██████████| 17/17 [00:02<00:00,  7.25it/s]\n"
          ]
        },
        {
          "output_type": "stream",
          "name": "stdout",
          "text": [
            "                   all        268        268      0.993      0.999      0.995      0.809\n",
            "                  atas        268         65      0.999          1      0.995      0.753\n",
            "                 bawah        268         54      0.978          1      0.995      0.854\n",
            "                 depan        268         53          1      0.993      0.995      0.829\n",
            "                 kanan        268         53      0.993          1      0.995      0.805\n",
            "                  kiri        268         43      0.994          1      0.995      0.804\n",
            "Speed: 0.2ms preprocess, 1.9ms inference, 0.0ms loss, 4.2ms postprocess per image\n",
            "Results saved to \u001b[1mruns/detect/train88\u001b[0m\n",
            "Processing model 87: /content/drive/MyDrive/koding kuliah skripsi/YOLO Train FIX/Training with callback/runs_deepISP/detect/train2/weights/epoch87.pt\n",
            "Ultralytics YOLOv8.1.1 🚀 Python-3.10.12 torch-2.1.0+cu121 CUDA:0 (Tesla T4, 15102MiB)\n",
            "Model summary (fused): 168 layers, 3006623 parameters, 0 gradients, 8.1 GFLOPs\n"
          ]
        },
        {
          "output_type": "stream",
          "name": "stderr",
          "text": [
            "\u001b[34m\u001b[1mval: \u001b[0mScanning /content/Head-motion-using-deep-ISP-1/valid/labels.cache... 268 images, 0 backgrounds, 0 corrupt: 100%|██████████| 268/268 [00:00<?, ?it/s]\n",
            "                 Class     Images  Instances      Box(P          R      mAP50  mAP50-95): 100%|██████████| 17/17 [00:02<00:00,  7.05it/s]\n"
          ]
        },
        {
          "output_type": "stream",
          "name": "stdout",
          "text": [
            "                   all        268        268      0.995          1      0.995      0.808\n",
            "                  atas        268         65      0.999          1      0.995      0.764\n",
            "                 bawah        268         54          1      0.998      0.995      0.853\n",
            "                 depan        268         53      0.991          1      0.995       0.83\n",
            "                 kanan        268         53       0.99          1      0.995      0.796\n",
            "                  kiri        268         43      0.997          1      0.995      0.796\n",
            "Speed: 0.1ms preprocess, 3.2ms inference, 0.0ms loss, 3.0ms postprocess per image\n",
            "Results saved to \u001b[1mruns/detect/train89\u001b[0m\n",
            "Processing model 88: /content/drive/MyDrive/koding kuliah skripsi/YOLO Train FIX/Training with callback/runs_deepISP/detect/train2/weights/epoch88.pt\n",
            "Ultralytics YOLOv8.1.1 🚀 Python-3.10.12 torch-2.1.0+cu121 CUDA:0 (Tesla T4, 15102MiB)\n",
            "Model summary (fused): 168 layers, 3006623 parameters, 0 gradients, 8.1 GFLOPs\n"
          ]
        },
        {
          "output_type": "stream",
          "name": "stderr",
          "text": [
            "\u001b[34m\u001b[1mval: \u001b[0mScanning /content/Head-motion-using-deep-ISP-1/valid/labels.cache... 268 images, 0 backgrounds, 0 corrupt: 100%|██████████| 268/268 [00:00<?, ?it/s]\n",
            "                 Class     Images  Instances      Box(P          R      mAP50  mAP50-95): 100%|██████████| 17/17 [00:02<00:00,  7.23it/s]\n"
          ]
        },
        {
          "output_type": "stream",
          "name": "stdout",
          "text": [
            "                   all        268        268      0.994      0.999      0.995      0.805\n",
            "                  atas        268         65          1      0.993      0.995       0.75\n",
            "                 bawah        268         54      0.984          1      0.995      0.854\n",
            "                 depan        268         53      0.998          1      0.995      0.831\n",
            "                 kanan        268         53      0.993          1      0.995      0.789\n",
            "                  kiri        268         43      0.996          1      0.995        0.8\n",
            "Speed: 0.0ms preprocess, 4.7ms inference, 0.0ms loss, 1.5ms postprocess per image\n",
            "Results saved to \u001b[1mruns/detect/train90\u001b[0m\n",
            "Processing model 89: /content/drive/MyDrive/koding kuliah skripsi/YOLO Train FIX/Training with callback/runs_deepISP/detect/train2/weights/epoch89.pt\n",
            "Ultralytics YOLOv8.1.1 🚀 Python-3.10.12 torch-2.1.0+cu121 CUDA:0 (Tesla T4, 15102MiB)\n",
            "Model summary (fused): 168 layers, 3006623 parameters, 0 gradients, 8.1 GFLOPs\n"
          ]
        },
        {
          "output_type": "stream",
          "name": "stderr",
          "text": [
            "\u001b[34m\u001b[1mval: \u001b[0mScanning /content/Head-motion-using-deep-ISP-1/valid/labels.cache... 268 images, 0 backgrounds, 0 corrupt: 100%|██████████| 268/268 [00:00<?, ?it/s]\n",
            "                 Class     Images  Instances      Box(P          R      mAP50  mAP50-95): 100%|██████████| 17/17 [00:02<00:00,  6.14it/s]\n"
          ]
        },
        {
          "output_type": "stream",
          "name": "stdout",
          "text": [
            "                   all        268        268      0.994      0.999      0.995      0.805\n",
            "                  atas        268         65          1      0.993      0.995      0.751\n",
            "                 bawah        268         54      0.986          1      0.995      0.859\n",
            "                 depan        268         53      0.996          1      0.995      0.826\n",
            "                 kanan        268         53      0.988          1      0.995      0.797\n",
            "                  kiri        268         43      0.999          1      0.995      0.792\n",
            "Speed: 0.3ms preprocess, 1.7ms inference, 0.0ms loss, 2.7ms postprocess per image\n",
            "Results saved to \u001b[1mruns/detect/train91\u001b[0m\n",
            "Processing model 90: /content/drive/MyDrive/koding kuliah skripsi/YOLO Train FIX/Training with callback/runs_deepISP/detect/train2/weights/epoch90.pt\n",
            "Ultralytics YOLOv8.1.1 🚀 Python-3.10.12 torch-2.1.0+cu121 CUDA:0 (Tesla T4, 15102MiB)\n",
            "Model summary (fused): 168 layers, 3006623 parameters, 0 gradients, 8.1 GFLOPs\n"
          ]
        },
        {
          "output_type": "stream",
          "name": "stderr",
          "text": [
            "\u001b[34m\u001b[1mval: \u001b[0mScanning /content/Head-motion-using-deep-ISP-1/valid/labels.cache... 268 images, 0 backgrounds, 0 corrupt: 100%|██████████| 268/268 [00:00<?, ?it/s]\n",
            "                 Class     Images  Instances      Box(P          R      mAP50  mAP50-95): 100%|██████████| 17/17 [00:02<00:00,  6.39it/s]\n"
          ]
        },
        {
          "output_type": "stream",
          "name": "stdout",
          "text": [
            "                   all        268        268      0.993      0.998      0.995      0.807\n",
            "                  atas        268         65          1      0.992      0.995      0.757\n",
            "                 bawah        268         54      0.981          1      0.995      0.868\n",
            "                 depan        268         53      0.997          1      0.995      0.838\n",
            "                 kanan        268         53      0.989          1      0.995      0.801\n",
            "                  kiri        268         43      0.999          1      0.995      0.773\n",
            "Speed: 0.3ms preprocess, 2.9ms inference, 0.0ms loss, 1.5ms postprocess per image\n",
            "Results saved to \u001b[1mruns/detect/train92\u001b[0m\n",
            "Processing model 91: /content/drive/MyDrive/koding kuliah skripsi/YOLO Train FIX/Training with callback/runs_deepISP/detect/train2/weights/epoch91.pt\n",
            "Ultralytics YOLOv8.1.1 🚀 Python-3.10.12 torch-2.1.0+cu121 CUDA:0 (Tesla T4, 15102MiB)\n",
            "Model summary (fused): 168 layers, 3006623 parameters, 0 gradients, 8.1 GFLOPs\n"
          ]
        },
        {
          "output_type": "stream",
          "name": "stderr",
          "text": [
            "\u001b[34m\u001b[1mval: \u001b[0mScanning /content/Head-motion-using-deep-ISP-1/valid/labels.cache... 268 images, 0 backgrounds, 0 corrupt: 100%|██████████| 268/268 [00:00<?, ?it/s]\n",
            "                 Class     Images  Instances      Box(P          R      mAP50  mAP50-95): 100%|██████████| 17/17 [00:02<00:00,  7.10it/s]\n"
          ]
        },
        {
          "output_type": "stream",
          "name": "stdout",
          "text": [
            "                   all        268        268      0.997      0.999      0.995      0.801\n",
            "                  atas        268         65          1      0.994      0.995      0.739\n",
            "                 bawah        268         54      0.994          1      0.995      0.879\n",
            "                 depan        268         53      0.997          1      0.995      0.834\n",
            "                 kanan        268         53      0.994          1      0.995      0.766\n",
            "                  kiri        268         43      0.998          1      0.995      0.784\n",
            "Speed: 0.2ms preprocess, 4.2ms inference, 0.0ms loss, 2.1ms postprocess per image\n",
            "Results saved to \u001b[1mruns/detect/train93\u001b[0m\n",
            "Processing model 92: /content/drive/MyDrive/koding kuliah skripsi/YOLO Train FIX/Training with callback/runs_deepISP/detect/train2/weights/epoch92.pt\n",
            "Ultralytics YOLOv8.1.1 🚀 Python-3.10.12 torch-2.1.0+cu121 CUDA:0 (Tesla T4, 15102MiB)\n",
            "Model summary (fused): 168 layers, 3006623 parameters, 0 gradients, 8.1 GFLOPs\n"
          ]
        },
        {
          "output_type": "stream",
          "name": "stderr",
          "text": [
            "\u001b[34m\u001b[1mval: \u001b[0mScanning /content/Head-motion-using-deep-ISP-1/valid/labels.cache... 268 images, 0 backgrounds, 0 corrupt: 100%|██████████| 268/268 [00:00<?, ?it/s]\n",
            "                 Class     Images  Instances      Box(P          R      mAP50  mAP50-95): 100%|██████████| 17/17 [00:02<00:00,  7.19it/s]\n"
          ]
        },
        {
          "output_type": "stream",
          "name": "stdout",
          "text": [
            "                   all        268        268      0.997          1      0.995      0.805\n",
            "                  atas        268         65          1          1      0.995      0.744\n",
            "                 bawah        268         54      0.999          1      0.995      0.871\n",
            "                 depan        268         53      0.993          1      0.995       0.84\n",
            "                 kanan        268         53      0.995          1      0.995       0.78\n",
            "                  kiri        268         43      0.996          1      0.995      0.792\n",
            "Speed: 0.3ms preprocess, 3.9ms inference, 0.0ms loss, 2.1ms postprocess per image\n",
            "Results saved to \u001b[1mruns/detect/train94\u001b[0m\n",
            "Processing model 93: /content/drive/MyDrive/koding kuliah skripsi/YOLO Train FIX/Training with callback/runs_deepISP/detect/train2/weights/epoch93.pt\n",
            "Ultralytics YOLOv8.1.1 🚀 Python-3.10.12 torch-2.1.0+cu121 CUDA:0 (Tesla T4, 15102MiB)\n",
            "Model summary (fused): 168 layers, 3006623 parameters, 0 gradients, 8.1 GFLOPs\n"
          ]
        },
        {
          "output_type": "stream",
          "name": "stderr",
          "text": [
            "\u001b[34m\u001b[1mval: \u001b[0mScanning /content/Head-motion-using-deep-ISP-1/valid/labels.cache... 268 images, 0 backgrounds, 0 corrupt: 100%|██████████| 268/268 [00:00<?, ?it/s]\n",
            "                 Class     Images  Instances      Box(P          R      mAP50  mAP50-95): 100%|██████████| 17/17 [00:02<00:00,  7.40it/s]\n"
          ]
        },
        {
          "output_type": "stream",
          "name": "stdout",
          "text": [
            "                   all        268        268      0.997          1      0.995      0.804\n",
            "                  atas        268         65      0.999          1      0.995      0.748\n",
            "                 bawah        268         54      0.997          1      0.995      0.873\n",
            "                 depan        268         53      0.995          1      0.995      0.833\n",
            "                 kanan        268         53      0.994          1      0.995      0.772\n",
            "                  kiri        268         43          1          1      0.995      0.793\n",
            "Speed: 0.1ms preprocess, 2.1ms inference, 0.0ms loss, 2.9ms postprocess per image\n",
            "Results saved to \u001b[1mruns/detect/train95\u001b[0m\n",
            "Processing model 94: /content/drive/MyDrive/koding kuliah skripsi/YOLO Train FIX/Training with callback/runs_deepISP/detect/train2/weights/epoch94.pt\n",
            "Ultralytics YOLOv8.1.1 🚀 Python-3.10.12 torch-2.1.0+cu121 CUDA:0 (Tesla T4, 15102MiB)\n",
            "Model summary (fused): 168 layers, 3006623 parameters, 0 gradients, 8.1 GFLOPs\n"
          ]
        },
        {
          "output_type": "stream",
          "name": "stderr",
          "text": [
            "\u001b[34m\u001b[1mval: \u001b[0mScanning /content/Head-motion-using-deep-ISP-1/valid/labels.cache... 268 images, 0 backgrounds, 0 corrupt: 100%|██████████| 268/268 [00:00<?, ?it/s]\n",
            "                 Class     Images  Instances      Box(P          R      mAP50  mAP50-95): 100%|██████████| 17/17 [00:02<00:00,  7.01it/s]\n"
          ]
        },
        {
          "output_type": "stream",
          "name": "stdout",
          "text": [
            "                   all        268        268      0.997          1      0.995      0.804\n",
            "                  atas        268         65          1          1      0.995       0.74\n",
            "                 bawah        268         54      0.998          1      0.995      0.875\n",
            "                 depan        268         53      0.995          1      0.995      0.835\n",
            "                 kanan        268         53      0.995          1      0.995      0.781\n",
            "                  kiri        268         43      0.998          1      0.995      0.788\n",
            "Speed: 0.4ms preprocess, 3.9ms inference, 0.0ms loss, 2.2ms postprocess per image\n",
            "Results saved to \u001b[1mruns/detect/train96\u001b[0m\n",
            "Processing model 95: /content/drive/MyDrive/koding kuliah skripsi/YOLO Train FIX/Training with callback/runs_deepISP/detect/train2/weights/epoch95.pt\n",
            "Ultralytics YOLOv8.1.1 🚀 Python-3.10.12 torch-2.1.0+cu121 CUDA:0 (Tesla T4, 15102MiB)\n",
            "Model summary (fused): 168 layers, 3006623 parameters, 0 gradients, 8.1 GFLOPs\n"
          ]
        },
        {
          "output_type": "stream",
          "name": "stderr",
          "text": [
            "\u001b[34m\u001b[1mval: \u001b[0mScanning /content/Head-motion-using-deep-ISP-1/valid/labels.cache... 268 images, 0 backgrounds, 0 corrupt: 100%|██████████| 268/268 [00:00<?, ?it/s]\n",
            "                 Class     Images  Instances      Box(P          R      mAP50  mAP50-95): 100%|██████████| 17/17 [00:02<00:00,  7.24it/s]\n"
          ]
        },
        {
          "output_type": "stream",
          "name": "stdout",
          "text": [
            "                   all        268        268      0.998          1      0.995      0.808\n",
            "                  atas        268         65          1          1      0.995      0.744\n",
            "                 bawah        268         54      0.996          1      0.995      0.875\n",
            "                 depan        268         53      0.999          1      0.995      0.836\n",
            "                 kanan        268         53      0.996          1      0.995      0.784\n",
            "                  kiri        268         43      0.998          1      0.995      0.802\n",
            "Speed: 0.3ms preprocess, 4.2ms inference, 0.0ms loss, 1.9ms postprocess per image\n",
            "Results saved to \u001b[1mruns/detect/train97\u001b[0m\n",
            "Processing model 96: /content/drive/MyDrive/koding kuliah skripsi/YOLO Train FIX/Training with callback/runs_deepISP/detect/train2/weights/epoch96.pt\n",
            "Ultralytics YOLOv8.1.1 🚀 Python-3.10.12 torch-2.1.0+cu121 CUDA:0 (Tesla T4, 15102MiB)\n",
            "Model summary (fused): 168 layers, 3006623 parameters, 0 gradients, 8.1 GFLOPs\n"
          ]
        },
        {
          "output_type": "stream",
          "name": "stderr",
          "text": [
            "\u001b[34m\u001b[1mval: \u001b[0mScanning /content/Head-motion-using-deep-ISP-1/valid/labels.cache... 268 images, 0 backgrounds, 0 corrupt: 100%|██████████| 268/268 [00:00<?, ?it/s]\n",
            "                 Class     Images  Instances      Box(P          R      mAP50  mAP50-95): 100%|██████████| 17/17 [00:02<00:00,  7.27it/s]\n"
          ]
        },
        {
          "output_type": "stream",
          "name": "stdout",
          "text": [
            "                   all        268        268      0.997          1      0.995       0.81\n",
            "                  atas        268         65          1          1      0.995      0.744\n",
            "                 bawah        268         54      0.996          1      0.995      0.874\n",
            "                 depan        268         53      0.998          1      0.995      0.833\n",
            "                 kanan        268         53      0.996          1      0.995      0.792\n",
            "                  kiri        268         43      0.997          1      0.995      0.804\n",
            "Speed: 0.1ms preprocess, 4.1ms inference, 0.0ms loss, 2.1ms postprocess per image\n",
            "Results saved to \u001b[1mruns/detect/train98\u001b[0m\n",
            "Processing model 97: /content/drive/MyDrive/koding kuliah skripsi/YOLO Train FIX/Training with callback/runs_deepISP/detect/train2/weights/epoch97.pt\n",
            "Ultralytics YOLOv8.1.1 🚀 Python-3.10.12 torch-2.1.0+cu121 CUDA:0 (Tesla T4, 15102MiB)\n",
            "Model summary (fused): 168 layers, 3006623 parameters, 0 gradients, 8.1 GFLOPs\n"
          ]
        },
        {
          "output_type": "stream",
          "name": "stderr",
          "text": [
            "\u001b[34m\u001b[1mval: \u001b[0mScanning /content/Head-motion-using-deep-ISP-1/valid/labels.cache... 268 images, 0 backgrounds, 0 corrupt: 100%|██████████| 268/268 [00:00<?, ?it/s]\n",
            "                 Class     Images  Instances      Box(P          R      mAP50  mAP50-95): 100%|██████████| 17/17 [00:03<00:00,  5.26it/s]\n"
          ]
        },
        {
          "output_type": "stream",
          "name": "stdout",
          "text": [
            "                   all        268        268      0.997          1      0.995      0.809\n",
            "                  atas        268         65          1          1      0.995      0.743\n",
            "                 bawah        268         54      0.993          1      0.995      0.878\n",
            "                 depan        268         53      0.999          1      0.995      0.828\n",
            "                 kanan        268         53      0.995          1      0.995      0.793\n",
            "                  kiri        268         43      0.997          1      0.995      0.803\n",
            "Speed: 0.2ms preprocess, 2.2ms inference, 0.0ms loss, 2.0ms postprocess per image\n",
            "Results saved to \u001b[1mruns/detect/train99\u001b[0m\n",
            "Processing model 98: /content/drive/MyDrive/koding kuliah skripsi/YOLO Train FIX/Training with callback/runs_deepISP/detect/train2/weights/epoch98.pt\n",
            "Ultralytics YOLOv8.1.1 🚀 Python-3.10.12 torch-2.1.0+cu121 CUDA:0 (Tesla T4, 15102MiB)\n",
            "Model summary (fused): 168 layers, 3006623 parameters, 0 gradients, 8.1 GFLOPs\n"
          ]
        },
        {
          "output_type": "stream",
          "name": "stderr",
          "text": [
            "\u001b[34m\u001b[1mval: \u001b[0mScanning /content/Head-motion-using-deep-ISP-1/valid/labels.cache... 268 images, 0 backgrounds, 0 corrupt: 100%|██████████| 268/268 [00:00<?, ?it/s]\n",
            "                 Class     Images  Instances      Box(P          R      mAP50  mAP50-95): 100%|██████████| 17/17 [00:02<00:00,  5.96it/s]\n"
          ]
        },
        {
          "output_type": "stream",
          "name": "stdout",
          "text": [
            "                   all        268        268      0.997          1      0.995      0.811\n",
            "                  atas        268         65          1          1      0.995      0.743\n",
            "                 bawah        268         54      0.993          1      0.995       0.88\n",
            "                 depan        268         53          1          1      0.995      0.829\n",
            "                 kanan        268         53      0.995          1      0.995      0.801\n",
            "                  kiri        268         43      0.997          1      0.995      0.805\n",
            "Speed: 0.1ms preprocess, 1.9ms inference, 0.0ms loss, 1.8ms postprocess per image\n",
            "Results saved to \u001b[1mruns/detect/train100\u001b[0m\n",
            "Processing model 99: /content/drive/MyDrive/koding kuliah skripsi/YOLO Train FIX/Training with callback/runs_deepISP/detect/train2/weights/epoch99.pt\n",
            "Ultralytics YOLOv8.1.1 🚀 Python-3.10.12 torch-2.1.0+cu121 CUDA:0 (Tesla T4, 15102MiB)\n",
            "Model summary (fused): 168 layers, 3006623 parameters, 0 gradients, 8.1 GFLOPs\n"
          ]
        },
        {
          "output_type": "stream",
          "name": "stderr",
          "text": [
            "\u001b[34m\u001b[1mval: \u001b[0mScanning /content/Head-motion-using-deep-ISP-1/valid/labels.cache... 268 images, 0 backgrounds, 0 corrupt: 100%|██████████| 268/268 [00:00<?, ?it/s]\n",
            "                 Class     Images  Instances      Box(P          R      mAP50  mAP50-95): 100%|██████████| 17/17 [00:02<00:00,  6.89it/s]\n"
          ]
        },
        {
          "output_type": "stream",
          "name": "stdout",
          "text": [
            "                   all        268        268      0.997          1      0.995      0.811\n",
            "                  atas        268         65          1          1      0.995      0.748\n",
            "                 bawah        268         54      0.994          1      0.995      0.873\n",
            "                 depan        268         53          1          1      0.995      0.828\n",
            "                 kanan        268         53      0.995          1      0.995      0.799\n",
            "                  kiri        268         43      0.997          1      0.995      0.805\n",
            "Speed: 0.2ms preprocess, 1.3ms inference, 0.0ms loss, 1.6ms postprocess per image\n",
            "Results saved to \u001b[1mruns/detect/train101\u001b[0m\n",
            "Processing model 100: /content/drive/MyDrive/koding kuliah skripsi/YOLO Train FIX/Training with callback/runs_deepISP/detect/train2/weights/last.pt\n",
            "Ultralytics YOLOv8.1.1 🚀 Python-3.10.12 torch-2.1.0+cu121 CUDA:0 (Tesla T4, 15102MiB)\n",
            "Model summary (fused): 168 layers, 3006623 parameters, 0 gradients, 8.1 GFLOPs\n"
          ]
        },
        {
          "output_type": "stream",
          "name": "stderr",
          "text": [
            "\u001b[34m\u001b[1mval: \u001b[0mScanning /content/Head-motion-using-deep-ISP-1/valid/labels.cache... 268 images, 0 backgrounds, 0 corrupt: 100%|██████████| 268/268 [00:00<?, ?it/s]\n",
            "                 Class     Images  Instances      Box(P          R      mAP50  mAP50-95): 100%|██████████| 17/17 [00:02<00:00,  7.03it/s]\n"
          ]
        },
        {
          "output_type": "stream",
          "name": "stdout",
          "text": [
            "                   all        268        268      0.997          1      0.995      0.811\n",
            "                  atas        268         65          1          1      0.995      0.748\n",
            "                 bawah        268         54      0.994          1      0.995      0.873\n",
            "                 depan        268         53          1          1      0.995      0.828\n",
            "                 kanan        268         53      0.995          1      0.995      0.799\n",
            "                  kiri        268         43      0.997          1      0.995      0.805\n",
            "Speed: 0.1ms preprocess, 3.4ms inference, 0.0ms loss, 2.6ms postprocess per image\n",
            "Results saved to \u001b[1mruns/detect/train102\u001b[0m\n",
            "Processing model 101: /content/drive/MyDrive/koding kuliah skripsi/YOLO Train FIX/Training with callback/runs_deepISP/detect/train2/weights/best.pt\n",
            "Ultralytics YOLOv8.1.1 🚀 Python-3.10.12 torch-2.1.0+cu121 CUDA:0 (Tesla T4, 15102MiB)\n",
            "Model summary (fused): 168 layers, 3006623 parameters, 0 gradients, 8.1 GFLOPs\n"
          ]
        },
        {
          "output_type": "stream",
          "name": "stderr",
          "text": [
            "\u001b[34m\u001b[1mval: \u001b[0mScanning /content/Head-motion-using-deep-ISP-1/valid/labels.cache... 268 images, 0 backgrounds, 0 corrupt: 100%|██████████| 268/268 [00:00<?, ?it/s]\n",
            "                 Class     Images  Instances      Box(P          R      mAP50  mAP50-95): 100%|██████████| 17/17 [00:02<00:00,  7.26it/s]\n"
          ]
        },
        {
          "output_type": "stream",
          "name": "stdout",
          "text": [
            "                   all        268        268      0.997          1      0.995      0.811\n",
            "                  atas        268         65          1          1      0.995      0.743\n",
            "                 bawah        268         54      0.993          1      0.995       0.88\n",
            "                 depan        268         53          1          1      0.995      0.829\n",
            "                 kanan        268         53      0.995          1      0.995      0.801\n",
            "                  kiri        268         43      0.997          1      0.995      0.805\n",
            "Speed: 0.2ms preprocess, 3.4ms inference, 0.0ms loss, 2.7ms postprocess per image\n",
            "Results saved to \u001b[1mruns/detect/train103\u001b[0m\n"
          ]
        }
      ]
    },
    {
      "cell_type": "markdown",
      "source": [
        "#ZIP"
      ],
      "metadata": {
        "id": "ip6qtr3qyW0S"
      }
    },
    {
      "cell_type": "code",
      "source": [
        "import zipfile\n",
        "import os\n",
        "\n",
        "def zip_folder(source_folder, output_path):\n",
        "    with zipfile.ZipFile(output_path, 'w', zipfile.ZIP_DEFLATED) as zipf:\n",
        "        for root, _, files in os.walk(source_folder):\n",
        "            for file in files:\n",
        "                file_path = os.path.join(root, file)\n",
        "                arcname = os.path.relpath(file_path, source_folder)\n",
        "                zipf.write(file_path, arcname)\n",
        "\n",
        "source_folder = '/content/runs'\n",
        "output_path = '/content/YOUR_FILE.zip'\n",
        "\n",
        "zip_folder(source_folder, output_path)\n",
        "print(f'Folder \"{source_folder}\" zipped to \"{output_path}\"')\n"
      ],
      "metadata": {
        "id": "63j908SbyXne"
      },
      "execution_count": null,
      "outputs": []
    },
    {
      "cell_type": "markdown",
      "source": [
        "#Move folder"
      ],
      "metadata": {
        "id": "--pErX3xKIVb"
      }
    },
    {
      "cell_type": "code",
      "source": [
        "import shutil\n",
        "\n",
        "# Source and destination paths\n",
        "source_path = \"/content/runs_deepISP_conf\" #I change my folder name from runs to runs_deepISP_conf\n",
        "destination_path = \"/content/drive/YOUR_DESIRED_PATH\"\n",
        "\n",
        "# Move the directory\n",
        "shutil.move(source_path, destination_path)\n"
      ],
      "metadata": {
        "id": "_FriaLw3KLCK"
      },
      "execution_count": null,
      "outputs": []
    }
  ],
  "metadata": {
    "accelerator": "GPU",
    "colab": {
      "provenance": []
    },
    "gpuClass": "standard",
    "kernelspec": {
      "display_name": "Python 3",
      "name": "python3"
    },
    "language_info": {
      "name": "python"
    }
  },
  "nbformat": 4,
  "nbformat_minor": 0
}