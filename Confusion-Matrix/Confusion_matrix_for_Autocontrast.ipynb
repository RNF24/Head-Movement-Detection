{
  "cells": [
    {
      "cell_type": "markdown",
      "source": [
        "#100 EPOCH"
      ],
      "metadata": {
        "id": "7oCYBeSqv106"
      }
    },
    {
      "cell_type": "markdown",
      "source": [
        "#Connect to Drive"
      ],
      "metadata": {
        "id": "-tkC-frh-9WM"
      }
    },
    {
      "cell_type": "code",
      "source": [
        "from google.colab import drive\n",
        "drive.mount('/content/drive')"
      ],
      "metadata": {
        "colab": {
          "base_uri": "https://localhost:8080/"
        },
        "id": "MYKFPA4l_Anm",
        "outputId": "afca6b9a-1810-46f2-c03a-4b2c75de1766"
      },
      "execution_count": null,
      "outputs": [
        {
          "output_type": "stream",
          "name": "stdout",
          "text": [
            "Mounted at /content/drive\n"
          ]
        }
      ]
    },
    {
      "cell_type": "markdown",
      "metadata": {
        "id": "3C3EO_2zNChu"
      },
      "source": [
        "## Install YOLOv8"
      ]
    },
    {
      "cell_type": "code",
      "execution_count": null,
      "metadata": {
        "colab": {
          "base_uri": "https://localhost:8080/"
        },
        "id": "tdSMcABDNKW-",
        "outputId": "f7dd0150-94ae-4ced-8297-1da1abb90b07"
      },
      "outputs": [
        {
          "output_type": "stream",
          "name": "stderr",
          "text": [
            "Ultralytics YOLOv8.0.211 🚀 Python-3.10.12 torch-2.1.0+cu118 CUDA:0 (Tesla T4, 15102MiB)\n",
            "Setup complete ✅ (2 CPUs, 12.7 GB RAM, 26.8/78.2 GB disk)\n"
          ]
        }
      ],
      "source": [
        "!pip install ultralytics\n",
        "\n",
        "from IPython import display\n",
        "display.clear_output()\n",
        "\n",
        "import ultralytics\n",
        "ultralytics.checks()"
      ]
    },
    {
      "cell_type": "code",
      "execution_count": null,
      "metadata": {
        "id": "VOEYrlBoP9-E"
      },
      "outputs": [],
      "source": [
        "from ultralytics import YOLO\n",
        "\n",
        "from IPython.display import display, Image"
      ]
    },
    {
      "cell_type": "markdown",
      "source": [
        "#Train"
      ],
      "metadata": {
        "id": "X2JQS94Tfr87"
      }
    },
    {
      "cell_type": "code",
      "execution_count": null,
      "metadata": {
        "colab": {
          "base_uri": "https://localhost:8080/"
        },
        "id": "BSd93ZJzZZKt",
        "outputId": "9719d69e-1e2c-4a49-8579-948afd357e11"
      },
      "outputs": [
        {
          "output_type": "stream",
          "name": "stdout",
          "text": [
            "\u001b[2K     \u001b[90m━━━━━━━━━━━━━━━━━━━━━━━━━━━━━━━━━━━━━━━━\u001b[0m \u001b[32m63.3/63.3 kB\u001b[0m \u001b[31m645.3 kB/s\u001b[0m eta \u001b[36m0:00:00\u001b[0m\n",
            "\u001b[2K     \u001b[90m━━━━━━━━━━━━━━━━━━━━━━━━━━━━━━━━━━━━━━━━\u001b[0m \u001b[32m178.7/178.7 kB\u001b[0m \u001b[31m2.6 MB/s\u001b[0m eta \u001b[36m0:00:00\u001b[0m\n",
            "\u001b[2K     \u001b[90m━━━━━━━━━━━━━━━━━━━━━━━━━━━━━━━━━━━━━━━━\u001b[0m \u001b[32m58.8/58.8 kB\u001b[0m \u001b[31m6.0 MB/s\u001b[0m eta \u001b[36m0:00:00\u001b[0m\n",
            "\u001b[2K     \u001b[90m━━━━━━━━━━━━━━━━━━━━━━━━━━━━━━━━━━━━━━━━\u001b[0m \u001b[32m49.1/49.1 MB\u001b[0m \u001b[31m13.3 MB/s\u001b[0m eta \u001b[36m0:00:00\u001b[0m\n",
            "\u001b[2K     \u001b[90m━━━━━━━━━━━━━━━━━━━━━━━━━━━━━━━━━━━━━━━━\u001b[0m \u001b[32m67.8/67.8 kB\u001b[0m \u001b[31m8.2 MB/s\u001b[0m eta \u001b[36m0:00:00\u001b[0m\n",
            "\u001b[2K     \u001b[90m━━━━━━━━━━━━━━━━━━━━━━━━━━━━━━━━━━━━━━━━\u001b[0m \u001b[32m72.2/72.2 kB\u001b[0m \u001b[31m7.9 MB/s\u001b[0m eta \u001b[36m0:00:00\u001b[0m\n",
            "\u001b[2K     \u001b[90m━━━━━━━━━━━━━━━━━━━━━━━━━━━━━━━━━━━━━━━━\u001b[0m \u001b[32m54.5/54.5 kB\u001b[0m \u001b[31m7.2 MB/s\u001b[0m eta \u001b[36m0:00:00\u001b[0m\n",
            "loading Roboflow workspace...\n",
            "loading Roboflow project...\n",
            "Dependency ultralytics==8.0.196 is required but found version=8.0.211, to fix: `pip install ultralytics==8.0.196`\n"
          ]
        },
        {
          "output_type": "stream",
          "name": "stderr",
          "text": [
            "Downloading Dataset Version Zip in Head-motion-3 to yolov8:: 100%|██████████| 17132/17132 [00:00<00:00, 55720.93it/s]"
          ]
        },
        {
          "output_type": "stream",
          "name": "stdout",
          "text": [
            "\n"
          ]
        },
        {
          "output_type": "stream",
          "name": "stderr",
          "text": [
            "\n",
            "Extracting Dataset Version Zip to Head-motion-3 in yolov8:: 100%|██████████| 9610/9610 [00:00<00:00, 11506.55it/s]\n"
          ]
        }
      ],
      "source": [
        "!pip install roboflow --quiet\n",
        "\n",
        "from roboflow import Roboflow\n",
        "rf = Roboflow(api_key=\"YOUR_API_KEY\")\n",
        "project = rf.workspace(\"university-bwrcv\").project(\"head-motion\")\n",
        "dataset = project.version(3).download(\"yolov8\")"
      ]
    },
    {
      "cell_type": "markdown",
      "metadata": {
        "id": "YUjFBKKqXa-u"
      },
      "source": [
        "## Generate conf matrix"
      ]
    },
    {
      "cell_type": "code",
      "source": [
        "import glob\n",
        "from ultralytics.models.yolo.detect import DetectionValidator\n",
        "\n",
        "# Directory containing your PyTorch models\n",
        "models_directory = \"/content/drive/MyDrive/YOUR_PATH/weights/\" #Change this\n",
        "\n",
        "# Pattern to match PyTorch model files (assuming .pt extension)\n",
        "model_paths = glob.glob(models_directory + '/**/*.pt', recursive=True)\n",
        "\n",
        "args = dict(\n",
        "    data='/content/Head-motion-3/data.yaml',\n",
        "    batch=16, imgsz=128, save=True, save_period=1, cache=False, device=None, workers=8, project=None, exist_ok=False, pretrained=True, verbose=True, seed=0, deterministic=True, single_cls=False, rect=True, cos_lr=False, close_mosaic=10, resume=False, amp=True, fraction=1.0, profile=False, freeze=None, overlap_mask=True, mask_ratio=4, dropout=0.0, save_json=False, save_hybrid=False, conf=None, iou=0.7, max_det=300, half=False, dnn=False, plots=True, source=None, show=False, save_txt=False, save_conf=False, save_crop=False, show_labels=True, show_conf=True, vid_stride=1, stream_buffer=False, line_width=None, visualize=False, augment=False, agnostic_nms=False, classes=None, retina_masks=False, boxes=True, keras=False, optimize=False, int8=False, dynamic=False, simplify=False, opset=None, workspace=4, nms=False, lr0=0.01, lrf=0.01, momentum=0.937, weight_decay=0.0005, warmup_epochs=3.0, warmup_momentum=0.8, warmup_bias_lr=0.1, box=7.5, cls=0.5, dfl=1.5, pose=12.0, kobj=1.0, label_smoothing=0.0, nbs=64, hsv_h=0.015, hsv_s=0.7, hsv_v=0.4, degrees=0.0, translate=0.1, scale=0.5, shear=0.0, perspective=0.0, flipud=0.0, fliplr=0.5, mosaic=1.0, mixup=0.0, copy_paste=0.0, cfg=None, save_dir=\"runs/detect/train\",\n",
        ")\n",
        "\n",
        "for idx, model_path in enumerate(model_paths, start=1):\n",
        "    args['model'] = model_path  # Update the model path for each iteration\n",
        "    validator = DetectionValidator(args=args)\n",
        "    print(f\"Processing model {idx}: {model_path}\")  # Print model number and path\n",
        "    validator()  # Run detection/validation for each model found"
      ],
      "metadata": {
        "colab": {
          "base_uri": "https://localhost:8080/"
        },
        "id": "xxAZ39-uupAG",
        "outputId": "4844f825-0637-4801-da53-ebf400c119ed"
      },
      "execution_count": null,
      "outputs": [
        {
          "output_type": "stream",
          "name": "stderr",
          "text": [
            "Ultralytics YOLOv8.0.211 🚀 Python-3.10.12 torch-2.1.0+cu118 CUDA:0 (Tesla T4, 15102MiB)\n"
          ]
        },
        {
          "output_type": "stream",
          "name": "stdout",
          "text": [
            "Processing model 1: /content/drive/MyDrive/koding kuliah skripsi/YOLO Train FIX/Training with callback/runs/detect/train/weights/epoch1.pt\n"
          ]
        },
        {
          "output_type": "stream",
          "name": "stderr",
          "text": [
            "Model summary (fused): 168 layers, 3006623 parameters, 0 gradients, 8.1 GFLOPs\n",
            "Downloading https://ultralytics.com/assets/Arial.ttf to '/root/.config/Ultralytics/Arial.ttf'...\n",
            "100%|██████████| 755k/755k [00:00<00:00, 19.2MB/s]\n",
            "\u001b[34m\u001b[1mval: \u001b[0mScanning /content/Head-motion-3/valid/labels... 266 images, 0 backgrounds, 0 corrupt: 100%|██████████| 266/266 [00:00<00:00, 1951.94it/s]\n",
            "\u001b[34m\u001b[1mval: \u001b[0mNew cache created: /content/Head-motion-3/valid/labels.cache\n",
            "                 Class     Images  Instances      Box(P          R      mAP50  mAP50-95): 100%|██████████| 17/17 [00:07<00:00,  2.21it/s]\n",
            "                   all        266        266      0.556      0.875      0.787      0.504\n",
            "                  atas        266         55      0.265          1       0.98      0.519\n",
            "                 bawah        266         50      0.704      0.999      0.919       0.56\n",
            "                 depan        266         61      0.643      0.902       0.87       0.57\n",
            "                 kanan        266         51      0.678      0.494      0.626      0.473\n",
            "                  kiri        266         49      0.489       0.98      0.541      0.397\n",
            "Speed: 0.4ms preprocess, 4.7ms inference, 0.0ms loss, 3.8ms postprocess per image\n",
            "Results saved to \u001b[1mruns/detect/train2\u001b[0m\n",
            "Ultralytics YOLOv8.0.211 🚀 Python-3.10.12 torch-2.1.0+cu118 CUDA:0 (Tesla T4, 15102MiB)\n"
          ]
        },
        {
          "output_type": "stream",
          "name": "stdout",
          "text": [
            "Processing model 2: /content/drive/MyDrive/koding kuliah skripsi/YOLO Train FIX/Training with callback/runs/detect/train/weights/epoch2.pt\n"
          ]
        },
        {
          "output_type": "stream",
          "name": "stderr",
          "text": [
            "Model summary (fused): 168 layers, 3006623 parameters, 0 gradients, 8.1 GFLOPs\n",
            "\u001b[34m\u001b[1mval: \u001b[0mScanning /content/Head-motion-3/valid/labels.cache... 266 images, 0 backgrounds, 0 corrupt: 100%|██████████| 266/266 [00:00<?, ?it/s]\n",
            "                 Class     Images  Instances      Box(P          R      mAP50  mAP50-95): 100%|██████████| 17/17 [00:02<00:00,  6.03it/s]\n",
            "                   all        266        266      0.538      0.912      0.819       0.54\n",
            "                  atas        266         55      0.224          1      0.995      0.535\n",
            "                 bawah        266         50      0.841          1      0.983      0.711\n",
            "                 depan        266         61      0.619          1      0.963      0.648\n",
            "                 kanan        266         51      0.516      0.647      0.565      0.387\n",
            "                  kiri        266         49      0.492      0.911      0.592      0.419\n",
            "Speed: 0.1ms preprocess, 2.0ms inference, 0.0ms loss, 4.2ms postprocess per image\n",
            "Results saved to \u001b[1mruns/detect/train3\u001b[0m\n",
            "Ultralytics YOLOv8.0.211 🚀 Python-3.10.12 torch-2.1.0+cu118 CUDA:0 (Tesla T4, 15102MiB)\n"
          ]
        },
        {
          "output_type": "stream",
          "name": "stdout",
          "text": [
            "Processing model 3: /content/drive/MyDrive/koding kuliah skripsi/YOLO Train FIX/Training with callback/runs/detect/train/weights/epoch3.pt\n"
          ]
        },
        {
          "output_type": "stream",
          "name": "stderr",
          "text": [
            "Model summary (fused): 168 layers, 3006623 parameters, 0 gradients, 8.1 GFLOPs\n",
            "\u001b[34m\u001b[1mval: \u001b[0mScanning /content/Head-motion-3/valid/labels.cache... 266 images, 0 backgrounds, 0 corrupt: 100%|██████████| 266/266 [00:00<?, ?it/s]\n",
            "                 Class     Images  Instances      Box(P          R      mAP50  mAP50-95): 100%|██████████| 17/17 [00:02<00:00,  6.60it/s]\n",
            "                   all        266        266      0.558      0.916      0.867      0.591\n",
            "                  atas        266         55      0.561          1      0.993      0.565\n",
            "                 bawah        266         50      0.509          1      0.988      0.757\n",
            "                 depan        266         61      0.823      0.993      0.978      0.672\n",
            "                 kanan        266         51      0.414      0.588      0.502      0.332\n",
            "                  kiri        266         49      0.481          1      0.873      0.629\n",
            "Speed: 0.2ms preprocess, 2.3ms inference, 0.0ms loss, 4.4ms postprocess per image\n",
            "Results saved to \u001b[1mruns/detect/train4\u001b[0m\n",
            "Ultralytics YOLOv8.0.211 🚀 Python-3.10.12 torch-2.1.0+cu118 CUDA:0 (Tesla T4, 15102MiB)\n"
          ]
        },
        {
          "output_type": "stream",
          "name": "stdout",
          "text": [
            "Processing model 4: /content/drive/MyDrive/koding kuliah skripsi/YOLO Train FIX/Training with callback/runs/detect/train/weights/epoch4.pt\n"
          ]
        },
        {
          "output_type": "stream",
          "name": "stderr",
          "text": [
            "Model summary (fused): 168 layers, 3006623 parameters, 0 gradients, 8.1 GFLOPs\n",
            "\u001b[34m\u001b[1mval: \u001b[0mScanning /content/Head-motion-3/valid/labels.cache... 266 images, 0 backgrounds, 0 corrupt: 100%|██████████| 266/266 [00:00<?, ?it/s]\n",
            "                 Class     Images  Instances      Box(P          R      mAP50  mAP50-95): 100%|██████████| 17/17 [00:03<00:00,  4.86it/s]\n",
            "                   all        266        266      0.592      0.909      0.847      0.523\n",
            "                  atas        266         55      0.498      0.964      0.903      0.456\n",
            "                 bawah        266         50      0.578          1      0.994      0.675\n",
            "                 depan        266         61      0.997      0.934      0.991      0.603\n",
            "                 kanan        266         51       0.41      0.647      0.469       0.27\n",
            "                  kiri        266         49      0.478          1      0.877      0.611\n",
            "Speed: 0.3ms preprocess, 2.1ms inference, 0.0ms loss, 1.9ms postprocess per image\n",
            "Results saved to \u001b[1mruns/detect/train5\u001b[0m\n",
            "Ultralytics YOLOv8.0.211 🚀 Python-3.10.12 torch-2.1.0+cu118 CUDA:0 (Tesla T4, 15102MiB)\n"
          ]
        },
        {
          "output_type": "stream",
          "name": "stdout",
          "text": [
            "Processing model 5: /content/drive/MyDrive/koding kuliah skripsi/YOLO Train FIX/Training with callback/runs/detect/train/weights/epoch5.pt\n"
          ]
        },
        {
          "output_type": "stream",
          "name": "stderr",
          "text": [
            "Model summary (fused): 168 layers, 3006623 parameters, 0 gradients, 8.1 GFLOPs\n",
            "\u001b[34m\u001b[1mval: \u001b[0mScanning /content/Head-motion-3/valid/labels.cache... 266 images, 0 backgrounds, 0 corrupt: 100%|██████████| 266/266 [00:00<?, ?it/s]\n",
            "                 Class     Images  Instances      Box(P          R      mAP50  mAP50-95): 100%|██████████| 17/17 [00:03<00:00,  5.31it/s]\n",
            "                   all        266        266      0.552      0.888       0.85      0.594\n",
            "                  atas        266         55      0.445          1      0.966      0.566\n",
            "                 bawah        266         50      0.271          1      0.984      0.759\n",
            "                 depan        266         61          1       0.58      0.963      0.677\n",
            "                 kanan        266         51      0.583      0.863      0.638      0.453\n",
            "                  kiri        266         49      0.458          1        0.7      0.514\n",
            "Speed: 0.2ms preprocess, 3.2ms inference, 0.0ms loss, 2.1ms postprocess per image\n",
            "Results saved to \u001b[1mruns/detect/train6\u001b[0m\n",
            "Ultralytics YOLOv8.0.211 🚀 Python-3.10.12 torch-2.1.0+cu118 CUDA:0 (Tesla T4, 15102MiB)\n"
          ]
        },
        {
          "output_type": "stream",
          "name": "stdout",
          "text": [
            "Processing model 6: /content/drive/MyDrive/koding kuliah skripsi/YOLO Train FIX/Training with callback/runs/detect/train/weights/epoch6.pt\n"
          ]
        },
        {
          "output_type": "stream",
          "name": "stderr",
          "text": [
            "Model summary (fused): 168 layers, 3006623 parameters, 0 gradients, 8.1 GFLOPs\n",
            "\u001b[34m\u001b[1mval: \u001b[0mScanning /content/Head-motion-3/valid/labels.cache... 266 images, 0 backgrounds, 0 corrupt: 100%|██████████| 266/266 [00:00<?, ?it/s]\n",
            "                 Class     Images  Instances      Box(P          R      mAP50  mAP50-95): 100%|██████████| 17/17 [00:02<00:00,  6.93it/s]\n",
            "                   all        266        266      0.684       0.98      0.875      0.624\n",
            "                  atas        266         55      0.559          1      0.989      0.573\n",
            "                 bawah        266         50      0.906          1      0.995      0.763\n",
            "                 depan        266         61      0.956      0.902      0.984      0.706\n",
            "                 kanan        266         51      0.513          1      0.543      0.386\n",
            "                  kiri        266         49      0.485          1      0.862      0.695\n",
            "Speed: 0.1ms preprocess, 1.7ms inference, 0.0ms loss, 4.6ms postprocess per image\n",
            "Results saved to \u001b[1mruns/detect/train7\u001b[0m\n",
            "Ultralytics YOLOv8.0.211 🚀 Python-3.10.12 torch-2.1.0+cu118 CUDA:0 (Tesla T4, 15102MiB)\n"
          ]
        },
        {
          "output_type": "stream",
          "name": "stdout",
          "text": [
            "Processing model 7: /content/drive/MyDrive/koding kuliah skripsi/YOLO Train FIX/Training with callback/runs/detect/train/weights/epoch7.pt\n"
          ]
        },
        {
          "output_type": "stream",
          "name": "stderr",
          "text": [
            "Model summary (fused): 168 layers, 3006623 parameters, 0 gradients, 8.1 GFLOPs\n",
            "\u001b[34m\u001b[1mval: \u001b[0mScanning /content/Head-motion-3/valid/labels.cache... 266 images, 0 backgrounds, 0 corrupt: 100%|██████████| 266/266 [00:00<?, ?it/s]\n",
            "                 Class     Images  Instances      Box(P          R      mAP50  mAP50-95): 100%|██████████| 17/17 [00:03<00:00,  5.19it/s]\n",
            "                   all        266        266       0.76      0.906      0.863      0.586\n",
            "                  atas        266         55      0.781      0.982      0.984      0.606\n",
            "                 bawah        266         50      0.933       0.98      0.993      0.726\n",
            "                 depan        266         61      0.979      0.763      0.986      0.635\n",
            "                 kanan        266         51      0.631      0.804      0.697      0.462\n",
            "                  kiri        266         49      0.477          1      0.653      0.501\n",
            "Speed: 0.3ms preprocess, 2.2ms inference, 0.0ms loss, 1.9ms postprocess per image\n",
            "Results saved to \u001b[1mruns/detect/train8\u001b[0m\n",
            "Ultralytics YOLOv8.0.211 🚀 Python-3.10.12 torch-2.1.0+cu118 CUDA:0 (Tesla T4, 15102MiB)\n"
          ]
        },
        {
          "output_type": "stream",
          "name": "stdout",
          "text": [
            "Processing model 8: /content/drive/MyDrive/koding kuliah skripsi/YOLO Train FIX/Training with callback/runs/detect/train/weights/epoch8.pt\n"
          ]
        },
        {
          "output_type": "stream",
          "name": "stderr",
          "text": [
            "Model summary (fused): 168 layers, 3006623 parameters, 0 gradients, 8.1 GFLOPs\n",
            "\u001b[34m\u001b[1mval: \u001b[0mScanning /content/Head-motion-3/valid/labels.cache... 266 images, 0 backgrounds, 0 corrupt: 100%|██████████| 266/266 [00:00<?, ?it/s]\n",
            "                 Class     Images  Instances      Box(P          R      mAP50  mAP50-95): 100%|██████████| 17/17 [00:02<00:00,  7.16it/s]\n",
            "                   all        266        266      0.732      0.945      0.938      0.674\n",
            "                  atas        266         55      0.743          1      0.993      0.627\n",
            "                 bawah        266         50      0.837          1      0.995      0.772\n",
            "                 depan        266         61      0.919      0.984      0.987      0.696\n",
            "                 kanan        266         51      0.677       0.74      0.734      0.539\n",
            "                  kiri        266         49      0.486          1      0.984      0.734\n",
            "Speed: 0.2ms preprocess, 2.7ms inference, 0.0ms loss, 3.6ms postprocess per image\n",
            "Results saved to \u001b[1mruns/detect/train9\u001b[0m\n",
            "Ultralytics YOLOv8.0.211 🚀 Python-3.10.12 torch-2.1.0+cu118 CUDA:0 (Tesla T4, 15102MiB)\n"
          ]
        },
        {
          "output_type": "stream",
          "name": "stdout",
          "text": [
            "Processing model 9: /content/drive/MyDrive/koding kuliah skripsi/YOLO Train FIX/Training with callback/runs/detect/train/weights/epoch9.pt\n"
          ]
        },
        {
          "output_type": "stream",
          "name": "stderr",
          "text": [
            "Model summary (fused): 168 layers, 3006623 parameters, 0 gradients, 8.1 GFLOPs\n",
            "\u001b[34m\u001b[1mval: \u001b[0mScanning /content/Head-motion-3/valid/labels.cache... 266 images, 0 backgrounds, 0 corrupt: 100%|██████████| 266/266 [00:00<?, ?it/s]\n",
            "                 Class     Images  Instances      Box(P          R      mAP50  mAP50-95): 100%|██████████| 17/17 [00:02<00:00,  7.13it/s]\n",
            "                   all        266        266      0.808      0.937       0.98      0.695\n",
            "                  atas        266         55       0.76          1      0.991       0.56\n",
            "                 bawah        266         50      0.899       0.96      0.986      0.778\n",
            "                 depan        266         61       0.98      0.802      0.989      0.696\n",
            "                 kanan        266         51      0.971      0.922       0.99      0.701\n",
            "                  kiri        266         49       0.43          1      0.942      0.739\n",
            "Speed: 0.1ms preprocess, 2.4ms inference, 0.0ms loss, 3.8ms postprocess per image\n",
            "Results saved to \u001b[1mruns/detect/train10\u001b[0m\n",
            "Ultralytics YOLOv8.0.211 🚀 Python-3.10.12 torch-2.1.0+cu118 CUDA:0 (Tesla T4, 15102MiB)\n"
          ]
        },
        {
          "output_type": "stream",
          "name": "stdout",
          "text": [
            "Processing model 10: /content/drive/MyDrive/koding kuliah skripsi/YOLO Train FIX/Training with callback/runs/detect/train/weights/epoch10.pt\n"
          ]
        },
        {
          "output_type": "stream",
          "name": "stderr",
          "text": [
            "Model summary (fused): 168 layers, 3006623 parameters, 0 gradients, 8.1 GFLOPs\n",
            "\u001b[34m\u001b[1mval: \u001b[0mScanning /content/Head-motion-3/valid/labels.cache... 266 images, 0 backgrounds, 0 corrupt: 100%|██████████| 266/266 [00:00<?, ?it/s]\n",
            "                 Class     Images  Instances      Box(P          R      mAP50  mAP50-95): 100%|██████████| 17/17 [00:02<00:00,  7.29it/s]\n",
            "                   all        266        266      0.873      0.922      0.986      0.704\n",
            "                  atas        266         55      0.837          1      0.989      0.588\n",
            "                 bawah        266         50      0.861          1      0.995      0.773\n",
            "                 depan        266         61      0.981      0.844      0.991      0.696\n",
            "                 kanan        266         51      0.975      0.766      0.966      0.713\n",
            "                  kiri        266         49      0.713          1      0.989       0.75\n",
            "Speed: 0.3ms preprocess, 2.5ms inference, 0.0ms loss, 3.6ms postprocess per image\n",
            "Results saved to \u001b[1mruns/detect/train11\u001b[0m\n",
            "Ultralytics YOLOv8.0.211 🚀 Python-3.10.12 torch-2.1.0+cu118 CUDA:0 (Tesla T4, 15102MiB)\n"
          ]
        },
        {
          "output_type": "stream",
          "name": "stdout",
          "text": [
            "Processing model 11: /content/drive/MyDrive/koding kuliah skripsi/YOLO Train FIX/Training with callback/runs/detect/train/weights/epoch11.pt\n"
          ]
        },
        {
          "output_type": "stream",
          "name": "stderr",
          "text": [
            "Model summary (fused): 168 layers, 3006623 parameters, 0 gradients, 8.1 GFLOPs\n",
            "\u001b[34m\u001b[1mval: \u001b[0mScanning /content/Head-motion-3/valid/labels.cache... 266 images, 0 backgrounds, 0 corrupt: 100%|██████████| 266/266 [00:00<?, ?it/s]\n",
            "                 Class     Images  Instances      Box(P          R      mAP50  mAP50-95): 100%|██████████| 17/17 [00:02<00:00,  6.83it/s]\n",
            "                   all        266        266      0.957      0.924      0.994       0.72\n",
            "                  atas        266         55      0.917          1       0.99      0.631\n",
            "                 bawah        266         50       0.97          1      0.995      0.761\n",
            "                 depan        266         61          1      0.834      0.993      0.714\n",
            "                 kanan        266         51          1      0.789      0.995      0.726\n",
            "                  kiri        266         49      0.899          1      0.995      0.767\n",
            "Speed: 0.1ms preprocess, 3.9ms inference, 0.0ms loss, 2.6ms postprocess per image\n",
            "Results saved to \u001b[1mruns/detect/train12\u001b[0m\n",
            "Ultralytics YOLOv8.0.211 🚀 Python-3.10.12 torch-2.1.0+cu118 CUDA:0 (Tesla T4, 15102MiB)\n"
          ]
        },
        {
          "output_type": "stream",
          "name": "stdout",
          "text": [
            "Processing model 12: /content/drive/MyDrive/koding kuliah skripsi/YOLO Train FIX/Training with callback/runs/detect/train/weights/epoch12.pt\n"
          ]
        },
        {
          "output_type": "stream",
          "name": "stderr",
          "text": [
            "Model summary (fused): 168 layers, 3006623 parameters, 0 gradients, 8.1 GFLOPs\n",
            "\u001b[34m\u001b[1mval: \u001b[0mScanning /content/Head-motion-3/valid/labels.cache... 266 images, 0 backgrounds, 0 corrupt: 100%|██████████| 266/266 [00:00<?, ?it/s]\n",
            "                 Class     Images  Instances      Box(P          R      mAP50  mAP50-95): 100%|██████████| 17/17 [00:02<00:00,  6.80it/s]\n",
            "                   all        266        266      0.793      0.965      0.991      0.708\n",
            "                  atas        266         55      0.768          1      0.991      0.581\n",
            "                 bawah        266         50      0.771          1      0.995      0.761\n",
            "                 depan        266         61      0.987      0.984      0.994      0.721\n",
            "                 kanan        266         51      0.977       0.84      0.982      0.703\n",
            "                  kiri        266         49      0.459          1      0.992      0.774\n",
            "Speed: 0.1ms preprocess, 2.2ms inference, 0.0ms loss, 2.8ms postprocess per image\n",
            "Results saved to \u001b[1mruns/detect/train13\u001b[0m\n",
            "Ultralytics YOLOv8.0.211 🚀 Python-3.10.12 torch-2.1.0+cu118 CUDA:0 (Tesla T4, 15102MiB)\n"
          ]
        },
        {
          "output_type": "stream",
          "name": "stdout",
          "text": [
            "Processing model 13: /content/drive/MyDrive/koding kuliah skripsi/YOLO Train FIX/Training with callback/runs/detect/train/weights/epoch13.pt\n"
          ]
        },
        {
          "output_type": "stream",
          "name": "stderr",
          "text": [
            "Model summary (fused): 168 layers, 3006623 parameters, 0 gradients, 8.1 GFLOPs\n",
            "\u001b[34m\u001b[1mval: \u001b[0mScanning /content/Head-motion-3/valid/labels.cache... 266 images, 0 backgrounds, 0 corrupt: 100%|██████████| 266/266 [00:00<?, ?it/s]\n",
            "                 Class     Images  Instances      Box(P          R      mAP50  mAP50-95): 100%|██████████| 17/17 [00:03<00:00,  5.36it/s]\n",
            "                   all        266        266       0.93      0.966      0.994      0.723\n",
            "                  atas        266         55      0.982      0.995      0.989      0.626\n",
            "                 bawah        266         50      0.837          1      0.995      0.765\n",
            "                 depan        266         61          1      0.905      0.994      0.719\n",
            "                 kanan        266         51          1      0.929      0.995      0.746\n",
            "                  kiri        266         49      0.831          1      0.995       0.76\n",
            "Speed: 0.2ms preprocess, 1.9ms inference, 0.0ms loss, 1.9ms postprocess per image\n",
            "Results saved to \u001b[1mruns/detect/train14\u001b[0m\n",
            "Ultralytics YOLOv8.0.211 🚀 Python-3.10.12 torch-2.1.0+cu118 CUDA:0 (Tesla T4, 15102MiB)\n"
          ]
        },
        {
          "output_type": "stream",
          "name": "stdout",
          "text": [
            "Processing model 14: /content/drive/MyDrive/koding kuliah skripsi/YOLO Train FIX/Training with callback/runs/detect/train/weights/epoch14.pt\n"
          ]
        },
        {
          "output_type": "stream",
          "name": "stderr",
          "text": [
            "Model summary (fused): 168 layers, 3006623 parameters, 0 gradients, 8.1 GFLOPs\n",
            "\u001b[34m\u001b[1mval: \u001b[0mScanning /content/Head-motion-3/valid/labels.cache... 266 images, 0 backgrounds, 0 corrupt: 100%|██████████| 266/266 [00:00<?, ?it/s]\n",
            "                 Class     Images  Instances      Box(P          R      mAP50  mAP50-95): 100%|██████████| 17/17 [00:02<00:00,  7.21it/s]\n",
            "                   all        266        266       0.97      0.947      0.995      0.731\n",
            "                  atas        266         55      0.982      0.992      0.994      0.629\n",
            "                 bawah        266         50      0.971          1      0.995      0.781\n",
            "                 depan        266         61          1      0.896      0.995      0.712\n",
            "                 kanan        266         51          1      0.847      0.995      0.749\n",
            "                  kiri        266         49      0.896          1      0.995      0.783\n",
            "Speed: 0.2ms preprocess, 3.0ms inference, 0.0ms loss, 3.2ms postprocess per image\n",
            "Results saved to \u001b[1mruns/detect/train15\u001b[0m\n",
            "Ultralytics YOLOv8.0.211 🚀 Python-3.10.12 torch-2.1.0+cu118 CUDA:0 (Tesla T4, 15102MiB)\n"
          ]
        },
        {
          "output_type": "stream",
          "name": "stdout",
          "text": [
            "Processing model 15: /content/drive/MyDrive/koding kuliah skripsi/YOLO Train FIX/Training with callback/runs/detect/train/weights/epoch15.pt\n"
          ]
        },
        {
          "output_type": "stream",
          "name": "stderr",
          "text": [
            "Model summary (fused): 168 layers, 3006623 parameters, 0 gradients, 8.1 GFLOPs\n",
            "\u001b[34m\u001b[1mval: \u001b[0mScanning /content/Head-motion-3/valid/labels.cache... 266 images, 0 backgrounds, 0 corrupt: 100%|██████████| 266/266 [00:00<?, ?it/s]\n",
            "                 Class     Images  Instances      Box(P          R      mAP50  mAP50-95): 100%|██████████| 17/17 [00:02<00:00,  7.16it/s]\n",
            "                   all        266        266      0.937      0.973      0.993      0.725\n",
            "                  atas        266         55      0.927          1       0.99      0.594\n",
            "                 bawah        266         50      0.983          1      0.995      0.801\n",
            "                 depan        266         61          1      0.962      0.995      0.692\n",
            "                 kanan        266         51          1      0.904      0.995      0.735\n",
            "                  kiri        266         49      0.775          1      0.993      0.804\n",
            "Speed: 0.2ms preprocess, 2.7ms inference, 0.0ms loss, 3.5ms postprocess per image\n",
            "Results saved to \u001b[1mruns/detect/train16\u001b[0m\n",
            "Ultralytics YOLOv8.0.211 🚀 Python-3.10.12 torch-2.1.0+cu118 CUDA:0 (Tesla T4, 15102MiB)\n"
          ]
        },
        {
          "output_type": "stream",
          "name": "stdout",
          "text": [
            "Processing model 16: /content/drive/MyDrive/koding kuliah skripsi/YOLO Train FIX/Training with callback/runs/detect/train/weights/epoch16.pt\n"
          ]
        },
        {
          "output_type": "stream",
          "name": "stderr",
          "text": [
            "Model summary (fused): 168 layers, 3006623 parameters, 0 gradients, 8.1 GFLOPs\n",
            "\u001b[34m\u001b[1mval: \u001b[0mScanning /content/Head-motion-3/valid/labels.cache... 266 images, 0 backgrounds, 0 corrupt: 100%|██████████| 266/266 [00:00<?, ?it/s]\n",
            "                 Class     Images  Instances      Box(P          R      mAP50  mAP50-95): 100%|██████████| 17/17 [00:02<00:00,  7.42it/s]\n",
            "                   all        266        266      0.986      0.997      0.995      0.734\n",
            "                  atas        266         55      0.967          1      0.993      0.603\n",
            "                 bawah        266         50      0.985          1      0.995      0.773\n",
            "                 depan        266         61          1      0.987      0.995      0.744\n",
            "                 kanan        266         51       0.99          1      0.995      0.766\n",
            "                  kiri        266         49      0.987          1      0.995      0.785\n",
            "Speed: 0.2ms preprocess, 3.4ms inference, 0.0ms loss, 2.3ms postprocess per image\n",
            "Results saved to \u001b[1mruns/detect/train17\u001b[0m\n",
            "Ultralytics YOLOv8.0.211 🚀 Python-3.10.12 torch-2.1.0+cu118 CUDA:0 (Tesla T4, 15102MiB)\n"
          ]
        },
        {
          "output_type": "stream",
          "name": "stdout",
          "text": [
            "Processing model 17: /content/drive/MyDrive/koding kuliah skripsi/YOLO Train FIX/Training with callback/runs/detect/train/weights/epoch17.pt\n"
          ]
        },
        {
          "output_type": "stream",
          "name": "stderr",
          "text": [
            "Model summary (fused): 168 layers, 3006623 parameters, 0 gradients, 8.1 GFLOPs\n",
            "\u001b[34m\u001b[1mval: \u001b[0mScanning /content/Head-motion-3/valid/labels.cache... 266 images, 0 backgrounds, 0 corrupt: 100%|██████████| 266/266 [00:00<?, ?it/s]\n",
            "                 Class     Images  Instances      Box(P          R      mAP50  mAP50-95): 100%|██████████| 17/17 [00:02<00:00,  7.44it/s]\n",
            "                   all        266        266      0.993      0.997      0.995      0.754\n",
            "                  atas        266         55      0.979          1      0.992      0.637\n",
            "                 bawah        266         50          1          1      0.995      0.817\n",
            "                 depan        266         61          1      0.983      0.995      0.763\n",
            "                 kanan        266         51      0.992          1      0.995      0.743\n",
            "                  kiri        266         49      0.995          1      0.995       0.81\n",
            "Speed: 0.3ms preprocess, 2.7ms inference, 0.0ms loss, 3.2ms postprocess per image\n",
            "Results saved to \u001b[1mruns/detect/train18\u001b[0m\n",
            "Ultralytics YOLOv8.0.211 🚀 Python-3.10.12 torch-2.1.0+cu118 CUDA:0 (Tesla T4, 15102MiB)\n"
          ]
        },
        {
          "output_type": "stream",
          "name": "stdout",
          "text": [
            "Processing model 18: /content/drive/MyDrive/koding kuliah skripsi/YOLO Train FIX/Training with callback/runs/detect/train/weights/epoch18.pt\n"
          ]
        },
        {
          "output_type": "stream",
          "name": "stderr",
          "text": [
            "Model summary (fused): 168 layers, 3006623 parameters, 0 gradients, 8.1 GFLOPs\n",
            "\u001b[34m\u001b[1mval: \u001b[0mScanning /content/Head-motion-3/valid/labels.cache... 266 images, 0 backgrounds, 0 corrupt: 100%|██████████| 266/266 [00:00<?, ?it/s]\n",
            "                 Class     Images  Instances      Box(P          R      mAP50  mAP50-95): 100%|██████████| 17/17 [00:03<00:00,  5.37it/s]\n",
            "                   all        266        266      0.973      0.987      0.995       0.78\n",
            "                  atas        266         55      0.978          1      0.995      0.703\n",
            "                 bawah        266         50      0.991          1      0.995      0.797\n",
            "                 depan        266         61          1      0.996      0.995      0.799\n",
            "                 kanan        266         51          1      0.937      0.995       0.77\n",
            "                  kiri        266         49      0.896          1      0.995      0.831\n",
            "Speed: 0.0ms preprocess, 1.9ms inference, 0.0ms loss, 2.3ms postprocess per image\n",
            "Results saved to \u001b[1mruns/detect/train19\u001b[0m\n",
            "Ultralytics YOLOv8.0.211 🚀 Python-3.10.12 torch-2.1.0+cu118 CUDA:0 (Tesla T4, 15102MiB)\n"
          ]
        },
        {
          "output_type": "stream",
          "name": "stdout",
          "text": [
            "Processing model 19: /content/drive/MyDrive/koding kuliah skripsi/YOLO Train FIX/Training with callback/runs/detect/train/weights/epoch19.pt\n"
          ]
        },
        {
          "output_type": "stream",
          "name": "stderr",
          "text": [
            "Model summary (fused): 168 layers, 3006623 parameters, 0 gradients, 8.1 GFLOPs\n",
            "\u001b[34m\u001b[1mval: \u001b[0mScanning /content/Head-motion-3/valid/labels.cache... 266 images, 0 backgrounds, 0 corrupt: 100%|██████████| 266/266 [00:00<?, ?it/s]\n",
            "                 Class     Images  Instances      Box(P          R      mAP50  mAP50-95): 100%|██████████| 17/17 [00:02<00:00,  7.22it/s]\n",
            "                   all        266        266      0.993      0.994      0.995      0.761\n",
            "                  atas        266         55      0.978          1      0.993      0.697\n",
            "                 bawah        266         50      0.994          1      0.995      0.777\n",
            "                 depan        266         61          1      0.971      0.995      0.764\n",
            "                 kanan        266         51      0.999          1      0.995      0.747\n",
            "                  kiri        266         49      0.996          1      0.995      0.819\n",
            "Speed: 0.3ms preprocess, 2.8ms inference, 0.0ms loss, 3.3ms postprocess per image\n",
            "Results saved to \u001b[1mruns/detect/train20\u001b[0m\n",
            "Ultralytics YOLOv8.0.211 🚀 Python-3.10.12 torch-2.1.0+cu118 CUDA:0 (Tesla T4, 15102MiB)\n"
          ]
        },
        {
          "output_type": "stream",
          "name": "stdout",
          "text": [
            "Processing model 20: /content/drive/MyDrive/koding kuliah skripsi/YOLO Train FIX/Training with callback/runs/detect/train/weights/epoch20.pt\n"
          ]
        },
        {
          "output_type": "stream",
          "name": "stderr",
          "text": [
            "Model summary (fused): 168 layers, 3006623 parameters, 0 gradients, 8.1 GFLOPs\n",
            "\u001b[34m\u001b[1mval: \u001b[0mScanning /content/Head-motion-3/valid/labels.cache... 266 images, 0 backgrounds, 0 corrupt: 100%|██████████| 266/266 [00:00<?, ?it/s]\n",
            "                 Class     Images  Instances      Box(P          R      mAP50  mAP50-95): 100%|██████████| 17/17 [00:02<00:00,  5.77it/s]\n",
            "                   all        266        266      0.996      0.998      0.995      0.753\n",
            "                  atas        266         55      0.999          1      0.995      0.671\n",
            "                 bawah        266         50      0.996          1      0.995       0.78\n",
            "                 depan        266         61          1      0.989      0.995      0.769\n",
            "                 kanan        266         51      0.993          1      0.995      0.742\n",
            "                  kiri        266         49      0.992          1      0.995      0.803\n",
            "Speed: 0.1ms preprocess, 2.7ms inference, 0.0ms loss, 2.2ms postprocess per image\n",
            "Results saved to \u001b[1mruns/detect/train21\u001b[0m\n",
            "Ultralytics YOLOv8.0.211 🚀 Python-3.10.12 torch-2.1.0+cu118 CUDA:0 (Tesla T4, 15102MiB)\n"
          ]
        },
        {
          "output_type": "stream",
          "name": "stdout",
          "text": [
            "Processing model 21: /content/drive/MyDrive/koding kuliah skripsi/YOLO Train FIX/Training with callback/runs/detect/train/weights/epoch21.pt\n"
          ]
        },
        {
          "output_type": "stream",
          "name": "stderr",
          "text": [
            "Model summary (fused): 168 layers, 3006623 parameters, 0 gradients, 8.1 GFLOPs\n",
            "\u001b[34m\u001b[1mval: \u001b[0mScanning /content/Head-motion-3/valid/labels.cache... 266 images, 0 backgrounds, 0 corrupt: 100%|██████████| 266/266 [00:00<?, ?it/s]\n",
            "                 Class     Images  Instances      Box(P          R      mAP50  mAP50-95): 100%|██████████| 17/17 [00:02<00:00,  7.40it/s]\n",
            "                   all        266        266      0.992      0.998      0.994      0.778\n",
            "                  atas        266         55      0.979          1       0.99       0.71\n",
            "                 bawah        266         50      0.993          1      0.995      0.805\n",
            "                 depan        266         61          1      0.992      0.995      0.768\n",
            "                 kanan        266         51      0.991          1      0.995      0.773\n",
            "                  kiri        266         49      0.999          1      0.995      0.834\n",
            "Speed: 0.0ms preprocess, 3.0ms inference, 0.0ms loss, 2.6ms postprocess per image\n",
            "Results saved to \u001b[1mruns/detect/train22\u001b[0m\n",
            "Ultralytics YOLOv8.0.211 🚀 Python-3.10.12 torch-2.1.0+cu118 CUDA:0 (Tesla T4, 15102MiB)\n"
          ]
        },
        {
          "output_type": "stream",
          "name": "stdout",
          "text": [
            "Processing model 22: /content/drive/MyDrive/koding kuliah skripsi/YOLO Train FIX/Training with callback/runs/detect/train/weights/epoch22.pt\n"
          ]
        },
        {
          "output_type": "stream",
          "name": "stderr",
          "text": [
            "Model summary (fused): 168 layers, 3006623 parameters, 0 gradients, 8.1 GFLOPs\n",
            "\u001b[34m\u001b[1mval: \u001b[0mScanning /content/Head-motion-3/valid/labels.cache... 266 images, 0 backgrounds, 0 corrupt: 100%|██████████| 266/266 [00:00<?, ?it/s]\n",
            "                 Class     Images  Instances      Box(P          R      mAP50  mAP50-95): 100%|██████████| 17/17 [00:03<00:00,  5.51it/s]\n",
            "                   all        266        266      0.989      0.978      0.995      0.766\n",
            "                  atas        266         55      0.976          1      0.993      0.685\n",
            "                 bawah        266         50      0.996          1      0.995      0.787\n",
            "                 depan        266         61          1      0.984      0.994       0.76\n",
            "                 kanan        266         51      0.973          1      0.995      0.771\n",
            "                  kiri        266         49          1      0.904      0.995      0.826\n",
            "Speed: 0.1ms preprocess, 2.3ms inference, 0.0ms loss, 2.0ms postprocess per image\n",
            "Results saved to \u001b[1mruns/detect/train23\u001b[0m\n",
            "Ultralytics YOLOv8.0.211 🚀 Python-3.10.12 torch-2.1.0+cu118 CUDA:0 (Tesla T4, 15102MiB)\n"
          ]
        },
        {
          "output_type": "stream",
          "name": "stdout",
          "text": [
            "Processing model 23: /content/drive/MyDrive/koding kuliah skripsi/YOLO Train FIX/Training with callback/runs/detect/train/weights/epoch23.pt\n"
          ]
        },
        {
          "output_type": "stream",
          "name": "stderr",
          "text": [
            "Model summary (fused): 168 layers, 3006623 parameters, 0 gradients, 8.1 GFLOPs\n",
            "\u001b[34m\u001b[1mval: \u001b[0mScanning /content/Head-motion-3/valid/labels.cache... 266 images, 0 backgrounds, 0 corrupt: 100%|██████████| 266/266 [00:00<?, ?it/s]\n",
            "                 Class     Images  Instances      Box(P          R      mAP50  mAP50-95): 100%|██████████| 17/17 [00:02<00:00,  7.42it/s]\n",
            "                   all        266        266      0.998      0.998      0.995      0.764\n",
            "                  atas        266         55          1      0.988      0.995      0.691\n",
            "                 bawah        266         50          1          1      0.995      0.801\n",
            "                 depan        266         61      0.997          1      0.995      0.754\n",
            "                 kanan        266         51      0.997          1      0.995      0.769\n",
            "                  kiri        266         49      0.996          1      0.995      0.803\n",
            "Speed: 0.2ms preprocess, 1.6ms inference, 0.0ms loss, 4.4ms postprocess per image\n",
            "Results saved to \u001b[1mruns/detect/train24\u001b[0m\n",
            "Ultralytics YOLOv8.0.211 🚀 Python-3.10.12 torch-2.1.0+cu118 CUDA:0 (Tesla T4, 15102MiB)\n"
          ]
        },
        {
          "output_type": "stream",
          "name": "stdout",
          "text": [
            "Processing model 24: /content/drive/MyDrive/koding kuliah skripsi/YOLO Train FIX/Training with callback/runs/detect/train/weights/epoch24.pt\n"
          ]
        },
        {
          "output_type": "stream",
          "name": "stderr",
          "text": [
            "Model summary (fused): 168 layers, 3006623 parameters, 0 gradients, 8.1 GFLOPs\n",
            "\u001b[34m\u001b[1mval: \u001b[0mScanning /content/Head-motion-3/valid/labels.cache... 266 images, 0 backgrounds, 0 corrupt: 100%|██████████| 266/266 [00:00<?, ?it/s]\n",
            "                 Class     Images  Instances      Box(P          R      mAP50  mAP50-95): 100%|██████████| 17/17 [00:02<00:00,  7.04it/s]\n",
            "                   all        266        266      0.988      0.957       0.99      0.769\n",
            "                  atas        266         55          1          1      0.995      0.708\n",
            "                 bawah        266         50      0.999          1      0.995      0.792\n",
            "                 depan        266         61          1      0.987      0.995      0.752\n",
            "                 kanan        266         51      0.973      0.922      0.983      0.765\n",
            "                  kiri        266         49      0.967      0.878      0.981      0.828\n",
            "Speed: 0.2ms preprocess, 3.6ms inference, 0.0ms loss, 2.8ms postprocess per image\n",
            "Results saved to \u001b[1mruns/detect/train25\u001b[0m\n",
            "Ultralytics YOLOv8.0.211 🚀 Python-3.10.12 torch-2.1.0+cu118 CUDA:0 (Tesla T4, 15102MiB)\n"
          ]
        },
        {
          "output_type": "stream",
          "name": "stdout",
          "text": [
            "Processing model 25: /content/drive/MyDrive/koding kuliah skripsi/YOLO Train FIX/Training with callback/runs/detect/train/weights/epoch25.pt\n"
          ]
        },
        {
          "output_type": "stream",
          "name": "stderr",
          "text": [
            "Model summary (fused): 168 layers, 3006623 parameters, 0 gradients, 8.1 GFLOPs\n",
            "\u001b[34m\u001b[1mval: \u001b[0mScanning /content/Head-motion-3/valid/labels.cache... 266 images, 0 backgrounds, 0 corrupt: 100%|██████████| 266/266 [00:00<?, ?it/s]\n",
            "                 Class     Images  Instances      Box(P          R      mAP50  mAP50-95): 100%|██████████| 17/17 [00:02<00:00,  7.32it/s]\n",
            "                   all        266        266      0.984      0.972      0.995      0.784\n",
            "                  atas        266         55          1      0.996      0.995      0.702\n",
            "                 bawah        266         50      0.999          1      0.995      0.825\n",
            "                 depan        266         61          1      0.987      0.995      0.773\n",
            "                 kanan        266         51          1      0.874      0.995       0.77\n",
            "                  kiri        266         49      0.919          1      0.994      0.851\n",
            "Speed: 0.2ms preprocess, 3.6ms inference, 0.0ms loss, 1.4ms postprocess per image\n",
            "Results saved to \u001b[1mruns/detect/train26\u001b[0m\n",
            "Ultralytics YOLOv8.0.211 🚀 Python-3.10.12 torch-2.1.0+cu118 CUDA:0 (Tesla T4, 15102MiB)\n"
          ]
        },
        {
          "output_type": "stream",
          "name": "stdout",
          "text": [
            "Processing model 26: /content/drive/MyDrive/koding kuliah skripsi/YOLO Train FIX/Training with callback/runs/detect/train/weights/epoch26.pt\n"
          ]
        },
        {
          "output_type": "stream",
          "name": "stderr",
          "text": [
            "Model summary (fused): 168 layers, 3006623 parameters, 0 gradients, 8.1 GFLOPs\n",
            "\u001b[34m\u001b[1mval: \u001b[0mScanning /content/Head-motion-3/valid/labels.cache... 266 images, 0 backgrounds, 0 corrupt: 100%|██████████| 266/266 [00:00<?, ?it/s]\n",
            "                 Class     Images  Instances      Box(P          R      mAP50  mAP50-95): 100%|██████████| 17/17 [00:02<00:00,  7.40it/s]\n",
            "                   all        266        266      0.988      0.995      0.995      0.778\n",
            "                  atas        266         55      0.989          1      0.995      0.712\n",
            "                 bawah        266         50          1      0.986      0.995      0.814\n",
            "                 depan        266         61          1      0.989      0.995      0.749\n",
            "                 kanan        266         51      0.996          1      0.995      0.779\n",
            "                  kiri        266         49      0.954          1      0.995      0.838\n",
            "Speed: 0.2ms preprocess, 3.1ms inference, 0.0ms loss, 2.9ms postprocess per image\n",
            "Results saved to \u001b[1mruns/detect/train27\u001b[0m\n",
            "Ultralytics YOLOv8.0.211 🚀 Python-3.10.12 torch-2.1.0+cu118 CUDA:0 (Tesla T4, 15102MiB)\n"
          ]
        },
        {
          "output_type": "stream",
          "name": "stdout",
          "text": [
            "Processing model 27: /content/drive/MyDrive/koding kuliah skripsi/YOLO Train FIX/Training with callback/runs/detect/train/weights/epoch27.pt\n"
          ]
        },
        {
          "output_type": "stream",
          "name": "stderr",
          "text": [
            "Model summary (fused): 168 layers, 3006623 parameters, 0 gradients, 8.1 GFLOPs\n",
            "\u001b[34m\u001b[1mval: \u001b[0mScanning /content/Head-motion-3/valid/labels.cache... 266 images, 0 backgrounds, 0 corrupt: 100%|██████████| 266/266 [00:00<?, ?it/s]\n",
            "                 Class     Images  Instances      Box(P          R      mAP50  mAP50-95): 100%|██████████| 17/17 [00:03<00:00,  5.39it/s]\n",
            "                   all        266        266      0.992      0.994      0.993      0.775\n",
            "                  atas        266         55          1      0.991      0.995      0.712\n",
            "                 bawah        266         50      0.992          1      0.995      0.802\n",
            "                 depan        266         61      0.996          1      0.995      0.757\n",
            "                 kanan        266         51      0.975          1      0.988      0.776\n",
            "                  kiri        266         49      0.997       0.98      0.991      0.828\n",
            "Speed: 0.0ms preprocess, 2.3ms inference, 0.0ms loss, 1.8ms postprocess per image\n",
            "Results saved to \u001b[1mruns/detect/train28\u001b[0m\n",
            "Ultralytics YOLOv8.0.211 🚀 Python-3.10.12 torch-2.1.0+cu118 CUDA:0 (Tesla T4, 15102MiB)\n"
          ]
        },
        {
          "output_type": "stream",
          "name": "stdout",
          "text": [
            "Processing model 28: /content/drive/MyDrive/koding kuliah skripsi/YOLO Train FIX/Training with callback/runs/detect/train/weights/epoch28.pt\n"
          ]
        },
        {
          "output_type": "stream",
          "name": "stderr",
          "text": [
            "Model summary (fused): 168 layers, 3006623 parameters, 0 gradients, 8.1 GFLOPs\n",
            "\u001b[34m\u001b[1mval: \u001b[0mScanning /content/Head-motion-3/valid/labels.cache... 266 images, 0 backgrounds, 0 corrupt: 100%|██████████| 266/266 [00:00<?, ?it/s]\n",
            "                 Class     Images  Instances      Box(P          R      mAP50  mAP50-95): 100%|██████████| 17/17 [00:02<00:00,  7.17it/s]\n",
            "                   all        266        266      0.996      0.997      0.995      0.791\n",
            "                  atas        266         55      0.994          1      0.995      0.716\n",
            "                 bawah        266         50      0.996          1      0.995      0.817\n",
            "                 depan        266         61          1      0.989      0.995      0.772\n",
            "                 kanan        266         51      0.989          1      0.995      0.798\n",
            "                  kiri        266         49          1      0.995      0.995      0.852\n",
            "Speed: 0.2ms preprocess, 3.6ms inference, 0.0ms loss, 2.6ms postprocess per image\n",
            "Results saved to \u001b[1mruns/detect/train29\u001b[0m\n",
            "Ultralytics YOLOv8.0.211 🚀 Python-3.10.12 torch-2.1.0+cu118 CUDA:0 (Tesla T4, 15102MiB)\n"
          ]
        },
        {
          "output_type": "stream",
          "name": "stdout",
          "text": [
            "Processing model 29: /content/drive/MyDrive/koding kuliah skripsi/YOLO Train FIX/Training with callback/runs/detect/train/weights/epoch29.pt\n"
          ]
        },
        {
          "output_type": "stream",
          "name": "stderr",
          "text": [
            "Model summary (fused): 168 layers, 3006623 parameters, 0 gradients, 8.1 GFLOPs\n",
            "\u001b[34m\u001b[1mval: \u001b[0mScanning /content/Head-motion-3/valid/labels.cache... 266 images, 0 backgrounds, 0 corrupt: 100%|██████████| 266/266 [00:00<?, ?it/s]\n",
            "                 Class     Images  Instances      Box(P          R      mAP50  mAP50-95): 100%|██████████| 17/17 [00:02<00:00,  5.76it/s]\n",
            "                   all        266        266       0.99      0.998      0.995      0.788\n",
            "                  atas        266         55      0.998          1      0.995      0.715\n",
            "                 bawah        266         50      0.995          1      0.995      0.813\n",
            "                 depan        266         61          1      0.988      0.995      0.761\n",
            "                 kanan        266         51      0.996          1      0.995       0.79\n",
            "                  kiri        266         49      0.959          1      0.995       0.86\n",
            "Speed: 0.1ms preprocess, 1.9ms inference, 0.0ms loss, 1.9ms postprocess per image\n",
            "Results saved to \u001b[1mruns/detect/train30\u001b[0m\n",
            "Ultralytics YOLOv8.0.211 🚀 Python-3.10.12 torch-2.1.0+cu118 CUDA:0 (Tesla T4, 15102MiB)\n"
          ]
        },
        {
          "output_type": "stream",
          "name": "stdout",
          "text": [
            "Processing model 30: /content/drive/MyDrive/koding kuliah skripsi/YOLO Train FIX/Training with callback/runs/detect/train/weights/epoch30.pt\n"
          ]
        },
        {
          "output_type": "stream",
          "name": "stderr",
          "text": [
            "Model summary (fused): 168 layers, 3006623 parameters, 0 gradients, 8.1 GFLOPs\n",
            "\u001b[34m\u001b[1mval: \u001b[0mScanning /content/Head-motion-3/valid/labels.cache... 266 images, 0 backgrounds, 0 corrupt: 100%|██████████| 266/266 [00:00<?, ?it/s]\n",
            "                 Class     Images  Instances      Box(P          R      mAP50  mAP50-95): 100%|██████████| 17/17 [00:02<00:00,  7.32it/s]\n",
            "                   all        266        266      0.995      0.995      0.995      0.781\n",
            "                  atas        266         55      0.982      0.988      0.995       0.69\n",
            "                 bawah        266         50      0.996          1      0.995      0.806\n",
            "                 depan        266         61          1      0.986      0.995      0.759\n",
            "                 kanan        266         51      0.997          1      0.995      0.785\n",
            "                  kiri        266         49      0.998          1      0.995      0.865\n",
            "Speed: 0.2ms preprocess, 3.3ms inference, 0.0ms loss, 2.9ms postprocess per image\n",
            "Results saved to \u001b[1mruns/detect/train31\u001b[0m\n",
            "Ultralytics YOLOv8.0.211 🚀 Python-3.10.12 torch-2.1.0+cu118 CUDA:0 (Tesla T4, 15102MiB)\n"
          ]
        },
        {
          "output_type": "stream",
          "name": "stdout",
          "text": [
            "Processing model 31: /content/drive/MyDrive/koding kuliah skripsi/YOLO Train FIX/Training with callback/runs/detect/train/weights/epoch31.pt\n"
          ]
        },
        {
          "output_type": "stream",
          "name": "stderr",
          "text": [
            "Model summary (fused): 168 layers, 3006623 parameters, 0 gradients, 8.1 GFLOPs\n",
            "\u001b[34m\u001b[1mval: \u001b[0mScanning /content/Head-motion-3/valid/labels.cache... 266 images, 0 backgrounds, 0 corrupt: 100%|██████████| 266/266 [00:00<?, ?it/s]\n",
            "                 Class     Images  Instances      Box(P          R      mAP50  mAP50-95): 100%|██████████| 17/17 [00:03<00:00,  5.61it/s]\n",
            "                   all        266        266      0.996      0.997      0.995      0.777\n",
            "                  atas        266         55      0.992          1      0.995      0.707\n",
            "                 bawah        266         50      0.998          1      0.995      0.802\n",
            "                 depan        266         61          1      0.985      0.995      0.753\n",
            "                 kanan        266         51      0.993          1      0.995      0.786\n",
            "                  kiri        266         49      0.998          1      0.995      0.835\n",
            "Speed: 0.2ms preprocess, 2.0ms inference, 0.0ms loss, 1.9ms postprocess per image\n",
            "Results saved to \u001b[1mruns/detect/train32\u001b[0m\n",
            "Ultralytics YOLOv8.0.211 🚀 Python-3.10.12 torch-2.1.0+cu118 CUDA:0 (Tesla T4, 15102MiB)\n"
          ]
        },
        {
          "output_type": "stream",
          "name": "stdout",
          "text": [
            "Processing model 32: /content/drive/MyDrive/koding kuliah skripsi/YOLO Train FIX/Training with callback/runs/detect/train/weights/epoch32.pt\n"
          ]
        },
        {
          "output_type": "stream",
          "name": "stderr",
          "text": [
            "Model summary (fused): 168 layers, 3006623 parameters, 0 gradients, 8.1 GFLOPs\n",
            "\u001b[34m\u001b[1mval: \u001b[0mScanning /content/Head-motion-3/valid/labels.cache... 266 images, 0 backgrounds, 0 corrupt: 100%|██████████| 266/266 [00:00<?, ?it/s]\n",
            "                 Class     Images  Instances      Box(P          R      mAP50  mAP50-95): 100%|██████████| 17/17 [00:02<00:00,  7.17it/s]\n",
            "                   all        266        266      0.981      0.997      0.995      0.788\n",
            "                  atas        266         55      0.977          1      0.995      0.721\n",
            "                 bawah        266         50      0.993          1      0.995      0.808\n",
            "                 depan        266         61          1      0.991      0.995       0.76\n",
            "                 kanan        266         51          1      0.992      0.995      0.775\n",
            "                  kiri        266         49      0.934          1      0.995      0.876\n",
            "Speed: 0.1ms preprocess, 4.3ms inference, 0.0ms loss, 1.9ms postprocess per image\n",
            "Results saved to \u001b[1mruns/detect/train33\u001b[0m\n",
            "Ultralytics YOLOv8.0.211 🚀 Python-3.10.12 torch-2.1.0+cu118 CUDA:0 (Tesla T4, 15102MiB)\n"
          ]
        },
        {
          "output_type": "stream",
          "name": "stdout",
          "text": [
            "Processing model 33: /content/drive/MyDrive/koding kuliah skripsi/YOLO Train FIX/Training with callback/runs/detect/train/weights/epoch33.pt\n"
          ]
        },
        {
          "output_type": "stream",
          "name": "stderr",
          "text": [
            "Model summary (fused): 168 layers, 3006623 parameters, 0 gradients, 8.1 GFLOPs\n",
            "\u001b[34m\u001b[1mval: \u001b[0mScanning /content/Head-motion-3/valid/labels.cache... 266 images, 0 backgrounds, 0 corrupt: 100%|██████████| 266/266 [00:00<?, ?it/s]\n",
            "                 Class     Images  Instances      Box(P          R      mAP50  mAP50-95): 100%|██████████| 17/17 [00:02<00:00,  7.51it/s]\n",
            "                   all        266        266      0.998      0.997      0.995      0.784\n",
            "                  atas        266         55      0.997          1      0.995      0.729\n",
            "                 bawah        266         50      0.999          1      0.995      0.815\n",
            "                 depan        266         61          1      0.987      0.995      0.758\n",
            "                 kanan        266         51      0.997          1      0.995      0.766\n",
            "                  kiri        266         49      0.997          1      0.995      0.849\n",
            "Speed: 0.2ms preprocess, 3.2ms inference, 0.0ms loss, 1.9ms postprocess per image\n",
            "Results saved to \u001b[1mruns/detect/train34\u001b[0m\n",
            "Ultralytics YOLOv8.0.211 🚀 Python-3.10.12 torch-2.1.0+cu118 CUDA:0 (Tesla T4, 15102MiB)\n"
          ]
        },
        {
          "output_type": "stream",
          "name": "stdout",
          "text": [
            "Processing model 34: /content/drive/MyDrive/koding kuliah skripsi/YOLO Train FIX/Training with callback/runs/detect/train/weights/epoch34.pt\n"
          ]
        },
        {
          "output_type": "stream",
          "name": "stderr",
          "text": [
            "Model summary (fused): 168 layers, 3006623 parameters, 0 gradients, 8.1 GFLOPs\n",
            "\u001b[34m\u001b[1mval: \u001b[0mScanning /content/Head-motion-3/valid/labels.cache... 266 images, 0 backgrounds, 0 corrupt: 100%|██████████| 266/266 [00:00<?, ?it/s]\n",
            "                 Class     Images  Instances      Box(P          R      mAP50  mAP50-95): 100%|██████████| 17/17 [00:03<00:00,  5.50it/s]\n",
            "                   all        266        266      0.994      0.997      0.995      0.781\n",
            "                  atas        266         55       0.98          1      0.995      0.695\n",
            "                 bawah        266         50      0.999          1      0.995      0.808\n",
            "                 depan        266         61          1      0.986      0.995       0.77\n",
            "                 kanan        266         51      0.995          1      0.995      0.785\n",
            "                  kiri        266         49      0.994          1      0.995      0.844\n",
            "Speed: 0.2ms preprocess, 2.0ms inference, 0.0ms loss, 1.7ms postprocess per image\n",
            "Results saved to \u001b[1mruns/detect/train35\u001b[0m\n",
            "Ultralytics YOLOv8.0.211 🚀 Python-3.10.12 torch-2.1.0+cu118 CUDA:0 (Tesla T4, 15102MiB)\n"
          ]
        },
        {
          "output_type": "stream",
          "name": "stdout",
          "text": [
            "Processing model 35: /content/drive/MyDrive/koding kuliah skripsi/YOLO Train FIX/Training with callback/runs/detect/train/weights/epoch35.pt\n"
          ]
        },
        {
          "output_type": "stream",
          "name": "stderr",
          "text": [
            "Model summary (fused): 168 layers, 3006623 parameters, 0 gradients, 8.1 GFLOPs\n",
            "\u001b[34m\u001b[1mval: \u001b[0mScanning /content/Head-motion-3/valid/labels.cache... 266 images, 0 backgrounds, 0 corrupt: 100%|██████████| 266/266 [00:00<?, ?it/s]\n",
            "                 Class     Images  Instances      Box(P          R      mAP50  mAP50-95): 100%|██████████| 17/17 [00:02<00:00,  7.32it/s]\n",
            "                   all        266        266      0.994      0.997      0.995      0.787\n",
            "                  atas        266         55      0.982          1      0.994      0.717\n",
            "                 bawah        266         50      0.998          1      0.995      0.828\n",
            "                 depan        266         61      0.999      0.984      0.995      0.765\n",
            "                 kanan        266         51      0.993          1      0.995      0.801\n",
            "                  kiri        266         49      0.996          1      0.995      0.822\n",
            "Speed: 0.1ms preprocess, 4.6ms inference, 0.0ms loss, 0.8ms postprocess per image\n",
            "Results saved to \u001b[1mruns/detect/train36\u001b[0m\n",
            "Ultralytics YOLOv8.0.211 🚀 Python-3.10.12 torch-2.1.0+cu118 CUDA:0 (Tesla T4, 15102MiB)\n"
          ]
        },
        {
          "output_type": "stream",
          "name": "stdout",
          "text": [
            "Processing model 36: /content/drive/MyDrive/koding kuliah skripsi/YOLO Train FIX/Training with callback/runs/detect/train/weights/epoch36.pt\n"
          ]
        },
        {
          "output_type": "stream",
          "name": "stderr",
          "text": [
            "Model summary (fused): 168 layers, 3006623 parameters, 0 gradients, 8.1 GFLOPs\n",
            "\u001b[34m\u001b[1mval: \u001b[0mScanning /content/Head-motion-3/valid/labels.cache... 266 images, 0 backgrounds, 0 corrupt: 100%|██████████| 266/266 [00:00<?, ?it/s]\n",
            "                 Class     Images  Instances      Box(P          R      mAP50  mAP50-95): 100%|██████████| 17/17 [00:03<00:00,  5.57it/s]\n",
            "                   all        266        266      0.994      0.998      0.993      0.785\n",
            "                  atas        266         55      0.981          1      0.983      0.693\n",
            "                 bawah        266         50      0.997          1      0.995      0.826\n",
            "                 depan        266         61          1      0.989      0.995      0.775\n",
            "                 kanan        266         51      0.996          1      0.995      0.793\n",
            "                  kiri        266         49      0.996          1      0.995      0.837\n",
            "Speed: 0.2ms preprocess, 2.3ms inference, 0.0ms loss, 1.9ms postprocess per image\n",
            "Results saved to \u001b[1mruns/detect/train37\u001b[0m\n",
            "Ultralytics YOLOv8.0.211 🚀 Python-3.10.12 torch-2.1.0+cu118 CUDA:0 (Tesla T4, 15102MiB)\n"
          ]
        },
        {
          "output_type": "stream",
          "name": "stdout",
          "text": [
            "Processing model 37: /content/drive/MyDrive/koding kuliah skripsi/YOLO Train FIX/Training with callback/runs/detect/train/weights/epoch37.pt\n"
          ]
        },
        {
          "output_type": "stream",
          "name": "stderr",
          "text": [
            "Model summary (fused): 168 layers, 3006623 parameters, 0 gradients, 8.1 GFLOPs\n",
            "\u001b[34m\u001b[1mval: \u001b[0mScanning /content/Head-motion-3/valid/labels.cache... 266 images, 0 backgrounds, 0 corrupt: 100%|██████████| 266/266 [00:00<?, ?it/s]\n",
            "                 Class     Images  Instances      Box(P          R      mAP50  mAP50-95): 100%|██████████| 17/17 [00:02<00:00,  7.16it/s]\n",
            "                   all        266        266      0.994      0.997      0.991      0.801\n",
            "                  atas        266         55      0.981          1      0.977      0.712\n",
            "                 bawah        266         50      0.997          1      0.995      0.812\n",
            "                 depan        266         61      0.999      0.984      0.992      0.809\n",
            "                 kanan        266         51      0.996          1      0.995      0.809\n",
            "                  kiri        266         49      0.996          1      0.995      0.863\n",
            "Speed: 0.1ms preprocess, 2.3ms inference, 0.0ms loss, 3.8ms postprocess per image\n",
            "Results saved to \u001b[1mruns/detect/train38\u001b[0m\n",
            "Ultralytics YOLOv8.0.211 🚀 Python-3.10.12 torch-2.1.0+cu118 CUDA:0 (Tesla T4, 15102MiB)\n"
          ]
        },
        {
          "output_type": "stream",
          "name": "stdout",
          "text": [
            "Processing model 38: /content/drive/MyDrive/koding kuliah skripsi/YOLO Train FIX/Training with callback/runs/detect/train/weights/epoch38.pt\n"
          ]
        },
        {
          "output_type": "stream",
          "name": "stderr",
          "text": [
            "Model summary (fused): 168 layers, 3006623 parameters, 0 gradients, 8.1 GFLOPs\n",
            "\u001b[34m\u001b[1mval: \u001b[0mScanning /content/Head-motion-3/valid/labels.cache... 266 images, 0 backgrounds, 0 corrupt: 100%|██████████| 266/266 [00:00<?, ?it/s]\n",
            "                 Class     Images  Instances      Box(P          R      mAP50  mAP50-95): 100%|██████████| 17/17 [00:02<00:00,  5.86it/s]\n",
            "                   all        266        266      0.991      0.995      0.992        0.8\n",
            "                  atas        266         55       0.98          1      0.978      0.726\n",
            "                 bawah        266         50      0.999          1      0.995      0.824\n",
            "                 depan        266         61      0.999      0.984      0.995      0.802\n",
            "                 kanan        266         51      0.979          1      0.995      0.796\n",
            "                  kiri        266         49          1      0.993      0.995       0.85\n",
            "Speed: 0.3ms preprocess, 2.0ms inference, 0.0ms loss, 2.2ms postprocess per image\n",
            "Results saved to \u001b[1mruns/detect/train39\u001b[0m\n",
            "Ultralytics YOLOv8.0.211 🚀 Python-3.10.12 torch-2.1.0+cu118 CUDA:0 (Tesla T4, 15102MiB)\n"
          ]
        },
        {
          "output_type": "stream",
          "name": "stdout",
          "text": [
            "Processing model 39: /content/drive/MyDrive/koding kuliah skripsi/YOLO Train FIX/Training with callback/runs/detect/train/weights/epoch39.pt\n"
          ]
        },
        {
          "output_type": "stream",
          "name": "stderr",
          "text": [
            "Model summary (fused): 168 layers, 3006623 parameters, 0 gradients, 8.1 GFLOPs\n",
            "\u001b[34m\u001b[1mval: \u001b[0mScanning /content/Head-motion-3/valid/labels.cache... 266 images, 0 backgrounds, 0 corrupt: 100%|██████████| 266/266 [00:00<?, ?it/s]\n",
            "                 Class     Images  Instances      Box(P          R      mAP50  mAP50-95): 100%|██████████| 17/17 [00:03<00:00,  5.39it/s]\n",
            "                   all        266        266      0.995      0.997      0.993      0.799\n",
            "                  atas        266         55      0.981          1      0.987      0.739\n",
            "                 bawah        266         50      0.998          1      0.995      0.818\n",
            "                 depan        266         61          1      0.985      0.995      0.809\n",
            "                 kanan        266         51      0.998          1      0.995      0.778\n",
            "                  kiri        266         49      0.999          1      0.995      0.849\n",
            "Speed: 0.3ms preprocess, 1.8ms inference, 0.0ms loss, 1.9ms postprocess per image\n",
            "Results saved to \u001b[1mruns/detect/train40\u001b[0m\n",
            "Ultralytics YOLOv8.0.211 🚀 Python-3.10.12 torch-2.1.0+cu118 CUDA:0 (Tesla T4, 15102MiB)\n"
          ]
        },
        {
          "output_type": "stream",
          "name": "stdout",
          "text": [
            "Processing model 40: /content/drive/MyDrive/koding kuliah skripsi/YOLO Train FIX/Training with callback/runs/detect/train/weights/epoch40.pt\n"
          ]
        },
        {
          "output_type": "stream",
          "name": "stderr",
          "text": [
            "Model summary (fused): 168 layers, 3006623 parameters, 0 gradients, 8.1 GFLOPs\n",
            "\u001b[34m\u001b[1mval: \u001b[0mScanning /content/Head-motion-3/valid/labels.cache... 266 images, 0 backgrounds, 0 corrupt: 100%|██████████| 266/266 [00:00<?, ?it/s]\n",
            "                 Class     Images  Instances      Box(P          R      mAP50  mAP50-95): 100%|██████████| 17/17 [00:02<00:00,  7.43it/s]\n",
            "                   all        266        266      0.995      0.997      0.992      0.795\n",
            "                  atas        266         55      0.981          1      0.979       0.71\n",
            "                 bawah        266         50      0.999          1      0.995       0.83\n",
            "                 depan        266         61      0.998      0.984      0.995      0.779\n",
            "                 kanan        266         51      0.998          1      0.995      0.802\n",
            "                  kiri        266         49      0.997          1      0.995      0.852\n",
            "Speed: 0.4ms preprocess, 4.3ms inference, 0.0ms loss, 1.2ms postprocess per image\n",
            "Results saved to \u001b[1mruns/detect/train41\u001b[0m\n",
            "Ultralytics YOLOv8.0.211 🚀 Python-3.10.12 torch-2.1.0+cu118 CUDA:0 (Tesla T4, 15102MiB)\n"
          ]
        },
        {
          "output_type": "stream",
          "name": "stdout",
          "text": [
            "Processing model 41: /content/drive/MyDrive/koding kuliah skripsi/YOLO Train FIX/Training with callback/runs/detect/train/weights/epoch41.pt\n"
          ]
        },
        {
          "output_type": "stream",
          "name": "stderr",
          "text": [
            "Model summary (fused): 168 layers, 3006623 parameters, 0 gradients, 8.1 GFLOPs\n",
            "\u001b[34m\u001b[1mval: \u001b[0mScanning /content/Head-motion-3/valid/labels.cache... 266 images, 0 backgrounds, 0 corrupt: 100%|██████████| 266/266 [00:00<?, ?it/s]\n",
            "                 Class     Images  Instances      Box(P          R      mAP50  mAP50-95): 100%|██████████| 17/17 [00:03<00:00,  4.72it/s]\n",
            "                   all        266        266      0.993      0.996      0.993      0.795\n",
            "                  atas        266         55      0.982      0.997      0.987      0.704\n",
            "                 bawah        266         50      0.996          1      0.995       0.82\n",
            "                 depan        266         61      0.997      0.984      0.995      0.798\n",
            "                 kanan        266         51      0.996          1      0.995      0.793\n",
            "                  kiri        266         49      0.995          1      0.995      0.859\n",
            "Speed: 0.2ms preprocess, 3.6ms inference, 0.0ms loss, 2.0ms postprocess per image\n",
            "Results saved to \u001b[1mruns/detect/train42\u001b[0m\n",
            "Ultralytics YOLOv8.0.211 🚀 Python-3.10.12 torch-2.1.0+cu118 CUDA:0 (Tesla T4, 15102MiB)\n"
          ]
        },
        {
          "output_type": "stream",
          "name": "stdout",
          "text": [
            "Processing model 42: /content/drive/MyDrive/koding kuliah skripsi/YOLO Train FIX/Training with callback/runs/detect/train/weights/epoch42.pt\n"
          ]
        },
        {
          "output_type": "stream",
          "name": "stderr",
          "text": [
            "Model summary (fused): 168 layers, 3006623 parameters, 0 gradients, 8.1 GFLOPs\n",
            "\u001b[34m\u001b[1mval: \u001b[0mScanning /content/Head-motion-3/valid/labels.cache... 266 images, 0 backgrounds, 0 corrupt: 100%|██████████| 266/266 [00:00<?, ?it/s]\n",
            "                 Class     Images  Instances      Box(P          R      mAP50  mAP50-95): 100%|██████████| 17/17 [00:02<00:00,  7.39it/s]\n",
            "                   all        266        266      0.988      0.995      0.995      0.798\n",
            "                  atas        266         55      0.976          1      0.995      0.713\n",
            "                 bawah        266         50      0.993          1      0.995      0.823\n",
            "                 depan        266         61          1      0.991      0.995      0.786\n",
            "                 kanan        266         51      0.969          1      0.995      0.799\n",
            "                  kiri        266         49          1      0.986      0.995      0.868\n",
            "Speed: 0.2ms preprocess, 2.7ms inference, 0.0ms loss, 3.4ms postprocess per image\n",
            "Results saved to \u001b[1mruns/detect/train43\u001b[0m\n",
            "Ultralytics YOLOv8.0.211 🚀 Python-3.10.12 torch-2.1.0+cu118 CUDA:0 (Tesla T4, 15102MiB)\n"
          ]
        },
        {
          "output_type": "stream",
          "name": "stdout",
          "text": [
            "Processing model 43: /content/drive/MyDrive/koding kuliah skripsi/YOLO Train FIX/Training with callback/runs/detect/train/weights/epoch43.pt\n"
          ]
        },
        {
          "output_type": "stream",
          "name": "stderr",
          "text": [
            "Model summary (fused): 168 layers, 3006623 parameters, 0 gradients, 8.1 GFLOPs\n",
            "\u001b[34m\u001b[1mval: \u001b[0mScanning /content/Head-motion-3/valid/labels.cache... 266 images, 0 backgrounds, 0 corrupt: 100%|██████████| 266/266 [00:00<?, ?it/s]\n",
            "                 Class     Images  Instances      Box(P          R      mAP50  mAP50-95): 100%|██████████| 17/17 [00:02<00:00,  7.42it/s]\n",
            "                   all        266        266      0.989      0.996      0.992      0.814\n",
            "                  atas        266         55      0.978          1      0.981      0.731\n",
            "                 bawah        266         50      0.997          1      0.995      0.837\n",
            "                 depan        266         61          1      0.987      0.995      0.819\n",
            "                 kanan        266         51      0.969          1      0.995      0.812\n",
            "                  kiri        266         49          1      0.993      0.995      0.873\n",
            "Speed: 0.2ms preprocess, 2.4ms inference, 0.0ms loss, 3.6ms postprocess per image\n",
            "Results saved to \u001b[1mruns/detect/train44\u001b[0m\n",
            "Ultralytics YOLOv8.0.211 🚀 Python-3.10.12 torch-2.1.0+cu118 CUDA:0 (Tesla T4, 15102MiB)\n"
          ]
        },
        {
          "output_type": "stream",
          "name": "stdout",
          "text": [
            "Processing model 44: /content/drive/MyDrive/koding kuliah skripsi/YOLO Train FIX/Training with callback/runs/detect/train/weights/epoch44.pt\n"
          ]
        },
        {
          "output_type": "stream",
          "name": "stderr",
          "text": [
            "Model summary (fused): 168 layers, 3006623 parameters, 0 gradients, 8.1 GFLOPs\n",
            "\u001b[34m\u001b[1mval: \u001b[0mScanning /content/Head-motion-3/valid/labels.cache... 266 images, 0 backgrounds, 0 corrupt: 100%|██████████| 266/266 [00:00<?, ?it/s]\n",
            "                 Class     Images  Instances      Box(P          R      mAP50  mAP50-95): 100%|██████████| 17/17 [00:02<00:00,  7.39it/s]\n",
            "                   all        266        266      0.992      0.994      0.992      0.805\n",
            "                  atas        266         55      0.981          1      0.979      0.725\n",
            "                 bawah        266         50      0.996          1      0.995      0.818\n",
            "                 depan        266         61      0.997      0.984      0.994      0.811\n",
            "                 kanan        266         51      0.983          1      0.995      0.803\n",
            "                  kiri        266         49          1      0.989      0.995      0.867\n",
            "Speed: 0.2ms preprocess, 3.8ms inference, 0.0ms loss, 2.1ms postprocess per image\n",
            "Results saved to \u001b[1mruns/detect/train45\u001b[0m\n",
            "Ultralytics YOLOv8.0.211 🚀 Python-3.10.12 torch-2.1.0+cu118 CUDA:0 (Tesla T4, 15102MiB)\n"
          ]
        },
        {
          "output_type": "stream",
          "name": "stdout",
          "text": [
            "Processing model 45: /content/drive/MyDrive/koding kuliah skripsi/YOLO Train FIX/Training with callback/runs/detect/train/weights/epoch45.pt\n"
          ]
        },
        {
          "output_type": "stream",
          "name": "stderr",
          "text": [
            "Model summary (fused): 168 layers, 3006623 parameters, 0 gradients, 8.1 GFLOPs\n",
            "\u001b[34m\u001b[1mval: \u001b[0mScanning /content/Head-motion-3/valid/labels.cache... 266 images, 0 backgrounds, 0 corrupt: 100%|██████████| 266/266 [00:00<?, ?it/s]\n",
            "                 Class     Images  Instances      Box(P          R      mAP50  mAP50-95): 100%|██████████| 17/17 [00:03<00:00,  5.38it/s]\n",
            "                   all        266        266      0.984      0.997      0.992      0.813\n",
            "                  atas        266         55      0.977          1      0.979      0.728\n",
            "                 bawah        266         50      0.995          1      0.995      0.836\n",
            "                 depan        266         61       0.99      0.984      0.994       0.82\n",
            "                 kanan        266         51       0.96          1      0.995      0.812\n",
            "                  kiri        266         49          1          1      0.995      0.867\n",
            "Speed: 0.2ms preprocess, 2.1ms inference, 0.0ms loss, 2.1ms postprocess per image\n",
            "Results saved to \u001b[1mruns/detect/train46\u001b[0m\n",
            "Ultralytics YOLOv8.0.211 🚀 Python-3.10.12 torch-2.1.0+cu118 CUDA:0 (Tesla T4, 15102MiB)\n"
          ]
        },
        {
          "output_type": "stream",
          "name": "stdout",
          "text": [
            "Processing model 46: /content/drive/MyDrive/koding kuliah skripsi/YOLO Train FIX/Training with callback/runs/detect/train/weights/epoch46.pt\n"
          ]
        },
        {
          "output_type": "stream",
          "name": "stderr",
          "text": [
            "Model summary (fused): 168 layers, 3006623 parameters, 0 gradients, 8.1 GFLOPs\n",
            "\u001b[34m\u001b[1mval: \u001b[0mScanning /content/Head-motion-3/valid/labels.cache... 266 images, 0 backgrounds, 0 corrupt: 100%|██████████| 266/266 [00:00<?, ?it/s]\n",
            "                 Class     Images  Instances      Box(P          R      mAP50  mAP50-95): 100%|██████████| 17/17 [00:02<00:00,  6.80it/s]\n",
            "                   all        266        266      0.993      0.997      0.994      0.811\n",
            "                  atas        266         55      0.981          1      0.989      0.733\n",
            "                 bawah        266         50      0.996          1      0.995      0.833\n",
            "                 depan        266         61      0.996      0.984      0.995       0.81\n",
            "                 kanan        266         51      0.997          1      0.995      0.795\n",
            "                  kiri        266         49      0.993          1      0.995      0.884\n",
            "Speed: 0.3ms preprocess, 4.6ms inference, 0.0ms loss, 1.5ms postprocess per image\n",
            "Results saved to \u001b[1mruns/detect/train47\u001b[0m\n",
            "Ultralytics YOLOv8.0.211 🚀 Python-3.10.12 torch-2.1.0+cu118 CUDA:0 (Tesla T4, 15102MiB)\n"
          ]
        },
        {
          "output_type": "stream",
          "name": "stdout",
          "text": [
            "Processing model 47: /content/drive/MyDrive/koding kuliah skripsi/YOLO Train FIX/Training with callback/runs/detect/train/weights/epoch47.pt\n"
          ]
        },
        {
          "output_type": "stream",
          "name": "stderr",
          "text": [
            "Model summary (fused): 168 layers, 3006623 parameters, 0 gradients, 8.1 GFLOPs\n",
            "\u001b[34m\u001b[1mval: \u001b[0mScanning /content/Head-motion-3/valid/labels.cache... 266 images, 0 backgrounds, 0 corrupt: 100%|██████████| 266/266 [00:00<?, ?it/s]\n",
            "                 Class     Images  Instances      Box(P          R      mAP50  mAP50-95): 100%|██████████| 17/17 [00:02<00:00,  6.43it/s]\n",
            "                   all        266        266      0.992      0.997      0.994      0.814\n",
            "                  atas        266         55      0.977          1      0.994      0.735\n",
            "                 bawah        266         50      0.995          1      0.995      0.843\n",
            "                 depan        266         61      0.997      0.984      0.993        0.8\n",
            "                 kanan        266         51      0.994          1      0.995      0.817\n",
            "                  kiri        266         49      0.999          1      0.995      0.874\n",
            "Speed: 0.3ms preprocess, 1.7ms inference, 0.0ms loss, 2.2ms postprocess per image\n",
            "Results saved to \u001b[1mruns/detect/train48\u001b[0m\n",
            "Ultralytics YOLOv8.0.211 🚀 Python-3.10.12 torch-2.1.0+cu118 CUDA:0 (Tesla T4, 15102MiB)\n"
          ]
        },
        {
          "output_type": "stream",
          "name": "stdout",
          "text": [
            "Processing model 48: /content/drive/MyDrive/koding kuliah skripsi/YOLO Train FIX/Training with callback/runs/detect/train/weights/epoch48.pt\n"
          ]
        },
        {
          "output_type": "stream",
          "name": "stderr",
          "text": [
            "Model summary (fused): 168 layers, 3006623 parameters, 0 gradients, 8.1 GFLOPs\n",
            "\u001b[34m\u001b[1mval: \u001b[0mScanning /content/Head-motion-3/valid/labels.cache... 266 images, 0 backgrounds, 0 corrupt: 100%|██████████| 266/266 [00:00<?, ?it/s]\n",
            "                 Class     Images  Instances      Box(P          R      mAP50  mAP50-95): 100%|██████████| 17/17 [00:02<00:00,  7.22it/s]\n",
            "                   all        266        266       0.99      0.996      0.992      0.802\n",
            "                  atas        266         55      0.975          1      0.982      0.716\n",
            "                 bawah        266         50      0.996          1      0.995      0.831\n",
            "                 depan        266         61          1      0.982      0.992      0.804\n",
            "                 kanan        266         51      0.981          1      0.995      0.795\n",
            "                  kiri        266         49      0.997          1      0.995      0.867\n",
            "Speed: 0.2ms preprocess, 3.1ms inference, 0.0ms loss, 3.0ms postprocess per image\n",
            "Results saved to \u001b[1mruns/detect/train49\u001b[0m\n",
            "Ultralytics YOLOv8.0.211 🚀 Python-3.10.12 torch-2.1.0+cu118 CUDA:0 (Tesla T4, 15102MiB)\n"
          ]
        },
        {
          "output_type": "stream",
          "name": "stdout",
          "text": [
            "Processing model 49: /content/drive/MyDrive/koding kuliah skripsi/YOLO Train FIX/Training with callback/runs/detect/train/weights/epoch49.pt\n"
          ]
        },
        {
          "output_type": "stream",
          "name": "stderr",
          "text": [
            "Model summary (fused): 168 layers, 3006623 parameters, 0 gradients, 8.1 GFLOPs\n",
            "\u001b[34m\u001b[1mval: \u001b[0mScanning /content/Head-motion-3/valid/labels.cache... 266 images, 0 backgrounds, 0 corrupt: 100%|██████████| 266/266 [00:00<?, ?it/s]\n",
            "                 Class     Images  Instances      Box(P          R      mAP50  mAP50-95): 100%|██████████| 17/17 [00:03<00:00,  5.59it/s]\n",
            "                   all        266        266      0.994      0.995      0.993      0.806\n",
            "                  atas        266         55       0.98          1      0.986      0.703\n",
            "                 bawah        266         50      0.999          1      0.995      0.844\n",
            "                 depan        266         61      0.999      0.984      0.994      0.817\n",
            "                 kanan        266         51      0.992          1      0.995      0.806\n",
            "                  kiri        266         49          1      0.992      0.995       0.86\n",
            "Speed: 0.0ms preprocess, 2.2ms inference, 0.0ms loss, 1.8ms postprocess per image\n",
            "Results saved to \u001b[1mruns/detect/train50\u001b[0m\n",
            "Ultralytics YOLOv8.0.211 🚀 Python-3.10.12 torch-2.1.0+cu118 CUDA:0 (Tesla T4, 15102MiB)\n"
          ]
        },
        {
          "output_type": "stream",
          "name": "stdout",
          "text": [
            "Processing model 50: /content/drive/MyDrive/koding kuliah skripsi/YOLO Train FIX/Training with callback/runs/detect/train/weights/epoch50.pt\n"
          ]
        },
        {
          "output_type": "stream",
          "name": "stderr",
          "text": [
            "Model summary (fused): 168 layers, 3006623 parameters, 0 gradients, 8.1 GFLOPs\n",
            "\u001b[34m\u001b[1mval: \u001b[0mScanning /content/Head-motion-3/valid/labels.cache... 266 images, 0 backgrounds, 0 corrupt: 100%|██████████| 266/266 [00:00<?, ?it/s]\n",
            "                 Class     Images  Instances      Box(P          R      mAP50  mAP50-95): 100%|██████████| 17/17 [00:02<00:00,  7.41it/s]\n",
            "                   all        266        266      0.994      0.997      0.995      0.815\n",
            "                  atas        266         55      0.978          1      0.994      0.711\n",
            "                 bawah        266         50      0.998          1      0.995      0.852\n",
            "                 depan        266         61          1      0.983      0.995      0.823\n",
            "                 kanan        266         51      0.998          1      0.995      0.825\n",
            "                  kiri        266         49      0.997          1      0.995      0.866\n",
            "Speed: 0.1ms preprocess, 1.7ms inference, 0.0ms loss, 4.2ms postprocess per image\n",
            "Results saved to \u001b[1mruns/detect/train51\u001b[0m\n",
            "Ultralytics YOLOv8.0.211 🚀 Python-3.10.12 torch-2.1.0+cu118 CUDA:0 (Tesla T4, 15102MiB)\n"
          ]
        },
        {
          "output_type": "stream",
          "name": "stdout",
          "text": [
            "Processing model 51: /content/drive/MyDrive/koding kuliah skripsi/YOLO Train FIX/Training with callback/runs/detect/train/weights/epoch51.pt\n"
          ]
        },
        {
          "output_type": "stream",
          "name": "stderr",
          "text": [
            "Model summary (fused): 168 layers, 3006623 parameters, 0 gradients, 8.1 GFLOPs\n",
            "\u001b[34m\u001b[1mval: \u001b[0mScanning /content/Head-motion-3/valid/labels.cache... 266 images, 0 backgrounds, 0 corrupt: 100%|██████████| 266/266 [00:00<?, ?it/s]\n",
            "                 Class     Images  Instances      Box(P          R      mAP50  mAP50-95): 100%|██████████| 17/17 [00:02<00:00,  7.23it/s]\n",
            "                   all        266        266      0.992      0.997      0.991      0.811\n",
            "                  atas        266         55       0.98          1      0.977      0.718\n",
            "                 bawah        266         50      0.999          1      0.995      0.842\n",
            "                 depan        266         61      0.997      0.984      0.993      0.814\n",
            "                 kanan        266         51      0.986          1      0.995      0.816\n",
            "                  kiri        266         49      0.999          1      0.995      0.866\n",
            "Speed: 0.2ms preprocess, 2.6ms inference, 0.0ms loss, 3.0ms postprocess per image\n",
            "Results saved to \u001b[1mruns/detect/train52\u001b[0m\n",
            "Ultralytics YOLOv8.0.211 🚀 Python-3.10.12 torch-2.1.0+cu118 CUDA:0 (Tesla T4, 15102MiB)\n"
          ]
        },
        {
          "output_type": "stream",
          "name": "stdout",
          "text": [
            "Processing model 52: /content/drive/MyDrive/koding kuliah skripsi/YOLO Train FIX/Training with callback/runs/detect/train/weights/epoch52.pt\n"
          ]
        },
        {
          "output_type": "stream",
          "name": "stderr",
          "text": [
            "Model summary (fused): 168 layers, 3006623 parameters, 0 gradients, 8.1 GFLOPs\n",
            "\u001b[34m\u001b[1mval: \u001b[0mScanning /content/Head-motion-3/valid/labels.cache... 266 images, 0 backgrounds, 0 corrupt: 100%|██████████| 266/266 [00:00<?, ?it/s]\n",
            "                 Class     Images  Instances      Box(P          R      mAP50  mAP50-95): 100%|██████████| 17/17 [00:02<00:00,  6.87it/s]\n",
            "                   all        266        266      0.979      0.993      0.993      0.806\n",
            "                  atas        266         55      0.969          1      0.986      0.708\n",
            "                 bawah        266         50      0.989          1      0.995       0.83\n",
            "                 depan        266         61       0.99      0.984      0.995      0.813\n",
            "                 kanan        266         51      0.946          1      0.995       0.82\n",
            "                  kiri        266         49          1      0.981      0.995       0.86\n",
            "Speed: 0.1ms preprocess, 2.4ms inference, 0.0ms loss, 3.4ms postprocess per image\n",
            "Results saved to \u001b[1mruns/detect/train53\u001b[0m\n",
            "Ultralytics YOLOv8.0.211 🚀 Python-3.10.12 torch-2.1.0+cu118 CUDA:0 (Tesla T4, 15102MiB)\n"
          ]
        },
        {
          "output_type": "stream",
          "name": "stdout",
          "text": [
            "Processing model 53: /content/drive/MyDrive/koding kuliah skripsi/YOLO Train FIX/Training with callback/runs/detect/train/weights/epoch53.pt\n"
          ]
        },
        {
          "output_type": "stream",
          "name": "stderr",
          "text": [
            "Model summary (fused): 168 layers, 3006623 parameters, 0 gradients, 8.1 GFLOPs\n",
            "\u001b[34m\u001b[1mval: \u001b[0mScanning /content/Head-motion-3/valid/labels.cache... 266 images, 0 backgrounds, 0 corrupt: 100%|██████████| 266/266 [00:00<?, ?it/s]\n",
            "                 Class     Images  Instances      Box(P          R      mAP50  mAP50-95): 100%|██████████| 17/17 [00:02<00:00,  7.26it/s]\n",
            "                   all        266        266      0.988      0.999      0.995      0.803\n",
            "                  atas        266         55      0.976          1      0.995      0.688\n",
            "                 bawah        266         50      0.994          1      0.995      0.833\n",
            "                 depan        266         61          1      0.995      0.995      0.799\n",
            "                 kanan        266         51      0.971          1      0.994      0.825\n",
            "                  kiri        266         49          1          1      0.995      0.867\n",
            "Speed: 0.1ms preprocess, 2.7ms inference, 0.0ms loss, 3.3ms postprocess per image\n",
            "Results saved to \u001b[1mruns/detect/train54\u001b[0m\n",
            "Ultralytics YOLOv8.0.211 🚀 Python-3.10.12 torch-2.1.0+cu118 CUDA:0 (Tesla T4, 15102MiB)\n"
          ]
        },
        {
          "output_type": "stream",
          "name": "stdout",
          "text": [
            "Processing model 54: /content/drive/MyDrive/koding kuliah skripsi/YOLO Train FIX/Training with callback/runs/detect/train/weights/epoch54.pt\n"
          ]
        },
        {
          "output_type": "stream",
          "name": "stderr",
          "text": [
            "Model summary (fused): 168 layers, 3006623 parameters, 0 gradients, 8.1 GFLOPs\n",
            "\u001b[34m\u001b[1mval: \u001b[0mScanning /content/Head-motion-3/valid/labels.cache... 266 images, 0 backgrounds, 0 corrupt: 100%|██████████| 266/266 [00:00<?, ?it/s]\n",
            "                 Class     Images  Instances      Box(P          R      mAP50  mAP50-95): 100%|██████████| 17/17 [00:03<00:00,  4.30it/s]\n",
            "                   all        266        266      0.995      0.997      0.995      0.804\n",
            "                  atas        266         55      0.981          1      0.995      0.698\n",
            "                 bawah        266         50      0.998          1      0.995      0.852\n",
            "                 depan        266         61          1      0.987      0.995      0.784\n",
            "                 kanan        266         51      0.995          1      0.995      0.821\n",
            "                  kiri        266         49      0.998          1      0.995      0.864\n",
            "Speed: 0.0ms preprocess, 2.8ms inference, 0.0ms loss, 2.6ms postprocess per image\n",
            "Results saved to \u001b[1mruns/detect/train55\u001b[0m\n",
            "Ultralytics YOLOv8.0.211 🚀 Python-3.10.12 torch-2.1.0+cu118 CUDA:0 (Tesla T4, 15102MiB)\n"
          ]
        },
        {
          "output_type": "stream",
          "name": "stdout",
          "text": [
            "Processing model 55: /content/drive/MyDrive/koding kuliah skripsi/YOLO Train FIX/Training with callback/runs/detect/train/weights/epoch55.pt\n"
          ]
        },
        {
          "output_type": "stream",
          "name": "stderr",
          "text": [
            "Model summary (fused): 168 layers, 3006623 parameters, 0 gradients, 8.1 GFLOPs\n",
            "\u001b[34m\u001b[1mval: \u001b[0mScanning /content/Head-motion-3/valid/labels.cache... 266 images, 0 backgrounds, 0 corrupt: 100%|██████████| 266/266 [00:00<?, ?it/s]\n",
            "                 Class     Images  Instances      Box(P          R      mAP50  mAP50-95): 100%|██████████| 17/17 [00:03<00:00,  5.24it/s]\n",
            "                   all        266        266      0.994      0.997      0.995      0.818\n",
            "                  atas        266         55      0.981          1      0.994      0.723\n",
            "                 bawah        266         50      0.998          1      0.995      0.834\n",
            "                 depan        266         61      0.997      0.984      0.995      0.815\n",
            "                 kanan        266         51      0.998          1      0.995      0.839\n",
            "                  kiri        266         49      0.997          1      0.995      0.877\n",
            "Speed: 0.1ms preprocess, 2.0ms inference, 0.0ms loss, 2.3ms postprocess per image\n",
            "Results saved to \u001b[1mruns/detect/train56\u001b[0m\n",
            "Ultralytics YOLOv8.0.211 🚀 Python-3.10.12 torch-2.1.0+cu118 CUDA:0 (Tesla T4, 15102MiB)\n"
          ]
        },
        {
          "output_type": "stream",
          "name": "stdout",
          "text": [
            "Processing model 56: /content/drive/MyDrive/koding kuliah skripsi/YOLO Train FIX/Training with callback/runs/detect/train/weights/epoch56.pt\n"
          ]
        },
        {
          "output_type": "stream",
          "name": "stderr",
          "text": [
            "Model summary (fused): 168 layers, 3006623 parameters, 0 gradients, 8.1 GFLOPs\n",
            "\u001b[34m\u001b[1mval: \u001b[0mScanning /content/Head-motion-3/valid/labels.cache... 266 images, 0 backgrounds, 0 corrupt: 100%|██████████| 266/266 [00:00<?, ?it/s]\n",
            "                 Class     Images  Instances      Box(P          R      mAP50  mAP50-95): 100%|██████████| 17/17 [00:02<00:00,  7.38it/s]\n",
            "                   all        266        266      0.994      0.997      0.992      0.813\n",
            "                  atas        266         55      0.979          1      0.982      0.715\n",
            "                 bawah        266         50      0.997          1      0.995      0.829\n",
            "                 depan        266         61      0.999      0.984      0.993      0.834\n",
            "                 kanan        266         51      0.997          1      0.995      0.822\n",
            "                  kiri        266         49      0.998          1      0.995      0.867\n",
            "Speed: 0.2ms preprocess, 2.5ms inference, 0.0ms loss, 3.4ms postprocess per image\n",
            "Results saved to \u001b[1mruns/detect/train57\u001b[0m\n",
            "Ultralytics YOLOv8.0.211 🚀 Python-3.10.12 torch-2.1.0+cu118 CUDA:0 (Tesla T4, 15102MiB)\n"
          ]
        },
        {
          "output_type": "stream",
          "name": "stdout",
          "text": [
            "Processing model 57: /content/drive/MyDrive/koding kuliah skripsi/YOLO Train FIX/Training with callback/runs/detect/train/weights/epoch57.pt\n"
          ]
        },
        {
          "output_type": "stream",
          "name": "stderr",
          "text": [
            "Model summary (fused): 168 layers, 3006623 parameters, 0 gradients, 8.1 GFLOPs\n",
            "\u001b[34m\u001b[1mval: \u001b[0mScanning /content/Head-motion-3/valid/labels.cache... 266 images, 0 backgrounds, 0 corrupt: 100%|██████████| 266/266 [00:00<?, ?it/s]\n",
            "                 Class     Images  Instances      Box(P          R      mAP50  mAP50-95): 100%|██████████| 17/17 [00:02<00:00,  5.72it/s]\n",
            "                   all        266        266      0.994      0.997      0.993      0.809\n",
            "                  atas        266         55      0.981          1      0.986      0.707\n",
            "                 bawah        266         50      0.999          1      0.995      0.829\n",
            "                 depan        266         61      0.998      0.984      0.993      0.832\n",
            "                 kanan        266         51      0.997          1      0.995      0.822\n",
            "                  kiri        266         49      0.998          1      0.995      0.854\n",
            "Speed: 0.2ms preprocess, 2.5ms inference, 0.0ms loss, 1.7ms postprocess per image\n",
            "Results saved to \u001b[1mruns/detect/train58\u001b[0m\n",
            "Ultralytics YOLOv8.0.211 🚀 Python-3.10.12 torch-2.1.0+cu118 CUDA:0 (Tesla T4, 15102MiB)\n"
          ]
        },
        {
          "output_type": "stream",
          "name": "stdout",
          "text": [
            "Processing model 58: /content/drive/MyDrive/koding kuliah skripsi/YOLO Train FIX/Training with callback/runs/detect/train/weights/epoch58.pt\n"
          ]
        },
        {
          "output_type": "stream",
          "name": "stderr",
          "text": [
            "Model summary (fused): 168 layers, 3006623 parameters, 0 gradients, 8.1 GFLOPs\n",
            "\u001b[34m\u001b[1mval: \u001b[0mScanning /content/Head-motion-3/valid/labels.cache... 266 images, 0 backgrounds, 0 corrupt: 100%|██████████| 266/266 [00:00<?, ?it/s]\n",
            "                 Class     Images  Instances      Box(P          R      mAP50  mAP50-95): 100%|██████████| 17/17 [00:02<00:00,  7.47it/s]\n",
            "                   all        266        266      0.995      0.997      0.992      0.818\n",
            "                  atas        266         55      0.981          1      0.982      0.707\n",
            "                 bawah        266         50      0.998          1      0.995      0.849\n",
            "                 depan        266         61      0.998      0.984      0.992      0.827\n",
            "                 kanan        266         51      0.998          1      0.995      0.833\n",
            "                  kiri        266         49      0.998          1      0.995      0.874\n",
            "Speed: 0.1ms preprocess, 2.1ms inference, 0.0ms loss, 3.7ms postprocess per image\n",
            "Results saved to \u001b[1mruns/detect/train59\u001b[0m\n",
            "Ultralytics YOLOv8.0.211 🚀 Python-3.10.12 torch-2.1.0+cu118 CUDA:0 (Tesla T4, 15102MiB)\n"
          ]
        },
        {
          "output_type": "stream",
          "name": "stdout",
          "text": [
            "Processing model 59: /content/drive/MyDrive/koding kuliah skripsi/YOLO Train FIX/Training with callback/runs/detect/train/weights/epoch59.pt\n"
          ]
        },
        {
          "output_type": "stream",
          "name": "stderr",
          "text": [
            "Model summary (fused): 168 layers, 3006623 parameters, 0 gradients, 8.1 GFLOPs\n",
            "\u001b[34m\u001b[1mval: \u001b[0mScanning /content/Head-motion-3/valid/labels.cache... 266 images, 0 backgrounds, 0 corrupt: 100%|██████████| 266/266 [00:00<?, ?it/s]\n",
            "                 Class     Images  Instances      Box(P          R      mAP50  mAP50-95): 100%|██████████| 17/17 [00:02<00:00,  6.27it/s]\n",
            "                   all        266        266      0.992      0.997      0.993      0.814\n",
            "                  atas        266         55      0.978          1      0.987      0.709\n",
            "                 bawah        266         50      0.996          1      0.995      0.844\n",
            "                 depan        266         61      0.995      0.984      0.992       0.82\n",
            "                 kanan        266         51      0.999          1      0.995      0.839\n",
            "                  kiri        266         49      0.994          1      0.995      0.858\n",
            "Speed: 0.1ms preprocess, 3.1ms inference, 0.0ms loss, 2.2ms postprocess per image\n",
            "Results saved to \u001b[1mruns/detect/train60\u001b[0m\n",
            "Ultralytics YOLOv8.0.211 🚀 Python-3.10.12 torch-2.1.0+cu118 CUDA:0 (Tesla T4, 15102MiB)\n"
          ]
        },
        {
          "output_type": "stream",
          "name": "stdout",
          "text": [
            "Processing model 60: /content/drive/MyDrive/koding kuliah skripsi/YOLO Train FIX/Training with callback/runs/detect/train/weights/epoch60.pt\n"
          ]
        },
        {
          "output_type": "stream",
          "name": "stderr",
          "text": [
            "Model summary (fused): 168 layers, 3006623 parameters, 0 gradients, 8.1 GFLOPs\n",
            "\u001b[34m\u001b[1mval: \u001b[0mScanning /content/Head-motion-3/valid/labels.cache... 266 images, 0 backgrounds, 0 corrupt: 100%|██████████| 266/266 [00:00<?, ?it/s]\n",
            "                 Class     Images  Instances      Box(P          R      mAP50  mAP50-95): 100%|██████████| 17/17 [00:02<00:00,  7.41it/s]\n",
            "                   all        266        266      0.994      0.997      0.993      0.825\n",
            "                  atas        266         55      0.979          1      0.988      0.737\n",
            "                 bawah        266         50      0.998          1      0.995      0.849\n",
            "                 depan        266         61      0.999      0.984      0.993      0.833\n",
            "                 kanan        266         51      0.996          1      0.995       0.85\n",
            "                  kiri        266         49      0.997          1      0.995      0.857\n",
            "Speed: 0.0ms preprocess, 3.2ms inference, 0.0ms loss, 2.8ms postprocess per image\n",
            "Results saved to \u001b[1mruns/detect/train61\u001b[0m\n",
            "Ultralytics YOLOv8.0.211 🚀 Python-3.10.12 torch-2.1.0+cu118 CUDA:0 (Tesla T4, 15102MiB)\n"
          ]
        },
        {
          "output_type": "stream",
          "name": "stdout",
          "text": [
            "Processing model 61: /content/drive/MyDrive/koding kuliah skripsi/YOLO Train FIX/Training with callback/runs/detect/train/weights/epoch61.pt\n"
          ]
        },
        {
          "output_type": "stream",
          "name": "stderr",
          "text": [
            "Model summary (fused): 168 layers, 3006623 parameters, 0 gradients, 8.1 GFLOPs\n",
            "\u001b[34m\u001b[1mval: \u001b[0mScanning /content/Head-motion-3/valid/labels.cache... 266 images, 0 backgrounds, 0 corrupt: 100%|██████████| 266/266 [00:00<?, ?it/s]\n",
            "                 Class     Images  Instances      Box(P          R      mAP50  mAP50-95): 100%|██████████| 17/17 [00:03<00:00,  5.44it/s]\n",
            "                   all        266        266      0.994      0.997      0.994      0.823\n",
            "                  atas        266         55       0.98          1      0.991      0.741\n",
            "                 bawah        266         50      0.998          1      0.995      0.847\n",
            "                 depan        266         61          1      0.983      0.995      0.839\n",
            "                 kanan        266         51      0.992          1      0.995      0.833\n",
            "                  kiri        266         49          1          1      0.995      0.856\n",
            "Speed: 0.1ms preprocess, 2.2ms inference, 0.0ms loss, 1.9ms postprocess per image\n",
            "Results saved to \u001b[1mruns/detect/train62\u001b[0m\n",
            "Ultralytics YOLOv8.0.211 🚀 Python-3.10.12 torch-2.1.0+cu118 CUDA:0 (Tesla T4, 15102MiB)\n"
          ]
        },
        {
          "output_type": "stream",
          "name": "stdout",
          "text": [
            "Processing model 62: /content/drive/MyDrive/koding kuliah skripsi/YOLO Train FIX/Training with callback/runs/detect/train/weights/epoch62.pt\n"
          ]
        },
        {
          "output_type": "stream",
          "name": "stderr",
          "text": [
            "Model summary (fused): 168 layers, 3006623 parameters, 0 gradients, 8.1 GFLOPs\n",
            "\u001b[34m\u001b[1mval: \u001b[0mScanning /content/Head-motion-3/valid/labels.cache... 266 images, 0 backgrounds, 0 corrupt: 100%|██████████| 266/266 [00:00<?, ?it/s]\n",
            "                 Class     Images  Instances      Box(P          R      mAP50  mAP50-95): 100%|██████████| 17/17 [00:02<00:00,  6.40it/s]\n",
            "                   all        266        266      0.993      0.997      0.994      0.822\n",
            "                  atas        266         55      0.981          1      0.991      0.706\n",
            "                 bawah        266         50      0.997          1      0.995      0.844\n",
            "                 depan        266         61      0.998      0.984      0.995      0.834\n",
            "                 kanan        266         51      0.989          1      0.995      0.851\n",
            "                  kiri        266         49      0.999          1      0.995      0.873\n",
            "Speed: 0.1ms preprocess, 5.1ms inference, 0.0ms loss, 1.3ms postprocess per image\n",
            "Results saved to \u001b[1mruns/detect/train63\u001b[0m\n",
            "Ultralytics YOLOv8.0.211 🚀 Python-3.10.12 torch-2.1.0+cu118 CUDA:0 (Tesla T4, 15102MiB)\n"
          ]
        },
        {
          "output_type": "stream",
          "name": "stdout",
          "text": [
            "Processing model 63: /content/drive/MyDrive/koding kuliah skripsi/YOLO Train FIX/Training with callback/runs/detect/train/weights/epoch63.pt\n"
          ]
        },
        {
          "output_type": "stream",
          "name": "stderr",
          "text": [
            "Model summary (fused): 168 layers, 3006623 parameters, 0 gradients, 8.1 GFLOPs\n",
            "\u001b[34m\u001b[1mval: \u001b[0mScanning /content/Head-motion-3/valid/labels.cache... 266 images, 0 backgrounds, 0 corrupt: 100%|██████████| 266/266 [00:00<?, ?it/s]\n",
            "                 Class     Images  Instances      Box(P          R      mAP50  mAP50-95): 100%|██████████| 17/17 [00:02<00:00,  6.78it/s]\n",
            "                   all        266        266      0.995      0.997      0.993      0.823\n",
            "                  atas        266         55      0.981          1      0.987      0.743\n",
            "                 bawah        266         50      0.998          1      0.995      0.844\n",
            "                 depan        266         61      0.999      0.984      0.991      0.827\n",
            "                 kanan        266         51      0.997          1      0.995      0.836\n",
            "                  kiri        266         49      0.999          1      0.995      0.866\n",
            "Speed: 0.2ms preprocess, 2.6ms inference, 0.0ms loss, 2.7ms postprocess per image\n",
            "Results saved to \u001b[1mruns/detect/train64\u001b[0m\n",
            "Ultralytics YOLOv8.0.211 🚀 Python-3.10.12 torch-2.1.0+cu118 CUDA:0 (Tesla T4, 15102MiB)\n"
          ]
        },
        {
          "output_type": "stream",
          "name": "stdout",
          "text": [
            "Processing model 64: /content/drive/MyDrive/koding kuliah skripsi/YOLO Train FIX/Training with callback/runs/detect/train/weights/epoch64.pt\n"
          ]
        },
        {
          "output_type": "stream",
          "name": "stderr",
          "text": [
            "Model summary (fused): 168 layers, 3006623 parameters, 0 gradients, 8.1 GFLOPs\n",
            "\u001b[34m\u001b[1mval: \u001b[0mScanning /content/Head-motion-3/valid/labels.cache... 266 images, 0 backgrounds, 0 corrupt: 100%|██████████| 266/266 [00:00<?, ?it/s]\n",
            "                 Class     Images  Instances      Box(P          R      mAP50  mAP50-95): 100%|██████████| 17/17 [00:03<00:00,  5.23it/s]\n",
            "                   all        266        266      0.994      0.994      0.994      0.829\n",
            "                  atas        266         55       0.98          1      0.991      0.747\n",
            "                 bawah        266         50      0.997          1      0.995      0.851\n",
            "                 depan        266         61      0.999      0.984      0.992      0.834\n",
            "                 kanan        266         51      0.994          1      0.995      0.841\n",
            "                  kiri        266         49          1      0.987      0.995      0.869\n",
            "Speed: 0.3ms preprocess, 2.3ms inference, 0.0ms loss, 2.0ms postprocess per image\n",
            "Results saved to \u001b[1mruns/detect/train65\u001b[0m\n",
            "Ultralytics YOLOv8.0.211 🚀 Python-3.10.12 torch-2.1.0+cu118 CUDA:0 (Tesla T4, 15102MiB)\n"
          ]
        },
        {
          "output_type": "stream",
          "name": "stdout",
          "text": [
            "Processing model 65: /content/drive/MyDrive/koding kuliah skripsi/YOLO Train FIX/Training with callback/runs/detect/train/weights/epoch65.pt\n"
          ]
        },
        {
          "output_type": "stream",
          "name": "stderr",
          "text": [
            "Model summary (fused): 168 layers, 3006623 parameters, 0 gradients, 8.1 GFLOPs\n",
            "\u001b[34m\u001b[1mval: \u001b[0mScanning /content/Head-motion-3/valid/labels.cache... 266 images, 0 backgrounds, 0 corrupt: 100%|██████████| 266/266 [00:00<?, ?it/s]\n",
            "                 Class     Images  Instances      Box(P          R      mAP50  mAP50-95): 100%|██████████| 17/17 [00:02<00:00,  7.22it/s]\n",
            "                   all        266        266      0.994      0.997      0.993      0.828\n",
            "                  atas        266         55      0.981          1      0.988       0.75\n",
            "                 bawah        266         50      0.998          1      0.995      0.831\n",
            "                 depan        266         61      0.998      0.984      0.993      0.823\n",
            "                 kanan        266         51      0.998          1      0.995      0.853\n",
            "                  kiri        266         49      0.998          1      0.995      0.884\n",
            "Speed: 0.3ms preprocess, 3.8ms inference, 0.0ms loss, 2.3ms postprocess per image\n",
            "Results saved to \u001b[1mruns/detect/train66\u001b[0m\n",
            "Ultralytics YOLOv8.0.211 🚀 Python-3.10.12 torch-2.1.0+cu118 CUDA:0 (Tesla T4, 15102MiB)\n"
          ]
        },
        {
          "output_type": "stream",
          "name": "stdout",
          "text": [
            "Processing model 66: /content/drive/MyDrive/koding kuliah skripsi/YOLO Train FIX/Training with callback/runs/detect/train/weights/epoch66.pt\n"
          ]
        },
        {
          "output_type": "stream",
          "name": "stderr",
          "text": [
            "Model summary (fused): 168 layers, 3006623 parameters, 0 gradients, 8.1 GFLOPs\n",
            "\u001b[34m\u001b[1mval: \u001b[0mScanning /content/Head-motion-3/valid/labels.cache... 266 images, 0 backgrounds, 0 corrupt: 100%|██████████| 266/266 [00:00<?, ?it/s]\n",
            "                 Class     Images  Instances      Box(P          R      mAP50  mAP50-95): 100%|██████████| 17/17 [00:02<00:00,  7.32it/s]\n",
            "                   all        266        266      0.991      0.997      0.994      0.826\n",
            "                  atas        266         55      0.971          1       0.99      0.732\n",
            "                 bawah        266         50      0.995          1      0.995      0.842\n",
            "                 depan        266         61          1      0.984      0.994      0.835\n",
            "                 kanan        266         51      0.994          1      0.995      0.835\n",
            "                  kiri        266         49      0.995          1      0.995      0.885\n",
            "Speed: 0.2ms preprocess, 3.4ms inference, 0.0ms loss, 2.6ms postprocess per image\n",
            "Results saved to \u001b[1mruns/detect/train67\u001b[0m\n",
            "Ultralytics YOLOv8.0.211 🚀 Python-3.10.12 torch-2.1.0+cu118 CUDA:0 (Tesla T4, 15102MiB)\n"
          ]
        },
        {
          "output_type": "stream",
          "name": "stdout",
          "text": [
            "Processing model 67: /content/drive/MyDrive/koding kuliah skripsi/YOLO Train FIX/Training with callback/runs/detect/train/weights/epoch67.pt\n"
          ]
        },
        {
          "output_type": "stream",
          "name": "stderr",
          "text": [
            "Model summary (fused): 168 layers, 3006623 parameters, 0 gradients, 8.1 GFLOPs\n",
            "\u001b[34m\u001b[1mval: \u001b[0mScanning /content/Head-motion-3/valid/labels.cache... 266 images, 0 backgrounds, 0 corrupt: 100%|██████████| 266/266 [00:00<?, ?it/s]\n",
            "                 Class     Images  Instances      Box(P          R      mAP50  mAP50-95): 100%|██████████| 17/17 [00:02<00:00,  7.31it/s]\n",
            "                   all        266        266      0.993      0.997      0.994      0.831\n",
            "                  atas        266         55       0.98          1      0.991      0.752\n",
            "                 bawah        266         50      0.997          1      0.995      0.827\n",
            "                 depan        266         61      0.997      0.984      0.994      0.841\n",
            "                 kanan        266         51      0.998          1      0.995      0.847\n",
            "                  kiri        266         49      0.996          1      0.995      0.886\n",
            "Speed: 0.1ms preprocess, 3.1ms inference, 0.0ms loss, 3.0ms postprocess per image\n",
            "Results saved to \u001b[1mruns/detect/train68\u001b[0m\n",
            "Ultralytics YOLOv8.0.211 🚀 Python-3.10.12 torch-2.1.0+cu118 CUDA:0 (Tesla T4, 15102MiB)\n"
          ]
        },
        {
          "output_type": "stream",
          "name": "stdout",
          "text": [
            "Processing model 68: /content/drive/MyDrive/koding kuliah skripsi/YOLO Train FIX/Training with callback/runs/detect/train/weights/epoch68.pt\n"
          ]
        },
        {
          "output_type": "stream",
          "name": "stderr",
          "text": [
            "Model summary (fused): 168 layers, 3006623 parameters, 0 gradients, 8.1 GFLOPs\n",
            "\u001b[34m\u001b[1mval: \u001b[0mScanning /content/Head-motion-3/valid/labels.cache... 266 images, 0 backgrounds, 0 corrupt: 100%|██████████| 266/266 [00:00<?, ?it/s]\n",
            "                 Class     Images  Instances      Box(P          R      mAP50  mAP50-95): 100%|██████████| 17/17 [00:03<00:00,  5.20it/s]\n",
            "                   all        266        266      0.987      0.996      0.995      0.823\n",
            "                  atas        266         55      0.971          1      0.995      0.716\n",
            "                 bawah        266         50      0.988          1      0.995      0.837\n",
            "                 depan        266         61          1      0.978      0.995      0.838\n",
            "                 kanan        266         51      0.987          1      0.995      0.836\n",
            "                  kiri        266         49      0.988          1      0.995       0.89\n",
            "Speed: 0.2ms preprocess, 2.2ms inference, 0.0ms loss, 1.8ms postprocess per image\n",
            "Results saved to \u001b[1mruns/detect/train69\u001b[0m\n",
            "Ultralytics YOLOv8.0.211 🚀 Python-3.10.12 torch-2.1.0+cu118 CUDA:0 (Tesla T4, 15102MiB)\n"
          ]
        },
        {
          "output_type": "stream",
          "name": "stdout",
          "text": [
            "Processing model 69: /content/drive/MyDrive/koding kuliah skripsi/YOLO Train FIX/Training with callback/runs/detect/train/weights/epoch69.pt\n"
          ]
        },
        {
          "output_type": "stream",
          "name": "stderr",
          "text": [
            "Model summary (fused): 168 layers, 3006623 parameters, 0 gradients, 8.1 GFLOPs\n",
            "\u001b[34m\u001b[1mval: \u001b[0mScanning /content/Head-motion-3/valid/labels.cache... 266 images, 0 backgrounds, 0 corrupt: 100%|██████████| 266/266 [00:00<?, ?it/s]\n",
            "                 Class     Images  Instances      Box(P          R      mAP50  mAP50-95): 100%|██████████| 17/17 [00:02<00:00,  7.15it/s]\n",
            "                   all        266        266      0.995      0.996      0.995      0.833\n",
            "                  atas        266         55      0.982          1      0.995      0.746\n",
            "                 bawah        266         50      0.997          1      0.995      0.838\n",
            "                 depan        266         61      0.999      0.984      0.994      0.845\n",
            "                 kanan        266         51          1      0.995      0.995      0.854\n",
            "                  kiri        266         49      0.996          1      0.995      0.882\n",
            "Speed: 0.1ms preprocess, 1.6ms inference, 0.0ms loss, 4.7ms postprocess per image\n",
            "Results saved to \u001b[1mruns/detect/train70\u001b[0m\n",
            "Ultralytics YOLOv8.0.211 🚀 Python-3.10.12 torch-2.1.0+cu118 CUDA:0 (Tesla T4, 15102MiB)\n"
          ]
        },
        {
          "output_type": "stream",
          "name": "stdout",
          "text": [
            "Processing model 70: /content/drive/MyDrive/koding kuliah skripsi/YOLO Train FIX/Training with callback/runs/detect/train/weights/epoch70.pt\n"
          ]
        },
        {
          "output_type": "stream",
          "name": "stderr",
          "text": [
            "Model summary (fused): 168 layers, 3006623 parameters, 0 gradients, 8.1 GFLOPs\n",
            "\u001b[34m\u001b[1mval: \u001b[0mScanning /content/Head-motion-3/valid/labels.cache... 266 images, 0 backgrounds, 0 corrupt: 100%|██████████| 266/266 [00:00<?, ?it/s]\n",
            "                 Class     Images  Instances      Box(P          R      mAP50  mAP50-95): 100%|██████████| 17/17 [00:03<00:00,  5.52it/s]\n",
            "                   all        266        266      0.991      0.996      0.995      0.836\n",
            "                  atas        266         55      0.978          1      0.995      0.773\n",
            "                 bawah        266         50      0.993          1      0.995      0.835\n",
            "                 depan        266         61      0.993      0.984      0.995       0.85\n",
            "                 kanan        266         51          1      0.994      0.995      0.838\n",
            "                  kiri        266         49      0.992          1      0.995      0.882\n",
            "Speed: 0.2ms preprocess, 1.8ms inference, 0.0ms loss, 1.9ms postprocess per image\n",
            "Results saved to \u001b[1mruns/detect/train71\u001b[0m\n",
            "Ultralytics YOLOv8.0.211 🚀 Python-3.10.12 torch-2.1.0+cu118 CUDA:0 (Tesla T4, 15102MiB)\n"
          ]
        },
        {
          "output_type": "stream",
          "name": "stdout",
          "text": [
            "Processing model 71: /content/drive/MyDrive/koding kuliah skripsi/YOLO Train FIX/Training with callback/runs/detect/train/weights/epoch71.pt\n"
          ]
        },
        {
          "output_type": "stream",
          "name": "stderr",
          "text": [
            "Model summary (fused): 168 layers, 3006623 parameters, 0 gradients, 8.1 GFLOPs\n",
            "\u001b[34m\u001b[1mval: \u001b[0mScanning /content/Head-motion-3/valid/labels.cache... 266 images, 0 backgrounds, 0 corrupt: 100%|██████████| 266/266 [00:00<?, ?it/s]\n",
            "                 Class     Images  Instances      Box(P          R      mAP50  mAP50-95): 100%|██████████| 17/17 [00:02<00:00,  5.95it/s]\n",
            "                   all        266        266      0.988      0.999      0.995      0.835\n",
            "                  atas        266         55      0.974          1      0.995      0.759\n",
            "                 bawah        266         50      0.989          1      0.995      0.845\n",
            "                 depan        266         61          1      0.993      0.995      0.845\n",
            "                 kanan        266         51      0.988          1      0.995      0.851\n",
            "                  kiri        266         49      0.988          1      0.995      0.874\n",
            "Speed: 0.2ms preprocess, 2.9ms inference, 0.0ms loss, 2.7ms postprocess per image\n",
            "Results saved to \u001b[1mruns/detect/train72\u001b[0m\n",
            "Ultralytics YOLOv8.0.211 🚀 Python-3.10.12 torch-2.1.0+cu118 CUDA:0 (Tesla T4, 15102MiB)\n"
          ]
        },
        {
          "output_type": "stream",
          "name": "stdout",
          "text": [
            "Processing model 72: /content/drive/MyDrive/koding kuliah skripsi/YOLO Train FIX/Training with callback/runs/detect/train/weights/epoch72.pt\n"
          ]
        },
        {
          "output_type": "stream",
          "name": "stderr",
          "text": [
            "Model summary (fused): 168 layers, 3006623 parameters, 0 gradients, 8.1 GFLOPs\n",
            "\u001b[34m\u001b[1mval: \u001b[0mScanning /content/Head-motion-3/valid/labels.cache... 266 images, 0 backgrounds, 0 corrupt: 100%|██████████| 266/266 [00:00<?, ?it/s]\n",
            "                 Class     Images  Instances      Box(P          R      mAP50  mAP50-95): 100%|██████████| 17/17 [00:02<00:00,  7.27it/s]\n",
            "                   all        266        266      0.994      0.997      0.995      0.835\n",
            "                  atas        266         55      0.981          1      0.995      0.746\n",
            "                 bawah        266         50      0.998          1      0.995      0.838\n",
            "                 depan        266         61      0.999      0.984      0.995      0.845\n",
            "                 kanan        266         51      0.998          1      0.995      0.855\n",
            "                  kiri        266         49      0.997          1      0.995      0.892\n",
            "Speed: 0.2ms preprocess, 4.0ms inference, 0.0ms loss, 2.1ms postprocess per image\n",
            "Results saved to \u001b[1mruns/detect/train73\u001b[0m\n",
            "Ultralytics YOLOv8.0.211 🚀 Python-3.10.12 torch-2.1.0+cu118 CUDA:0 (Tesla T4, 15102MiB)\n"
          ]
        },
        {
          "output_type": "stream",
          "name": "stdout",
          "text": [
            "Processing model 73: /content/drive/MyDrive/koding kuliah skripsi/YOLO Train FIX/Training with callback/runs/detect/train/weights/epoch73.pt\n"
          ]
        },
        {
          "output_type": "stream",
          "name": "stderr",
          "text": [
            "Model summary (fused): 168 layers, 3006623 parameters, 0 gradients, 8.1 GFLOPs\n",
            "\u001b[34m\u001b[1mval: \u001b[0mScanning /content/Head-motion-3/valid/labels.cache... 266 images, 0 backgrounds, 0 corrupt: 100%|██████████| 266/266 [00:00<?, ?it/s]\n",
            "                 Class     Images  Instances      Box(P          R      mAP50  mAP50-95): 100%|██████████| 17/17 [00:03<00:00,  5.21it/s]\n",
            "                   all        266        266      0.994      0.994      0.993      0.836\n",
            "                  atas        266         55      0.982      0.986      0.988      0.746\n",
            "                 bawah        266         50      0.997          1      0.995      0.838\n",
            "                 depan        266         61      0.997      0.984      0.994      0.855\n",
            "                 kanan        266         51      0.997          1      0.995      0.848\n",
            "                  kiri        266         49      0.997          1      0.995       0.89\n",
            "Speed: 0.1ms preprocess, 2.2ms inference, 0.0ms loss, 2.1ms postprocess per image\n",
            "Results saved to \u001b[1mruns/detect/train74\u001b[0m\n",
            "Ultralytics YOLOv8.0.211 🚀 Python-3.10.12 torch-2.1.0+cu118 CUDA:0 (Tesla T4, 15102MiB)\n"
          ]
        },
        {
          "output_type": "stream",
          "name": "stdout",
          "text": [
            "Processing model 74: /content/drive/MyDrive/koding kuliah skripsi/YOLO Train FIX/Training with callback/runs/detect/train/weights/epoch74.pt\n"
          ]
        },
        {
          "output_type": "stream",
          "name": "stderr",
          "text": [
            "Model summary (fused): 168 layers, 3006623 parameters, 0 gradients, 8.1 GFLOPs\n",
            "\u001b[34m\u001b[1mval: \u001b[0mScanning /content/Head-motion-3/valid/labels.cache... 266 images, 0 backgrounds, 0 corrupt: 100%|██████████| 266/266 [00:00<?, ?it/s]\n",
            "                 Class     Images  Instances      Box(P          R      mAP50  mAP50-95): 100%|██████████| 17/17 [00:02<00:00,  7.36it/s]\n",
            "                   all        266        266      0.994      0.997      0.995      0.834\n",
            "                  atas        266         55      0.982          1      0.995      0.744\n",
            "                 bawah        266         50      0.997          1      0.995      0.839\n",
            "                 depan        266         61      0.999      0.984      0.995      0.841\n",
            "                 kanan        266         51      0.997          1      0.995      0.858\n",
            "                  kiri        266         49      0.996          1      0.995      0.887\n",
            "Speed: 0.2ms preprocess, 4.1ms inference, 0.0ms loss, 2.0ms postprocess per image\n",
            "Results saved to \u001b[1mruns/detect/train75\u001b[0m\n",
            "Ultralytics YOLOv8.0.211 🚀 Python-3.10.12 torch-2.1.0+cu118 CUDA:0 (Tesla T4, 15102MiB)\n"
          ]
        },
        {
          "output_type": "stream",
          "name": "stdout",
          "text": [
            "Processing model 75: /content/drive/MyDrive/koding kuliah skripsi/YOLO Train FIX/Training with callback/runs/detect/train/weights/epoch75.pt\n"
          ]
        },
        {
          "output_type": "stream",
          "name": "stderr",
          "text": [
            "Model summary (fused): 168 layers, 3006623 parameters, 0 gradients, 8.1 GFLOPs\n",
            "\u001b[34m\u001b[1mval: \u001b[0mScanning /content/Head-motion-3/valid/labels.cache... 266 images, 0 backgrounds, 0 corrupt: 100%|██████████| 266/266 [00:00<?, ?it/s]\n",
            "                 Class     Images  Instances      Box(P          R      mAP50  mAP50-95): 100%|██████████| 17/17 [00:02<00:00,  7.30it/s]\n",
            "                   all        266        266      0.992      0.993      0.995      0.832\n",
            "                  atas        266         55      0.978          1      0.994      0.757\n",
            "                 bawah        266         50      0.995          1      0.995      0.834\n",
            "                 depan        266         61      0.995      0.984      0.994      0.848\n",
            "                 kanan        266         51          1      0.984      0.995      0.838\n",
            "                  kiri        266         49      0.995          1      0.995      0.884\n",
            "Speed: 0.2ms preprocess, 4.3ms inference, 0.0ms loss, 1.8ms postprocess per image\n",
            "Results saved to \u001b[1mruns/detect/train76\u001b[0m\n",
            "Ultralytics YOLOv8.0.211 🚀 Python-3.10.12 torch-2.1.0+cu118 CUDA:0 (Tesla T4, 15102MiB)\n"
          ]
        },
        {
          "output_type": "stream",
          "name": "stdout",
          "text": [
            "Processing model 76: /content/drive/MyDrive/koding kuliah skripsi/YOLO Train FIX/Training with callback/runs/detect/train/weights/epoch76.pt\n"
          ]
        },
        {
          "output_type": "stream",
          "name": "stderr",
          "text": [
            "Model summary (fused): 168 layers, 3006623 parameters, 0 gradients, 8.1 GFLOPs\n",
            "\u001b[34m\u001b[1mval: \u001b[0mScanning /content/Head-motion-3/valid/labels.cache... 266 images, 0 backgrounds, 0 corrupt: 100%|██████████| 266/266 [00:00<?, ?it/s]\n",
            "                 Class     Images  Instances      Box(P          R      mAP50  mAP50-95): 100%|██████████| 17/17 [00:02<00:00,  7.27it/s]\n",
            "                   all        266        266      0.988      0.997      0.995      0.842\n",
            "                  atas        266         55      0.973          1      0.995      0.775\n",
            "                 bawah        266         50       0.99          1      0.995      0.849\n",
            "                 depan        266         61      0.989      0.984      0.994      0.853\n",
            "                 kanan        266         51      0.998          1      0.995      0.845\n",
            "                  kiri        266         49      0.989          1      0.995      0.888\n",
            "Speed: 0.1ms preprocess, 3.5ms inference, 0.0ms loss, 2.1ms postprocess per image\n",
            "Results saved to \u001b[1mruns/detect/train77\u001b[0m\n",
            "Ultralytics YOLOv8.0.211 🚀 Python-3.10.12 torch-2.1.0+cu118 CUDA:0 (Tesla T4, 15102MiB)\n"
          ]
        },
        {
          "output_type": "stream",
          "name": "stdout",
          "text": [
            "Processing model 77: /content/drive/MyDrive/koding kuliah skripsi/YOLO Train FIX/Training with callback/runs/detect/train/weights/epoch77.pt\n"
          ]
        },
        {
          "output_type": "stream",
          "name": "stderr",
          "text": [
            "Model summary (fused): 168 layers, 3006623 parameters, 0 gradients, 8.1 GFLOPs\n",
            "\u001b[34m\u001b[1mval: \u001b[0mScanning /content/Head-motion-3/valid/labels.cache... 266 images, 0 backgrounds, 0 corrupt: 100%|██████████| 266/266 [00:00<?, ?it/s]\n",
            "                 Class     Images  Instances      Box(P          R      mAP50  mAP50-95): 100%|██████████| 17/17 [00:02<00:00,  7.10it/s]\n",
            "                   all        266        266      0.987      0.997      0.995      0.834\n",
            "                  atas        266         55      0.973          1      0.995      0.768\n",
            "                 bawah        266         50      0.989          1      0.995      0.842\n",
            "                 depan        266         61      0.988      0.984      0.994      0.841\n",
            "                 kanan        266         51      0.999          1      0.995      0.833\n",
            "                  kiri        266         49      0.987          1      0.995      0.887\n",
            "Speed: 0.2ms preprocess, 2.2ms inference, 0.0ms loss, 4.1ms postprocess per image\n",
            "Results saved to \u001b[1mruns/detect/train78\u001b[0m\n",
            "Ultralytics YOLOv8.0.211 🚀 Python-3.10.12 torch-2.1.0+cu118 CUDA:0 (Tesla T4, 15102MiB)\n"
          ]
        },
        {
          "output_type": "stream",
          "name": "stdout",
          "text": [
            "Processing model 78: /content/drive/MyDrive/koding kuliah skripsi/YOLO Train FIX/Training with callback/runs/detect/train/weights/epoch78.pt\n"
          ]
        },
        {
          "output_type": "stream",
          "name": "stderr",
          "text": [
            "Model summary (fused): 168 layers, 3006623 parameters, 0 gradients, 8.1 GFLOPs\n",
            "\u001b[34m\u001b[1mval: \u001b[0mScanning /content/Head-motion-3/valid/labels.cache... 266 images, 0 backgrounds, 0 corrupt: 100%|██████████| 266/266 [00:00<?, ?it/s]\n",
            "                 Class     Images  Instances      Box(P          R      mAP50  mAP50-95): 100%|██████████| 17/17 [00:02<00:00,  7.49it/s]\n",
            "                   all        266        266      0.987      0.997      0.994      0.823\n",
            "                  atas        266         55      0.976          1      0.992      0.755\n",
            "                 bawah        266         50      0.992          1      0.995       0.83\n",
            "                 depan        266         61      0.992      0.984      0.995      0.836\n",
            "                 kanan        266         51       0.98          1      0.993      0.816\n",
            "                  kiri        266         49      0.993          1      0.995      0.877\n",
            "Speed: 0.2ms preprocess, 3.9ms inference, 0.0ms loss, 2.0ms postprocess per image\n",
            "Results saved to \u001b[1mruns/detect/train79\u001b[0m\n",
            "Ultralytics YOLOv8.0.211 🚀 Python-3.10.12 torch-2.1.0+cu118 CUDA:0 (Tesla T4, 15102MiB)\n"
          ]
        },
        {
          "output_type": "stream",
          "name": "stdout",
          "text": [
            "Processing model 79: /content/drive/MyDrive/koding kuliah skripsi/YOLO Train FIX/Training with callback/runs/detect/train/weights/epoch79.pt\n"
          ]
        },
        {
          "output_type": "stream",
          "name": "stderr",
          "text": [
            "Model summary (fused): 168 layers, 3006623 parameters, 0 gradients, 8.1 GFLOPs\n",
            "\u001b[34m\u001b[1mval: \u001b[0mScanning /content/Head-motion-3/valid/labels.cache... 266 images, 0 backgrounds, 0 corrupt: 100%|██████████| 266/266 [00:00<?, ?it/s]\n",
            "                 Class     Images  Instances      Box(P          R      mAP50  mAP50-95): 100%|██████████| 17/17 [00:02<00:00,  6.20it/s]\n",
            "                   all        266        266       0.99      0.997      0.994      0.826\n",
            "                  atas        266         55      0.973          1      0.993      0.753\n",
            "                 bawah        266         50      0.991          1      0.995      0.834\n",
            "                 depan        266         61      0.994      0.984      0.994      0.838\n",
            "                 kanan        266         51          1          1      0.995      0.826\n",
            "                  kiri        266         49      0.991          1      0.995       0.88\n",
            "Speed: 0.0ms preprocess, 2.0ms inference, 0.0ms loss, 1.6ms postprocess per image\n",
            "Results saved to \u001b[1mruns/detect/train80\u001b[0m\n",
            "Ultralytics YOLOv8.0.211 🚀 Python-3.10.12 torch-2.1.0+cu118 CUDA:0 (Tesla T4, 15102MiB)\n"
          ]
        },
        {
          "output_type": "stream",
          "name": "stdout",
          "text": [
            "Processing model 80: /content/drive/MyDrive/koding kuliah skripsi/YOLO Train FIX/Training with callback/runs/detect/train/weights/epoch80.pt\n"
          ]
        },
        {
          "output_type": "stream",
          "name": "stderr",
          "text": [
            "Model summary (fused): 168 layers, 3006623 parameters, 0 gradients, 8.1 GFLOPs\n",
            "\u001b[34m\u001b[1mval: \u001b[0mScanning /content/Head-motion-3/valid/labels.cache... 266 images, 0 backgrounds, 0 corrupt: 100%|██████████| 266/266 [00:00<?, ?it/s]\n",
            "                 Class     Images  Instances      Box(P          R      mAP50  mAP50-95): 100%|██████████| 17/17 [00:02<00:00,  7.49it/s]\n",
            "                   all        266        266      0.985      0.997      0.993      0.834\n",
            "                  atas        266         55      0.972          1      0.989      0.745\n",
            "                 bawah        266         50      0.991          1      0.995      0.844\n",
            "                 depan        266         61      0.991      0.984      0.993      0.848\n",
            "                 kanan        266         51      0.979          1      0.994      0.846\n",
            "                  kiri        266         49      0.991          1      0.995      0.889\n",
            "Speed: 0.2ms preprocess, 3.5ms inference, 0.0ms loss, 2.3ms postprocess per image\n",
            "Results saved to \u001b[1mruns/detect/train81\u001b[0m\n",
            "Ultralytics YOLOv8.0.211 🚀 Python-3.10.12 torch-2.1.0+cu118 CUDA:0 (Tesla T4, 15102MiB)\n"
          ]
        },
        {
          "output_type": "stream",
          "name": "stdout",
          "text": [
            "Processing model 81: /content/drive/MyDrive/koding kuliah skripsi/YOLO Train FIX/Training with callback/runs/detect/train/weights/epoch81.pt\n"
          ]
        },
        {
          "output_type": "stream",
          "name": "stderr",
          "text": [
            "Model summary (fused): 168 layers, 3006623 parameters, 0 gradients, 8.1 GFLOPs\n",
            "\u001b[34m\u001b[1mval: \u001b[0mScanning /content/Head-motion-3/valid/labels.cache... 266 images, 0 backgrounds, 0 corrupt: 100%|██████████| 266/266 [00:00<?, ?it/s]\n",
            "                 Class     Images  Instances      Box(P          R      mAP50  mAP50-95): 100%|██████████| 17/17 [00:03<00:00,  5.04it/s]\n",
            "                   all        266        266      0.992      0.997      0.992      0.826\n",
            "                  atas        266         55      0.977          1      0.983      0.744\n",
            "                 bawah        266         50      0.995          1      0.995       0.83\n",
            "                 depan        266         61      0.995      0.984      0.993      0.836\n",
            "                 kanan        266         51      0.999          1      0.995      0.835\n",
            "                  kiri        266         49      0.995          1      0.995      0.887\n",
            "Speed: 0.2ms preprocess, 2.5ms inference, 0.0ms loss, 2.0ms postprocess per image\n",
            "Results saved to \u001b[1mruns/detect/train82\u001b[0m\n",
            "Ultralytics YOLOv8.0.211 🚀 Python-3.10.12 torch-2.1.0+cu118 CUDA:0 (Tesla T4, 15102MiB)\n"
          ]
        },
        {
          "output_type": "stream",
          "name": "stdout",
          "text": [
            "Processing model 82: /content/drive/MyDrive/koding kuliah skripsi/YOLO Train FIX/Training with callback/runs/detect/train/weights/epoch82.pt\n"
          ]
        },
        {
          "output_type": "stream",
          "name": "stderr",
          "text": [
            "Model summary (fused): 168 layers, 3006623 parameters, 0 gradients, 8.1 GFLOPs\n",
            "\u001b[34m\u001b[1mval: \u001b[0mScanning /content/Head-motion-3/valid/labels.cache... 266 images, 0 backgrounds, 0 corrupt: 100%|██████████| 266/266 [00:00<?, ?it/s]\n",
            "                 Class     Images  Instances      Box(P          R      mAP50  mAP50-95): 100%|██████████| 17/17 [00:02<00:00,  7.52it/s]\n",
            "                   all        266        266      0.988      0.997      0.992       0.83\n",
            "                  atas        266         55      0.976          1      0.983       0.75\n",
            "                 bawah        266         50      0.994          1      0.995      0.838\n",
            "                 depan        266         61      0.992      0.984      0.992      0.836\n",
            "                 kanan        266         51      0.979          1      0.994      0.846\n",
            "                  kiri        266         49      0.998          1      0.995       0.88\n",
            "Speed: 0.3ms preprocess, 3.8ms inference, 0.0ms loss, 2.1ms postprocess per image\n",
            "Results saved to \u001b[1mruns/detect/train83\u001b[0m\n",
            "Ultralytics YOLOv8.0.211 🚀 Python-3.10.12 torch-2.1.0+cu118 CUDA:0 (Tesla T4, 15102MiB)\n"
          ]
        },
        {
          "output_type": "stream",
          "name": "stdout",
          "text": [
            "Processing model 83: /content/drive/MyDrive/koding kuliah skripsi/YOLO Train FIX/Training with callback/runs/detect/train/weights/epoch83.pt\n"
          ]
        },
        {
          "output_type": "stream",
          "name": "stderr",
          "text": [
            "Model summary (fused): 168 layers, 3006623 parameters, 0 gradients, 8.1 GFLOPs\n",
            "\u001b[34m\u001b[1mval: \u001b[0mScanning /content/Head-motion-3/valid/labels.cache... 266 images, 0 backgrounds, 0 corrupt: 100%|██████████| 266/266 [00:00<?, ?it/s]\n",
            "                 Class     Images  Instances      Box(P          R      mAP50  mAP50-95): 100%|██████████| 17/17 [00:02<00:00,  7.31it/s]\n",
            "                   all        266        266      0.994      0.997      0.993      0.828\n",
            "                  atas        266         55       0.98          1      0.988      0.761\n",
            "                 bawah        266         50      0.997          1      0.995      0.824\n",
            "                 depan        266         61      0.999      0.984      0.994      0.834\n",
            "                 kanan        266         51      0.995          1      0.995      0.835\n",
            "                  kiri        266         49      0.999          1      0.995      0.884\n",
            "Speed: 0.1ms preprocess, 3.5ms inference, 0.0ms loss, 2.6ms postprocess per image\n",
            "Results saved to \u001b[1mruns/detect/train84\u001b[0m\n",
            "Ultralytics YOLOv8.0.211 🚀 Python-3.10.12 torch-2.1.0+cu118 CUDA:0 (Tesla T4, 15102MiB)\n"
          ]
        },
        {
          "output_type": "stream",
          "name": "stdout",
          "text": [
            "Processing model 84: /content/drive/MyDrive/koding kuliah skripsi/YOLO Train FIX/Training with callback/runs/detect/train/weights/epoch84.pt\n"
          ]
        },
        {
          "output_type": "stream",
          "name": "stderr",
          "text": [
            "Model summary (fused): 168 layers, 3006623 parameters, 0 gradients, 8.1 GFLOPs\n",
            "\u001b[34m\u001b[1mval: \u001b[0mScanning /content/Head-motion-3/valid/labels.cache... 266 images, 0 backgrounds, 0 corrupt: 100%|██████████| 266/266 [00:00<?, ?it/s]\n",
            "                 Class     Images  Instances      Box(P          R      mAP50  mAP50-95): 100%|██████████| 17/17 [00:02<00:00,  5.80it/s]\n",
            "                   all        266        266      0.991      0.997      0.994      0.833\n",
            "                  atas        266         55      0.975          1      0.992       0.76\n",
            "                 bawah        266         50      0.994          1      0.995      0.839\n",
            "                 depan        266         61      0.994      0.984      0.994      0.839\n",
            "                 kanan        266         51      0.997          1      0.995      0.845\n",
            "                  kiri        266         49      0.993          1      0.995      0.881\n",
            "Speed: 0.3ms preprocess, 1.9ms inference, 0.0ms loss, 1.9ms postprocess per image\n",
            "Results saved to \u001b[1mruns/detect/train85\u001b[0m\n",
            "Ultralytics YOLOv8.0.211 🚀 Python-3.10.12 torch-2.1.0+cu118 CUDA:0 (Tesla T4, 15102MiB)\n"
          ]
        },
        {
          "output_type": "stream",
          "name": "stdout",
          "text": [
            "Processing model 85: /content/drive/MyDrive/koding kuliah skripsi/YOLO Train FIX/Training with callback/runs/detect/train/weights/epoch85.pt\n"
          ]
        },
        {
          "output_type": "stream",
          "name": "stderr",
          "text": [
            "Model summary (fused): 168 layers, 3006623 parameters, 0 gradients, 8.1 GFLOPs\n",
            "\u001b[34m\u001b[1mval: \u001b[0mScanning /content/Head-motion-3/valid/labels.cache... 266 images, 0 backgrounds, 0 corrupt: 100%|██████████| 266/266 [00:00<?, ?it/s]\n",
            "                 Class     Images  Instances      Box(P          R      mAP50  mAP50-95): 100%|██████████| 17/17 [00:02<00:00,  6.73it/s]\n",
            "                   all        266        266      0.993      0.996      0.994      0.832\n",
            "                  atas        266         55      0.982      0.998      0.993       0.77\n",
            "                 bawah        266         50      0.995          1      0.995      0.823\n",
            "                 depan        266         61      0.994      0.984      0.993      0.844\n",
            "                 kanan        266         51      0.998          1      0.995       0.84\n",
            "                  kiri        266         49      0.995          1      0.995      0.885\n",
            "Speed: 0.2ms preprocess, 3.6ms inference, 0.0ms loss, 2.9ms postprocess per image\n",
            "Results saved to \u001b[1mruns/detect/train86\u001b[0m\n",
            "Ultralytics YOLOv8.0.211 🚀 Python-3.10.12 torch-2.1.0+cu118 CUDA:0 (Tesla T4, 15102MiB)\n"
          ]
        },
        {
          "output_type": "stream",
          "name": "stdout",
          "text": [
            "Processing model 86: /content/drive/MyDrive/koding kuliah skripsi/YOLO Train FIX/Training with callback/runs/detect/train/weights/epoch86.pt\n"
          ]
        },
        {
          "output_type": "stream",
          "name": "stderr",
          "text": [
            "Model summary (fused): 168 layers, 3006623 parameters, 0 gradients, 8.1 GFLOPs\n",
            "\u001b[34m\u001b[1mval: \u001b[0mScanning /content/Head-motion-3/valid/labels.cache... 266 images, 0 backgrounds, 0 corrupt: 100%|██████████| 266/266 [00:00<?, ?it/s]\n",
            "                 Class     Images  Instances      Box(P          R      mAP50  mAP50-95): 100%|██████████| 17/17 [00:03<00:00,  5.25it/s]\n",
            "                   all        266        266      0.985      0.997      0.993      0.828\n",
            "                  atas        266         55      0.974          1      0.991      0.758\n",
            "                 bawah        266         50       0.99          1      0.995      0.831\n",
            "                 depan        266         61      0.987      0.984      0.993       0.83\n",
            "                 kanan        266         51      0.981          1      0.992      0.842\n",
            "                  kiri        266         49      0.993          1      0.995      0.879\n",
            "Speed: 0.2ms preprocess, 2.2ms inference, 0.0ms loss, 1.8ms postprocess per image\n",
            "Results saved to \u001b[1mruns/detect/train87\u001b[0m\n",
            "Ultralytics YOLOv8.0.211 🚀 Python-3.10.12 torch-2.1.0+cu118 CUDA:0 (Tesla T4, 15102MiB)\n"
          ]
        },
        {
          "output_type": "stream",
          "name": "stdout",
          "text": [
            "Processing model 87: /content/drive/MyDrive/koding kuliah skripsi/YOLO Train FIX/Training with callback/runs/detect/train/weights/epoch87.pt\n"
          ]
        },
        {
          "output_type": "stream",
          "name": "stderr",
          "text": [
            "Model summary (fused): 168 layers, 3006623 parameters, 0 gradients, 8.1 GFLOPs\n",
            "\u001b[34m\u001b[1mval: \u001b[0mScanning /content/Head-motion-3/valid/labels.cache... 266 images, 0 backgrounds, 0 corrupt: 100%|██████████| 266/266 [00:00<?, ?it/s]\n",
            "                 Class     Images  Instances      Box(P          R      mAP50  mAP50-95): 100%|██████████| 17/17 [00:02<00:00,  7.32it/s]\n",
            "                   all        266        266      0.993      0.996      0.995      0.835\n",
            "                  atas        266         55      0.981          1      0.995       0.78\n",
            "                 bawah        266         50      0.998          1      0.995      0.828\n",
            "                 depan        266         61      0.997      0.984      0.995      0.836\n",
            "                 kanan        266         51      0.987          1      0.995      0.844\n",
            "                  kiri        266         49          1      0.998      0.995      0.888\n",
            "Speed: 0.1ms preprocess, 2.9ms inference, 0.0ms loss, 3.2ms postprocess per image\n",
            "Results saved to \u001b[1mruns/detect/train88\u001b[0m\n",
            "Ultralytics YOLOv8.0.211 🚀 Python-3.10.12 torch-2.1.0+cu118 CUDA:0 (Tesla T4, 15102MiB)\n"
          ]
        },
        {
          "output_type": "stream",
          "name": "stdout",
          "text": [
            "Processing model 88: /content/drive/MyDrive/koding kuliah skripsi/YOLO Train FIX/Training with callback/runs/detect/train/weights/epoch88.pt\n"
          ]
        },
        {
          "output_type": "stream",
          "name": "stderr",
          "text": [
            "Model summary (fused): 168 layers, 3006623 parameters, 0 gradients, 8.1 GFLOPs\n",
            "\u001b[34m\u001b[1mval: \u001b[0mScanning /content/Head-motion-3/valid/labels.cache... 266 images, 0 backgrounds, 0 corrupt: 100%|██████████| 266/266 [00:00<?, ?it/s]\n",
            "                 Class     Images  Instances      Box(P          R      mAP50  mAP50-95): 100%|██████████| 17/17 [00:02<00:00,  6.79it/s]\n",
            "                   all        266        266      0.994      0.996      0.995      0.835\n",
            "                  atas        266         55      0.981          1      0.995      0.775\n",
            "                 bawah        266         50      0.997          1      0.995      0.828\n",
            "                 depan        266         61      0.997      0.984      0.995      0.835\n",
            "                 kanan        266         51      0.993          1      0.995      0.852\n",
            "                  kiri        266         49          1      0.999      0.995      0.887\n",
            "Speed: 0.1ms preprocess, 3.2ms inference, 0.0ms loss, 3.4ms postprocess per image\n",
            "Results saved to \u001b[1mruns/detect/train89\u001b[0m\n",
            "Ultralytics YOLOv8.0.211 🚀 Python-3.10.12 torch-2.1.0+cu118 CUDA:0 (Tesla T4, 15102MiB)\n"
          ]
        },
        {
          "output_type": "stream",
          "name": "stdout",
          "text": [
            "Processing model 89: /content/drive/MyDrive/koding kuliah skripsi/YOLO Train FIX/Training with callback/runs/detect/train/weights/epoch89.pt\n"
          ]
        },
        {
          "output_type": "stream",
          "name": "stderr",
          "text": [
            "Model summary (fused): 168 layers, 3006623 parameters, 0 gradients, 8.1 GFLOPs\n",
            "\u001b[34m\u001b[1mval: \u001b[0mScanning /content/Head-motion-3/valid/labels.cache... 266 images, 0 backgrounds, 0 corrupt: 100%|██████████| 266/266 [00:00<?, ?it/s]\n",
            "                 Class     Images  Instances      Box(P          R      mAP50  mAP50-95): 100%|██████████| 17/17 [00:03<00:00,  5.44it/s]\n",
            "                   all        266        266      0.995      0.997      0.995      0.837\n",
            "                  atas        266         55      0.982          1      0.995      0.775\n",
            "                 bawah        266         50      0.998          1      0.995      0.839\n",
            "                 depan        266         61      0.998      0.984      0.994      0.839\n",
            "                 kanan        266         51      0.998          1      0.995      0.845\n",
            "                  kiri        266         49      0.998          1      0.995      0.886\n",
            "Speed: 0.0ms preprocess, 2.1ms inference, 0.0ms loss, 2.0ms postprocess per image\n",
            "Results saved to \u001b[1mruns/detect/train90\u001b[0m\n",
            "Ultralytics YOLOv8.0.211 🚀 Python-3.10.12 torch-2.1.0+cu118 CUDA:0 (Tesla T4, 15102MiB)\n"
          ]
        },
        {
          "output_type": "stream",
          "name": "stdout",
          "text": [
            "Processing model 90: /content/drive/MyDrive/koding kuliah skripsi/YOLO Train FIX/Training with callback/runs/detect/train/weights/epoch90.pt\n"
          ]
        },
        {
          "output_type": "stream",
          "name": "stderr",
          "text": [
            "Model summary (fused): 168 layers, 3006623 parameters, 0 gradients, 8.1 GFLOPs\n",
            "\u001b[34m\u001b[1mval: \u001b[0mScanning /content/Head-motion-3/valid/labels.cache... 266 images, 0 backgrounds, 0 corrupt: 100%|██████████| 266/266 [00:00<?, ?it/s]\n",
            "                 Class     Images  Instances      Box(P          R      mAP50  mAP50-95): 100%|██████████| 17/17 [00:02<00:00,  7.30it/s]\n",
            "                   all        266        266      0.993      0.995      0.995      0.836\n",
            "                  atas        266         55      0.982          1      0.995      0.777\n",
            "                 bawah        266         50      0.998          1      0.995      0.831\n",
            "                 depan        266         61      0.997      0.984      0.995      0.835\n",
            "                 kanan        266         51       0.99          1      0.995      0.845\n",
            "                  kiri        266         49          1      0.993      0.995      0.892\n",
            "Speed: 0.2ms preprocess, 3.8ms inference, 0.0ms loss, 2.3ms postprocess per image\n",
            "Results saved to \u001b[1mruns/detect/train91\u001b[0m\n",
            "Ultralytics YOLOv8.0.211 🚀 Python-3.10.12 torch-2.1.0+cu118 CUDA:0 (Tesla T4, 15102MiB)\n"
          ]
        },
        {
          "output_type": "stream",
          "name": "stdout",
          "text": [
            "Processing model 91: /content/drive/MyDrive/koding kuliah skripsi/YOLO Train FIX/Training with callback/runs/detect/train/weights/epoch91.pt\n"
          ]
        },
        {
          "output_type": "stream",
          "name": "stderr",
          "text": [
            "Model summary (fused): 168 layers, 3006623 parameters, 0 gradients, 8.1 GFLOPs\n",
            "\u001b[34m\u001b[1mval: \u001b[0mScanning /content/Head-motion-3/valid/labels.cache... 266 images, 0 backgrounds, 0 corrupt: 100%|██████████| 266/266 [00:00<?, ?it/s]\n",
            "                 Class     Images  Instances      Box(P          R      mAP50  mAP50-95): 100%|██████████| 17/17 [00:03<00:00,  5.50it/s]\n",
            "                   all        266        266      0.993      0.997      0.995      0.838\n",
            "                  atas        266         55      0.979          1      0.995      0.779\n",
            "                 bawah        266         50      0.996          1      0.995      0.831\n",
            "                 depan        266         61      0.995      0.984      0.995      0.842\n",
            "                 kanan        266         51      0.996          1      0.995      0.845\n",
            "                  kiri        266         49          1          1      0.995      0.892\n",
            "Speed: 0.2ms preprocess, 2.1ms inference, 0.0ms loss, 1.9ms postprocess per image\n",
            "Results saved to \u001b[1mruns/detect/train92\u001b[0m\n",
            "Ultralytics YOLOv8.0.211 🚀 Python-3.10.12 torch-2.1.0+cu118 CUDA:0 (Tesla T4, 15102MiB)\n"
          ]
        },
        {
          "output_type": "stream",
          "name": "stdout",
          "text": [
            "Processing model 92: /content/drive/MyDrive/koding kuliah skripsi/YOLO Train FIX/Training with callback/runs/detect/train/weights/epoch92.pt\n"
          ]
        },
        {
          "output_type": "stream",
          "name": "stderr",
          "text": [
            "Model summary (fused): 168 layers, 3006623 parameters, 0 gradients, 8.1 GFLOPs\n",
            "\u001b[34m\u001b[1mval: \u001b[0mScanning /content/Head-motion-3/valid/labels.cache... 266 images, 0 backgrounds, 0 corrupt: 100%|██████████| 266/266 [00:00<?, ?it/s]\n",
            "                 Class     Images  Instances      Box(P          R      mAP50  mAP50-95): 100%|██████████| 17/17 [00:02<00:00,  7.11it/s]\n",
            "                   all        266        266      0.994      0.998      0.995      0.835\n",
            "                  atas        266         55       0.98          1      0.995      0.772\n",
            "                 bawah        266         50      0.997          1      0.995      0.842\n",
            "                 depan        266         61          1      0.988      0.995      0.837\n",
            "                 kanan        266         51      0.999          1      0.995      0.839\n",
            "                  kiri        266         49      0.997          1      0.995      0.883\n",
            "Speed: 0.3ms preprocess, 2.7ms inference, 0.0ms loss, 3.3ms postprocess per image\n",
            "Results saved to \u001b[1mruns/detect/train93\u001b[0m\n",
            "Ultralytics YOLOv8.0.211 🚀 Python-3.10.12 torch-2.1.0+cu118 CUDA:0 (Tesla T4, 15102MiB)\n"
          ]
        },
        {
          "output_type": "stream",
          "name": "stdout",
          "text": [
            "Processing model 93: /content/drive/MyDrive/koding kuliah skripsi/YOLO Train FIX/Training with callback/runs/detect/train/weights/epoch93.pt\n"
          ]
        },
        {
          "output_type": "stream",
          "name": "stderr",
          "text": [
            "Model summary (fused): 168 layers, 3006623 parameters, 0 gradients, 8.1 GFLOPs\n",
            "\u001b[34m\u001b[1mval: \u001b[0mScanning /content/Head-motion-3/valid/labels.cache... 266 images, 0 backgrounds, 0 corrupt: 100%|██████████| 266/266 [00:00<?, ?it/s]\n",
            "                 Class     Images  Instances      Box(P          R      mAP50  mAP50-95): 100%|██████████| 17/17 [00:02<00:00,  7.14it/s]\n",
            "                   all        266        266      0.995      0.997      0.995      0.833\n",
            "                  atas        266         55      0.981          1      0.995      0.762\n",
            "                 bawah        266         50      0.998          1      0.995      0.838\n",
            "                 depan        266         61      0.997      0.984      0.994      0.839\n",
            "                 kanan        266         51      0.998          1      0.995      0.841\n",
            "                  kiri        266         49      0.998          1      0.995      0.885\n",
            "Speed: 0.0ms preprocess, 3.2ms inference, 0.0ms loss, 1.5ms postprocess per image\n",
            "Results saved to \u001b[1mruns/detect/train94\u001b[0m\n",
            "Ultralytics YOLOv8.0.211 🚀 Python-3.10.12 torch-2.1.0+cu118 CUDA:0 (Tesla T4, 15102MiB)\n"
          ]
        },
        {
          "output_type": "stream",
          "name": "stdout",
          "text": [
            "Processing model 94: /content/drive/MyDrive/koding kuliah skripsi/YOLO Train FIX/Training with callback/runs/detect/train/weights/epoch94.pt\n"
          ]
        },
        {
          "output_type": "stream",
          "name": "stderr",
          "text": [
            "Model summary (fused): 168 layers, 3006623 parameters, 0 gradients, 8.1 GFLOPs\n",
            "\u001b[34m\u001b[1mval: \u001b[0mScanning /content/Head-motion-3/valid/labels.cache... 266 images, 0 backgrounds, 0 corrupt: 100%|██████████| 266/266 [00:00<?, ?it/s]\n",
            "                 Class     Images  Instances      Box(P          R      mAP50  mAP50-95): 100%|██████████| 17/17 [00:02<00:00,  7.01it/s]\n",
            "                   all        266        266      0.994      0.997      0.995      0.836\n",
            "                  atas        266         55      0.982          1      0.994      0.763\n",
            "                 bawah        266         50      0.998          1      0.995      0.836\n",
            "                 depan        266         61      0.997      0.984      0.994      0.848\n",
            "                 kanan        266         51      0.998          1      0.995      0.849\n",
            "                  kiri        266         49      0.998          1      0.995      0.885\n",
            "Speed: 0.2ms preprocess, 3.6ms inference, 0.0ms loss, 2.7ms postprocess per image\n",
            "Results saved to \u001b[1mruns/detect/train95\u001b[0m\n",
            "Ultralytics YOLOv8.0.211 🚀 Python-3.10.12 torch-2.1.0+cu118 CUDA:0 (Tesla T4, 15102MiB)\n"
          ]
        },
        {
          "output_type": "stream",
          "name": "stdout",
          "text": [
            "Processing model 95: /content/drive/MyDrive/koding kuliah skripsi/YOLO Train FIX/Training with callback/runs/detect/train/weights/epoch95.pt\n"
          ]
        },
        {
          "output_type": "stream",
          "name": "stderr",
          "text": [
            "Model summary (fused): 168 layers, 3006623 parameters, 0 gradients, 8.1 GFLOPs\n",
            "\u001b[34m\u001b[1mval: \u001b[0mScanning /content/Head-motion-3/valid/labels.cache... 266 images, 0 backgrounds, 0 corrupt: 100%|██████████| 266/266 [00:00<?, ?it/s]\n",
            "                 Class     Images  Instances      Box(P          R      mAP50  mAP50-95): 100%|██████████| 17/17 [00:03<00:00,  5.38it/s]\n",
            "                   all        266        266      0.995      0.997      0.995      0.837\n",
            "                  atas        266         55      0.981          1      0.995      0.763\n",
            "                 bawah        266         50      0.998          1      0.995      0.846\n",
            "                 depan        266         61      0.997      0.984      0.994      0.834\n",
            "                 kanan        266         51          1          1      0.995      0.858\n",
            "                  kiri        266         49      0.997          1      0.995      0.883\n",
            "Speed: 0.1ms preprocess, 2.0ms inference, 0.0ms loss, 2.4ms postprocess per image\n",
            "Results saved to \u001b[1mruns/detect/train96\u001b[0m\n",
            "Ultralytics YOLOv8.0.211 🚀 Python-3.10.12 torch-2.1.0+cu118 CUDA:0 (Tesla T4, 15102MiB)\n"
          ]
        },
        {
          "output_type": "stream",
          "name": "stdout",
          "text": [
            "Processing model 96: /content/drive/MyDrive/koding kuliah skripsi/YOLO Train FIX/Training with callback/runs/detect/train/weights/epoch96.pt\n"
          ]
        },
        {
          "output_type": "stream",
          "name": "stderr",
          "text": [
            "Model summary (fused): 168 layers, 3006623 parameters, 0 gradients, 8.1 GFLOPs\n",
            "\u001b[34m\u001b[1mval: \u001b[0mScanning /content/Head-motion-3/valid/labels.cache... 266 images, 0 backgrounds, 0 corrupt: 100%|██████████| 266/266 [00:00<?, ?it/s]\n",
            "                 Class     Images  Instances      Box(P          R      mAP50  mAP50-95): 100%|██████████| 17/17 [00:02<00:00,  7.30it/s]\n",
            "                   all        266        266      0.994      0.997      0.995      0.831\n",
            "                  atas        266         55      0.979          1      0.995       0.76\n",
            "                 bawah        266         50      0.997          1      0.995      0.834\n",
            "                 depan        266         61      0.995      0.984      0.995      0.836\n",
            "                 kanan        266         51          1      0.999      0.995      0.849\n",
            "                  kiri        266         49      0.996          1      0.995      0.878\n",
            "Speed: 0.2ms preprocess, 2.6ms inference, 0.0ms loss, 2.8ms postprocess per image\n",
            "Results saved to \u001b[1mruns/detect/train97\u001b[0m\n",
            "Ultralytics YOLOv8.0.211 🚀 Python-3.10.12 torch-2.1.0+cu118 CUDA:0 (Tesla T4, 15102MiB)\n"
          ]
        },
        {
          "output_type": "stream",
          "name": "stdout",
          "text": [
            "Processing model 97: /content/drive/MyDrive/koding kuliah skripsi/YOLO Train FIX/Training with callback/runs/detect/train/weights/epoch97.pt\n"
          ]
        },
        {
          "output_type": "stream",
          "name": "stderr",
          "text": [
            "Model summary (fused): 168 layers, 3006623 parameters, 0 gradients, 8.1 GFLOPs\n",
            "\u001b[34m\u001b[1mval: \u001b[0mScanning /content/Head-motion-3/valid/labels.cache... 266 images, 0 backgrounds, 0 corrupt: 100%|██████████| 266/266 [00:00<?, ?it/s]\n",
            "                 Class     Images  Instances      Box(P          R      mAP50  mAP50-95): 100%|██████████| 17/17 [00:03<00:00,  5.39it/s]\n",
            "                   all        266        266      0.993      0.997      0.995      0.838\n",
            "                  atas        266         55      0.979          1      0.995      0.768\n",
            "                 bawah        266         50      0.996          1      0.995       0.84\n",
            "                 depan        266         61      0.995      0.984      0.995      0.837\n",
            "                 kanan        266         51          1      0.999      0.995      0.854\n",
            "                  kiri        266         49      0.996          1      0.995      0.889\n",
            "Speed: 0.3ms preprocess, 2.0ms inference, 0.0ms loss, 1.8ms postprocess per image\n",
            "Results saved to \u001b[1mruns/detect/train98\u001b[0m\n",
            "Ultralytics YOLOv8.0.211 🚀 Python-3.10.12 torch-2.1.0+cu118 CUDA:0 (Tesla T4, 15102MiB)\n"
          ]
        },
        {
          "output_type": "stream",
          "name": "stdout",
          "text": [
            "Processing model 98: /content/drive/MyDrive/koding kuliah skripsi/YOLO Train FIX/Training with callback/runs/detect/train/weights/epoch98.pt\n"
          ]
        },
        {
          "output_type": "stream",
          "name": "stderr",
          "text": [
            "Model summary (fused): 168 layers, 3006623 parameters, 0 gradients, 8.1 GFLOPs\n",
            "\u001b[34m\u001b[1mval: \u001b[0mScanning /content/Head-motion-3/valid/labels.cache... 266 images, 0 backgrounds, 0 corrupt: 100%|██████████| 266/266 [00:00<?, ?it/s]\n",
            "                 Class     Images  Instances      Box(P          R      mAP50  mAP50-95): 100%|██████████| 17/17 [00:02<00:00,  7.01it/s]\n",
            "                   all        266        266      0.992      0.997      0.995      0.834\n",
            "                  atas        266         55      0.978          1      0.995      0.765\n",
            "                 bawah        266         50      0.995          1      0.995      0.835\n",
            "                 depan        266         61      0.994      0.984      0.994      0.835\n",
            "                 kanan        266         51      0.999          1      0.995      0.846\n",
            "                  kiri        266         49      0.995          1      0.995      0.888\n",
            "Speed: 0.2ms preprocess, 3.3ms inference, 0.0ms loss, 3.0ms postprocess per image\n",
            "Results saved to \u001b[1mruns/detect/train99\u001b[0m\n",
            "Ultralytics YOLOv8.0.211 🚀 Python-3.10.12 torch-2.1.0+cu118 CUDA:0 (Tesla T4, 15102MiB)\n"
          ]
        },
        {
          "output_type": "stream",
          "name": "stdout",
          "text": [
            "Processing model 99: /content/drive/MyDrive/koding kuliah skripsi/YOLO Train FIX/Training with callback/runs/detect/train/weights/best.pt\n"
          ]
        },
        {
          "output_type": "stream",
          "name": "stderr",
          "text": [
            "Model summary (fused): 168 layers, 3006623 parameters, 0 gradients, 8.1 GFLOPs\n",
            "\u001b[34m\u001b[1mval: \u001b[0mScanning /content/Head-motion-3/valid/labels.cache... 266 images, 0 backgrounds, 0 corrupt: 100%|██████████| 266/266 [00:00<?, ?it/s]\n",
            "                 Class     Images  Instances      Box(P          R      mAP50  mAP50-95): 100%|██████████| 17/17 [00:03<00:00,  5.37it/s]\n",
            "                   all        266        266      0.988      0.997      0.995      0.842\n",
            "                  atas        266         55      0.973          1      0.995      0.775\n",
            "                 bawah        266         50       0.99          1      0.995      0.849\n",
            "                 depan        266         61      0.989      0.984      0.994      0.853\n",
            "                 kanan        266         51      0.998          1      0.995      0.845\n",
            "                  kiri        266         49      0.989          1      0.995      0.888\n",
            "Speed: 0.0ms preprocess, 2.3ms inference, 0.0ms loss, 2.0ms postprocess per image\n",
            "Results saved to \u001b[1mruns/detect/train100\u001b[0m\n",
            "Ultralytics YOLOv8.0.211 🚀 Python-3.10.12 torch-2.1.0+cu118 CUDA:0 (Tesla T4, 15102MiB)\n"
          ]
        },
        {
          "output_type": "stream",
          "name": "stdout",
          "text": [
            "Processing model 100: /content/drive/MyDrive/koding kuliah skripsi/YOLO Train FIX/Training with callback/runs/detect/train/weights/last.pt\n"
          ]
        },
        {
          "output_type": "stream",
          "name": "stderr",
          "text": [
            "Model summary (fused): 168 layers, 3006623 parameters, 0 gradients, 8.1 GFLOPs\n",
            "\u001b[34m\u001b[1mval: \u001b[0mScanning /content/Head-motion-3/valid/labels.cache... 266 images, 0 backgrounds, 0 corrupt: 100%|██████████| 266/266 [00:00<?, ?it/s]\n",
            "                 Class     Images  Instances      Box(P          R      mAP50  mAP50-95): 100%|██████████| 17/17 [00:02<00:00,  7.17it/s]\n",
            "                   all        266        266      0.993      0.997      0.995      0.834\n",
            "                  atas        266         55      0.979          1      0.995      0.763\n",
            "                 bawah        266         50      0.996          1      0.995      0.841\n",
            "                 depan        266         61      0.995      0.984      0.994      0.837\n",
            "                 kanan        266         51          1          1      0.995      0.847\n",
            "                  kiri        266         49      0.996          1      0.995      0.883\n",
            "Speed: 0.0ms preprocess, 4.2ms inference, 0.0ms loss, 2.2ms postprocess per image\n",
            "Results saved to \u001b[1mruns/detect/train101\u001b[0m\n",
            "Ultralytics YOLOv8.0.211 🚀 Python-3.10.12 torch-2.1.0+cu118 CUDA:0 (Tesla T4, 15102MiB)\n"
          ]
        },
        {
          "output_type": "stream",
          "name": "stdout",
          "text": [
            "Processing model 101: /content/drive/MyDrive/koding kuliah skripsi/YOLO Train FIX/Training with callback/runs/detect/train/weights/epoch99.pt\n"
          ]
        },
        {
          "output_type": "stream",
          "name": "stderr",
          "text": [
            "Model summary (fused): 168 layers, 3006623 parameters, 0 gradients, 8.1 GFLOPs\n",
            "\u001b[34m\u001b[1mval: \u001b[0mScanning /content/Head-motion-3/valid/labels.cache... 266 images, 0 backgrounds, 0 corrupt: 100%|██████████| 266/266 [00:00<?, ?it/s]\n",
            "                 Class     Images  Instances      Box(P          R      mAP50  mAP50-95): 100%|██████████| 17/17 [00:02<00:00,  6.12it/s]\n",
            "                   all        266        266      0.993      0.997      0.995      0.834\n",
            "                  atas        266         55      0.979          1      0.995      0.763\n",
            "                 bawah        266         50      0.996          1      0.995      0.841\n",
            "                 depan        266         61      0.995      0.984      0.994      0.837\n",
            "                 kanan        266         51          1          1      0.995      0.847\n",
            "                  kiri        266         49      0.996          1      0.995      0.883\n",
            "Speed: 0.1ms preprocess, 3.0ms inference, 0.0ms loss, 2.6ms postprocess per image\n",
            "Results saved to \u001b[1mruns/detect/train102\u001b[0m\n"
          ]
        }
      ]
    },
    {
      "cell_type": "markdown",
      "source": [
        "#ZIP"
      ],
      "metadata": {
        "id": "ip6qtr3qyW0S"
      }
    },
    {
      "cell_type": "code",
      "source": [
        "import zipfile\n",
        "import os\n",
        "\n",
        "def zip_folder(source_folder, output_path):\n",
        "    with zipfile.ZipFile(output_path, 'w', zipfile.ZIP_DEFLATED) as zipf:\n",
        "        for root, _, files in os.walk(source_folder):\n",
        "            for file in files:\n",
        "                file_path = os.path.join(root, file)\n",
        "                arcname = os.path.relpath(file_path, source_folder)\n",
        "                zipf.write(file_path, arcname)\n",
        "\n",
        "source_folder = '/content/runs'\n",
        "output_path = '/content/THE_NAME_OF YOUR_FILE.zip'\n",
        "\n",
        "zip_folder(source_folder, output_path)\n",
        "print(f'Folder \"{source_folder}\" zipped to \"{output_path}\"')\n"
      ],
      "metadata": {
        "id": "63j908SbyXne"
      },
      "execution_count": null,
      "outputs": []
    },
    {
      "cell_type": "markdown",
      "source": [
        "#Move folder"
      ],
      "metadata": {
        "id": "--pErX3xKIVb"
      }
    },
    {
      "cell_type": "code",
      "source": [
        "import shutil\n",
        "\n",
        "# Source and destination paths\n",
        "source_path = \"/content/Conf\" #I change my folder name from runs to Conf\n",
        "destination_path = \"/content/drive/MyDrive/YOUR_PATH\"\n",
        "\n",
        "# Move the directory\n",
        "shutil.move(source_path, destination_path)\n"
      ],
      "metadata": {
        "id": "_FriaLw3KLCK"
      },
      "execution_count": null,
      "outputs": []
    }
  ],
  "metadata": {
    "accelerator": "GPU",
    "colab": {
      "provenance": []
    },
    "gpuClass": "standard",
    "kernelspec": {
      "display_name": "Python 3",
      "name": "python3"
    },
    "language_info": {
      "name": "python"
    }
  },
  "nbformat": 4,
  "nbformat_minor": 0
}