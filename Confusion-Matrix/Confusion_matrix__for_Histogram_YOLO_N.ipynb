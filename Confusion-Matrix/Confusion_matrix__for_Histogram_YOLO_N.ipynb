{
  "cells": [
    {
      "cell_type": "markdown",
      "source": [
        "#100 EPOCH"
      ],
      "metadata": {
        "id": "7oCYBeSqv106"
      }
    },
    {
      "cell_type": "markdown",
      "source": [
        "Note:\n",
        "\n",
        "Using this code to keep the collab alive\n",
        "\n",
        "function ClickConnect(){\n",
        "console.log(\"Working\");\n",
        "document.querySelector(\"colab-toolbar-button\").click()\n",
        "}setInterval(ClickConnect,60000)"
      ],
      "metadata": {
        "id": "_5Q84QqtKTpB"
      }
    },
    {
      "cell_type": "markdown",
      "source": [
        "#Connect to Drive"
      ],
      "metadata": {
        "id": "-tkC-frh-9WM"
      }
    },
    {
      "cell_type": "code",
      "source": [
        "from google.colab import drive\n",
        "drive.mount('/content/drive')"
      ],
      "metadata": {
        "colab": {
          "base_uri": "https://localhost:8080/"
        },
        "id": "MYKFPA4l_Anm",
        "outputId": "19f8d9c4-b713-48cb-e1b0-adf9ea3be1a8"
      },
      "execution_count": null,
      "outputs": [
        {
          "output_type": "stream",
          "name": "stdout",
          "text": [
            "Mounted at /content/drive\n"
          ]
        }
      ]
    },
    {
      "cell_type": "markdown",
      "metadata": {
        "id": "3C3EO_2zNChu"
      },
      "source": [
        "## Install YOLOv8"
      ]
    },
    {
      "cell_type": "code",
      "execution_count": null,
      "metadata": {
        "colab": {
          "base_uri": "https://localhost:8080/"
        },
        "id": "tdSMcABDNKW-",
        "outputId": "eb7fe986-c4b2-47f7-ebf1-da88b3ce9ff4"
      },
      "outputs": [
        {
          "output_type": "stream",
          "name": "stdout",
          "text": [
            "Ultralytics YOLOv8.1.2 🚀 Python-3.10.12 torch-2.1.0+cu121 CUDA:0 (Tesla T4, 15102MiB)\n",
            "Setup complete ✅ (2 CPUs, 12.7 GB RAM, 26.3/78.2 GB disk)\n"
          ]
        }
      ],
      "source": [
        "!pip install ultralytics --quiet\n",
        "\n",
        "from IPython import display\n",
        "display.clear_output()\n",
        "\n",
        "import ultralytics\n",
        "ultralytics.checks()"
      ]
    },
    {
      "cell_type": "code",
      "execution_count": null,
      "metadata": {
        "id": "VOEYrlBoP9-E"
      },
      "outputs": [],
      "source": [
        "from ultralytics import YOLO\n",
        "\n",
        "from IPython.display import display, Image"
      ]
    },
    {
      "cell_type": "markdown",
      "source": [
        "#Dataset"
      ],
      "metadata": {
        "id": "X2JQS94Tfr87"
      }
    },
    {
      "cell_type": "code",
      "execution_count": null,
      "metadata": {
        "colab": {
          "base_uri": "https://localhost:8080/"
        },
        "id": "BSd93ZJzZZKt",
        "outputId": "5d8f5d32-8988-45ce-8152-f684baf2e14d"
      },
      "outputs": [
        {
          "output_type": "stream",
          "name": "stdout",
          "text": [
            "\u001b[?25l     \u001b[90m━━━━━━━━━━━━━━━━━━━━━━━━━━━━━━━━━━━━━━━━\u001b[0m \u001b[32m0.0/69.9 kB\u001b[0m \u001b[31m?\u001b[0m eta \u001b[36m-:--:--\u001b[0m\r\u001b[2K     \u001b[91m━━━━━━━━━━━━━━━━━\u001b[0m\u001b[91m╸\u001b[0m\u001b[90m━━━━━━━━━━━━━━━━━━━━━━\u001b[0m \u001b[32m30.7/69.9 kB\u001b[0m \u001b[31m2.1 MB/s\u001b[0m eta \u001b[36m0:00:01\u001b[0m\r\u001b[2K     \u001b[90m━━━━━━━━━━━━━━━━━━━━━━━━━━━━━━━━━━━━━━━━\u001b[0m \u001b[32m69.9/69.9 kB\u001b[0m \u001b[31m1.3 MB/s\u001b[0m eta \u001b[36m0:00:00\u001b[0m\n",
            "\u001b[2K     \u001b[90m━━━━━━━━━━━━━━━━━━━━━━━━━━━━━━━━━━━━━━━━\u001b[0m \u001b[32m158.3/158.3 kB\u001b[0m \u001b[31m7.1 MB/s\u001b[0m eta \u001b[36m0:00:00\u001b[0m\n",
            "\u001b[2K     \u001b[90m━━━━━━━━━━━━━━━━━━━━━━━━━━━━━━━━━━━━━━━━\u001b[0m \u001b[32m178.7/178.7 kB\u001b[0m \u001b[31m12.1 MB/s\u001b[0m eta \u001b[36m0:00:00\u001b[0m\n",
            "\u001b[2K     \u001b[90m━━━━━━━━━━━━━━━━━━━━━━━━━━━━━━━━━━━━━━━━\u001b[0m \u001b[32m58.8/58.8 kB\u001b[0m \u001b[31m8.3 MB/s\u001b[0m eta \u001b[36m0:00:00\u001b[0m\n",
            "\u001b[2K     \u001b[90m━━━━━━━━━━━━━━━━━━━━━━━━━━━━━━━━━━━━━━━━\u001b[0m \u001b[32m49.1/49.1 MB\u001b[0m \u001b[31m16.7 MB/s\u001b[0m eta \u001b[36m0:00:00\u001b[0m\n",
            "\u001b[2K     \u001b[90m━━━━━━━━━━━━━━━━━━━━━━━━━━━━━━━━━━━━━━━━\u001b[0m \u001b[32m77.5/77.5 kB\u001b[0m \u001b[31m10.7 MB/s\u001b[0m eta \u001b[36m0:00:00\u001b[0m\n",
            "\u001b[2K     \u001b[90m━━━━━━━━━━━━━━━━━━━━━━━━━━━━━━━━━━━━━━━━\u001b[0m \u001b[32m54.5/54.5 kB\u001b[0m \u001b[31m7.3 MB/s\u001b[0m eta \u001b[36m0:00:00\u001b[0m\n",
            "\u001b[?25h\u001b[31mERROR: pip's dependency resolver does not currently take into account all the packages that are installed. This behaviour is the source of the following dependency conflicts.\n",
            "lida 0.0.10 requires fastapi, which is not installed.\n",
            "lida 0.0.10 requires kaleido, which is not installed.\n",
            "lida 0.0.10 requires python-multipart, which is not installed.\n",
            "lida 0.0.10 requires uvicorn, which is not installed.\u001b[0m\u001b[31m\n",
            "loading Roboflow workspace...\n",
            "loading Roboflow project...\n",
            "Dependency ultralytics==8.0.196 is required but found version=8.1.2, to fix: `pip install ultralytics==8.0.196`\n"
          ]
        },
        {
          "output_type": "stream",
          "name": "stderr",
          "text": [
            "Downloading Dataset Version Zip in Head-motion-using-Histogram-1 to yolov8:: 100%|██████████| 17830/17830 [00:02<00:00, 8201.86it/s] "
          ]
        },
        {
          "output_type": "stream",
          "name": "stdout",
          "text": [
            "\n"
          ]
        },
        {
          "output_type": "stream",
          "name": "stderr",
          "text": [
            "\n",
            "Extracting Dataset Version Zip to Head-motion-using-Histogram-1 in yolov8:: 100%|██████████| 9602/9602 [00:02<00:00, 4410.72it/s]\n"
          ]
        }
      ],
      "source": [
        "!pip install roboflow --quiet\n",
        "\n",
        "from roboflow import Roboflow\n",
        "rf = Roboflow(api_key=\"YOUR_API_KEY\")\n",
        "project = rf.workspace(\"university-bwrcv\").project(\"head-motion-using-histogram\")\n",
        "dataset = project.version(1).download(\"yolov8\")"
      ]
    },
    {
      "cell_type": "markdown",
      "metadata": {
        "id": "YUjFBKKqXa-u"
      },
      "source": [
        "## Generate conf matrix"
      ]
    },
    {
      "cell_type": "code",
      "source": [
        "import glob\n",
        "from ultralytics.models.yolo.detect import DetectionValidator\n",
        "\n",
        "# Directory containing your PyTorch models\n",
        "models_directory = \"/content/drive/YOUR_PATH/weights/\"\n",
        "\n",
        "# Pattern to match PyTorch model files\n",
        "model_paths = glob.glob(models_directory + '/**/*.pt', recursive=True)\n",
        "\n",
        "args = dict(\n",
        "    data='/content/Head-motion-using-Histogram-1/data.yaml',\n",
        "    batch=16, imgsz=128, save=True, save_period=1, cache=False, device=None, workers=8, project=None, exist_ok=False, pretrained=True, verbose=True, seed=0, deterministic=True, single_cls=False, rect=True, cos_lr=False, close_mosaic=10, resume=False, amp=True, fraction=1.0, profile=False, freeze=None, multi_scale=False, overlap_mask=True, mask_ratio=4, dropout=0.0, save_json=False, save_hybrid=False, conf=None, iou=0.7, max_det=300, half=False, dnn=False, plots=True, source=None, vid_stride=1, stream_buffer=False, visualize=False, augment=False, agnostic_nms=False, classes=None, retina_masks=False, embed=None, show=False, save_frames=False, save_txt=False, save_conf=False, save_crop=False, show_labels=True, show_conf=True, show_boxes=True, line_width=None, keras=False, optimize=False, int8=False, dynamic=False, simplify=False, opset=None, workspace=4, nms=False, lr0=0.01, lrf=0.01, momentum=0.937, weight_decay=0.0005, warmup_epochs=3.0, warmup_momentum=0.8, warmup_bias_lr=0.1, box=7.5, cls=0.5, dfl=1.5, pose=12.0, kobj=1.0, label_smoothing=0.0, nbs=64, hsv_h=0.015, hsv_s=0.7, hsv_v=0.4, degrees=0.0, translate=0.1, scale=0.5, shear=0.0, perspective=0.0, flipud=0.0, fliplr=0.5, mosaic=1.0, mixup=0.0, copy_paste=0.0, erasing=0.4, crop_fraction=1.0, cfg=None, save_dir=\"runs/detect/train\"\n",
        "    )\n",
        "\n",
        "for idx, model_path in enumerate(model_paths, start=1):\n",
        "    args['model'] = model_path  # Update the model path for each iteration\n",
        "    validator = DetectionValidator(args=args)\n",
        "    print(f\"Processing model {idx}: {model_path}\")  # Print model number and path\n",
        "    validator()  # Run detection/validation for each model found"
      ],
      "metadata": {
        "colab": {
          "base_uri": "https://localhost:8080/"
        },
        "id": "xxAZ39-uupAG",
        "outputId": "bc281e1b-fc51-4140-af57-418b736519b9"
      },
      "execution_count": null,
      "outputs": [
        {
          "output_type": "stream",
          "name": "stdout",
          "text": [
            "Processing model 1: /content/drive/MyDrive/koding kuliah skripsi/YOLO Train FIX/Training with callback/runs_histogram/detect/train/weights/epoch1.pt\n",
            "Ultralytics YOLOv8.1.2 🚀 Python-3.10.12 torch-2.1.0+cu121 CUDA:0 (Tesla T4, 15102MiB)\n",
            "Model summary (fused): 168 layers, 3006623 parameters, 0 gradients, 8.1 GFLOPs\n"
          ]
        },
        {
          "output_type": "stream",
          "name": "stderr",
          "text": [
            "\u001b[34m\u001b[1mval: \u001b[0mScanning /content/Head-motion-using-Histogram-1/valid/labels.cache... 269 images, 0 backgrounds, 0 corrupt: 100%|██████████| 269/269 [00:00<?, ?it/s]\n",
            "                 Class     Images  Instances      Box(P          R      mAP50  mAP50-95): 100%|██████████| 17/17 [00:03<00:00,  4.44it/s]\n"
          ]
        },
        {
          "output_type": "stream",
          "name": "stdout",
          "text": [
            "                   all        269        269      0.469      0.671      0.708      0.507\n",
            "                  atas        269         59      0.849      0.861      0.943      0.616\n",
            "                 bawah        269         66      0.311          1      0.978      0.727\n",
            "                 depan        269         47      0.561      0.979      0.704      0.548\n",
            "                 kanan        269         51      0.104     0.0196      0.384      0.267\n",
            "                  kiri        269         46       0.52      0.495      0.532      0.379\n",
            "Speed: 0.1ms preprocess, 3.4ms inference, 0.0ms loss, 3.0ms postprocess per image\n",
            "Results saved to \u001b[1mruns/detect/train3\u001b[0m\n",
            "Processing model 2: /content/drive/MyDrive/koding kuliah skripsi/YOLO Train FIX/Training with callback/runs_histogram/detect/train/weights/epoch2.pt\n",
            "Ultralytics YOLOv8.1.2 🚀 Python-3.10.12 torch-2.1.0+cu121 CUDA:0 (Tesla T4, 15102MiB)\n",
            "Model summary (fused): 168 layers, 3006623 parameters, 0 gradients, 8.1 GFLOPs\n"
          ]
        },
        {
          "output_type": "stream",
          "name": "stderr",
          "text": [
            "\u001b[34m\u001b[1mval: \u001b[0mScanning /content/Head-motion-using-Histogram-1/valid/labels.cache... 269 images, 0 backgrounds, 0 corrupt: 100%|██████████| 269/269 [00:00<?, ?it/s]\n",
            "                 Class     Images  Instances      Box(P          R      mAP50  mAP50-95): 100%|██████████| 17/17 [00:02<00:00,  6.35it/s]\n"
          ]
        },
        {
          "output_type": "stream",
          "name": "stdout",
          "text": [
            "                   all        269        269      0.648      0.963      0.808      0.576\n",
            "                  atas        269         59      0.548          1      0.942      0.585\n",
            "                 bawah        269         66      0.842      0.985      0.985      0.742\n",
            "                 depan        269         47      0.853      0.987      0.948      0.747\n",
            "                 kanan        269         51      0.533      0.851      0.558       0.36\n",
            "                  kiri        269         46      0.462      0.991      0.607      0.445\n",
            "Speed: 0.1ms preprocess, 2.8ms inference, 0.0ms loss, 4.2ms postprocess per image\n",
            "Results saved to \u001b[1mruns/detect/train4\u001b[0m\n",
            "Processing model 3: /content/drive/MyDrive/koding kuliah skripsi/YOLO Train FIX/Training with callback/runs_histogram/detect/train/weights/epoch3.pt\n",
            "Ultralytics YOLOv8.1.2 🚀 Python-3.10.12 torch-2.1.0+cu121 CUDA:0 (Tesla T4, 15102MiB)\n",
            "Model summary (fused): 168 layers, 3006623 parameters, 0 gradients, 8.1 GFLOPs\n"
          ]
        },
        {
          "output_type": "stream",
          "name": "stderr",
          "text": [
            "\u001b[34m\u001b[1mval: \u001b[0mScanning /content/Head-motion-using-Histogram-1/valid/labels.cache... 269 images, 0 backgrounds, 0 corrupt: 100%|██████████| 269/269 [00:00<?, ?it/s]\n",
            "                 Class     Images  Instances      Box(P          R      mAP50  mAP50-95): 100%|██████████| 17/17 [00:02<00:00,  6.18it/s]\n"
          ]
        },
        {
          "output_type": "stream",
          "name": "stdout",
          "text": [
            "                   all        269        269      0.718      0.979       0.83      0.567\n",
            "                  atas        269         59      0.763          1       0.99      0.626\n",
            "                 bawah        269         66      0.878      0.985      0.987      0.707\n",
            "                 depan        269         47      0.917      0.934      0.954      0.712\n",
            "                 kanan        269         51      0.586      0.973      0.755      0.504\n",
            "                  kiri        269         46      0.444          1      0.462      0.287\n",
            "Speed: 0.1ms preprocess, 3.0ms inference, 0.0ms loss, 3.0ms postprocess per image\n",
            "Results saved to \u001b[1mruns/detect/train5\u001b[0m\n",
            "Processing model 4: /content/drive/MyDrive/koding kuliah skripsi/YOLO Train FIX/Training with callback/runs_histogram/detect/train/weights/epoch4.pt\n",
            "Ultralytics YOLOv8.1.2 🚀 Python-3.10.12 torch-2.1.0+cu121 CUDA:0 (Tesla T4, 15102MiB)\n",
            "Model summary (fused): 168 layers, 3006623 parameters, 0 gradients, 8.1 GFLOPs\n"
          ]
        },
        {
          "output_type": "stream",
          "name": "stderr",
          "text": [
            "\u001b[34m\u001b[1mval: \u001b[0mScanning /content/Head-motion-using-Histogram-1/valid/labels.cache... 269 images, 0 backgrounds, 0 corrupt: 100%|██████████| 269/269 [00:00<?, ?it/s]\n",
            "                 Class     Images  Instances      Box(P          R      mAP50  mAP50-95): 100%|██████████| 17/17 [00:03<00:00,  5.38it/s]\n"
          ]
        },
        {
          "output_type": "stream",
          "name": "stdout",
          "text": [
            "                   all        269        269       0.75      0.942      0.866      0.638\n",
            "                  atas        269         59      0.785          1      0.986      0.663\n",
            "                 bawah        269         66      0.928      0.985      0.991      0.768\n",
            "                 depan        269         47      0.955      0.901      0.973      0.768\n",
            "                 kanan        269         51      0.604      0.824      0.764      0.565\n",
            "                  kiri        269         46      0.477          1      0.614      0.427\n"
          ]
        },
        {
          "output_type": "stream",
          "name": "stderr",
          "text": [
            "Exception ignored in: <function _MultiProcessingDataLoaderIter.__del__ at 0x79595fa0e200>\n",
            "Traceback (most recent call last):\n",
            "  File \"/usr/local/lib/python3.10/dist-packages/torch/utils/data/dataloader.py\", line 1478, in __del__\n",
            "    self._shutdown_workers()\n",
            "  File \"/usr/local/lib/python3.10/dist-packages/torch/utils/data/dataloader.py\", line 1442, in _shutdown_workers\n",
            "    w.join(timeout=_utils.MP_STATUS_CHECK_INTERVAL)\n",
            "  File \"/usr/lib/python3.10/multiprocessing/process.py\", line 149, in join\n",
            "    res = self._popen.wait(timeout)\n",
            "  File \"/usr/lib/python3.10/multiprocessing/popen_fork.py\", line 40, in wait\n",
            "    if not wait([self.sentinel], timeout):\n",
            "  File \"/usr/lib/python3.10/multiprocessing/connection.py\", line 931, in wait\n",
            "    ready = selector.select(timeout)\n",
            "  File \"/usr/lib/python3.10/selectors.py\", line 416, in select\n",
            "    fd_event_list = self._selector.poll(timeout)\n",
            "KeyboardInterrupt: \n"
          ]
        },
        {
          "output_type": "stream",
          "name": "stdout",
          "text": [
            "Speed: 0.0ms preprocess, 2.1ms inference, 0.0ms loss, 2.7ms postprocess per image\n",
            "Results saved to \u001b[1mruns/detect/train6\u001b[0m\n",
            "Processing model 5: /content/drive/MyDrive/koding kuliah skripsi/YOLO Train FIX/Training with callback/runs_histogram/detect/train/weights/epoch5.pt\n",
            "Ultralytics YOLOv8.1.2 🚀 Python-3.10.12 torch-2.1.0+cu121 CUDA:0 (Tesla T4, 15102MiB)\n",
            "Model summary (fused): 168 layers, 3006623 parameters, 0 gradients, 8.1 GFLOPs\n"
          ]
        },
        {
          "output_type": "stream",
          "name": "stderr",
          "text": [
            "\u001b[34m\u001b[1mval: \u001b[0mScanning /content/Head-motion-using-Histogram-1/valid/labels.cache... 269 images, 0 backgrounds, 0 corrupt: 100%|██████████| 269/269 [00:00<?, ?it/s]\n",
            "                 Class     Images  Instances      Box(P          R      mAP50  mAP50-95): 100%|██████████| 17/17 [00:02<00:00,  6.81it/s]\n"
          ]
        },
        {
          "output_type": "stream",
          "name": "stdout",
          "text": [
            "                   all        269        269      0.787      0.971      0.863      0.658\n",
            "                  atas        269         59      0.818          1      0.995       0.73\n",
            "                 bawah        269         66      0.956      0.985      0.988       0.76\n",
            "                 depan        269         47      0.955      0.903      0.979      0.795\n",
            "                 kanan        269         51      0.733       0.98      0.881       0.67\n",
            "                  kiri        269         46      0.471      0.985      0.472      0.337\n",
            "Speed: 0.1ms preprocess, 3.1ms inference, 0.0ms loss, 3.3ms postprocess per image\n",
            "Results saved to \u001b[1mruns/detect/train7\u001b[0m\n",
            "Processing model 6: /content/drive/MyDrive/koding kuliah skripsi/YOLO Train FIX/Training with callback/runs_histogram/detect/train/weights/epoch6.pt\n",
            "Ultralytics YOLOv8.1.2 🚀 Python-3.10.12 torch-2.1.0+cu121 CUDA:0 (Tesla T4, 15102MiB)\n",
            "Model summary (fused): 168 layers, 3006623 parameters, 0 gradients, 8.1 GFLOPs\n"
          ]
        },
        {
          "output_type": "stream",
          "name": "stderr",
          "text": [
            "\u001b[34m\u001b[1mval: \u001b[0mScanning /content/Head-motion-using-Histogram-1/valid/labels.cache... 269 images, 0 backgrounds, 0 corrupt: 100%|██████████| 269/269 [00:00<?, ?it/s]\n",
            "                 Class     Images  Instances      Box(P          R      mAP50  mAP50-95): 100%|██████████| 17/17 [00:02<00:00,  6.91it/s]\n"
          ]
        },
        {
          "output_type": "stream",
          "name": "stdout",
          "text": [
            "                   all        269        269      0.847       0.86      0.934      0.693\n",
            "                  atas        269         59      0.967      0.966      0.992      0.679\n",
            "                 bawah        269         66      0.737      0.985      0.986      0.753\n",
            "                 depan        269         47      0.971      0.708      0.976      0.805\n",
            "                 kanan        269         51       0.87      0.706      0.873      0.612\n",
            "                  kiri        269         46       0.69      0.935      0.841      0.613\n",
            "Speed: 0.1ms preprocess, 2.2ms inference, 0.0ms loss, 4.2ms postprocess per image\n",
            "Results saved to \u001b[1mruns/detect/train8\u001b[0m\n",
            "Processing model 7: /content/drive/MyDrive/koding kuliah skripsi/YOLO Train FIX/Training with callback/runs_histogram/detect/train/weights/epoch7.pt\n",
            "Ultralytics YOLOv8.1.2 🚀 Python-3.10.12 torch-2.1.0+cu121 CUDA:0 (Tesla T4, 15102MiB)\n",
            "Model summary (fused): 168 layers, 3006623 parameters, 0 gradients, 8.1 GFLOPs\n"
          ]
        },
        {
          "output_type": "stream",
          "name": "stderr",
          "text": [
            "\u001b[34m\u001b[1mval: \u001b[0mScanning /content/Head-motion-using-Histogram-1/valid/labels.cache... 269 images, 0 backgrounds, 0 corrupt: 100%|██████████| 269/269 [00:00<?, ?it/s]\n",
            "                 Class     Images  Instances      Box(P          R      mAP50  mAP50-95): 100%|██████████| 17/17 [00:03<00:00,  5.18it/s]\n"
          ]
        },
        {
          "output_type": "stream",
          "name": "stdout",
          "text": [
            "                   all        269        269      0.785      0.962      0.933      0.718\n",
            "                  atas        269         59      0.951          1      0.995      0.724\n",
            "                 bawah        269         66      0.791      0.985       0.99       0.73\n",
            "                 depan        269         47      0.979          1      0.981      0.824\n",
            "                 kanan        269         51      0.708      0.855      0.879      0.708\n",
            "                  kiri        269         46      0.498      0.969      0.822      0.603\n",
            "Speed: 0.3ms preprocess, 2.1ms inference, 0.0ms loss, 2.1ms postprocess per image\n",
            "Results saved to \u001b[1mruns/detect/train9\u001b[0m\n",
            "Processing model 8: /content/drive/MyDrive/koding kuliah skripsi/YOLO Train FIX/Training with callback/runs_histogram/detect/train/weights/epoch8.pt\n",
            "Ultralytics YOLOv8.1.2 🚀 Python-3.10.12 torch-2.1.0+cu121 CUDA:0 (Tesla T4, 15102MiB)\n",
            "Model summary (fused): 168 layers, 3006623 parameters, 0 gradients, 8.1 GFLOPs\n"
          ]
        },
        {
          "output_type": "stream",
          "name": "stderr",
          "text": [
            "\u001b[34m\u001b[1mval: \u001b[0mScanning /content/Head-motion-using-Histogram-1/valid/labels.cache... 269 images, 0 backgrounds, 0 corrupt: 100%|██████████| 269/269 [00:00<?, ?it/s]\n",
            "                 Class     Images  Instances      Box(P          R      mAP50  mAP50-95): 100%|██████████| 17/17 [00:02<00:00,  6.02it/s]\n"
          ]
        },
        {
          "output_type": "stream",
          "name": "stdout",
          "text": [
            "                   all        269        269      0.849      0.939      0.987       0.78\n",
            "                  atas        269         59      0.785          1      0.995      0.726\n",
            "                 bawah        269         66      0.873      0.985      0.989      0.773\n",
            "                 depan        269         47      0.978      0.955      0.977      0.835\n",
            "                 kanan        269         51          1      0.756      0.987      0.804\n",
            "                  kiri        269         46      0.611          1      0.986      0.763\n",
            "Speed: 0.2ms preprocess, 3.7ms inference, 0.0ms loss, 2.0ms postprocess per image\n",
            "Results saved to \u001b[1mruns/detect/train10\u001b[0m\n",
            "Processing model 9: /content/drive/MyDrive/koding kuliah skripsi/YOLO Train FIX/Training with callback/runs_histogram/detect/train/weights/epoch9.pt\n",
            "Ultralytics YOLOv8.1.2 🚀 Python-3.10.12 torch-2.1.0+cu121 CUDA:0 (Tesla T4, 15102MiB)\n",
            "Model summary (fused): 168 layers, 3006623 parameters, 0 gradients, 8.1 GFLOPs\n"
          ]
        },
        {
          "output_type": "stream",
          "name": "stderr",
          "text": [
            "\u001b[34m\u001b[1mval: \u001b[0mScanning /content/Head-motion-using-Histogram-1/valid/labels.cache... 269 images, 0 backgrounds, 0 corrupt: 100%|██████████| 269/269 [00:00<?, ?it/s]\n",
            "                 Class     Images  Instances      Box(P          R      mAP50  mAP50-95): 100%|██████████| 17/17 [00:02<00:00,  6.89it/s]\n"
          ]
        },
        {
          "output_type": "stream",
          "name": "stdout",
          "text": [
            "                   all        269        269      0.848      0.938      0.987      0.777\n",
            "                  atas        269         59      0.778          1      0.995      0.715\n",
            "                 bawah        269         66      0.966      0.985       0.99      0.785\n",
            "                 depan        269         47      0.978      0.948      0.979      0.827\n",
            "                 kanan        269         51          1      0.758      0.992      0.806\n",
            "                  kiri        269         46      0.516          1      0.978      0.751\n",
            "Speed: 0.1ms preprocess, 2.3ms inference, 0.0ms loss, 4.2ms postprocess per image\n",
            "Results saved to \u001b[1mruns/detect/train11\u001b[0m\n",
            "Processing model 10: /content/drive/MyDrive/koding kuliah skripsi/YOLO Train FIX/Training with callback/runs_histogram/detect/train/weights/epoch10.pt\n",
            "Ultralytics YOLOv8.1.2 🚀 Python-3.10.12 torch-2.1.0+cu121 CUDA:0 (Tesla T4, 15102MiB)\n",
            "Model summary (fused): 168 layers, 3006623 parameters, 0 gradients, 8.1 GFLOPs\n"
          ]
        },
        {
          "output_type": "stream",
          "name": "stderr",
          "text": [
            "\u001b[34m\u001b[1mval: \u001b[0mScanning /content/Head-motion-using-Histogram-1/valid/labels.cache... 269 images, 0 backgrounds, 0 corrupt: 100%|██████████| 269/269 [00:00<?, ?it/s]\n",
            "                 Class     Images  Instances      Box(P          R      mAP50  mAP50-95): 100%|██████████| 17/17 [00:03<00:00,  5.53it/s]\n"
          ]
        },
        {
          "output_type": "stream",
          "name": "stdout",
          "text": [
            "                   all        269        269       0.93      0.946      0.981      0.774\n",
            "                  atas        269         59      0.986          1      0.995      0.766\n",
            "                 bawah        269         66      0.917      0.985      0.989      0.801\n",
            "                 depan        269         47      0.978      0.956      0.984      0.825\n",
            "                 kanan        269         51          1      0.787      0.982      0.776\n",
            "                  kiri        269         46      0.767          1      0.955      0.703\n",
            "Speed: 0.1ms preprocess, 2.4ms inference, 0.0ms loss, 2.4ms postprocess per image\n",
            "Results saved to \u001b[1mruns/detect/train12\u001b[0m\n",
            "Processing model 11: /content/drive/MyDrive/koding kuliah skripsi/YOLO Train FIX/Training with callback/runs_histogram/detect/train/weights/epoch11.pt\n",
            "Ultralytics YOLOv8.1.2 🚀 Python-3.10.12 torch-2.1.0+cu121 CUDA:0 (Tesla T4, 15102MiB)\n",
            "Model summary (fused): 168 layers, 3006623 parameters, 0 gradients, 8.1 GFLOPs\n"
          ]
        },
        {
          "output_type": "stream",
          "name": "stderr",
          "text": [
            "\u001b[34m\u001b[1mval: \u001b[0mScanning /content/Head-motion-using-Histogram-1/valid/labels.cache... 269 images, 0 backgrounds, 0 corrupt: 100%|██████████| 269/269 [00:00<?, ?it/s]\n",
            "                 Class     Images  Instances      Box(P          R      mAP50  mAP50-95): 100%|██████████| 17/17 [00:02<00:00,  6.24it/s]\n"
          ]
        },
        {
          "output_type": "stream",
          "name": "stdout",
          "text": [
            "                   all        269        269      0.962      0.953      0.991      0.768\n",
            "                  atas        269         59      0.989          1      0.995      0.716\n",
            "                 bawah        269         66       0.99      0.985      0.988      0.791\n",
            "                 depan        269         47      0.978       0.94       0.98      0.813\n",
            "                 kanan        269         51          1      0.838      0.994      0.755\n",
            "                  kiri        269         46      0.855          1      0.995      0.764\n",
            "Speed: 0.2ms preprocess, 3.0ms inference, 0.0ms loss, 3.5ms postprocess per image\n",
            "Results saved to \u001b[1mruns/detect/train13\u001b[0m\n",
            "Processing model 12: /content/drive/MyDrive/koding kuliah skripsi/YOLO Train FIX/Training with callback/runs_histogram/detect/train/weights/epoch12.pt\n",
            "Ultralytics YOLOv8.1.2 🚀 Python-3.10.12 torch-2.1.0+cu121 CUDA:0 (Tesla T4, 15102MiB)\n",
            "Model summary (fused): 168 layers, 3006623 parameters, 0 gradients, 8.1 GFLOPs\n"
          ]
        },
        {
          "output_type": "stream",
          "name": "stderr",
          "text": [
            "\u001b[34m\u001b[1mval: \u001b[0mScanning /content/Head-motion-using-Histogram-1/valid/labels.cache... 269 images, 0 backgrounds, 0 corrupt: 100%|██████████| 269/269 [00:00<?, ?it/s]\n",
            "                 Class     Images  Instances      Box(P          R      mAP50  mAP50-95): 100%|██████████| 17/17 [00:02<00:00,  7.06it/s]\n"
          ]
        },
        {
          "output_type": "stream",
          "name": "stdout",
          "text": [
            "                   all        269        269      0.949      0.986      0.992      0.754\n",
            "                  atas        269         59      0.883          1      0.995      0.712\n",
            "                 bawah        269         66      0.972      0.985       0.99      0.772\n",
            "                 depan        269         47      0.978      0.945      0.989      0.779\n",
            "                 kanan        269         51       0.96          1      0.992      0.778\n",
            "                  kiri        269         46      0.952          1      0.995       0.73\n",
            "Speed: 0.2ms preprocess, 4.5ms inference, 0.0ms loss, 1.8ms postprocess per image\n",
            "Results saved to \u001b[1mruns/detect/train14\u001b[0m\n",
            "Processing model 13: /content/drive/MyDrive/koding kuliah skripsi/YOLO Train FIX/Training with callback/runs_histogram/detect/train/weights/epoch13.pt\n",
            "Ultralytics YOLOv8.1.2 🚀 Python-3.10.12 torch-2.1.0+cu121 CUDA:0 (Tesla T4, 15102MiB)\n",
            "Model summary (fused): 168 layers, 3006623 parameters, 0 gradients, 8.1 GFLOPs\n"
          ]
        },
        {
          "output_type": "stream",
          "name": "stderr",
          "text": [
            "\u001b[34m\u001b[1mval: \u001b[0mScanning /content/Head-motion-using-Histogram-1/valid/labels.cache... 269 images, 0 backgrounds, 0 corrupt: 100%|██████████| 269/269 [00:00<?, ?it/s]\n",
            "                 Class     Images  Instances      Box(P          R      mAP50  mAP50-95): 100%|██████████| 17/17 [00:02<00:00,  6.95it/s]\n"
          ]
        },
        {
          "output_type": "stream",
          "name": "stdout",
          "text": [
            "                   all        269        269      0.967      0.972       0.99      0.768\n",
            "                  atas        269         59       0.99          1      0.995      0.723\n",
            "                 bawah        269         66      0.977      0.985       0.99       0.76\n",
            "                 depan        269         47      0.973          1      0.992       0.82\n",
            "                 kanan        269         51      0.939      0.902      0.987      0.783\n",
            "                  kiri        269         46      0.957      0.974      0.984      0.756\n",
            "Speed: 0.2ms preprocess, 4.4ms inference, 0.0ms loss, 1.9ms postprocess per image\n",
            "Results saved to \u001b[1mruns/detect/train15\u001b[0m\n",
            "Processing model 14: /content/drive/MyDrive/koding kuliah skripsi/YOLO Train FIX/Training with callback/runs_histogram/detect/train/weights/epoch14.pt\n",
            "Ultralytics YOLOv8.1.2 🚀 Python-3.10.12 torch-2.1.0+cu121 CUDA:0 (Tesla T4, 15102MiB)\n",
            "Model summary (fused): 168 layers, 3006623 parameters, 0 gradients, 8.1 GFLOPs\n"
          ]
        },
        {
          "output_type": "stream",
          "name": "stderr",
          "text": [
            "\u001b[34m\u001b[1mval: \u001b[0mScanning /content/Head-motion-using-Histogram-1/valid/labels.cache... 269 images, 0 backgrounds, 0 corrupt: 100%|██████████| 269/269 [00:00<?, ?it/s]\n",
            "                 Class     Images  Instances      Box(P          R      mAP50  mAP50-95): 100%|██████████| 17/17 [00:02<00:00,  6.76it/s]\n"
          ]
        },
        {
          "output_type": "stream",
          "name": "stdout",
          "text": [
            "                   all        269        269      0.958      0.965      0.983      0.777\n",
            "                  atas        269         59      0.995          1      0.995      0.772\n",
            "                 bawah        269         66      0.993      0.985      0.991        0.8\n",
            "                 depan        269         47      0.978          1      0.987      0.808\n",
            "                 kanan        269         51      0.939      0.905      0.979      0.779\n",
            "                  kiri        269         46      0.884      0.935      0.962      0.726\n",
            "Speed: 0.1ms preprocess, 4.2ms inference, 0.0ms loss, 1.9ms postprocess per image\n",
            "Results saved to \u001b[1mruns/detect/train16\u001b[0m\n",
            "Processing model 15: /content/drive/MyDrive/koding kuliah skripsi/YOLO Train FIX/Training with callback/runs_histogram/detect/train/weights/epoch15.pt\n",
            "Ultralytics YOLOv8.1.2 🚀 Python-3.10.12 torch-2.1.0+cu121 CUDA:0 (Tesla T4, 15102MiB)\n",
            "Model summary (fused): 168 layers, 3006623 parameters, 0 gradients, 8.1 GFLOPs\n"
          ]
        },
        {
          "output_type": "stream",
          "name": "stderr",
          "text": [
            "\u001b[34m\u001b[1mval: \u001b[0mScanning /content/Head-motion-using-Histogram-1/valid/labels.cache... 269 images, 0 backgrounds, 0 corrupt: 100%|██████████| 269/269 [00:00<?, ?it/s]\n",
            "                 Class     Images  Instances      Box(P          R      mAP50  mAP50-95): 100%|██████████| 17/17 [00:02<00:00,  7.15it/s]\n"
          ]
        },
        {
          "output_type": "stream",
          "name": "stdout",
          "text": [
            "                   all        269        269      0.983      0.996      0.992      0.782\n",
            "                  atas        269         59      0.995          1      0.995      0.735\n",
            "                 bawah        269         66       0.99      0.985      0.991      0.781\n",
            "                 depan        269         47      0.968          1      0.987      0.852\n",
            "                 kanan        269         51       0.96          1      0.995      0.802\n",
            "                  kiri        269         46          1      0.997      0.995      0.741\n",
            "Speed: 0.1ms preprocess, 5.2ms inference, 0.0ms loss, 0.9ms postprocess per image\n",
            "Results saved to \u001b[1mruns/detect/train17\u001b[0m\n",
            "Processing model 16: /content/drive/MyDrive/koding kuliah skripsi/YOLO Train FIX/Training with callback/runs_histogram/detect/train/weights/epoch16.pt\n",
            "Ultralytics YOLOv8.1.2 🚀 Python-3.10.12 torch-2.1.0+cu121 CUDA:0 (Tesla T4, 15102MiB)\n",
            "Model summary (fused): 168 layers, 3006623 parameters, 0 gradients, 8.1 GFLOPs\n"
          ]
        },
        {
          "output_type": "stream",
          "name": "stderr",
          "text": [
            "\u001b[34m\u001b[1mval: \u001b[0mScanning /content/Head-motion-using-Histogram-1/valid/labels.cache... 269 images, 0 backgrounds, 0 corrupt: 100%|██████████| 269/269 [00:00<?, ?it/s]\n",
            "                 Class     Images  Instances      Box(P          R      mAP50  mAP50-95): 100%|██████████| 17/17 [00:02<00:00,  6.83it/s]\n"
          ]
        },
        {
          "output_type": "stream",
          "name": "stdout",
          "text": [
            "                   all        269        269      0.963      0.992      0.993      0.769\n",
            "                  atas        269         59      0.992          1      0.995       0.73\n",
            "                 bawah        269         66      0.977      0.985      0.992      0.761\n",
            "                 depan        269         47      0.968          1      0.987      0.818\n",
            "                 kanan        269         51      0.876          1      0.995      0.795\n",
            "                  kiri        269         46          1      0.976      0.994       0.74\n",
            "Speed: 0.1ms preprocess, 3.0ms inference, 0.0ms loss, 2.5ms postprocess per image\n",
            "Results saved to \u001b[1mruns/detect/train18\u001b[0m\n",
            "Processing model 17: /content/drive/MyDrive/koding kuliah skripsi/YOLO Train FIX/Training with callback/runs_histogram/detect/train/weights/epoch17.pt\n",
            "Ultralytics YOLOv8.1.2 🚀 Python-3.10.12 torch-2.1.0+cu121 CUDA:0 (Tesla T4, 15102MiB)\n",
            "Model summary (fused): 168 layers, 3006623 parameters, 0 gradients, 8.1 GFLOPs\n"
          ]
        },
        {
          "output_type": "stream",
          "name": "stderr",
          "text": [
            "\u001b[34m\u001b[1mval: \u001b[0mScanning /content/Head-motion-using-Histogram-1/valid/labels.cache... 269 images, 0 backgrounds, 0 corrupt: 100%|██████████| 269/269 [00:00<?, ?it/s]\n",
            "                 Class     Images  Instances      Box(P          R      mAP50  mAP50-95): 100%|██████████| 17/17 [00:03<00:00,  5.55it/s]\n"
          ]
        },
        {
          "output_type": "stream",
          "name": "stdout",
          "text": [
            "                   all        269        269      0.989      0.997      0.992      0.798\n",
            "                  atas        269         59      0.999          1      0.995      0.759\n",
            "                 bawah        269         66      0.983      0.985       0.99       0.79\n",
            "                 depan        269         47      0.979          1      0.987      0.834\n",
            "                 kanan        269         51      0.997          1      0.995      0.808\n",
            "                  kiri        269         46      0.988          1      0.995      0.796\n",
            "Speed: 0.2ms preprocess, 3.5ms inference, 0.0ms loss, 1.7ms postprocess per image\n",
            "Results saved to \u001b[1mruns/detect/train19\u001b[0m\n",
            "Processing model 18: /content/drive/MyDrive/koding kuliah skripsi/YOLO Train FIX/Training with callback/runs_histogram/detect/train/weights/epoch18.pt\n",
            "Ultralytics YOLOv8.1.2 🚀 Python-3.10.12 torch-2.1.0+cu121 CUDA:0 (Tesla T4, 15102MiB)\n",
            "Model summary (fused): 168 layers, 3006623 parameters, 0 gradients, 8.1 GFLOPs\n"
          ]
        },
        {
          "output_type": "stream",
          "name": "stderr",
          "text": [
            "\u001b[34m\u001b[1mval: \u001b[0mScanning /content/Head-motion-using-Histogram-1/valid/labels.cache... 269 images, 0 backgrounds, 0 corrupt: 100%|██████████| 269/269 [00:00<?, ?it/s]\n",
            "                 Class     Images  Instances      Box(P          R      mAP50  mAP50-95): 100%|██████████| 17/17 [00:02<00:00,  5.97it/s]\n"
          ]
        },
        {
          "output_type": "stream",
          "name": "stdout",
          "text": [
            "                   all        269        269      0.993      0.997      0.994      0.783\n",
            "                  atas        269         59      0.998          1      0.995      0.729\n",
            "                 bawah        269         66      0.997      0.985      0.992      0.772\n",
            "                 depan        269         47      0.978          1      0.991      0.815\n",
            "                 kanan        269         51      0.995          1      0.995      0.808\n",
            "                  kiri        269         46      0.998          1      0.995      0.789\n",
            "Speed: 0.1ms preprocess, 4.2ms inference, 0.0ms loss, 1.6ms postprocess per image\n",
            "Results saved to \u001b[1mruns/detect/train20\u001b[0m\n",
            "Processing model 19: /content/drive/MyDrive/koding kuliah skripsi/YOLO Train FIX/Training with callback/runs_histogram/detect/train/weights/epoch19.pt\n",
            "Ultralytics YOLOv8.1.2 🚀 Python-3.10.12 torch-2.1.0+cu121 CUDA:0 (Tesla T4, 15102MiB)\n",
            "Model summary (fused): 168 layers, 3006623 parameters, 0 gradients, 8.1 GFLOPs\n"
          ]
        },
        {
          "output_type": "stream",
          "name": "stderr",
          "text": [
            "\u001b[34m\u001b[1mval: \u001b[0mScanning /content/Head-motion-using-Histogram-1/valid/labels.cache... 269 images, 0 backgrounds, 0 corrupt: 100%|██████████| 269/269 [00:00<?, ?it/s]\n",
            "                 Class     Images  Instances      Box(P          R      mAP50  mAP50-95): 100%|██████████| 17/17 [00:02<00:00,  6.70it/s]\n"
          ]
        },
        {
          "output_type": "stream",
          "name": "stdout",
          "text": [
            "                   all        269        269      0.994      0.997      0.993      0.786\n",
            "                  atas        269         59      0.999          1      0.995      0.714\n",
            "                 bawah        269         66      0.997      0.985      0.991        0.8\n",
            "                 depan        269         47      0.976          1       0.99      0.821\n",
            "                 kanan        269         51      0.999          1      0.995      0.806\n",
            "                  kiri        269         46      0.999          1      0.995      0.787\n",
            "Speed: 0.2ms preprocess, 3.5ms inference, 0.0ms loss, 2.4ms postprocess per image\n",
            "Results saved to \u001b[1mruns/detect/train21\u001b[0m\n",
            "Processing model 20: /content/drive/MyDrive/koding kuliah skripsi/YOLO Train FIX/Training with callback/runs_histogram/detect/train/weights/epoch20.pt\n",
            "Ultralytics YOLOv8.1.2 🚀 Python-3.10.12 torch-2.1.0+cu121 CUDA:0 (Tesla T4, 15102MiB)\n",
            "Model summary (fused): 168 layers, 3006623 parameters, 0 gradients, 8.1 GFLOPs\n"
          ]
        },
        {
          "output_type": "stream",
          "name": "stderr",
          "text": [
            "\u001b[34m\u001b[1mval: \u001b[0mScanning /content/Head-motion-using-Histogram-1/valid/labels.cache... 269 images, 0 backgrounds, 0 corrupt: 100%|██████████| 269/269 [00:00<?, ?it/s]\n",
            "                 Class     Images  Instances      Box(P          R      mAP50  mAP50-95): 100%|██████████| 17/17 [00:02<00:00,  6.03it/s]\n"
          ]
        },
        {
          "output_type": "stream",
          "name": "stdout",
          "text": [
            "                   all        269        269      0.992      0.997      0.991      0.796\n",
            "                  atas        269         59      0.995          1      0.995      0.738\n",
            "                 bawah        269         66      0.995      0.985       0.99      0.809\n",
            "                 depan        269         47      0.971          1      0.981      0.819\n",
            "                 kanan        269         51      0.998          1      0.995      0.825\n",
            "                  kiri        269         46      0.999          1      0.995      0.789\n",
            "Speed: 0.2ms preprocess, 2.5ms inference, 0.0ms loss, 1.6ms postprocess per image\n",
            "Results saved to \u001b[1mruns/detect/train22\u001b[0m\n",
            "Processing model 21: /content/drive/MyDrive/koding kuliah skripsi/YOLO Train FIX/Training with callback/runs_histogram/detect/train/weights/epoch21.pt\n",
            "Ultralytics YOLOv8.1.2 🚀 Python-3.10.12 torch-2.1.0+cu121 CUDA:0 (Tesla T4, 15102MiB)\n",
            "Model summary (fused): 168 layers, 3006623 parameters, 0 gradients, 8.1 GFLOPs\n"
          ]
        },
        {
          "output_type": "stream",
          "name": "stderr",
          "text": [
            "\u001b[34m\u001b[1mval: \u001b[0mScanning /content/Head-motion-using-Histogram-1/valid/labels.cache... 269 images, 0 backgrounds, 0 corrupt: 100%|██████████| 269/269 [00:00<?, ?it/s]\n",
            "                 Class     Images  Instances      Box(P          R      mAP50  mAP50-95): 100%|██████████| 17/17 [00:03<00:00,  5.28it/s]\n"
          ]
        },
        {
          "output_type": "stream",
          "name": "stdout",
          "text": [
            "                   all        269        269      0.991      0.988      0.993      0.806\n",
            "                  atas        269         59      0.999          1      0.995      0.741\n",
            "                 bawah        269         66      0.995      0.985      0.993      0.815\n",
            "                 depan        269         47      0.975          1      0.985      0.844\n",
            "                 kanan        269         51          1      0.953      0.995      0.819\n",
            "                  kiri        269         46      0.987          1      0.995      0.811\n",
            "Speed: 0.3ms preprocess, 2.5ms inference, 0.0ms loss, 1.9ms postprocess per image\n",
            "Results saved to \u001b[1mruns/detect/train23\u001b[0m\n",
            "Processing model 22: /content/drive/MyDrive/koding kuliah skripsi/YOLO Train FIX/Training with callback/runs_histogram/detect/train/weights/epoch22.pt\n",
            "Ultralytics YOLOv8.1.2 🚀 Python-3.10.12 torch-2.1.0+cu121 CUDA:0 (Tesla T4, 15102MiB)\n",
            "Model summary (fused): 168 layers, 3006623 parameters, 0 gradients, 8.1 GFLOPs\n"
          ]
        },
        {
          "output_type": "stream",
          "name": "stderr",
          "text": [
            "\u001b[34m\u001b[1mval: \u001b[0mScanning /content/Head-motion-using-Histogram-1/valid/labels.cache... 269 images, 0 backgrounds, 0 corrupt: 100%|██████████| 269/269 [00:00<?, ?it/s]\n",
            "                 Class     Images  Instances      Box(P          R      mAP50  mAP50-95): 100%|██████████| 17/17 [00:02<00:00,  6.95it/s]\n"
          ]
        },
        {
          "output_type": "stream",
          "name": "stdout",
          "text": [
            "                   all        269        269      0.993      0.997      0.993      0.806\n",
            "                  atas        269         59          1          1      0.995      0.741\n",
            "                 bawah        269         66      0.996      0.985      0.992      0.814\n",
            "                 depan        269         47      0.976          1      0.987      0.837\n",
            "                 kanan        269         51      0.997          1      0.995      0.823\n",
            "                  kiri        269         46      0.996          1      0.995      0.817\n",
            "Speed: 0.3ms preprocess, 3.1ms inference, 0.0ms loss, 2.4ms postprocess per image\n",
            "Results saved to \u001b[1mruns/detect/train24\u001b[0m\n",
            "Processing model 23: /content/drive/MyDrive/koding kuliah skripsi/YOLO Train FIX/Training with callback/runs_histogram/detect/train/weights/epoch23.pt\n",
            "Ultralytics YOLOv8.1.2 🚀 Python-3.10.12 torch-2.1.0+cu121 CUDA:0 (Tesla T4, 15102MiB)\n",
            "Model summary (fused): 168 layers, 3006623 parameters, 0 gradients, 8.1 GFLOPs\n"
          ]
        },
        {
          "output_type": "stream",
          "name": "stderr",
          "text": [
            "\u001b[34m\u001b[1mval: \u001b[0mScanning /content/Head-motion-using-Histogram-1/valid/labels.cache... 269 images, 0 backgrounds, 0 corrupt: 100%|██████████| 269/269 [00:00<?, ?it/s]\n",
            "                 Class     Images  Instances      Box(P          R      mAP50  mAP50-95): 100%|██████████| 17/17 [00:03<00:00,  5.15it/s]\n"
          ]
        },
        {
          "output_type": "stream",
          "name": "stdout",
          "text": [
            "                   all        269        269       0.99      0.994      0.992      0.805\n",
            "                  atas        269         59      0.987      0.983      0.995      0.747\n",
            "                 bawah        269         66      0.996      0.985      0.992      0.812\n",
            "                 depan        269         47      0.975          1      0.984      0.845\n",
            "                 kanan        269         51      0.996          1      0.995      0.822\n",
            "                  kiri        269         46      0.998          1      0.995        0.8\n",
            "Speed: 0.0ms preprocess, 2.3ms inference, 0.0ms loss, 2.6ms postprocess per image\n",
            "Results saved to \u001b[1mruns/detect/train25\u001b[0m\n",
            "Processing model 24: /content/drive/MyDrive/koding kuliah skripsi/YOLO Train FIX/Training with callback/runs_histogram/detect/train/weights/epoch24.pt\n",
            "Ultralytics YOLOv8.1.2 🚀 Python-3.10.12 torch-2.1.0+cu121 CUDA:0 (Tesla T4, 15102MiB)\n",
            "Model summary (fused): 168 layers, 3006623 parameters, 0 gradients, 8.1 GFLOPs\n"
          ]
        },
        {
          "output_type": "stream",
          "name": "stderr",
          "text": [
            "\u001b[34m\u001b[1mval: \u001b[0mScanning /content/Head-motion-using-Histogram-1/valid/labels.cache... 269 images, 0 backgrounds, 0 corrupt: 100%|██████████| 269/269 [00:00<?, ?it/s]\n",
            "                 Class     Images  Instances      Box(P          R      mAP50  mAP50-95): 100%|██████████| 17/17 [00:02<00:00,  7.27it/s]\n"
          ]
        },
        {
          "output_type": "stream",
          "name": "stdout",
          "text": [
            "                   all        269        269      0.992      0.997      0.993      0.805\n",
            "                  atas        269         59      0.999          1      0.995      0.737\n",
            "                 bawah        269         66      0.996      0.985       0.99      0.818\n",
            "                 depan        269         47       0.97          1      0.987      0.835\n",
            "                 kanan        269         51      0.996          1      0.995      0.829\n",
            "                  kiri        269         46      0.997          1      0.995      0.805\n",
            "Speed: 0.1ms preprocess, 2.5ms inference, 0.0ms loss, 3.6ms postprocess per image\n",
            "Results saved to \u001b[1mruns/detect/train26\u001b[0m\n",
            "Processing model 25: /content/drive/MyDrive/koding kuliah skripsi/YOLO Train FIX/Training with callback/runs_histogram/detect/train/weights/epoch25.pt\n",
            "Ultralytics YOLOv8.1.2 🚀 Python-3.10.12 torch-2.1.0+cu121 CUDA:0 (Tesla T4, 15102MiB)\n",
            "Model summary (fused): 168 layers, 3006623 parameters, 0 gradients, 8.1 GFLOPs\n"
          ]
        },
        {
          "output_type": "stream",
          "name": "stderr",
          "text": [
            "\u001b[34m\u001b[1mval: \u001b[0mScanning /content/Head-motion-using-Histogram-1/valid/labels.cache... 269 images, 0 backgrounds, 0 corrupt: 100%|██████████| 269/269 [00:00<?, ?it/s]\n",
            "                 Class     Images  Instances      Box(P          R      mAP50  mAP50-95): 100%|██████████| 17/17 [00:02<00:00,  6.03it/s]\n"
          ]
        },
        {
          "output_type": "stream",
          "name": "stdout",
          "text": [
            "                   all        269        269      0.992      0.997      0.991      0.802\n",
            "                  atas        269         59          1          1      0.995      0.743\n",
            "                 bawah        269         66      0.992      0.985       0.99      0.813\n",
            "                 depan        269         47      0.973          1      0.981      0.834\n",
            "                 kanan        269         51      0.996          1      0.995        0.8\n",
            "                  kiri        269         46      0.998          1      0.995      0.822\n",
            "Speed: 0.2ms preprocess, 2.6ms inference, 0.0ms loss, 2.0ms postprocess per image\n",
            "Results saved to \u001b[1mruns/detect/train27\u001b[0m\n",
            "Processing model 26: /content/drive/MyDrive/koding kuliah skripsi/YOLO Train FIX/Training with callback/runs_histogram/detect/train/weights/epoch26.pt\n",
            "Ultralytics YOLOv8.1.2 🚀 Python-3.10.12 torch-2.1.0+cu121 CUDA:0 (Tesla T4, 15102MiB)\n",
            "Model summary (fused): 168 layers, 3006623 parameters, 0 gradients, 8.1 GFLOPs\n"
          ]
        },
        {
          "output_type": "stream",
          "name": "stderr",
          "text": [
            "\u001b[34m\u001b[1mval: \u001b[0mScanning /content/Head-motion-using-Histogram-1/valid/labels.cache... 269 images, 0 backgrounds, 0 corrupt: 100%|██████████| 269/269 [00:00<?, ?it/s]\n",
            "                 Class     Images  Instances      Box(P          R      mAP50  mAP50-95): 100%|██████████| 17/17 [00:03<00:00,  5.25it/s]\n"
          ]
        },
        {
          "output_type": "stream",
          "name": "stdout",
          "text": [
            "                   all        269        269      0.992      0.997      0.992      0.815\n",
            "                  atas        269         59      0.999          1      0.995      0.744\n",
            "                 bawah        269         66      0.997      0.985      0.991      0.822\n",
            "                 depan        269         47      0.971          1      0.985      0.847\n",
            "                 kanan        269         51      0.995          1      0.995      0.835\n",
            "                  kiri        269         46      0.997          1      0.995      0.825\n",
            "Speed: 0.3ms preprocess, 2.4ms inference, 0.0ms loss, 2.1ms postprocess per image\n",
            "Results saved to \u001b[1mruns/detect/train28\u001b[0m\n",
            "Processing model 27: /content/drive/MyDrive/koding kuliah skripsi/YOLO Train FIX/Training with callback/runs_histogram/detect/train/weights/epoch27.pt\n",
            "Ultralytics YOLOv8.1.2 🚀 Python-3.10.12 torch-2.1.0+cu121 CUDA:0 (Tesla T4, 15102MiB)\n",
            "Model summary (fused): 168 layers, 3006623 parameters, 0 gradients, 8.1 GFLOPs\n"
          ]
        },
        {
          "output_type": "stream",
          "name": "stderr",
          "text": [
            "\u001b[34m\u001b[1mval: \u001b[0mScanning /content/Head-motion-using-Histogram-1/valid/labels.cache... 269 images, 0 backgrounds, 0 corrupt: 100%|██████████| 269/269 [00:00<?, ?it/s]\n",
            "                 Class     Images  Instances      Box(P          R      mAP50  mAP50-95): 100%|██████████| 17/17 [00:02<00:00,  6.09it/s]\n"
          ]
        },
        {
          "output_type": "stream",
          "name": "stdout",
          "text": [
            "                   all        269        269      0.993      0.997       0.99      0.816\n",
            "                  atas        269         59      0.999          1      0.995      0.752\n",
            "                 bawah        269         66      0.996      0.985       0.99       0.83\n",
            "                 depan        269         47      0.974          1      0.975      0.835\n",
            "                 kanan        269         51      0.997          1      0.995      0.844\n",
            "                  kiri        269         46      0.998          1      0.995      0.817\n",
            "Speed: 0.2ms preprocess, 1.6ms inference, 0.0ms loss, 1.4ms postprocess per image\n",
            "Results saved to \u001b[1mruns/detect/train29\u001b[0m\n",
            "Processing model 28: /content/drive/MyDrive/koding kuliah skripsi/YOLO Train FIX/Training with callback/runs_histogram/detect/train/weights/epoch28.pt\n",
            "Ultralytics YOLOv8.1.2 🚀 Python-3.10.12 torch-2.1.0+cu121 CUDA:0 (Tesla T4, 15102MiB)\n",
            "Model summary (fused): 168 layers, 3006623 parameters, 0 gradients, 8.1 GFLOPs\n"
          ]
        },
        {
          "output_type": "stream",
          "name": "stderr",
          "text": [
            "\u001b[34m\u001b[1mval: \u001b[0mScanning /content/Head-motion-using-Histogram-1/valid/labels.cache... 269 images, 0 backgrounds, 0 corrupt: 100%|██████████| 269/269 [00:00<?, ?it/s]\n",
            "                 Class     Images  Instances      Box(P          R      mAP50  mAP50-95): 100%|██████████| 17/17 [00:02<00:00,  6.94it/s]\n"
          ]
        },
        {
          "output_type": "stream",
          "name": "stdout",
          "text": [
            "                   all        269        269      0.992      0.994      0.992      0.813\n",
            "                  atas        269         59          1          1      0.995      0.764\n",
            "                 bawah        269         66      0.996      0.985      0.991      0.824\n",
            "                 depan        269         47      0.974          1      0.985      0.837\n",
            "                 kanan        269         51          1      0.983      0.995      0.832\n",
            "                  kiri        269         46      0.992          1      0.995      0.809\n",
            "Speed: 0.3ms preprocess, 4.7ms inference, 0.0ms loss, 1.5ms postprocess per image\n",
            "Results saved to \u001b[1mruns/detect/train30\u001b[0m\n",
            "Processing model 29: /content/drive/MyDrive/koding kuliah skripsi/YOLO Train FIX/Training with callback/runs_histogram/detect/train/weights/epoch29.pt\n",
            "Ultralytics YOLOv8.1.2 🚀 Python-3.10.12 torch-2.1.0+cu121 CUDA:0 (Tesla T4, 15102MiB)\n",
            "Model summary (fused): 168 layers, 3006623 parameters, 0 gradients, 8.1 GFLOPs\n"
          ]
        },
        {
          "output_type": "stream",
          "name": "stderr",
          "text": [
            "\u001b[34m\u001b[1mval: \u001b[0mScanning /content/Head-motion-using-Histogram-1/valid/labels.cache... 269 images, 0 backgrounds, 0 corrupt: 100%|██████████| 269/269 [00:00<?, ?it/s]\n",
            "                 Class     Images  Instances      Box(P          R      mAP50  mAP50-95): 100%|██████████| 17/17 [00:02<00:00,  7.16it/s]\n"
          ]
        },
        {
          "output_type": "stream",
          "name": "stdout",
          "text": [
            "                   all        269        269      0.994      0.997      0.993      0.824\n",
            "                  atas        269         59      0.999          1      0.995      0.772\n",
            "                 bawah        269         66          1      0.985      0.991      0.834\n",
            "                 depan        269         47      0.974          1       0.99      0.854\n",
            "                 kanan        269         51      0.998          1      0.995      0.849\n",
            "                  kiri        269         46      0.997          1      0.995       0.81\n",
            "Speed: 0.1ms preprocess, 3.8ms inference, 0.0ms loss, 2.3ms postprocess per image\n",
            "Results saved to \u001b[1mruns/detect/train31\u001b[0m\n",
            "Processing model 30: /content/drive/MyDrive/koding kuliah skripsi/YOLO Train FIX/Training with callback/runs_histogram/detect/train/weights/epoch30.pt\n",
            "Ultralytics YOLOv8.1.2 🚀 Python-3.10.12 torch-2.1.0+cu121 CUDA:0 (Tesla T4, 15102MiB)\n",
            "Model summary (fused): 168 layers, 3006623 parameters, 0 gradients, 8.1 GFLOPs\n"
          ]
        },
        {
          "output_type": "stream",
          "name": "stderr",
          "text": [
            "\u001b[34m\u001b[1mval: \u001b[0mScanning /content/Head-motion-using-Histogram-1/valid/labels.cache... 269 images, 0 backgrounds, 0 corrupt: 100%|██████████| 269/269 [00:00<?, ?it/s]\n",
            "                 Class     Images  Instances      Box(P          R      mAP50  mAP50-95): 100%|██████████| 17/17 [00:02<00:00,  6.55it/s]\n"
          ]
        },
        {
          "output_type": "stream",
          "name": "stdout",
          "text": [
            "                   all        269        269      0.993      0.995      0.993      0.819\n",
            "                  atas        269         59          1          1      0.995      0.776\n",
            "                 bawah        269         66      0.997      0.985      0.991      0.813\n",
            "                 depan        269         47      0.975          1      0.991      0.844\n",
            "                 kanan        269         51          1       0.99      0.995      0.835\n",
            "                  kiri        269         46      0.996          1      0.995      0.825\n",
            "Speed: 0.2ms preprocess, 2.1ms inference, 0.0ms loss, 3.9ms postprocess per image\n",
            "Results saved to \u001b[1mruns/detect/train32\u001b[0m\n",
            "Processing model 31: /content/drive/MyDrive/koding kuliah skripsi/YOLO Train FIX/Training with callback/runs_histogram/detect/train/weights/epoch31.pt\n",
            "Ultralytics YOLOv8.1.2 🚀 Python-3.10.12 torch-2.1.0+cu121 CUDA:0 (Tesla T4, 15102MiB)\n",
            "Model summary (fused): 168 layers, 3006623 parameters, 0 gradients, 8.1 GFLOPs\n"
          ]
        },
        {
          "output_type": "stream",
          "name": "stderr",
          "text": [
            "\u001b[34m\u001b[1mval: \u001b[0mScanning /content/Head-motion-using-Histogram-1/valid/labels.cache... 269 images, 0 backgrounds, 0 corrupt: 100%|██████████| 269/269 [00:00<?, ?it/s]\n",
            "                 Class     Images  Instances      Box(P          R      mAP50  mAP50-95): 100%|██████████| 17/17 [00:02<00:00,  6.87it/s]\n"
          ]
        },
        {
          "output_type": "stream",
          "name": "stdout",
          "text": [
            "                   all        269        269      0.993      0.997      0.991      0.816\n",
            "                  atas        269         59          1      0.999      0.995      0.779\n",
            "                 bawah        269         66      0.997      0.985      0.991      0.824\n",
            "                 depan        269         47      0.974          1      0.981       0.85\n",
            "                 kanan        269         51      0.998          1      0.995       0.82\n",
            "                  kiri        269         46      0.994          1      0.995      0.806\n",
            "Speed: 0.2ms preprocess, 3.1ms inference, 0.0ms loss, 3.1ms postprocess per image\n",
            "Results saved to \u001b[1mruns/detect/train33\u001b[0m\n",
            "Processing model 32: /content/drive/MyDrive/koding kuliah skripsi/YOLO Train FIX/Training with callback/runs_histogram/detect/train/weights/epoch32.pt\n",
            "Ultralytics YOLOv8.1.2 🚀 Python-3.10.12 torch-2.1.0+cu121 CUDA:0 (Tesla T4, 15102MiB)\n",
            "Model summary (fused): 168 layers, 3006623 parameters, 0 gradients, 8.1 GFLOPs\n"
          ]
        },
        {
          "output_type": "stream",
          "name": "stderr",
          "text": [
            "\u001b[34m\u001b[1mval: \u001b[0mScanning /content/Head-motion-using-Histogram-1/valid/labels.cache... 269 images, 0 backgrounds, 0 corrupt: 100%|██████████| 269/269 [00:00<?, ?it/s]\n",
            "                 Class     Images  Instances      Box(P          R      mAP50  mAP50-95): 100%|██████████| 17/17 [00:02<00:00,  7.29it/s]\n"
          ]
        },
        {
          "output_type": "stream",
          "name": "stdout",
          "text": [
            "                   all        269        269      0.991      0.997      0.994      0.828\n",
            "                  atas        269         59          1          1      0.995      0.776\n",
            "                 bawah        269         66      0.996      0.985      0.992      0.848\n",
            "                 depan        269         47       0.97          1      0.995       0.86\n",
            "                 kanan        269         51      0.995          1      0.995      0.834\n",
            "                  kiri        269         46      0.995          1      0.995      0.825\n",
            "Speed: 0.2ms preprocess, 3.0ms inference, 0.0ms loss, 3.1ms postprocess per image\n",
            "Results saved to \u001b[1mruns/detect/train34\u001b[0m\n",
            "Processing model 33: /content/drive/MyDrive/koding kuliah skripsi/YOLO Train FIX/Training with callback/runs_histogram/detect/train/weights/epoch33.pt\n",
            "Ultralytics YOLOv8.1.2 🚀 Python-3.10.12 torch-2.1.0+cu121 CUDA:0 (Tesla T4, 15102MiB)\n",
            "Model summary (fused): 168 layers, 3006623 parameters, 0 gradients, 8.1 GFLOPs\n"
          ]
        },
        {
          "output_type": "stream",
          "name": "stderr",
          "text": [
            "\u001b[34m\u001b[1mval: \u001b[0mScanning /content/Head-motion-using-Histogram-1/valid/labels.cache... 269 images, 0 backgrounds, 0 corrupt: 100%|██████████| 269/269 [00:00<?, ?it/s]\n",
            "                 Class     Images  Instances      Box(P          R      mAP50  mAP50-95): 100%|██████████| 17/17 [00:02<00:00,  5.92it/s]\n"
          ]
        },
        {
          "output_type": "stream",
          "name": "stdout",
          "text": [
            "                   all        269        269      0.993      0.995      0.992      0.829\n",
            "                  atas        269         59          1      0.991      0.995       0.79\n",
            "                 bawah        269         66      0.997      0.985      0.993      0.836\n",
            "                 depan        269         47      0.973          1      0.981      0.853\n",
            "                 kanan        269         51      0.997          1      0.995      0.851\n",
            "                  kiri        269         46      0.999          1      0.995      0.815\n",
            "Speed: 0.1ms preprocess, 1.6ms inference, 0.0ms loss, 2.6ms postprocess per image\n",
            "Results saved to \u001b[1mruns/detect/train35\u001b[0m\n",
            "Processing model 34: /content/drive/MyDrive/koding kuliah skripsi/YOLO Train FIX/Training with callback/runs_histogram/detect/train/weights/epoch34.pt\n",
            "Ultralytics YOLOv8.1.2 🚀 Python-3.10.12 torch-2.1.0+cu121 CUDA:0 (Tesla T4, 15102MiB)\n",
            "Model summary (fused): 168 layers, 3006623 parameters, 0 gradients, 8.1 GFLOPs\n"
          ]
        },
        {
          "output_type": "stream",
          "name": "stderr",
          "text": [
            "\u001b[34m\u001b[1mval: \u001b[0mScanning /content/Head-motion-using-Histogram-1/valid/labels.cache... 269 images, 0 backgrounds, 0 corrupt: 100%|██████████| 269/269 [00:00<?, ?it/s]\n",
            "                 Class     Images  Instances      Box(P          R      mAP50  mAP50-95): 100%|██████████| 17/17 [00:02<00:00,  6.88it/s]\n"
          ]
        },
        {
          "output_type": "stream",
          "name": "stdout",
          "text": [
            "                   all        269        269      0.995      0.994      0.994      0.832\n",
            "                  atas        269         59      0.998          1      0.995      0.778\n",
            "                 bawah        269         66      0.997      0.985      0.992      0.846\n",
            "                 depan        269         47      0.977          1      0.993      0.872\n",
            "                 kanan        269         51          1          1      0.995      0.854\n",
            "                  kiri        269         46          1      0.984      0.995      0.809\n",
            "Speed: 0.1ms preprocess, 3.0ms inference, 0.0ms loss, 3.3ms postprocess per image\n",
            "Results saved to \u001b[1mruns/detect/train36\u001b[0m\n",
            "Processing model 35: /content/drive/MyDrive/koding kuliah skripsi/YOLO Train FIX/Training with callback/runs_histogram/detect/train/weights/epoch35.pt\n",
            "Ultralytics YOLOv8.1.2 🚀 Python-3.10.12 torch-2.1.0+cu121 CUDA:0 (Tesla T4, 15102MiB)\n",
            "Model summary (fused): 168 layers, 3006623 parameters, 0 gradients, 8.1 GFLOPs\n"
          ]
        },
        {
          "output_type": "stream",
          "name": "stderr",
          "text": [
            "\u001b[34m\u001b[1mval: \u001b[0mScanning /content/Head-motion-using-Histogram-1/valid/labels.cache... 269 images, 0 backgrounds, 0 corrupt: 100%|██████████| 269/269 [00:00<?, ?it/s]\n",
            "                 Class     Images  Instances      Box(P          R      mAP50  mAP50-95): 100%|██████████| 17/17 [00:02<00:00,  7.23it/s]\n"
          ]
        },
        {
          "output_type": "stream",
          "name": "stdout",
          "text": [
            "                   all        269        269      0.993      0.997      0.993      0.829\n",
            "                  atas        269         59      0.999          1      0.995      0.774\n",
            "                 bawah        269         66      0.997      0.985      0.991      0.835\n",
            "                 depan        269         47      0.976          1      0.991      0.864\n",
            "                 kanan        269         51      0.997          1      0.995      0.847\n",
            "                  kiri        269         46      0.998          1      0.995      0.825\n",
            "Speed: 0.1ms preprocess, 2.8ms inference, 0.0ms loss, 3.2ms postprocess per image\n",
            "Results saved to \u001b[1mruns/detect/train37\u001b[0m\n",
            "Processing model 36: /content/drive/MyDrive/koding kuliah skripsi/YOLO Train FIX/Training with callback/runs_histogram/detect/train/weights/epoch36.pt\n",
            "Ultralytics YOLOv8.1.2 🚀 Python-3.10.12 torch-2.1.0+cu121 CUDA:0 (Tesla T4, 15102MiB)\n",
            "Model summary (fused): 168 layers, 3006623 parameters, 0 gradients, 8.1 GFLOPs\n"
          ]
        },
        {
          "output_type": "stream",
          "name": "stderr",
          "text": [
            "\u001b[34m\u001b[1mval: \u001b[0mScanning /content/Head-motion-using-Histogram-1/valid/labels.cache... 269 images, 0 backgrounds, 0 corrupt: 100%|██████████| 269/269 [00:00<?, ?it/s]\n",
            "                 Class     Images  Instances      Box(P          R      mAP50  mAP50-95): 100%|██████████| 17/17 [00:02<00:00,  6.96it/s]\n"
          ]
        },
        {
          "output_type": "stream",
          "name": "stdout",
          "text": [
            "                   all        269        269      0.992      0.997      0.992      0.824\n",
            "                  atas        269         59      0.999          1      0.995      0.753\n",
            "                 bawah        269         66      0.997      0.985      0.991      0.832\n",
            "                 depan        269         47      0.972          1      0.986      0.861\n",
            "                 kanan        269         51      0.997          1      0.995      0.852\n",
            "                  kiri        269         46      0.997          1      0.995      0.821\n",
            "Speed: 0.2ms preprocess, 3.2ms inference, 0.0ms loss, 3.1ms postprocess per image\n",
            "Results saved to \u001b[1mruns/detect/train38\u001b[0m\n",
            "Processing model 37: /content/drive/MyDrive/koding kuliah skripsi/YOLO Train FIX/Training with callback/runs_histogram/detect/train/weights/epoch37.pt\n",
            "Ultralytics YOLOv8.1.2 🚀 Python-3.10.12 torch-2.1.0+cu121 CUDA:0 (Tesla T4, 15102MiB)\n",
            "Model summary (fused): 168 layers, 3006623 parameters, 0 gradients, 8.1 GFLOPs\n"
          ]
        },
        {
          "output_type": "stream",
          "name": "stderr",
          "text": [
            "\u001b[34m\u001b[1mval: \u001b[0mScanning /content/Head-motion-using-Histogram-1/valid/labels.cache... 269 images, 0 backgrounds, 0 corrupt: 100%|██████████| 269/269 [00:00<?, ?it/s]\n",
            "                 Class     Images  Instances      Box(P          R      mAP50  mAP50-95): 100%|██████████| 17/17 [00:02<00:00,  6.77it/s]\n"
          ]
        },
        {
          "output_type": "stream",
          "name": "stdout",
          "text": [
            "                   all        269        269      0.994      0.997      0.993      0.826\n",
            "                  atas        269         59          1          1      0.995      0.775\n",
            "                 bawah        269         66      0.997      0.985      0.991      0.832\n",
            "                 depan        269         47      0.977          1       0.99      0.853\n",
            "                 kanan        269         51      0.998          1      0.995      0.842\n",
            "                  kiri        269         46      0.997          1      0.995      0.827\n",
            "Speed: 0.1ms preprocess, 3.3ms inference, 0.0ms loss, 1.7ms postprocess per image\n",
            "Results saved to \u001b[1mruns/detect/train39\u001b[0m\n",
            "Processing model 38: /content/drive/MyDrive/koding kuliah skripsi/YOLO Train FIX/Training with callback/runs_histogram/detect/train/weights/epoch38.pt\n",
            "Ultralytics YOLOv8.1.2 🚀 Python-3.10.12 torch-2.1.0+cu121 CUDA:0 (Tesla T4, 15102MiB)\n",
            "Model summary (fused): 168 layers, 3006623 parameters, 0 gradients, 8.1 GFLOPs\n"
          ]
        },
        {
          "output_type": "stream",
          "name": "stderr",
          "text": [
            "\u001b[34m\u001b[1mval: \u001b[0mScanning /content/Head-motion-using-Histogram-1/valid/labels.cache... 269 images, 0 backgrounds, 0 corrupt: 100%|██████████| 269/269 [00:00<?, ?it/s]\n",
            "                 Class     Images  Instances      Box(P          R      mAP50  mAP50-95): 100%|██████████| 17/17 [00:02<00:00,  6.61it/s]\n"
          ]
        },
        {
          "output_type": "stream",
          "name": "stdout",
          "text": [
            "                   all        269        269      0.993      0.997      0.993      0.837\n",
            "                  atas        269         59          1          1      0.995      0.779\n",
            "                 bawah        269         66      0.997      0.985      0.991      0.844\n",
            "                 depan        269         47      0.973          1      0.987      0.873\n",
            "                 kanan        269         51      0.998          1      0.995      0.862\n",
            "                  kiri        269         46      0.998          1      0.995      0.827\n",
            "Speed: 0.2ms preprocess, 2.8ms inference, 0.0ms loss, 3.4ms postprocess per image\n",
            "Results saved to \u001b[1mruns/detect/train40\u001b[0m\n",
            "Processing model 39: /content/drive/MyDrive/koding kuliah skripsi/YOLO Train FIX/Training with callback/runs_histogram/detect/train/weights/epoch39.pt\n",
            "Ultralytics YOLOv8.1.2 🚀 Python-3.10.12 torch-2.1.0+cu121 CUDA:0 (Tesla T4, 15102MiB)\n",
            "Model summary (fused): 168 layers, 3006623 parameters, 0 gradients, 8.1 GFLOPs\n"
          ]
        },
        {
          "output_type": "stream",
          "name": "stderr",
          "text": [
            "\u001b[34m\u001b[1mval: \u001b[0mScanning /content/Head-motion-using-Histogram-1/valid/labels.cache... 269 images, 0 backgrounds, 0 corrupt: 100%|██████████| 269/269 [00:00<?, ?it/s]\n",
            "                 Class     Images  Instances      Box(P          R      mAP50  mAP50-95): 100%|██████████| 17/17 [00:02<00:00,  6.88it/s]\n"
          ]
        },
        {
          "output_type": "stream",
          "name": "stdout",
          "text": [
            "                   all        269        269      0.994      0.997      0.993      0.836\n",
            "                  atas        269         59      0.999          1      0.995      0.789\n",
            "                 bawah        269         66      0.998      0.985      0.992      0.847\n",
            "                 depan        269         47      0.976          1       0.99      0.876\n",
            "                 kanan        269         51      0.999          1      0.995      0.851\n",
            "                  kiri        269         46      0.999          1      0.995      0.819\n",
            "Speed: 0.2ms preprocess, 2.9ms inference, 0.0ms loss, 3.6ms postprocess per image\n",
            "Results saved to \u001b[1mruns/detect/train41\u001b[0m\n",
            "Processing model 40: /content/drive/MyDrive/koding kuliah skripsi/YOLO Train FIX/Training with callback/runs_histogram/detect/train/weights/epoch40.pt\n",
            "Ultralytics YOLOv8.1.2 🚀 Python-3.10.12 torch-2.1.0+cu121 CUDA:0 (Tesla T4, 15102MiB)\n",
            "Model summary (fused): 168 layers, 3006623 parameters, 0 gradients, 8.1 GFLOPs\n"
          ]
        },
        {
          "output_type": "stream",
          "name": "stderr",
          "text": [
            "\u001b[34m\u001b[1mval: \u001b[0mScanning /content/Head-motion-using-Histogram-1/valid/labels.cache... 269 images, 0 backgrounds, 0 corrupt: 100%|██████████| 269/269 [00:00<?, ?it/s]\n",
            "                 Class     Images  Instances      Box(P          R      mAP50  mAP50-95): 100%|██████████| 17/17 [00:02<00:00,  7.09it/s]\n"
          ]
        },
        {
          "output_type": "stream",
          "name": "stdout",
          "text": [
            "                   all        269        269      0.993      0.997      0.993       0.83\n",
            "                  atas        269         59          1          1      0.995      0.768\n",
            "                 bawah        269         66      0.997      0.985      0.991      0.848\n",
            "                 depan        269         47      0.975          1      0.987      0.858\n",
            "                 kanan        269         51      0.999          1      0.995      0.863\n",
            "                  kiri        269         46      0.995          1      0.995      0.815\n",
            "Speed: 0.2ms preprocess, 4.4ms inference, 0.0ms loss, 1.8ms postprocess per image\n",
            "Results saved to \u001b[1mruns/detect/train42\u001b[0m\n",
            "Processing model 41: /content/drive/MyDrive/koding kuliah skripsi/YOLO Train FIX/Training with callback/runs_histogram/detect/train/weights/epoch41.pt\n",
            "Ultralytics YOLOv8.1.2 🚀 Python-3.10.12 torch-2.1.0+cu121 CUDA:0 (Tesla T4, 15102MiB)\n",
            "Model summary (fused): 168 layers, 3006623 parameters, 0 gradients, 8.1 GFLOPs\n"
          ]
        },
        {
          "output_type": "stream",
          "name": "stderr",
          "text": [
            "\u001b[34m\u001b[1mval: \u001b[0mScanning /content/Head-motion-using-Histogram-1/valid/labels.cache... 269 images, 0 backgrounds, 0 corrupt: 100%|██████████| 269/269 [00:00<?, ?it/s]\n",
            "                 Class     Images  Instances      Box(P          R      mAP50  mAP50-95): 100%|██████████| 17/17 [00:03<00:00,  5.57it/s]\n"
          ]
        },
        {
          "output_type": "stream",
          "name": "stdout",
          "text": [
            "                   all        269        269      0.993      0.997      0.992      0.834\n",
            "                  atas        269         59      0.999          1      0.995      0.776\n",
            "                 bawah        269         66      0.997      0.985      0.992       0.84\n",
            "                 depan        269         47      0.975          1      0.984      0.873\n",
            "                 kanan        269         51      0.996          1      0.995      0.849\n",
            "                  kiri        269         46      0.998          1      0.995      0.834\n",
            "Speed: 0.0ms preprocess, 2.4ms inference, 0.0ms loss, 2.8ms postprocess per image\n",
            "Results saved to \u001b[1mruns/detect/train43\u001b[0m\n",
            "Processing model 42: /content/drive/MyDrive/koding kuliah skripsi/YOLO Train FIX/Training with callback/runs_histogram/detect/train/weights/epoch42.pt\n",
            "Ultralytics YOLOv8.1.2 🚀 Python-3.10.12 torch-2.1.0+cu121 CUDA:0 (Tesla T4, 15102MiB)\n",
            "Model summary (fused): 168 layers, 3006623 parameters, 0 gradients, 8.1 GFLOPs\n"
          ]
        },
        {
          "output_type": "stream",
          "name": "stderr",
          "text": [
            "\u001b[34m\u001b[1mval: \u001b[0mScanning /content/Head-motion-using-Histogram-1/valid/labels.cache... 269 images, 0 backgrounds, 0 corrupt: 100%|██████████| 269/269 [00:00<?, ?it/s]\n",
            "                 Class     Images  Instances      Box(P          R      mAP50  mAP50-95): 100%|██████████| 17/17 [00:03<00:00,  5.43it/s]\n"
          ]
        },
        {
          "output_type": "stream",
          "name": "stdout",
          "text": [
            "                   all        269        269      0.994      0.997      0.991      0.827\n",
            "                  atas        269         59          1          1      0.995      0.772\n",
            "                 bawah        269         66      0.996      0.985      0.992      0.845\n",
            "                 depan        269         47      0.975          1       0.98      0.854\n",
            "                 kanan        269         51      0.998          1      0.995      0.844\n",
            "                  kiri        269         46      0.999          1      0.995      0.818\n",
            "Speed: 0.1ms preprocess, 2.1ms inference, 0.0ms loss, 2.1ms postprocess per image\n",
            "Results saved to \u001b[1mruns/detect/train44\u001b[0m\n",
            "Processing model 43: /content/drive/MyDrive/koding kuliah skripsi/YOLO Train FIX/Training with callback/runs_histogram/detect/train/weights/epoch43.pt\n",
            "Ultralytics YOLOv8.1.2 🚀 Python-3.10.12 torch-2.1.0+cu121 CUDA:0 (Tesla T4, 15102MiB)\n",
            "Model summary (fused): 168 layers, 3006623 parameters, 0 gradients, 8.1 GFLOPs\n"
          ]
        },
        {
          "output_type": "stream",
          "name": "stderr",
          "text": [
            "\u001b[34m\u001b[1mval: \u001b[0mScanning /content/Head-motion-using-Histogram-1/valid/labels.cache... 269 images, 0 backgrounds, 0 corrupt: 100%|██████████| 269/269 [00:00<?, ?it/s]\n",
            "                 Class     Images  Instances      Box(P          R      mAP50  mAP50-95): 100%|██████████| 17/17 [00:02<00:00,  7.02it/s]\n"
          ]
        },
        {
          "output_type": "stream",
          "name": "stdout",
          "text": [
            "                   all        269        269      0.993      0.997      0.992      0.835\n",
            "                  atas        269         59      0.998          1      0.995      0.786\n",
            "                 bawah        269         66      0.996      0.985      0.992       0.85\n",
            "                 depan        269         47      0.976          1      0.982      0.866\n",
            "                 kanan        269         51      0.996          1      0.995      0.851\n",
            "                  kiri        269         46      0.999          1      0.995      0.821\n",
            "Speed: 0.2ms preprocess, 3.7ms inference, 0.0ms loss, 2.5ms postprocess per image\n",
            "Results saved to \u001b[1mruns/detect/train45\u001b[0m\n",
            "Processing model 44: /content/drive/MyDrive/koding kuliah skripsi/YOLO Train FIX/Training with callback/runs_histogram/detect/train/weights/epoch44.pt\n",
            "Ultralytics YOLOv8.1.2 🚀 Python-3.10.12 torch-2.1.0+cu121 CUDA:0 (Tesla T4, 15102MiB)\n",
            "Model summary (fused): 168 layers, 3006623 parameters, 0 gradients, 8.1 GFLOPs\n"
          ]
        },
        {
          "output_type": "stream",
          "name": "stderr",
          "text": [
            "\u001b[34m\u001b[1mval: \u001b[0mScanning /content/Head-motion-using-Histogram-1/valid/labels.cache... 269 images, 0 backgrounds, 0 corrupt: 100%|██████████| 269/269 [00:00<?, ?it/s]\n",
            "                 Class     Images  Instances      Box(P          R      mAP50  mAP50-95): 100%|██████████| 17/17 [00:02<00:00,  7.19it/s]\n"
          ]
        },
        {
          "output_type": "stream",
          "name": "stdout",
          "text": [
            "                   all        269        269      0.989      0.996      0.991      0.829\n",
            "                  atas        269         59          1      0.993      0.995      0.765\n",
            "                 bawah        269         66      0.995      0.985      0.991      0.849\n",
            "                 depan        269         47      0.964          1      0.979      0.855\n",
            "                 kanan        269         51      0.994          1      0.995      0.838\n",
            "                  kiri        269         46      0.993          1      0.995      0.839\n",
            "Speed: 0.3ms preprocess, 5.2ms inference, 0.0ms loss, 0.8ms postprocess per image\n",
            "Results saved to \u001b[1mruns/detect/train46\u001b[0m\n",
            "Processing model 45: /content/drive/MyDrive/koding kuliah skripsi/YOLO Train FIX/Training with callback/runs_histogram/detect/train/weights/epoch45.pt\n",
            "Ultralytics YOLOv8.1.2 🚀 Python-3.10.12 torch-2.1.0+cu121 CUDA:0 (Tesla T4, 15102MiB)\n",
            "Model summary (fused): 168 layers, 3006623 parameters, 0 gradients, 8.1 GFLOPs\n"
          ]
        },
        {
          "output_type": "stream",
          "name": "stderr",
          "text": [
            "\u001b[34m\u001b[1mval: \u001b[0mScanning /content/Head-motion-using-Histogram-1/valid/labels.cache... 269 images, 0 backgrounds, 0 corrupt: 100%|██████████| 269/269 [00:00<?, ?it/s]\n",
            "                 Class     Images  Instances      Box(P          R      mAP50  mAP50-95): 100%|██████████| 17/17 [00:02<00:00,  7.10it/s]\n"
          ]
        },
        {
          "output_type": "stream",
          "name": "stdout",
          "text": [
            "                   all        269        269      0.991      0.997      0.992      0.836\n",
            "                  atas        269         59          1      0.998      0.995      0.798\n",
            "                 bawah        269         66      0.996      0.985      0.991      0.846\n",
            "                 depan        269         47      0.969          1      0.983      0.851\n",
            "                 kanan        269         51      0.994          1      0.995      0.856\n",
            "                  kiri        269         46      0.996          1      0.995      0.831\n",
            "Speed: 0.1ms preprocess, 4.2ms inference, 0.0ms loss, 1.9ms postprocess per image\n",
            "Results saved to \u001b[1mruns/detect/train47\u001b[0m\n",
            "Processing model 46: /content/drive/MyDrive/koding kuliah skripsi/YOLO Train FIX/Training with callback/runs_histogram/detect/train/weights/epoch46.pt\n",
            "Ultralytics YOLOv8.1.2 🚀 Python-3.10.12 torch-2.1.0+cu121 CUDA:0 (Tesla T4, 15102MiB)\n",
            "Model summary (fused): 168 layers, 3006623 parameters, 0 gradients, 8.1 GFLOPs\n"
          ]
        },
        {
          "output_type": "stream",
          "name": "stderr",
          "text": [
            "\u001b[34m\u001b[1mval: \u001b[0mScanning /content/Head-motion-using-Histogram-1/valid/labels.cache... 269 images, 0 backgrounds, 0 corrupt: 100%|██████████| 269/269 [00:00<?, ?it/s]\n",
            "                 Class     Images  Instances      Box(P          R      mAP50  mAP50-95): 100%|██████████| 17/17 [00:02<00:00,  6.58it/s]\n"
          ]
        },
        {
          "output_type": "stream",
          "name": "stdout",
          "text": [
            "                   all        269        269      0.992      0.997      0.994      0.838\n",
            "                  atas        269         59          1          1      0.995      0.776\n",
            "                 bawah        269         66      0.994      0.985      0.991      0.852\n",
            "                 depan        269         47      0.974          1      0.992      0.872\n",
            "                 kanan        269         51      0.997          1      0.995      0.855\n",
            "                  kiri        269         46      0.997          1      0.995      0.833\n",
            "Speed: 0.1ms preprocess, 3.5ms inference, 0.0ms loss, 1.7ms postprocess per image\n",
            "Results saved to \u001b[1mruns/detect/train48\u001b[0m\n",
            "Processing model 47: /content/drive/MyDrive/koding kuliah skripsi/YOLO Train FIX/Training with callback/runs_histogram/detect/train/weights/epoch47.pt\n",
            "Ultralytics YOLOv8.1.2 🚀 Python-3.10.12 torch-2.1.0+cu121 CUDA:0 (Tesla T4, 15102MiB)\n",
            "Model summary (fused): 168 layers, 3006623 parameters, 0 gradients, 8.1 GFLOPs\n"
          ]
        },
        {
          "output_type": "stream",
          "name": "stderr",
          "text": [
            "\u001b[34m\u001b[1mval: \u001b[0mScanning /content/Head-motion-using-Histogram-1/valid/labels.cache... 269 images, 0 backgrounds, 0 corrupt: 100%|██████████| 269/269 [00:00<?, ?it/s]\n",
            "                 Class     Images  Instances      Box(P          R      mAP50  mAP50-95): 100%|██████████| 17/17 [00:02<00:00,  7.21it/s]\n"
          ]
        },
        {
          "output_type": "stream",
          "name": "stdout",
          "text": [
            "                   all        269        269       0.99      0.994      0.993       0.83\n",
            "                  atas        269         59          1      0.984      0.995      0.786\n",
            "                 bawah        269         66      0.996      0.985      0.991      0.858\n",
            "                 depan        269         47      0.966          1      0.987       0.86\n",
            "                 kanan        269         51      0.995          1      0.995      0.824\n",
            "                  kiri        269         46      0.995          1      0.995      0.821\n",
            "Speed: 0.1ms preprocess, 4.5ms inference, 0.0ms loss, 1.4ms postprocess per image\n",
            "Results saved to \u001b[1mruns/detect/train49\u001b[0m\n",
            "Processing model 48: /content/drive/MyDrive/koding kuliah skripsi/YOLO Train FIX/Training with callback/runs_histogram/detect/train/weights/epoch48.pt\n",
            "Ultralytics YOLOv8.1.2 🚀 Python-3.10.12 torch-2.1.0+cu121 CUDA:0 (Tesla T4, 15102MiB)\n",
            "Model summary (fused): 168 layers, 3006623 parameters, 0 gradients, 8.1 GFLOPs\n"
          ]
        },
        {
          "output_type": "stream",
          "name": "stderr",
          "text": [
            "\u001b[34m\u001b[1mval: \u001b[0mScanning /content/Head-motion-using-Histogram-1/valid/labels.cache... 269 images, 0 backgrounds, 0 corrupt: 100%|██████████| 269/269 [00:00<?, ?it/s]\n",
            "                 Class     Images  Instances      Box(P          R      mAP50  mAP50-95): 100%|██████████| 17/17 [00:02<00:00,  7.31it/s]\n"
          ]
        },
        {
          "output_type": "stream",
          "name": "stdout",
          "text": [
            "                   all        269        269      0.991      0.997      0.994      0.838\n",
            "                  atas        269         59      0.999          1      0.995      0.784\n",
            "                 bawah        269         66      0.996      0.985      0.992       0.86\n",
            "                 depan        269         47       0.97          1      0.992      0.871\n",
            "                 kanan        269         51      0.995          1      0.995      0.842\n",
            "                  kiri        269         46      0.994          1      0.995      0.835\n",
            "Speed: 0.1ms preprocess, 3.8ms inference, 0.0ms loss, 2.2ms postprocess per image\n",
            "Results saved to \u001b[1mruns/detect/train50\u001b[0m\n",
            "Processing model 49: /content/drive/MyDrive/koding kuliah skripsi/YOLO Train FIX/Training with callback/runs_histogram/detect/train/weights/epoch49.pt\n",
            "Ultralytics YOLOv8.1.2 🚀 Python-3.10.12 torch-2.1.0+cu121 CUDA:0 (Tesla T4, 15102MiB)\n",
            "Model summary (fused): 168 layers, 3006623 parameters, 0 gradients, 8.1 GFLOPs\n"
          ]
        },
        {
          "output_type": "stream",
          "name": "stderr",
          "text": [
            "\u001b[34m\u001b[1mval: \u001b[0mScanning /content/Head-motion-using-Histogram-1/valid/labels.cache... 269 images, 0 backgrounds, 0 corrupt: 100%|██████████| 269/269 [00:00<?, ?it/s]\n",
            "                 Class     Images  Instances      Box(P          R      mAP50  mAP50-95): 100%|██████████| 17/17 [00:02<00:00,  7.11it/s]\n"
          ]
        },
        {
          "output_type": "stream",
          "name": "stdout",
          "text": [
            "                   all        269        269       0.99      0.996      0.994      0.838\n",
            "                  atas        269         59          1      0.995      0.995      0.797\n",
            "                 bawah        269         66      0.996      0.985      0.992      0.847\n",
            "                 depan        269         47      0.969          1      0.992      0.863\n",
            "                 kanan        269         51      0.995          1      0.995      0.839\n",
            "                  kiri        269         46      0.993          1      0.995      0.845\n",
            "Speed: 0.2ms preprocess, 2.1ms inference, 0.0ms loss, 4.0ms postprocess per image\n",
            "Results saved to \u001b[1mruns/detect/train51\u001b[0m\n",
            "Processing model 50: /content/drive/MyDrive/koding kuliah skripsi/YOLO Train FIX/Training with callback/runs_histogram/detect/train/weights/epoch50.pt\n",
            "Ultralytics YOLOv8.1.2 🚀 Python-3.10.12 torch-2.1.0+cu121 CUDA:0 (Tesla T4, 15102MiB)\n",
            "Model summary (fused): 168 layers, 3006623 parameters, 0 gradients, 8.1 GFLOPs\n"
          ]
        },
        {
          "output_type": "stream",
          "name": "stderr",
          "text": [
            "\u001b[34m\u001b[1mval: \u001b[0mScanning /content/Head-motion-using-Histogram-1/valid/labels.cache... 269 images, 0 backgrounds, 0 corrupt: 100%|██████████| 269/269 [00:00<?, ?it/s]\n",
            "                 Class     Images  Instances      Box(P          R      mAP50  mAP50-95): 100%|██████████| 17/17 [00:02<00:00,  7.34it/s]\n"
          ]
        },
        {
          "output_type": "stream",
          "name": "stdout",
          "text": [
            "                   all        269        269      0.993      0.997      0.992      0.836\n",
            "                  atas        269         59          1          1      0.995      0.792\n",
            "                 bawah        269         66      0.997      0.985      0.992      0.856\n",
            "                 depan        269         47      0.975          1      0.981      0.869\n",
            "                 kanan        269         51      0.997          1      0.995      0.828\n",
            "                  kiri        269         46      0.996          1      0.995      0.833\n",
            "Speed: 0.1ms preprocess, 2.2ms inference, 0.0ms loss, 3.5ms postprocess per image\n",
            "Results saved to \u001b[1mruns/detect/train52\u001b[0m\n",
            "Processing model 51: /content/drive/MyDrive/koding kuliah skripsi/YOLO Train FIX/Training with callback/runs_histogram/detect/train/weights/epoch51.pt\n",
            "Ultralytics YOLOv8.1.2 🚀 Python-3.10.12 torch-2.1.0+cu121 CUDA:0 (Tesla T4, 15102MiB)\n",
            "Model summary (fused): 168 layers, 3006623 parameters, 0 gradients, 8.1 GFLOPs\n"
          ]
        },
        {
          "output_type": "stream",
          "name": "stderr",
          "text": [
            "\u001b[34m\u001b[1mval: \u001b[0mScanning /content/Head-motion-using-Histogram-1/valid/labels.cache... 269 images, 0 backgrounds, 0 corrupt: 100%|██████████| 269/269 [00:00<?, ?it/s]\n",
            "                 Class     Images  Instances      Box(P          R      mAP50  mAP50-95): 100%|██████████| 17/17 [00:02<00:00,  7.25it/s]\n"
          ]
        },
        {
          "output_type": "stream",
          "name": "stdout",
          "text": [
            "                   all        269        269      0.993      0.995      0.991      0.836\n",
            "                  atas        269         59          1      0.989      0.995      0.785\n",
            "                 bawah        269         66      0.997      0.985      0.992      0.852\n",
            "                 depan        269         47      0.972          1      0.978      0.852\n",
            "                 kanan        269         51      0.997          1      0.995      0.851\n",
            "                  kiri        269         46      0.998          1      0.995      0.843\n",
            "Speed: 0.2ms preprocess, 4.0ms inference, 0.0ms loss, 2.1ms postprocess per image\n",
            "Results saved to \u001b[1mruns/detect/train53\u001b[0m\n",
            "Processing model 52: /content/drive/MyDrive/koding kuliah skripsi/YOLO Train FIX/Training with callback/runs_histogram/detect/train/weights/epoch52.pt\n",
            "Ultralytics YOLOv8.1.2 🚀 Python-3.10.12 torch-2.1.0+cu121 CUDA:0 (Tesla T4, 15102MiB)\n",
            "Model summary (fused): 168 layers, 3006623 parameters, 0 gradients, 8.1 GFLOPs\n"
          ]
        },
        {
          "output_type": "stream",
          "name": "stderr",
          "text": [
            "\u001b[34m\u001b[1mval: \u001b[0mScanning /content/Head-motion-using-Histogram-1/valid/labels.cache... 269 images, 0 backgrounds, 0 corrupt: 100%|██████████| 269/269 [00:00<?, ?it/s]\n",
            "                 Class     Images  Instances      Box(P          R      mAP50  mAP50-95): 100%|██████████| 17/17 [00:03<00:00,  5.45it/s]\n"
          ]
        },
        {
          "output_type": "stream",
          "name": "stdout",
          "text": [
            "                   all        269        269      0.986      0.997      0.994       0.84\n",
            "                  atas        269         59      0.999          1      0.995       0.78\n",
            "                 bawah        269         66      0.994      0.985      0.992      0.861\n",
            "                 depan        269         47      0.965          1      0.991      0.877\n",
            "                 kanan        269         51      0.986          1      0.995      0.837\n",
            "                  kiri        269         46      0.985          1      0.995      0.843\n",
            "Speed: 0.1ms preprocess, 2.2ms inference, 0.0ms loss, 2.0ms postprocess per image\n",
            "Results saved to \u001b[1mruns/detect/train54\u001b[0m\n",
            "Processing model 53: /content/drive/MyDrive/koding kuliah skripsi/YOLO Train FIX/Training with callback/runs_histogram/detect/train/weights/epoch53.pt\n",
            "Ultralytics YOLOv8.1.2 🚀 Python-3.10.12 torch-2.1.0+cu121 CUDA:0 (Tesla T4, 15102MiB)\n",
            "Model summary (fused): 168 layers, 3006623 parameters, 0 gradients, 8.1 GFLOPs\n"
          ]
        },
        {
          "output_type": "stream",
          "name": "stderr",
          "text": [
            "\u001b[34m\u001b[1mval: \u001b[0mScanning /content/Head-motion-using-Histogram-1/valid/labels.cache... 269 images, 0 backgrounds, 0 corrupt: 100%|██████████| 269/269 [00:00<?, ?it/s]\n",
            "                 Class     Images  Instances      Box(P          R      mAP50  mAP50-95): 100%|██████████| 17/17 [00:02<00:00,  7.15it/s]\n"
          ]
        },
        {
          "output_type": "stream",
          "name": "stdout",
          "text": [
            "                   all        269        269      0.993      0.994      0.993      0.844\n",
            "                  atas        269         59          1      0.984      0.995      0.788\n",
            "                 bawah        269         66      0.998      0.985      0.992      0.865\n",
            "                 depan        269         47      0.969          1      0.989       0.88\n",
            "                 kanan        269         51      0.999          1      0.995      0.853\n",
            "                  kiri        269         46      0.998          1      0.995      0.836\n",
            "Speed: 0.1ms preprocess, 2.9ms inference, 0.0ms loss, 3.3ms postprocess per image\n",
            "Results saved to \u001b[1mruns/detect/train55\u001b[0m\n",
            "Processing model 54: /content/drive/MyDrive/koding kuliah skripsi/YOLO Train FIX/Training with callback/runs_histogram/detect/train/weights/epoch54.pt\n",
            "Ultralytics YOLOv8.1.2 🚀 Python-3.10.12 torch-2.1.0+cu121 CUDA:0 (Tesla T4, 15102MiB)\n",
            "Model summary (fused): 168 layers, 3006623 parameters, 0 gradients, 8.1 GFLOPs\n"
          ]
        },
        {
          "output_type": "stream",
          "name": "stderr",
          "text": [
            "\u001b[34m\u001b[1mval: \u001b[0mScanning /content/Head-motion-using-Histogram-1/valid/labels.cache... 269 images, 0 backgrounds, 0 corrupt: 100%|██████████| 269/269 [00:00<?, ?it/s]\n",
            "                 Class     Images  Instances      Box(P          R      mAP50  mAP50-95): 100%|██████████| 17/17 [00:02<00:00,  5.85it/s]\n"
          ]
        },
        {
          "output_type": "stream",
          "name": "stdout",
          "text": [
            "                   all        269        269      0.991      0.991      0.994      0.835\n",
            "                  atas        269         59          1      0.972      0.995      0.774\n",
            "                 bawah        269         66      0.997      0.985      0.992      0.849\n",
            "                 depan        269         47      0.965          1      0.992      0.871\n",
            "                 kanan        269         51      0.996          1      0.995       0.84\n",
            "                  kiri        269         46      0.997          1      0.995      0.841\n",
            "Speed: 0.2ms preprocess, 2.5ms inference, 0.0ms loss, 2.4ms postprocess per image\n",
            "Results saved to \u001b[1mruns/detect/train56\u001b[0m\n",
            "Processing model 55: /content/drive/MyDrive/koding kuliah skripsi/YOLO Train FIX/Training with callback/runs_histogram/detect/train/weights/epoch55.pt\n",
            "Ultralytics YOLOv8.1.2 🚀 Python-3.10.12 torch-2.1.0+cu121 CUDA:0 (Tesla T4, 15102MiB)\n",
            "Model summary (fused): 168 layers, 3006623 parameters, 0 gradients, 8.1 GFLOPs\n"
          ]
        },
        {
          "output_type": "stream",
          "name": "stderr",
          "text": [
            "\u001b[34m\u001b[1mval: \u001b[0mScanning /content/Head-motion-using-Histogram-1/valid/labels.cache... 269 images, 0 backgrounds, 0 corrupt: 100%|██████████| 269/269 [00:00<?, ?it/s]\n",
            "                 Class     Images  Instances      Box(P          R      mAP50  mAP50-95): 100%|██████████| 17/17 [00:03<00:00,  5.30it/s]\n"
          ]
        },
        {
          "output_type": "stream",
          "name": "stdout",
          "text": [
            "                   all        269        269      0.992      0.981      0.993      0.837\n",
            "                  atas        269         59          1      0.918      0.995      0.786\n",
            "                 bawah        269         66      0.998      0.985      0.992      0.846\n",
            "                 depan        269         47      0.972          1       0.99      0.875\n",
            "                 kanan        269         51      0.998          1      0.995      0.837\n",
            "                  kiri        269         46      0.995          1      0.995       0.84\n",
            "Speed: 0.0ms preprocess, 2.5ms inference, 0.0ms loss, 2.3ms postprocess per image\n",
            "Results saved to \u001b[1mruns/detect/train57\u001b[0m\n",
            "Processing model 56: /content/drive/MyDrive/koding kuliah skripsi/YOLO Train FIX/Training with callback/runs_histogram/detect/train/weights/epoch56.pt\n",
            "Ultralytics YOLOv8.1.2 🚀 Python-3.10.12 torch-2.1.0+cu121 CUDA:0 (Tesla T4, 15102MiB)\n",
            "Model summary (fused): 168 layers, 3006623 parameters, 0 gradients, 8.1 GFLOPs\n"
          ]
        },
        {
          "output_type": "stream",
          "name": "stderr",
          "text": [
            "\u001b[34m\u001b[1mval: \u001b[0mScanning /content/Head-motion-using-Histogram-1/valid/labels.cache... 269 images, 0 backgrounds, 0 corrupt: 100%|██████████| 269/269 [00:00<?, ?it/s]\n",
            "                 Class     Images  Instances      Box(P          R      mAP50  mAP50-95): 100%|██████████| 17/17 [00:03<00:00,  5.08it/s]\n"
          ]
        },
        {
          "output_type": "stream",
          "name": "stdout",
          "text": [
            "                   all        269        269      0.991      0.981      0.993       0.84\n",
            "                  atas        269         59          1      0.921      0.995      0.791\n",
            "                 bawah        269         66      0.997      0.985      0.991      0.857\n",
            "                 depan        269         47       0.97          1      0.987      0.861\n",
            "                 kanan        269         51      0.997          1      0.995      0.855\n",
            "                  kiri        269         46      0.991          1      0.995      0.837\n",
            "Speed: 0.2ms preprocess, 2.5ms inference, 0.0ms loss, 1.8ms postprocess per image\n",
            "Results saved to \u001b[1mruns/detect/train58\u001b[0m\n",
            "Processing model 57: /content/drive/MyDrive/koding kuliah skripsi/YOLO Train FIX/Training with callback/runs_histogram/detect/train/weights/epoch57.pt\n",
            "Ultralytics YOLOv8.1.2 🚀 Python-3.10.12 torch-2.1.0+cu121 CUDA:0 (Tesla T4, 15102MiB)\n",
            "Model summary (fused): 168 layers, 3006623 parameters, 0 gradients, 8.1 GFLOPs\n"
          ]
        },
        {
          "output_type": "stream",
          "name": "stderr",
          "text": [
            "\u001b[34m\u001b[1mval: \u001b[0mScanning /content/Head-motion-using-Histogram-1/valid/labels.cache... 269 images, 0 backgrounds, 0 corrupt: 100%|██████████| 269/269 [00:00<?, ?it/s]\n",
            "                 Class     Images  Instances      Box(P          R      mAP50  mAP50-95): 100%|██████████| 17/17 [00:02<00:00,  7.21it/s]\n"
          ]
        },
        {
          "output_type": "stream",
          "name": "stdout",
          "text": [
            "                   all        269        269      0.985      0.994      0.993      0.844\n",
            "                  atas        269         59          1      0.985      0.995      0.791\n",
            "                 bawah        269         66      0.994      0.985      0.992      0.843\n",
            "                 depan        269         47      0.953          1      0.987      0.871\n",
            "                 kanan        269         51      0.992          1      0.995      0.867\n",
            "                  kiri        269         46      0.987          1      0.995      0.847\n",
            "Speed: 0.1ms preprocess, 3.0ms inference, 0.0ms loss, 3.2ms postprocess per image\n",
            "Results saved to \u001b[1mruns/detect/train59\u001b[0m\n",
            "Processing model 58: /content/drive/MyDrive/koding kuliah skripsi/YOLO Train FIX/Training with callback/runs_histogram/detect/train/weights/epoch58.pt\n",
            "Ultralytics YOLOv8.1.2 🚀 Python-3.10.12 torch-2.1.0+cu121 CUDA:0 (Tesla T4, 15102MiB)\n",
            "Model summary (fused): 168 layers, 3006623 parameters, 0 gradients, 8.1 GFLOPs\n"
          ]
        },
        {
          "output_type": "stream",
          "name": "stderr",
          "text": [
            "\u001b[34m\u001b[1mval: \u001b[0mScanning /content/Head-motion-using-Histogram-1/valid/labels.cache... 269 images, 0 backgrounds, 0 corrupt: 100%|██████████| 269/269 [00:00<?, ?it/s]\n",
            "                 Class     Images  Instances      Box(P          R      mAP50  mAP50-95): 100%|██████████| 17/17 [00:02<00:00,  6.84it/s]\n"
          ]
        },
        {
          "output_type": "stream",
          "name": "stdout",
          "text": [
            "                   all        269        269      0.985      0.996      0.992      0.841\n",
            "                  atas        269         59          1      0.994      0.995      0.792\n",
            "                 bawah        269         66      0.994      0.985      0.991      0.847\n",
            "                 depan        269         47      0.956          1      0.983      0.864\n",
            "                 kanan        269         51      0.992          1      0.995      0.849\n",
            "                  kiri        269         46      0.982          1      0.995      0.854\n",
            "Speed: 0.1ms preprocess, 2.7ms inference, 0.0ms loss, 2.6ms postprocess per image\n",
            "Results saved to \u001b[1mruns/detect/train60\u001b[0m\n",
            "Processing model 59: /content/drive/MyDrive/koding kuliah skripsi/YOLO Train FIX/Training with callback/runs_histogram/detect/train/weights/epoch59.pt\n",
            "Ultralytics YOLOv8.1.2 🚀 Python-3.10.12 torch-2.1.0+cu121 CUDA:0 (Tesla T4, 15102MiB)\n",
            "Model summary (fused): 168 layers, 3006623 parameters, 0 gradients, 8.1 GFLOPs\n"
          ]
        },
        {
          "output_type": "stream",
          "name": "stderr",
          "text": [
            "\u001b[34m\u001b[1mval: \u001b[0mScanning /content/Head-motion-using-Histogram-1/valid/labels.cache... 269 images, 0 backgrounds, 0 corrupt: 100%|██████████| 269/269 [00:00<?, ?it/s]\n",
            "                 Class     Images  Instances      Box(P          R      mAP50  mAP50-95): 100%|██████████| 17/17 [00:02<00:00,  7.23it/s]\n"
          ]
        },
        {
          "output_type": "stream",
          "name": "stdout",
          "text": [
            "                   all        269        269      0.993      0.997      0.994      0.846\n",
            "                  atas        269         59      0.999          1      0.995      0.799\n",
            "                 bawah        269         66      0.997      0.985      0.992      0.852\n",
            "                 depan        269         47      0.975          1      0.993      0.877\n",
            "                 kanan        269         51      0.997          1      0.995      0.855\n",
            "                  kiri        269         46      0.998          1      0.995      0.846\n",
            "Speed: 0.1ms preprocess, 3.3ms inference, 0.0ms loss, 2.7ms postprocess per image\n",
            "Results saved to \u001b[1mruns/detect/train61\u001b[0m\n",
            "Processing model 60: /content/drive/MyDrive/koding kuliah skripsi/YOLO Train FIX/Training with callback/runs_histogram/detect/train/weights/epoch60.pt\n",
            "Ultralytics YOLOv8.1.2 🚀 Python-3.10.12 torch-2.1.0+cu121 CUDA:0 (Tesla T4, 15102MiB)\n",
            "Model summary (fused): 168 layers, 3006623 parameters, 0 gradients, 8.1 GFLOPs\n"
          ]
        },
        {
          "output_type": "stream",
          "name": "stderr",
          "text": [
            "\u001b[34m\u001b[1mval: \u001b[0mScanning /content/Head-motion-using-Histogram-1/valid/labels.cache... 269 images, 0 backgrounds, 0 corrupt: 100%|██████████| 269/269 [00:00<?, ?it/s]\n",
            "                 Class     Images  Instances      Box(P          R      mAP50  mAP50-95): 100%|██████████| 17/17 [00:02<00:00,  7.07it/s]\n"
          ]
        },
        {
          "output_type": "stream",
          "name": "stdout",
          "text": [
            "                   all        269        269       0.99      0.997      0.994       0.84\n",
            "                  atas        269         59      0.999          1      0.995      0.794\n",
            "                 bawah        269         66      0.995      0.985      0.992      0.857\n",
            "                 depan        269         47       0.97          1      0.992      0.874\n",
            "                 kanan        269         51      0.994          1      0.995       0.84\n",
            "                  kiri        269         46      0.992          1      0.995      0.836\n",
            "Speed: 0.2ms preprocess, 5.1ms inference, 0.0ms loss, 1.1ms postprocess per image\n",
            "Results saved to \u001b[1mruns/detect/train62\u001b[0m\n",
            "Processing model 61: /content/drive/MyDrive/koding kuliah skripsi/YOLO Train FIX/Training with callback/runs_histogram/detect/train/weights/epoch61.pt\n",
            "Ultralytics YOLOv8.1.2 🚀 Python-3.10.12 torch-2.1.0+cu121 CUDA:0 (Tesla T4, 15102MiB)\n",
            "Model summary (fused): 168 layers, 3006623 parameters, 0 gradients, 8.1 GFLOPs\n"
          ]
        },
        {
          "output_type": "stream",
          "name": "stderr",
          "text": [
            "\u001b[34m\u001b[1mval: \u001b[0mScanning /content/Head-motion-using-Histogram-1/valid/labels.cache... 269 images, 0 backgrounds, 0 corrupt: 100%|██████████| 269/269 [00:00<?, ?it/s]\n",
            "                 Class     Images  Instances      Box(P          R      mAP50  mAP50-95): 100%|██████████| 17/17 [00:02<00:00,  6.92it/s]\n"
          ]
        },
        {
          "output_type": "stream",
          "name": "stdout",
          "text": [
            "                   all        269        269      0.994      0.997      0.994      0.845\n",
            "                  atas        269         59      0.999          1      0.995      0.806\n",
            "                 bawah        269         66      0.998      0.985      0.992      0.853\n",
            "                 depan        269         47      0.978          1      0.992       0.88\n",
            "                 kanan        269         51      0.998          1      0.995      0.846\n",
            "                  kiri        269         46      0.998          1      0.995      0.839\n",
            "Speed: 0.2ms preprocess, 3.2ms inference, 0.0ms loss, 3.0ms postprocess per image\n",
            "Results saved to \u001b[1mruns/detect/train63\u001b[0m\n",
            "Processing model 62: /content/drive/MyDrive/koding kuliah skripsi/YOLO Train FIX/Training with callback/runs_histogram/detect/train/weights/epoch62.pt\n",
            "Ultralytics YOLOv8.1.2 🚀 Python-3.10.12 torch-2.1.0+cu121 CUDA:0 (Tesla T4, 15102MiB)\n",
            "Model summary (fused): 168 layers, 3006623 parameters, 0 gradients, 8.1 GFLOPs\n"
          ]
        },
        {
          "output_type": "stream",
          "name": "stderr",
          "text": [
            "\u001b[34m\u001b[1mval: \u001b[0mScanning /content/Head-motion-using-Histogram-1/valid/labels.cache... 269 images, 0 backgrounds, 0 corrupt: 100%|██████████| 269/269 [00:00<?, ?it/s]\n",
            "                 Class     Images  Instances      Box(P          R      mAP50  mAP50-95): 100%|██████████| 17/17 [00:02<00:00,  6.93it/s]\n"
          ]
        },
        {
          "output_type": "stream",
          "name": "stdout",
          "text": [
            "                   all        269        269      0.993      0.996      0.994       0.85\n",
            "                  atas        269         59          1      0.996      0.995      0.796\n",
            "                 bawah        269         66      0.997      0.985      0.991      0.858\n",
            "                 depan        269         47      0.976          1      0.991      0.886\n",
            "                 kanan        269         51      0.997          1      0.995      0.867\n",
            "                  kiri        269         46      0.996          1      0.995      0.845\n",
            "Speed: 0.2ms preprocess, 3.0ms inference, 0.0ms loss, 3.4ms postprocess per image\n",
            "Results saved to \u001b[1mruns/detect/train64\u001b[0m\n",
            "Processing model 63: /content/drive/MyDrive/koding kuliah skripsi/YOLO Train FIX/Training with callback/runs_histogram/detect/train/weights/epoch63.pt\n",
            "Ultralytics YOLOv8.1.2 🚀 Python-3.10.12 torch-2.1.0+cu121 CUDA:0 (Tesla T4, 15102MiB)\n",
            "Model summary (fused): 168 layers, 3006623 parameters, 0 gradients, 8.1 GFLOPs\n"
          ]
        },
        {
          "output_type": "stream",
          "name": "stderr",
          "text": [
            "\u001b[34m\u001b[1mval: \u001b[0mScanning /content/Head-motion-using-Histogram-1/valid/labels.cache... 269 images, 0 backgrounds, 0 corrupt: 100%|██████████| 269/269 [00:00<?, ?it/s]\n",
            "                 Class     Images  Instances      Box(P          R      mAP50  mAP50-95): 100%|██████████| 17/17 [00:02<00:00,  7.13it/s]\n"
          ]
        },
        {
          "output_type": "stream",
          "name": "stdout",
          "text": [
            "                   all        269        269      0.994      0.997      0.994      0.843\n",
            "                  atas        269         59      0.999          1      0.995      0.794\n",
            "                 bawah        269         66      0.998      0.985      0.991      0.841\n",
            "                 depan        269         47      0.977          1      0.993      0.882\n",
            "                 kanan        269         51      0.998          1      0.995      0.849\n",
            "                  kiri        269         46      0.998          1      0.995      0.851\n",
            "Speed: 0.2ms preprocess, 4.1ms inference, 0.0ms loss, 2.1ms postprocess per image\n",
            "Results saved to \u001b[1mruns/detect/train65\u001b[0m\n",
            "Processing model 64: /content/drive/MyDrive/koding kuliah skripsi/YOLO Train FIX/Training with callback/runs_histogram/detect/train/weights/epoch64.pt\n",
            "Ultralytics YOLOv8.1.2 🚀 Python-3.10.12 torch-2.1.0+cu121 CUDA:0 (Tesla T4, 15102MiB)\n",
            "Model summary (fused): 168 layers, 3006623 parameters, 0 gradients, 8.1 GFLOPs\n"
          ]
        },
        {
          "output_type": "stream",
          "name": "stderr",
          "text": [
            "\u001b[34m\u001b[1mval: \u001b[0mScanning /content/Head-motion-using-Histogram-1/valid/labels.cache... 269 images, 0 backgrounds, 0 corrupt: 100%|██████████| 269/269 [00:00<?, ?it/s]\n",
            "                 Class     Images  Instances      Box(P          R      mAP50  mAP50-95): 100%|██████████| 17/17 [00:03<00:00,  5.41it/s]\n"
          ]
        },
        {
          "output_type": "stream",
          "name": "stdout",
          "text": [
            "                   all        269        269      0.993      0.995      0.994      0.848\n",
            "                  atas        269         59          1      0.988      0.995      0.799\n",
            "                 bawah        269         66      0.998      0.985      0.991      0.854\n",
            "                 depan        269         47      0.969          1      0.995      0.872\n",
            "                 kanan        269         51      0.998          1      0.995      0.851\n",
            "                  kiri        269         46      0.998          1      0.995      0.862\n",
            "Speed: 0.3ms preprocess, 1.9ms inference, 0.0ms loss, 1.7ms postprocess per image\n",
            "Results saved to \u001b[1mruns/detect/train66\u001b[0m\n",
            "Processing model 65: /content/drive/MyDrive/koding kuliah skripsi/YOLO Train FIX/Training with callback/runs_histogram/detect/train/weights/epoch65.pt\n",
            "Ultralytics YOLOv8.1.2 🚀 Python-3.10.12 torch-2.1.0+cu121 CUDA:0 (Tesla T4, 15102MiB)\n",
            "Model summary (fused): 168 layers, 3006623 parameters, 0 gradients, 8.1 GFLOPs\n"
          ]
        },
        {
          "output_type": "stream",
          "name": "stderr",
          "text": [
            "\u001b[34m\u001b[1mval: \u001b[0mScanning /content/Head-motion-using-Histogram-1/valid/labels.cache... 269 images, 0 backgrounds, 0 corrupt: 100%|██████████| 269/269 [00:00<?, ?it/s]\n",
            "                 Class     Images  Instances      Box(P          R      mAP50  mAP50-95): 100%|██████████| 17/17 [00:02<00:00,  7.00it/s]\n"
          ]
        },
        {
          "output_type": "stream",
          "name": "stdout",
          "text": [
            "                   all        269        269      0.994      0.997      0.994      0.844\n",
            "                  atas        269         59          1      0.998      0.995      0.789\n",
            "                 bawah        269         66      0.998      0.985      0.992      0.855\n",
            "                 depan        269         47      0.977          1      0.991      0.866\n",
            "                 kanan        269         51      0.998          1      0.995      0.859\n",
            "                  kiri        269         46      0.998          1      0.995       0.85\n",
            "Speed: 0.2ms preprocess, 3.4ms inference, 0.0ms loss, 2.9ms postprocess per image\n",
            "Results saved to \u001b[1mruns/detect/train67\u001b[0m\n",
            "Processing model 66: /content/drive/MyDrive/koding kuliah skripsi/YOLO Train FIX/Training with callback/runs_histogram/detect/train/weights/epoch66.pt\n",
            "Ultralytics YOLOv8.1.2 🚀 Python-3.10.12 torch-2.1.0+cu121 CUDA:0 (Tesla T4, 15102MiB)\n",
            "Model summary (fused): 168 layers, 3006623 parameters, 0 gradients, 8.1 GFLOPs\n"
          ]
        },
        {
          "output_type": "stream",
          "name": "stderr",
          "text": [
            "\u001b[34m\u001b[1mval: \u001b[0mScanning /content/Head-motion-using-Histogram-1/valid/labels.cache... 269 images, 0 backgrounds, 0 corrupt: 100%|██████████| 269/269 [00:00<?, ?it/s]\n",
            "                 Class     Images  Instances      Box(P          R      mAP50  mAP50-95): 100%|██████████| 17/17 [00:02<00:00,  6.99it/s]\n"
          ]
        },
        {
          "output_type": "stream",
          "name": "stdout",
          "text": [
            "                   all        269        269      0.992      0.996      0.994      0.837\n",
            "                  atas        269         59          1      0.995      0.995      0.783\n",
            "                 bawah        269         66      0.996      0.985      0.993       0.85\n",
            "                 depan        269         47      0.975          1       0.99      0.858\n",
            "                 kanan        269         51      0.995          1      0.995      0.851\n",
            "                  kiri        269         46      0.994          1      0.995      0.842\n",
            "Speed: 0.2ms preprocess, 4.3ms inference, 0.0ms loss, 1.8ms postprocess per image\n",
            "Results saved to \u001b[1mruns/detect/train68\u001b[0m\n",
            "Processing model 67: /content/drive/MyDrive/koding kuliah skripsi/YOLO Train FIX/Training with callback/runs_histogram/detect/train/weights/epoch67.pt\n",
            "Ultralytics YOLOv8.1.2 🚀 Python-3.10.12 torch-2.1.0+cu121 CUDA:0 (Tesla T4, 15102MiB)\n",
            "Model summary (fused): 168 layers, 3006623 parameters, 0 gradients, 8.1 GFLOPs\n"
          ]
        },
        {
          "output_type": "stream",
          "name": "stderr",
          "text": [
            "\u001b[34m\u001b[1mval: \u001b[0mScanning /content/Head-motion-using-Histogram-1/valid/labels.cache... 269 images, 0 backgrounds, 0 corrupt: 100%|██████████| 269/269 [00:00<?, ?it/s]\n",
            "                 Class     Images  Instances      Box(P          R      mAP50  mAP50-95): 100%|██████████| 17/17 [00:02<00:00,  6.71it/s]\n"
          ]
        },
        {
          "output_type": "stream",
          "name": "stdout",
          "text": [
            "                   all        269        269      0.991      0.996      0.994      0.843\n",
            "                  atas        269         59          1      0.996      0.995      0.785\n",
            "                 bawah        269         66      0.995      0.985      0.992      0.854\n",
            "                 depan        269         47      0.973          1      0.993       0.88\n",
            "                 kanan        269         51      0.996          1      0.995      0.857\n",
            "                  kiri        269         46      0.993          1      0.995      0.841\n",
            "Speed: 0.1ms preprocess, 5.0ms inference, 0.0ms loss, 1.7ms postprocess per image\n",
            "Results saved to \u001b[1mruns/detect/train69\u001b[0m\n",
            "Processing model 68: /content/drive/MyDrive/koding kuliah skripsi/YOLO Train FIX/Training with callback/runs_histogram/detect/train/weights/epoch68.pt\n",
            "Ultralytics YOLOv8.1.2 🚀 Python-3.10.12 torch-2.1.0+cu121 CUDA:0 (Tesla T4, 15102MiB)\n",
            "Model summary (fused): 168 layers, 3006623 parameters, 0 gradients, 8.1 GFLOPs\n"
          ]
        },
        {
          "output_type": "stream",
          "name": "stderr",
          "text": [
            "\u001b[34m\u001b[1mval: \u001b[0mScanning /content/Head-motion-using-Histogram-1/valid/labels.cache... 269 images, 0 backgrounds, 0 corrupt: 100%|██████████| 269/269 [00:00<?, ?it/s]\n",
            "                 Class     Images  Instances      Box(P          R      mAP50  mAP50-95): 100%|██████████| 17/17 [00:03<00:00,  4.85it/s]\n"
          ]
        },
        {
          "output_type": "stream",
          "name": "stdout",
          "text": [
            "                   all        269        269      0.994      0.997      0.994      0.844\n",
            "                  atas        269         59      0.999          1      0.995      0.785\n",
            "                 bawah        269         66      0.997      0.985      0.993      0.856\n",
            "                 depan        269         47      0.977          1      0.992      0.889\n",
            "                 kanan        269         51      0.998          1      0.995      0.846\n",
            "                  kiri        269         46      0.998          1      0.995      0.845\n",
            "Speed: 0.2ms preprocess, 2.0ms inference, 0.0ms loss, 2.4ms postprocess per image\n",
            "Results saved to \u001b[1mruns/detect/train70\u001b[0m\n",
            "Processing model 69: /content/drive/MyDrive/koding kuliah skripsi/YOLO Train FIX/Training with callback/runs_histogram/detect/train/weights/epoch69.pt\n",
            "Ultralytics YOLOv8.1.2 🚀 Python-3.10.12 torch-2.1.0+cu121 CUDA:0 (Tesla T4, 15102MiB)\n",
            "Model summary (fused): 168 layers, 3006623 parameters, 0 gradients, 8.1 GFLOPs\n"
          ]
        },
        {
          "output_type": "stream",
          "name": "stderr",
          "text": [
            "\u001b[34m\u001b[1mval: \u001b[0mScanning /content/Head-motion-using-Histogram-1/valid/labels.cache... 269 images, 0 backgrounds, 0 corrupt: 100%|██████████| 269/269 [00:00<?, ?it/s]\n",
            "                 Class     Images  Instances      Box(P          R      mAP50  mAP50-95): 100%|██████████| 17/17 [00:02<00:00,  5.72it/s]\n"
          ]
        },
        {
          "output_type": "stream",
          "name": "stdout",
          "text": [
            "                   all        269        269      0.992      0.996      0.992       0.84\n",
            "                  atas        269         59          1      0.995      0.995       0.78\n",
            "                 bawah        269         66      0.996      0.985      0.992      0.847\n",
            "                 depan        269         47      0.972          1      0.982      0.876\n",
            "                 kanan        269         51      0.997          1      0.995      0.852\n",
            "                  kiri        269         46      0.997          1      0.995      0.844\n",
            "Speed: 0.1ms preprocess, 4.6ms inference, 0.0ms loss, 2.0ms postprocess per image\n",
            "Results saved to \u001b[1mruns/detect/train71\u001b[0m\n",
            "Processing model 70: /content/drive/MyDrive/koding kuliah skripsi/YOLO Train FIX/Training with callback/runs_histogram/detect/train/weights/epoch70.pt\n",
            "Ultralytics YOLOv8.1.2 🚀 Python-3.10.12 torch-2.1.0+cu121 CUDA:0 (Tesla T4, 15102MiB)\n",
            "Model summary (fused): 168 layers, 3006623 parameters, 0 gradients, 8.1 GFLOPs\n"
          ]
        },
        {
          "output_type": "stream",
          "name": "stderr",
          "text": [
            "\u001b[34m\u001b[1mval: \u001b[0mScanning /content/Head-motion-using-Histogram-1/valid/labels.cache... 269 images, 0 backgrounds, 0 corrupt: 100%|██████████| 269/269 [00:00<?, ?it/s]\n",
            "                 Class     Images  Instances      Box(P          R      mAP50  mAP50-95): 100%|██████████| 17/17 [00:03<00:00,  5.25it/s]\n"
          ]
        },
        {
          "output_type": "stream",
          "name": "stdout",
          "text": [
            "                   all        269        269      0.985      0.997      0.994      0.844\n",
            "                  atas        269         59          1          1      0.995      0.799\n",
            "                 bawah        269         66      0.989      0.985      0.992       0.86\n",
            "                 depan        269         47      0.967          1      0.991      0.877\n",
            "                 kanan        269         51      0.989          1      0.995      0.845\n",
            "                  kiri        269         46      0.981          1      0.995      0.836\n",
            "Speed: 0.1ms preprocess, 2.2ms inference, 0.0ms loss, 2.2ms postprocess per image\n",
            "Results saved to \u001b[1mruns/detect/train72\u001b[0m\n",
            "Processing model 71: /content/drive/MyDrive/koding kuliah skripsi/YOLO Train FIX/Training with callback/runs_histogram/detect/train/weights/epoch71.pt\n",
            "Ultralytics YOLOv8.1.2 🚀 Python-3.10.12 torch-2.1.0+cu121 CUDA:0 (Tesla T4, 15102MiB)\n",
            "Model summary (fused): 168 layers, 3006623 parameters, 0 gradients, 8.1 GFLOPs\n"
          ]
        },
        {
          "output_type": "stream",
          "name": "stderr",
          "text": [
            "\u001b[34m\u001b[1mval: \u001b[0mScanning /content/Head-motion-using-Histogram-1/valid/labels.cache... 269 images, 0 backgrounds, 0 corrupt: 100%|██████████| 269/269 [00:00<?, ?it/s]\n",
            "                 Class     Images  Instances      Box(P          R      mAP50  mAP50-95): 100%|██████████| 17/17 [00:03<00:00,  5.46it/s]\n"
          ]
        },
        {
          "output_type": "stream",
          "name": "stdout",
          "text": [
            "                   all        269        269      0.994      0.997      0.993      0.844\n",
            "                  atas        269         59          1          1      0.995      0.794\n",
            "                 bawah        269         66      0.997      0.985      0.992      0.854\n",
            "                 depan        269         47      0.977          1       0.99      0.876\n",
            "                 kanan        269         51      0.998          1      0.995      0.848\n",
            "                  kiri        269         46      0.999          1      0.995      0.846\n",
            "Speed: 0.2ms preprocess, 3.0ms inference, 0.0ms loss, 2.6ms postprocess per image\n",
            "Results saved to \u001b[1mruns/detect/train73\u001b[0m\n",
            "Processing model 72: /content/drive/MyDrive/koding kuliah skripsi/YOLO Train FIX/Training with callback/runs_histogram/detect/train/weights/epoch72.pt\n",
            "Ultralytics YOLOv8.1.2 🚀 Python-3.10.12 torch-2.1.0+cu121 CUDA:0 (Tesla T4, 15102MiB)\n",
            "Model summary (fused): 168 layers, 3006623 parameters, 0 gradients, 8.1 GFLOPs\n"
          ]
        },
        {
          "output_type": "stream",
          "name": "stderr",
          "text": [
            "\u001b[34m\u001b[1mval: \u001b[0mScanning /content/Head-motion-using-Histogram-1/valid/labels.cache... 269 images, 0 backgrounds, 0 corrupt: 100%|██████████| 269/269 [00:00<?, ?it/s]\n",
            "                 Class     Images  Instances      Box(P          R      mAP50  mAP50-95): 100%|██████████| 17/17 [00:02<00:00,  6.47it/s]\n"
          ]
        },
        {
          "output_type": "stream",
          "name": "stdout",
          "text": [
            "                   all        269        269      0.994      0.997      0.993      0.834\n",
            "                  atas        269         59      0.999          1      0.995       0.79\n",
            "                 bawah        269         66      0.998      0.985      0.991      0.837\n",
            "                 depan        269         47      0.977          1      0.986      0.869\n",
            "                 kanan        269         51      0.998          1      0.995      0.841\n",
            "                  kiri        269         46      0.999          1      0.995      0.832\n",
            "Speed: 0.2ms preprocess, 3.7ms inference, 0.0ms loss, 2.5ms postprocess per image\n",
            "Results saved to \u001b[1mruns/detect/train74\u001b[0m\n",
            "Processing model 73: /content/drive/MyDrive/koding kuliah skripsi/YOLO Train FIX/Training with callback/runs_histogram/detect/train/weights/epoch73.pt\n",
            "Ultralytics YOLOv8.1.2 🚀 Python-3.10.12 torch-2.1.0+cu121 CUDA:0 (Tesla T4, 15102MiB)\n",
            "Model summary (fused): 168 layers, 3006623 parameters, 0 gradients, 8.1 GFLOPs\n"
          ]
        },
        {
          "output_type": "stream",
          "name": "stderr",
          "text": [
            "\u001b[34m\u001b[1mval: \u001b[0mScanning /content/Head-motion-using-Histogram-1/valid/labels.cache... 269 images, 0 backgrounds, 0 corrupt: 100%|██████████| 269/269 [00:00<?, ?it/s]\n",
            "                 Class     Images  Instances      Box(P          R      mAP50  mAP50-95): 100%|██████████| 17/17 [00:02<00:00,  6.93it/s]\n"
          ]
        },
        {
          "output_type": "stream",
          "name": "stdout",
          "text": [
            "                   all        269        269      0.992      0.997      0.994      0.847\n",
            "                  atas        269         59      0.997          1      0.995      0.805\n",
            "                 bawah        269         66      0.997      0.985      0.992      0.857\n",
            "                 depan        269         47      0.975          1      0.993      0.878\n",
            "                 kanan        269         51      0.992          1      0.995      0.841\n",
            "                  kiri        269         46          1      0.998      0.995      0.853\n",
            "Speed: 0.1ms preprocess, 1.5ms inference, 0.0ms loss, 4.8ms postprocess per image\n",
            "Results saved to \u001b[1mruns/detect/train75\u001b[0m\n",
            "Processing model 74: /content/drive/MyDrive/koding kuliah skripsi/YOLO Train FIX/Training with callback/runs_histogram/detect/train/weights/epoch74.pt\n",
            "Ultralytics YOLOv8.1.2 🚀 Python-3.10.12 torch-2.1.0+cu121 CUDA:0 (Tesla T4, 15102MiB)\n",
            "Model summary (fused): 168 layers, 3006623 parameters, 0 gradients, 8.1 GFLOPs\n"
          ]
        },
        {
          "output_type": "stream",
          "name": "stderr",
          "text": [
            "\u001b[34m\u001b[1mval: \u001b[0mScanning /content/Head-motion-using-Histogram-1/valid/labels.cache... 269 images, 0 backgrounds, 0 corrupt: 100%|██████████| 269/269 [00:00<?, ?it/s]\n",
            "                 Class     Images  Instances      Box(P          R      mAP50  mAP50-95): 100%|██████████| 17/17 [00:02<00:00,  7.19it/s]\n"
          ]
        },
        {
          "output_type": "stream",
          "name": "stdout",
          "text": [
            "                   all        269        269      0.993      0.994      0.994      0.848\n",
            "                  atas        269         59          1      0.987      0.995      0.795\n",
            "                 bawah        269         66      0.997      0.985      0.992      0.852\n",
            "                 depan        269         47      0.976          1      0.993      0.878\n",
            "                 kanan        269         51      0.997          1      0.995      0.855\n",
            "                  kiri        269         46      0.997          1      0.995      0.861\n",
            "Speed: 0.1ms preprocess, 1.3ms inference, 0.0ms loss, 3.6ms postprocess per image\n",
            "Results saved to \u001b[1mruns/detect/train76\u001b[0m\n",
            "Processing model 75: /content/drive/MyDrive/koding kuliah skripsi/YOLO Train FIX/Training with callback/runs_histogram/detect/train/weights/epoch75.pt\n",
            "Ultralytics YOLOv8.1.2 🚀 Python-3.10.12 torch-2.1.0+cu121 CUDA:0 (Tesla T4, 15102MiB)\n",
            "Model summary (fused): 168 layers, 3006623 parameters, 0 gradients, 8.1 GFLOPs\n"
          ]
        },
        {
          "output_type": "stream",
          "name": "stderr",
          "text": [
            "\u001b[34m\u001b[1mval: \u001b[0mScanning /content/Head-motion-using-Histogram-1/valid/labels.cache... 269 images, 0 backgrounds, 0 corrupt: 100%|██████████| 269/269 [00:00<?, ?it/s]\n",
            "                 Class     Images  Instances      Box(P          R      mAP50  mAP50-95): 100%|██████████| 17/17 [00:02<00:00,  5.77it/s]\n"
          ]
        },
        {
          "output_type": "stream",
          "name": "stdout",
          "text": [
            "                   all        269        269      0.994      0.997      0.994      0.845\n",
            "                  atas        269         59          1          1      0.995      0.795\n",
            "                 bawah        269         66      0.998      0.985      0.993      0.853\n",
            "                 depan        269         47      0.977          1      0.993       0.87\n",
            "                 kanan        269         51      0.998          1      0.995      0.861\n",
            "                  kiri        269         46      0.998          1      0.995      0.845\n",
            "Speed: 0.1ms preprocess, 2.1ms inference, 0.0ms loss, 1.8ms postprocess per image\n",
            "Results saved to \u001b[1mruns/detect/train77\u001b[0m\n",
            "Processing model 76: /content/drive/MyDrive/koding kuliah skripsi/YOLO Train FIX/Training with callback/runs_histogram/detect/train/weights/epoch76.pt\n",
            "Ultralytics YOLOv8.1.2 🚀 Python-3.10.12 torch-2.1.0+cu121 CUDA:0 (Tesla T4, 15102MiB)\n",
            "Model summary (fused): 168 layers, 3006623 parameters, 0 gradients, 8.1 GFLOPs\n"
          ]
        },
        {
          "output_type": "stream",
          "name": "stderr",
          "text": [
            "\u001b[34m\u001b[1mval: \u001b[0mScanning /content/Head-motion-using-Histogram-1/valid/labels.cache... 269 images, 0 backgrounds, 0 corrupt: 100%|██████████| 269/269 [00:00<?, ?it/s]\n",
            "                 Class     Images  Instances      Box(P          R      mAP50  mAP50-95): 100%|██████████| 17/17 [00:02<00:00,  6.88it/s]\n"
          ]
        },
        {
          "output_type": "stream",
          "name": "stdout",
          "text": [
            "                   all        269        269      0.994      0.997      0.993      0.852\n",
            "                  atas        269         59          1          1      0.995      0.797\n",
            "                 bawah        269         66      0.998      0.985      0.992      0.855\n",
            "                 depan        269         47      0.977          1       0.99      0.874\n",
            "                 kanan        269         51      0.998          1      0.995      0.871\n",
            "                  kiri        269         46      0.999          1      0.995      0.865\n",
            "Speed: 0.1ms preprocess, 3.1ms inference, 0.0ms loss, 3.3ms postprocess per image\n",
            "Results saved to \u001b[1mruns/detect/train78\u001b[0m\n",
            "Processing model 77: /content/drive/MyDrive/koding kuliah skripsi/YOLO Train FIX/Training with callback/runs_histogram/detect/train/weights/epoch77.pt\n",
            "Ultralytics YOLOv8.1.2 🚀 Python-3.10.12 torch-2.1.0+cu121 CUDA:0 (Tesla T4, 15102MiB)\n",
            "Model summary (fused): 168 layers, 3006623 parameters, 0 gradients, 8.1 GFLOPs\n"
          ]
        },
        {
          "output_type": "stream",
          "name": "stderr",
          "text": [
            "\u001b[34m\u001b[1mval: \u001b[0mScanning /content/Head-motion-using-Histogram-1/valid/labels.cache... 269 images, 0 backgrounds, 0 corrupt: 100%|██████████| 269/269 [00:00<?, ?it/s]\n",
            "                 Class     Images  Instances      Box(P          R      mAP50  mAP50-95): 100%|██████████| 17/17 [00:02<00:00,  6.35it/s]\n"
          ]
        },
        {
          "output_type": "stream",
          "name": "stdout",
          "text": [
            "                   all        269        269      0.994      0.997      0.994      0.852\n",
            "                  atas        269         59      0.999          1      0.995      0.795\n",
            "                 bawah        269         66      0.998      0.985      0.993      0.858\n",
            "                 depan        269         47      0.977          1      0.994       0.87\n",
            "                 kanan        269         51      0.998          1      0.995      0.875\n",
            "                  kiri        269         46      0.998          1      0.995      0.859\n",
            "Speed: 0.1ms preprocess, 3.1ms inference, 0.0ms loss, 4.1ms postprocess per image\n",
            "Results saved to \u001b[1mruns/detect/train79\u001b[0m\n",
            "Processing model 78: /content/drive/MyDrive/koding kuliah skripsi/YOLO Train FIX/Training with callback/runs_histogram/detect/train/weights/epoch78.pt\n",
            "Ultralytics YOLOv8.1.2 🚀 Python-3.10.12 torch-2.1.0+cu121 CUDA:0 (Tesla T4, 15102MiB)\n",
            "Model summary (fused): 168 layers, 3006623 parameters, 0 gradients, 8.1 GFLOPs\n"
          ]
        },
        {
          "output_type": "stream",
          "name": "stderr",
          "text": [
            "\u001b[34m\u001b[1mval: \u001b[0mScanning /content/Head-motion-using-Histogram-1/valid/labels.cache... 269 images, 0 backgrounds, 0 corrupt: 100%|██████████| 269/269 [00:00<?, ?it/s]\n",
            "                 Class     Images  Instances      Box(P          R      mAP50  mAP50-95): 100%|██████████| 17/17 [00:02<00:00,  7.05it/s]\n"
          ]
        },
        {
          "output_type": "stream",
          "name": "stdout",
          "text": [
            "                   all        269        269      0.994      0.997      0.995      0.848\n",
            "                  atas        269         59      0.999          1      0.995      0.802\n",
            "                 bawah        269         66      0.998      0.985      0.993      0.851\n",
            "                 depan        269         47      0.977          1      0.995      0.865\n",
            "                 kanan        269         51      0.998          1      0.995       0.87\n",
            "                  kiri        269         46      0.998          1      0.995      0.854\n",
            "Speed: 0.0ms preprocess, 3.3ms inference, 0.0ms loss, 2.9ms postprocess per image\n",
            "Results saved to \u001b[1mruns/detect/train80\u001b[0m\n",
            "Processing model 79: /content/drive/MyDrive/koding kuliah skripsi/YOLO Train FIX/Training with callback/runs_histogram/detect/train/weights/epoch79.pt\n",
            "Ultralytics YOLOv8.1.2 🚀 Python-3.10.12 torch-2.1.0+cu121 CUDA:0 (Tesla T4, 15102MiB)\n",
            "Model summary (fused): 168 layers, 3006623 parameters, 0 gradients, 8.1 GFLOPs\n"
          ]
        },
        {
          "output_type": "stream",
          "name": "stderr",
          "text": [
            "\u001b[34m\u001b[1mval: \u001b[0mScanning /content/Head-motion-using-Histogram-1/valid/labels.cache... 269 images, 0 backgrounds, 0 corrupt: 100%|██████████| 269/269 [00:00<?, ?it/s]\n",
            "                 Class     Images  Instances      Box(P          R      mAP50  mAP50-95): 100%|██████████| 17/17 [00:02<00:00,  6.90it/s]\n"
          ]
        },
        {
          "output_type": "stream",
          "name": "stdout",
          "text": [
            "                   all        269        269      0.994      0.997      0.994      0.854\n",
            "                  atas        269         59      0.999          1      0.995      0.801\n",
            "                 bawah        269         66      0.998      0.985      0.993      0.861\n",
            "                 depan        269         47      0.977          1      0.994      0.882\n",
            "                 kanan        269         51      0.997          1      0.995      0.865\n",
            "                  kiri        269         46      0.998          1      0.995       0.86\n",
            "Speed: 0.3ms preprocess, 2.8ms inference, 0.0ms loss, 3.4ms postprocess per image\n",
            "Results saved to \u001b[1mruns/detect/train81\u001b[0m\n",
            "Processing model 80: /content/drive/MyDrive/koding kuliah skripsi/YOLO Train FIX/Training with callback/runs_histogram/detect/train/weights/epoch80.pt\n",
            "Ultralytics YOLOv8.1.2 🚀 Python-3.10.12 torch-2.1.0+cu121 CUDA:0 (Tesla T4, 15102MiB)\n",
            "Model summary (fused): 168 layers, 3006623 parameters, 0 gradients, 8.1 GFLOPs\n"
          ]
        },
        {
          "output_type": "stream",
          "name": "stderr",
          "text": [
            "\u001b[34m\u001b[1mval: \u001b[0mScanning /content/Head-motion-using-Histogram-1/valid/labels.cache... 269 images, 0 backgrounds, 0 corrupt: 100%|██████████| 269/269 [00:00<?, ?it/s]\n",
            "                 Class     Images  Instances      Box(P          R      mAP50  mAP50-95): 100%|██████████| 17/17 [00:02<00:00,  6.75it/s]\n"
          ]
        },
        {
          "output_type": "stream",
          "name": "stdout",
          "text": [
            "                   all        269        269      0.993      0.997      0.994      0.851\n",
            "                  atas        269         59      0.997          1      0.995      0.807\n",
            "                 bawah        269         66      0.997      0.985      0.993      0.854\n",
            "                 depan        269         47      0.979          1      0.991      0.873\n",
            "                 kanan        269         51      0.996          1      0.995      0.861\n",
            "                  kiri        269         46      0.997          1      0.995       0.86\n",
            "Speed: 0.2ms preprocess, 3.9ms inference, 0.0ms loss, 1.7ms postprocess per image\n",
            "Results saved to \u001b[1mruns/detect/train82\u001b[0m\n",
            "Processing model 81: /content/drive/MyDrive/koding kuliah skripsi/YOLO Train FIX/Training with callback/runs_histogram/detect/train/weights/epoch81.pt\n",
            "Ultralytics YOLOv8.1.2 🚀 Python-3.10.12 torch-2.1.0+cu121 CUDA:0 (Tesla T4, 15102MiB)\n",
            "Model summary (fused): 168 layers, 3006623 parameters, 0 gradients, 8.1 GFLOPs\n"
          ]
        },
        {
          "output_type": "stream",
          "name": "stderr",
          "text": [
            "\u001b[34m\u001b[1mval: \u001b[0mScanning /content/Head-motion-using-Histogram-1/valid/labels.cache... 269 images, 0 backgrounds, 0 corrupt: 100%|██████████| 269/269 [00:00<?, ?it/s]\n",
            "                 Class     Images  Instances      Box(P          R      mAP50  mAP50-95): 100%|██████████| 17/17 [00:02<00:00,  7.08it/s]\n"
          ]
        },
        {
          "output_type": "stream",
          "name": "stdout",
          "text": [
            "                   all        269        269      0.991      0.997      0.993      0.845\n",
            "                  atas        269         59      0.998          1      0.995      0.803\n",
            "                 bawah        269         66      0.994      0.985      0.993      0.855\n",
            "                 depan        269         47      0.975          1       0.99      0.859\n",
            "                 kanan        269         51      0.994          1      0.995       0.85\n",
            "                  kiri        269         46      0.992          1      0.995      0.861\n",
            "Speed: 0.4ms preprocess, 4.9ms inference, 0.0ms loss, 1.1ms postprocess per image\n",
            "Results saved to \u001b[1mruns/detect/train83\u001b[0m\n",
            "Processing model 82: /content/drive/MyDrive/koding kuliah skripsi/YOLO Train FIX/Training with callback/runs_histogram/detect/train/weights/epoch82.pt\n",
            "Ultralytics YOLOv8.1.2 🚀 Python-3.10.12 torch-2.1.0+cu121 CUDA:0 (Tesla T4, 15102MiB)\n",
            "Model summary (fused): 168 layers, 3006623 parameters, 0 gradients, 8.1 GFLOPs\n"
          ]
        },
        {
          "output_type": "stream",
          "name": "stderr",
          "text": [
            "\u001b[34m\u001b[1mval: \u001b[0mScanning /content/Head-motion-using-Histogram-1/valid/labels.cache... 269 images, 0 backgrounds, 0 corrupt: 100%|██████████| 269/269 [00:00<?, ?it/s]\n",
            "                 Class     Images  Instances      Box(P          R      mAP50  mAP50-95): 100%|██████████| 17/17 [00:02<00:00,  7.12it/s]\n"
          ]
        },
        {
          "output_type": "stream",
          "name": "stdout",
          "text": [
            "                   all        269        269      0.994      0.997      0.993      0.848\n",
            "                  atas        269         59      0.999          1      0.995      0.813\n",
            "                 bawah        269         66      0.998      0.985      0.993       0.86\n",
            "                 depan        269         47      0.978          1      0.989      0.861\n",
            "                 kanan        269         51      0.998          1      0.995      0.857\n",
            "                  kiri        269         46      0.999          1      0.995      0.849\n",
            "Speed: 0.3ms preprocess, 4.8ms inference, 0.0ms loss, 1.3ms postprocess per image\n",
            "Results saved to \u001b[1mruns/detect/train84\u001b[0m\n",
            "Processing model 83: /content/drive/MyDrive/koding kuliah skripsi/YOLO Train FIX/Training with callback/runs_histogram/detect/train/weights/epoch83.pt\n",
            "Ultralytics YOLOv8.1.2 🚀 Python-3.10.12 torch-2.1.0+cu121 CUDA:0 (Tesla T4, 15102MiB)\n",
            "Model summary (fused): 168 layers, 3006623 parameters, 0 gradients, 8.1 GFLOPs\n"
          ]
        },
        {
          "output_type": "stream",
          "name": "stderr",
          "text": [
            "\u001b[34m\u001b[1mval: \u001b[0mScanning /content/Head-motion-using-Histogram-1/valid/labels.cache... 269 images, 0 backgrounds, 0 corrupt: 100%|██████████| 269/269 [00:00<?, ?it/s]\n",
            "                 Class     Images  Instances      Box(P          R      mAP50  mAP50-95): 100%|██████████| 17/17 [00:02<00:00,  7.01it/s]\n"
          ]
        },
        {
          "output_type": "stream",
          "name": "stdout",
          "text": [
            "                   all        269        269      0.994      0.997      0.994       0.85\n",
            "                  atas        269         59          1          1      0.995      0.804\n",
            "                 bawah        269         66      0.998      0.985      0.993      0.853\n",
            "                 depan        269         47      0.978          1      0.992      0.872\n",
            "                 kanan        269         51      0.998          1      0.995      0.862\n",
            "                  kiri        269         46      0.999          1      0.995      0.856\n",
            "Speed: 0.2ms preprocess, 3.6ms inference, 0.0ms loss, 2.6ms postprocess per image\n",
            "Results saved to \u001b[1mruns/detect/train85\u001b[0m\n",
            "Processing model 84: /content/drive/MyDrive/koding kuliah skripsi/YOLO Train FIX/Training with callback/runs_histogram/detect/train/weights/epoch84.pt\n",
            "Ultralytics YOLOv8.1.2 🚀 Python-3.10.12 torch-2.1.0+cu121 CUDA:0 (Tesla T4, 15102MiB)\n",
            "Model summary (fused): 168 layers, 3006623 parameters, 0 gradients, 8.1 GFLOPs\n"
          ]
        },
        {
          "output_type": "stream",
          "name": "stderr",
          "text": [
            "\u001b[34m\u001b[1mval: \u001b[0mScanning /content/Head-motion-using-Histogram-1/valid/labels.cache... 269 images, 0 backgrounds, 0 corrupt: 100%|██████████| 269/269 [00:00<?, ?it/s]\n",
            "                 Class     Images  Instances      Box(P          R      mAP50  mAP50-95): 100%|██████████| 17/17 [00:02<00:00,  7.10it/s]\n"
          ]
        },
        {
          "output_type": "stream",
          "name": "stdout",
          "text": [
            "                   all        269        269      0.994      0.997      0.994       0.85\n",
            "                  atas        269         59          1      0.999      0.995      0.797\n",
            "                 bawah        269         66      0.998      0.985      0.994      0.855\n",
            "                 depan        269         47      0.976          1      0.991       0.87\n",
            "                 kanan        269         51      0.997          1      0.995      0.874\n",
            "                  kiri        269         46      0.998          1      0.995      0.855\n",
            "Speed: 0.2ms preprocess, 3.9ms inference, 0.0ms loss, 2.3ms postprocess per image\n",
            "Results saved to \u001b[1mruns/detect/train86\u001b[0m\n",
            "Processing model 85: /content/drive/MyDrive/koding kuliah skripsi/YOLO Train FIX/Training with callback/runs_histogram/detect/train/weights/epoch85.pt\n",
            "Ultralytics YOLOv8.1.2 🚀 Python-3.10.12 torch-2.1.0+cu121 CUDA:0 (Tesla T4, 15102MiB)\n",
            "Model summary (fused): 168 layers, 3006623 parameters, 0 gradients, 8.1 GFLOPs\n"
          ]
        },
        {
          "output_type": "stream",
          "name": "stderr",
          "text": [
            "\u001b[34m\u001b[1mval: \u001b[0mScanning /content/Head-motion-using-Histogram-1/valid/labels.cache... 269 images, 0 backgrounds, 0 corrupt: 100%|██████████| 269/269 [00:00<?, ?it/s]\n",
            "                 Class     Images  Instances      Box(P          R      mAP50  mAP50-95): 100%|██████████| 17/17 [00:02<00:00,  7.08it/s]\n"
          ]
        },
        {
          "output_type": "stream",
          "name": "stdout",
          "text": [
            "                   all        269        269      0.994      0.997      0.993      0.851\n",
            "                  atas        269         59      0.999          1      0.995      0.794\n",
            "                 bawah        269         66      0.999      0.985      0.994      0.863\n",
            "                 depan        269         47      0.978          1      0.986      0.868\n",
            "                 kanan        269         51      0.998          1      0.995      0.871\n",
            "                  kiri        269         46      0.999          1      0.995      0.858\n",
            "Speed: 0.1ms preprocess, 2.1ms inference, 0.0ms loss, 4.2ms postprocess per image\n",
            "Results saved to \u001b[1mruns/detect/train87\u001b[0m\n",
            "Processing model 86: /content/drive/MyDrive/koding kuliah skripsi/YOLO Train FIX/Training with callback/runs_histogram/detect/train/weights/epoch86.pt\n",
            "Ultralytics YOLOv8.1.2 🚀 Python-3.10.12 torch-2.1.0+cu121 CUDA:0 (Tesla T4, 15102MiB)\n",
            "Model summary (fused): 168 layers, 3006623 parameters, 0 gradients, 8.1 GFLOPs\n"
          ]
        },
        {
          "output_type": "stream",
          "name": "stderr",
          "text": [
            "\u001b[34m\u001b[1mval: \u001b[0mScanning /content/Head-motion-using-Histogram-1/valid/labels.cache... 269 images, 0 backgrounds, 0 corrupt: 100%|██████████| 269/269 [00:00<?, ?it/s]\n",
            "                 Class     Images  Instances      Box(P          R      mAP50  mAP50-95): 100%|██████████| 17/17 [00:02<00:00,  7.04it/s]\n"
          ]
        },
        {
          "output_type": "stream",
          "name": "stdout",
          "text": [
            "                   all        269        269      0.995      0.997      0.994      0.849\n",
            "                  atas        269         59      0.999          1      0.995      0.795\n",
            "                 bawah        269         66      0.999      0.985      0.994      0.856\n",
            "                 depan        269         47      0.978          1      0.993      0.875\n",
            "                 kanan        269         51      0.999          1      0.995      0.866\n",
            "                  kiri        269         46      0.999          1      0.995      0.853\n",
            "Speed: 0.3ms preprocess, 4.0ms inference, 0.0ms loss, 2.3ms postprocess per image\n",
            "Results saved to \u001b[1mruns/detect/train88\u001b[0m\n",
            "Processing model 87: /content/drive/MyDrive/koding kuliah skripsi/YOLO Train FIX/Training with callback/runs_histogram/detect/train/weights/epoch87.pt\n",
            "Ultralytics YOLOv8.1.2 🚀 Python-3.10.12 torch-2.1.0+cu121 CUDA:0 (Tesla T4, 15102MiB)\n",
            "Model summary (fused): 168 layers, 3006623 parameters, 0 gradients, 8.1 GFLOPs\n"
          ]
        },
        {
          "output_type": "stream",
          "name": "stderr",
          "text": [
            "\u001b[34m\u001b[1mval: \u001b[0mScanning /content/Head-motion-using-Histogram-1/valid/labels.cache... 269 images, 0 backgrounds, 0 corrupt: 100%|██████████| 269/269 [00:00<?, ?it/s]\n",
            "                 Class     Images  Instances      Box(P          R      mAP50  mAP50-95): 100%|██████████| 17/17 [00:02<00:00,  7.02it/s]\n"
          ]
        },
        {
          "output_type": "stream",
          "name": "stdout",
          "text": [
            "                   all        269        269      0.994      0.997      0.992      0.848\n",
            "                  atas        269         59      0.999          1      0.995      0.794\n",
            "                 bawah        269         66      0.999      0.985      0.994      0.855\n",
            "                 depan        269         47      0.977          1      0.984      0.861\n",
            "                 kanan        269         51      0.998          1      0.995      0.872\n",
            "                  kiri        269         46      0.999          1      0.995      0.855\n",
            "Speed: 0.2ms preprocess, 4.3ms inference, 0.0ms loss, 1.9ms postprocess per image\n",
            "Results saved to \u001b[1mruns/detect/train89\u001b[0m\n",
            "Processing model 88: /content/drive/MyDrive/koding kuliah skripsi/YOLO Train FIX/Training with callback/runs_histogram/detect/train/weights/epoch88.pt\n",
            "Ultralytics YOLOv8.1.2 🚀 Python-3.10.12 torch-2.1.0+cu121 CUDA:0 (Tesla T4, 15102MiB)\n",
            "Model summary (fused): 168 layers, 3006623 parameters, 0 gradients, 8.1 GFLOPs\n"
          ]
        },
        {
          "output_type": "stream",
          "name": "stderr",
          "text": [
            "\u001b[34m\u001b[1mval: \u001b[0mScanning /content/Head-motion-using-Histogram-1/valid/labels.cache... 269 images, 0 backgrounds, 0 corrupt: 100%|██████████| 269/269 [00:00<?, ?it/s]\n",
            "                 Class     Images  Instances      Box(P          R      mAP50  mAP50-95): 100%|██████████| 17/17 [00:02<00:00,  7.12it/s]\n"
          ]
        },
        {
          "output_type": "stream",
          "name": "stdout",
          "text": [
            "                   all        269        269      0.994      0.997      0.994      0.855\n",
            "                  atas        269         59      0.999          1      0.995      0.794\n",
            "                 bawah        269         66      0.999      0.985      0.994      0.854\n",
            "                 depan        269         47      0.977          1      0.993      0.884\n",
            "                 kanan        269         51      0.998          1      0.995       0.87\n",
            "                  kiri        269         46      0.999          1      0.995      0.874\n",
            "Speed: 0.1ms preprocess, 2.7ms inference, 0.0ms loss, 3.5ms postprocess per image\n",
            "Results saved to \u001b[1mruns/detect/train90\u001b[0m\n",
            "Processing model 89: /content/drive/MyDrive/koding kuliah skripsi/YOLO Train FIX/Training with callback/runs_histogram/detect/train/weights/epoch89.pt\n",
            "Ultralytics YOLOv8.1.2 🚀 Python-3.10.12 torch-2.1.0+cu121 CUDA:0 (Tesla T4, 15102MiB)\n",
            "Model summary (fused): 168 layers, 3006623 parameters, 0 gradients, 8.1 GFLOPs\n"
          ]
        },
        {
          "output_type": "stream",
          "name": "stderr",
          "text": [
            "\u001b[34m\u001b[1mval: \u001b[0mScanning /content/Head-motion-using-Histogram-1/valid/labels.cache... 269 images, 0 backgrounds, 0 corrupt: 100%|██████████| 269/269 [00:00<?, ?it/s]\n",
            "                 Class     Images  Instances      Box(P          R      mAP50  mAP50-95): 100%|██████████| 17/17 [00:03<00:00,  4.43it/s]\n"
          ]
        },
        {
          "output_type": "stream",
          "name": "stdout",
          "text": [
            "                   all        269        269      0.994      0.997      0.995      0.852\n",
            "                  atas        269         59      0.999          1      0.995      0.795\n",
            "                 bawah        269         66      0.998      0.985      0.993      0.855\n",
            "                 depan        269         47      0.977          1      0.995       0.88\n",
            "                 kanan        269         51      0.998          1      0.995      0.865\n",
            "                  kiri        269         46      0.999          1      0.995      0.867\n",
            "Speed: 0.0ms preprocess, 3.3ms inference, 0.0ms loss, 2.4ms postprocess per image\n",
            "Results saved to \u001b[1mruns/detect/train91\u001b[0m\n",
            "Processing model 90: /content/drive/MyDrive/koding kuliah skripsi/YOLO Train FIX/Training with callback/runs_histogram/detect/train/weights/epoch90.pt\n",
            "Ultralytics YOLOv8.1.2 🚀 Python-3.10.12 torch-2.1.0+cu121 CUDA:0 (Tesla T4, 15102MiB)\n",
            "Model summary (fused): 168 layers, 3006623 parameters, 0 gradients, 8.1 GFLOPs\n"
          ]
        },
        {
          "output_type": "stream",
          "name": "stderr",
          "text": [
            "\u001b[34m\u001b[1mval: \u001b[0mScanning /content/Head-motion-using-Histogram-1/valid/labels.cache... 269 images, 0 backgrounds, 0 corrupt: 100%|██████████| 269/269 [00:00<?, ?it/s]\n",
            "                 Class     Images  Instances      Box(P          R      mAP50  mAP50-95): 100%|██████████| 17/17 [00:02<00:00,  6.95it/s]\n"
          ]
        },
        {
          "output_type": "stream",
          "name": "stdout",
          "text": [
            "                   all        269        269      0.994      0.997      0.994      0.853\n",
            "                  atas        269         59      0.999          1      0.995      0.787\n",
            "                 bawah        269         66      0.999      0.985      0.994      0.856\n",
            "                 depan        269         47      0.977          1      0.993      0.877\n",
            "                 kanan        269         51      0.998          1      0.995      0.876\n",
            "                  kiri        269         46      0.999          1      0.995      0.869\n",
            "Speed: 0.1ms preprocess, 1.9ms inference, 0.0ms loss, 4.5ms postprocess per image\n",
            "Results saved to \u001b[1mruns/detect/train92\u001b[0m\n",
            "Processing model 91: /content/drive/MyDrive/koding kuliah skripsi/YOLO Train FIX/Training with callback/runs_histogram/detect/train/weights/epoch91.pt\n",
            "Ultralytics YOLOv8.1.2 🚀 Python-3.10.12 torch-2.1.0+cu121 CUDA:0 (Tesla T4, 15102MiB)\n",
            "Model summary (fused): 168 layers, 3006623 parameters, 0 gradients, 8.1 GFLOPs\n"
          ]
        },
        {
          "output_type": "stream",
          "name": "stderr",
          "text": [
            "\u001b[34m\u001b[1mval: \u001b[0mScanning /content/Head-motion-using-Histogram-1/valid/labels.cache... 269 images, 0 backgrounds, 0 corrupt: 100%|██████████| 269/269 [00:00<?, ?it/s]\n",
            "                 Class     Images  Instances      Box(P          R      mAP50  mAP50-95): 100%|██████████| 17/17 [00:02<00:00,  7.13it/s]\n"
          ]
        },
        {
          "output_type": "stream",
          "name": "stdout",
          "text": [
            "                   all        269        269      0.994      0.997      0.994      0.853\n",
            "                  atas        269         59      0.999          1      0.995      0.796\n",
            "                 bawah        269         66      0.998      0.985      0.994       0.86\n",
            "                 depan        269         47      0.977          1      0.992       0.87\n",
            "                 kanan        269         51      0.998          1      0.995      0.871\n",
            "                  kiri        269         46      0.999          1      0.995      0.869\n",
            "Speed: 0.2ms preprocess, 4.4ms inference, 0.0ms loss, 1.7ms postprocess per image\n",
            "Results saved to \u001b[1mruns/detect/train93\u001b[0m\n",
            "Processing model 92: /content/drive/MyDrive/koding kuliah skripsi/YOLO Train FIX/Training with callback/runs_histogram/detect/train/weights/epoch92.pt\n",
            "Ultralytics YOLOv8.1.2 🚀 Python-3.10.12 torch-2.1.0+cu121 CUDA:0 (Tesla T4, 15102MiB)\n",
            "Model summary (fused): 168 layers, 3006623 parameters, 0 gradients, 8.1 GFLOPs\n"
          ]
        },
        {
          "output_type": "stream",
          "name": "stderr",
          "text": [
            "\u001b[34m\u001b[1mval: \u001b[0mScanning /content/Head-motion-using-Histogram-1/valid/labels.cache... 269 images, 0 backgrounds, 0 corrupt: 100%|██████████| 269/269 [00:00<?, ?it/s]\n",
            "                 Class     Images  Instances      Box(P          R      mAP50  mAP50-95): 100%|██████████| 17/17 [00:02<00:00,  7.09it/s]\n"
          ]
        },
        {
          "output_type": "stream",
          "name": "stdout",
          "text": [
            "                   all        269        269      0.994      0.997      0.994      0.854\n",
            "                  atas        269         59      0.998          1      0.995      0.802\n",
            "                 bawah        269         66      0.998      0.985      0.994      0.867\n",
            "                 depan        269         47      0.977          1      0.991      0.869\n",
            "                 kanan        269         51      0.998          1      0.995       0.87\n",
            "                  kiri        269         46      0.999          1      0.995      0.863\n",
            "Speed: 0.2ms preprocess, 4.1ms inference, 0.0ms loss, 2.2ms postprocess per image\n",
            "Results saved to \u001b[1mruns/detect/train94\u001b[0m\n",
            "Processing model 93: /content/drive/MyDrive/koding kuliah skripsi/YOLO Train FIX/Training with callback/runs_histogram/detect/train/weights/epoch93.pt\n",
            "Ultralytics YOLOv8.1.2 🚀 Python-3.10.12 torch-2.1.0+cu121 CUDA:0 (Tesla T4, 15102MiB)\n",
            "Model summary (fused): 168 layers, 3006623 parameters, 0 gradients, 8.1 GFLOPs\n"
          ]
        },
        {
          "output_type": "stream",
          "name": "stderr",
          "text": [
            "\u001b[34m\u001b[1mval: \u001b[0mScanning /content/Head-motion-using-Histogram-1/valid/labels.cache... 269 images, 0 backgrounds, 0 corrupt: 100%|██████████| 269/269 [00:00<?, ?it/s]\n",
            "                 Class     Images  Instances      Box(P          R      mAP50  mAP50-95): 100%|██████████| 17/17 [00:02<00:00,  6.91it/s]\n"
          ]
        },
        {
          "output_type": "stream",
          "name": "stdout",
          "text": [
            "                   all        269        269      0.994      0.997      0.993      0.856\n",
            "                  atas        269         59      0.998          1      0.995      0.796\n",
            "                 bawah        269         66      0.998      0.985      0.993      0.864\n",
            "                 depan        269         47      0.977          1      0.987      0.874\n",
            "                 kanan        269         51      0.998          1      0.995      0.879\n",
            "                  kiri        269         46      0.999          1      0.995      0.869\n",
            "Speed: 0.1ms preprocess, 4.5ms inference, 0.0ms loss, 1.9ms postprocess per image\n",
            "Results saved to \u001b[1mruns/detect/train95\u001b[0m\n",
            "Processing model 94: /content/drive/MyDrive/koding kuliah skripsi/YOLO Train FIX/Training with callback/runs_histogram/detect/train/weights/epoch94.pt\n",
            "Ultralytics YOLOv8.1.2 🚀 Python-3.10.12 torch-2.1.0+cu121 CUDA:0 (Tesla T4, 15102MiB)\n",
            "Model summary (fused): 168 layers, 3006623 parameters, 0 gradients, 8.1 GFLOPs\n"
          ]
        },
        {
          "output_type": "stream",
          "name": "stderr",
          "text": [
            "\u001b[34m\u001b[1mval: \u001b[0mScanning /content/Head-motion-using-Histogram-1/valid/labels.cache... 269 images, 0 backgrounds, 0 corrupt: 100%|██████████| 269/269 [00:00<?, ?it/s]\n",
            "                 Class     Images  Instances      Box(P          R      mAP50  mAP50-95): 100%|██████████| 17/17 [00:02<00:00,  6.85it/s]\n"
          ]
        },
        {
          "output_type": "stream",
          "name": "stdout",
          "text": [
            "                   all        269        269      0.994      0.997      0.994      0.856\n",
            "                  atas        269         59      0.998          1      0.995      0.802\n",
            "                 bawah        269         66      0.998      0.985      0.993      0.862\n",
            "                 depan        269         47      0.977          1      0.991      0.868\n",
            "                 kanan        269         51      0.998          1      0.995      0.878\n",
            "                  kiri        269         46      0.999          1      0.995      0.873\n",
            "Speed: 0.1ms preprocess, 3.9ms inference, 0.0ms loss, 2.5ms postprocess per image\n",
            "Results saved to \u001b[1mruns/detect/train96\u001b[0m\n",
            "Processing model 95: /content/drive/MyDrive/koding kuliah skripsi/YOLO Train FIX/Training with callback/runs_histogram/detect/train/weights/epoch95.pt\n",
            "Ultralytics YOLOv8.1.2 🚀 Python-3.10.12 torch-2.1.0+cu121 CUDA:0 (Tesla T4, 15102MiB)\n",
            "Model summary (fused): 168 layers, 3006623 parameters, 0 gradients, 8.1 GFLOPs\n"
          ]
        },
        {
          "output_type": "stream",
          "name": "stderr",
          "text": [
            "\u001b[34m\u001b[1mval: \u001b[0mScanning /content/Head-motion-using-Histogram-1/valid/labels.cache... 269 images, 0 backgrounds, 0 corrupt: 100%|██████████| 269/269 [00:00<?, ?it/s]\n",
            "                 Class     Images  Instances      Box(P          R      mAP50  mAP50-95): 100%|██████████| 17/17 [00:03<00:00,  5.56it/s]\n"
          ]
        },
        {
          "output_type": "stream",
          "name": "stdout",
          "text": [
            "                   all        269        269      0.994      0.997      0.994      0.855\n",
            "                  atas        269         59      0.998          1      0.995      0.801\n",
            "                 bawah        269         66      0.998      0.985      0.994      0.864\n",
            "                 depan        269         47      0.977          1      0.991      0.864\n",
            "                 kanan        269         51      0.998          1      0.995      0.873\n",
            "                  kiri        269         46      0.999          1      0.995      0.869\n",
            "Speed: 0.3ms preprocess, 3.5ms inference, 0.0ms loss, 1.8ms postprocess per image\n",
            "Results saved to \u001b[1mruns/detect/train97\u001b[0m\n",
            "Processing model 96: /content/drive/MyDrive/koding kuliah skripsi/YOLO Train FIX/Training with callback/runs_histogram/detect/train/weights/epoch96.pt\n",
            "Ultralytics YOLOv8.1.2 🚀 Python-3.10.12 torch-2.1.0+cu121 CUDA:0 (Tesla T4, 15102MiB)\n",
            "Model summary (fused): 168 layers, 3006623 parameters, 0 gradients, 8.1 GFLOPs\n"
          ]
        },
        {
          "output_type": "stream",
          "name": "stderr",
          "text": [
            "\u001b[34m\u001b[1mval: \u001b[0mScanning /content/Head-motion-using-Histogram-1/valid/labels.cache... 269 images, 0 backgrounds, 0 corrupt: 100%|██████████| 269/269 [00:00<?, ?it/s]\n",
            "                 Class     Images  Instances      Box(P          R      mAP50  mAP50-95): 100%|██████████| 17/17 [00:02<00:00,  7.03it/s]\n"
          ]
        },
        {
          "output_type": "stream",
          "name": "stdout",
          "text": [
            "                   all        269        269      0.994      0.997      0.994      0.854\n",
            "                  atas        269         59      0.998          1      0.995      0.796\n",
            "                 bawah        269         66      0.998      0.985      0.994      0.866\n",
            "                 depan        269         47      0.977          1      0.991      0.871\n",
            "                 kanan        269         51      0.998          1      0.995      0.864\n",
            "                  kiri        269         46      0.999          1      0.995      0.871\n",
            "Speed: 0.1ms preprocess, 3.2ms inference, 0.0ms loss, 3.1ms postprocess per image\n",
            "Results saved to \u001b[1mruns/detect/train98\u001b[0m\n",
            "Processing model 97: /content/drive/MyDrive/koding kuliah skripsi/YOLO Train FIX/Training with callback/runs_histogram/detect/train/weights/epoch97.pt\n",
            "Ultralytics YOLOv8.1.2 🚀 Python-3.10.12 torch-2.1.0+cu121 CUDA:0 (Tesla T4, 15102MiB)\n",
            "Model summary (fused): 168 layers, 3006623 parameters, 0 gradients, 8.1 GFLOPs\n"
          ]
        },
        {
          "output_type": "stream",
          "name": "stderr",
          "text": [
            "\u001b[34m\u001b[1mval: \u001b[0mScanning /content/Head-motion-using-Histogram-1/valid/labels.cache... 269 images, 0 backgrounds, 0 corrupt: 100%|██████████| 269/269 [00:00<?, ?it/s]\n",
            "                 Class     Images  Instances      Box(P          R      mAP50  mAP50-95): 100%|██████████| 17/17 [00:02<00:00,  7.18it/s]\n"
          ]
        },
        {
          "output_type": "stream",
          "name": "stdout",
          "text": [
            "                   all        269        269      0.994      0.997      0.993      0.854\n",
            "                  atas        269         59      0.999          1      0.995      0.795\n",
            "                 bawah        269         66      0.998      0.985      0.994      0.865\n",
            "                 depan        269         47      0.977          1      0.988      0.871\n",
            "                 kanan        269         51      0.998          1      0.995      0.869\n",
            "                  kiri        269         46      0.999          1      0.995      0.872\n",
            "Speed: 0.1ms preprocess, 3.7ms inference, 0.0ms loss, 2.5ms postprocess per image\n",
            "Results saved to \u001b[1mruns/detect/train99\u001b[0m\n",
            "Processing model 98: /content/drive/MyDrive/koding kuliah skripsi/YOLO Train FIX/Training with callback/runs_histogram/detect/train/weights/epoch98.pt\n",
            "Ultralytics YOLOv8.1.2 🚀 Python-3.10.12 torch-2.1.0+cu121 CUDA:0 (Tesla T4, 15102MiB)\n",
            "Model summary (fused): 168 layers, 3006623 parameters, 0 gradients, 8.1 GFLOPs\n"
          ]
        },
        {
          "output_type": "stream",
          "name": "stderr",
          "text": [
            "\u001b[34m\u001b[1mval: \u001b[0mScanning /content/Head-motion-using-Histogram-1/valid/labels.cache... 269 images, 0 backgrounds, 0 corrupt: 100%|██████████| 269/269 [00:00<?, ?it/s]\n",
            "                 Class     Images  Instances      Box(P          R      mAP50  mAP50-95): 100%|██████████| 17/17 [00:02<00:00,  6.99it/s]\n"
          ]
        },
        {
          "output_type": "stream",
          "name": "stdout",
          "text": [
            "                   all        269        269      0.994      0.997      0.994      0.856\n",
            "                  atas        269         59      0.999          1      0.995      0.799\n",
            "                 bawah        269         66      0.998      0.985      0.994      0.862\n",
            "                 depan        269         47      0.977          1       0.99      0.876\n",
            "                 kanan        269         51      0.998          1      0.995      0.871\n",
            "                  kiri        269         46      0.999          1      0.995      0.872\n",
            "Speed: 0.2ms preprocess, 2.7ms inference, 0.0ms loss, 3.5ms postprocess per image\n",
            "Results saved to \u001b[1mruns/detect/train100\u001b[0m\n",
            "Processing model 99: /content/drive/MyDrive/koding kuliah skripsi/YOLO Train FIX/Training with callback/runs_histogram/detect/train/weights/last.pt\n",
            "Ultralytics YOLOv8.1.2 🚀 Python-3.10.12 torch-2.1.0+cu121 CUDA:0 (Tesla T4, 15102MiB)\n",
            "Model summary (fused): 168 layers, 3006623 parameters, 0 gradients, 8.1 GFLOPs\n"
          ]
        },
        {
          "output_type": "stream",
          "name": "stderr",
          "text": [
            "\u001b[34m\u001b[1mval: \u001b[0mScanning /content/Head-motion-using-Histogram-1/valid/labels.cache... 269 images, 0 backgrounds, 0 corrupt: 100%|██████████| 269/269 [00:00<?, ?it/s]\n",
            "                 Class     Images  Instances      Box(P          R      mAP50  mAP50-95): 100%|██████████| 17/17 [00:02<00:00,  7.18it/s]\n"
          ]
        },
        {
          "output_type": "stream",
          "name": "stdout",
          "text": [
            "                   all        269        269      0.994      0.997      0.994      0.857\n",
            "                  atas        269         59      0.998          1      0.995        0.8\n",
            "                 bawah        269         66      0.998      0.985      0.994      0.866\n",
            "                 depan        269         47      0.977          1       0.99      0.877\n",
            "                 kanan        269         51      0.998          1      0.995      0.872\n",
            "                  kiri        269         46      0.999          1      0.995      0.869\n",
            "Speed: 0.1ms preprocess, 2.4ms inference, 0.0ms loss, 3.9ms postprocess per image\n",
            "Results saved to \u001b[1mruns/detect/train101\u001b[0m\n",
            "Processing model 100: /content/drive/MyDrive/koding kuliah skripsi/YOLO Train FIX/Training with callback/runs_histogram/detect/train/weights/best.pt\n",
            "Ultralytics YOLOv8.1.2 🚀 Python-3.10.12 torch-2.1.0+cu121 CUDA:0 (Tesla T4, 15102MiB)\n",
            "Model summary (fused): 168 layers, 3006623 parameters, 0 gradients, 8.1 GFLOPs\n"
          ]
        },
        {
          "output_type": "stream",
          "name": "stderr",
          "text": [
            "\u001b[34m\u001b[1mval: \u001b[0mScanning /content/Head-motion-using-Histogram-1/valid/labels.cache... 269 images, 0 backgrounds, 0 corrupt: 100%|██████████| 269/269 [00:00<?, ?it/s]\n",
            "                 Class     Images  Instances      Box(P          R      mAP50  mAP50-95): 100%|██████████| 17/17 [00:02<00:00,  7.10it/s]\n"
          ]
        },
        {
          "output_type": "stream",
          "name": "stdout",
          "text": [
            "                   all        269        269      0.994      0.997      0.994      0.856\n",
            "                  atas        269         59      0.998          1      0.995      0.802\n",
            "                 bawah        269         66      0.998      0.985      0.993      0.862\n",
            "                 depan        269         47      0.977          1      0.991      0.868\n",
            "                 kanan        269         51      0.998          1      0.995      0.878\n",
            "                  kiri        269         46      0.999          1      0.995      0.873\n",
            "Speed: 0.2ms preprocess, 4.6ms inference, 0.0ms loss, 1.6ms postprocess per image\n",
            "Results saved to \u001b[1mruns/detect/train102\u001b[0m\n",
            "Processing model 101: /content/drive/MyDrive/koding kuliah skripsi/YOLO Train FIX/Training with callback/runs_histogram/detect/train/weights/epoch99.pt\n",
            "Ultralytics YOLOv8.1.2 🚀 Python-3.10.12 torch-2.1.0+cu121 CUDA:0 (Tesla T4, 15102MiB)\n",
            "Model summary (fused): 168 layers, 3006623 parameters, 0 gradients, 8.1 GFLOPs\n"
          ]
        },
        {
          "output_type": "stream",
          "name": "stderr",
          "text": [
            "\u001b[34m\u001b[1mval: \u001b[0mScanning /content/Head-motion-using-Histogram-1/valid/labels.cache... 269 images, 0 backgrounds, 0 corrupt: 100%|██████████| 269/269 [00:00<?, ?it/s]\n",
            "                 Class     Images  Instances      Box(P          R      mAP50  mAP50-95): 100%|██████████| 17/17 [00:03<00:00,  4.98it/s]\n"
          ]
        },
        {
          "output_type": "stream",
          "name": "stdout",
          "text": [
            "                   all        269        269      0.994      0.997      0.994      0.857\n",
            "                  atas        269         59      0.998          1      0.995        0.8\n",
            "                 bawah        269         66      0.998      0.985      0.994      0.866\n",
            "                 depan        269         47      0.977          1       0.99      0.877\n",
            "                 kanan        269         51      0.998          1      0.995      0.872\n",
            "                  kiri        269         46      0.999          1      0.995      0.869\n",
            "Speed: 0.1ms preprocess, 2.7ms inference, 0.0ms loss, 2.0ms postprocess per image\n",
            "Results saved to \u001b[1mruns/detect/train103\u001b[0m\n"
          ]
        }
      ]
    },
    {
      "cell_type": "markdown",
      "source": [
        "#ZIP"
      ],
      "metadata": {
        "id": "ip6qtr3qyW0S"
      }
    },
    {
      "cell_type": "code",
      "source": [
        "import zipfile\n",
        "import os\n",
        "\n",
        "def zip_folder(source_folder, output_path):\n",
        "    with zipfile.ZipFile(output_path, 'w', zipfile.ZIP_DEFLATED) as zipf:\n",
        "        for root, _, files in os.walk(source_folder):\n",
        "            for file in files:\n",
        "                file_path = os.path.join(root, file)\n",
        "                arcname = os.path.relpath(file_path, source_folder)\n",
        "                zipf.write(file_path, arcname)\n",
        "\n",
        "source_folder = '/content/runs'\n",
        "output_path = '/content/YOUR_DESIRED_NAME.zip'\n",
        "\n",
        "zip_folder(source_folder, output_path)\n",
        "print(f'Folder \"{source_folder}\" zipped to \"{output_path}\"')\n"
      ],
      "metadata": {
        "id": "63j908SbyXne"
      },
      "execution_count": null,
      "outputs": []
    },
    {
      "cell_type": "markdown",
      "source": [
        "#Move folder"
      ],
      "metadata": {
        "id": "--pErX3xKIVb"
      }
    },
    {
      "cell_type": "code",
      "source": [
        "import shutil\n",
        "\n",
        "# Source and destination paths\n",
        "source_path = \"/content/runs_histogram_conf\" #I change my folder name from runs to runs_histogram_conf\n",
        "destination_path = \"/content/drive/YOUR_DESIRED_PATH\"\n",
        "\n",
        "# Move the directory\n",
        "shutil.move(source_path, destination_path)\n"
      ],
      "metadata": {
        "colab": {
          "base_uri": "https://localhost:8080/",
          "height": 36
        },
        "id": "_FriaLw3KLCK",
        "outputId": "a86bcd65-2516-4ce9-ecf3-120ab8ebdaed"
      },
      "execution_count": null,
      "outputs": [
        {
          "output_type": "execute_result",
          "data": {
            "text/plain": [
              "'/content/drive/MyDrive/koding kuliah skripsi/YOLO Train FIX/Training with callback/runs_histogram_conf'"
            ],
            "application/vnd.google.colaboratory.intrinsic+json": {
              "type": "string"
            }
          },
          "metadata": {},
          "execution_count": 8
        }
      ]
    }
  ],
  "metadata": {
    "accelerator": "GPU",
    "colab": {
      "provenance": []
    },
    "gpuClass": "standard",
    "kernelspec": {
      "display_name": "Python 3",
      "name": "python3"
    },
    "language_info": {
      "name": "python"
    }
  },
  "nbformat": 4,
  "nbformat_minor": 0
}